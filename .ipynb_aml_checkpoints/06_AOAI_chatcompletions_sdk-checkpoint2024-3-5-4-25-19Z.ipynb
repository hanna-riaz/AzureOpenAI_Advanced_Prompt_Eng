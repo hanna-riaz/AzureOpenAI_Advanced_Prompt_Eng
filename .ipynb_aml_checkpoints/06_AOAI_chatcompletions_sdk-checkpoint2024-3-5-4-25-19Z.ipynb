{
  "cells": [
    {
      "cell_type": "markdown",
      "source": [
        "# Chat Completions\n",
        "\n",
        "Chat models take a series of messages as input, and return a model-generated message as output.\n",
        "The main input is the messages parameter. **Messages must be an array of message objects, where each object has a role (either \"system\", \"user\") and content** (the content of the message). "
      ],
      "metadata": {},
      "id": "278e7451"
    },
    {
      "cell_type": "code",
      "source": [
        "# if needed, install and/or upgrade to the latest version of the OpenAI Python library\n",
        "#%pip install --upgrade openai"
      ],
      "outputs": [],
      "execution_count": null,
      "metadata": {},
      "id": "fb97123e"
    },
    {
      "cell_type": "code",
      "source": [
        "import openai\n",
        "from openai import AzureOpenAI\n",
        "import os \n",
        "from azure.identity import ManagedIdentityCredential\n",
        "\n",
        "default_credential=ManagedIdentityCredential(client_id=\"d30cba06-04c1-4065-a91d-8b7ce3b07b78\")\n",
        "token=default_credential.get_token(\"https://cognitiveservices.azure.com/.default\")\n",
        "Resource_endpoint=\"https://openaiykus.openai.azure.com/\"\n",
        "\n",
        "client = AzureOpenAI(\n",
        "  azure_endpoint = Resource_endpoint, \n",
        "  api_key=token.token,  \n",
        "  api_version=\"2023-05-15\"\n",
        ")"
      ],
      "outputs": [],
      "execution_count": 3,
      "metadata": {
        "gather": {
          "logged": 1700434959897
        }
      },
      "id": "ccbb9a99"
    },
    {
      "cell_type": "code",
      "source": [
        "messages=[\n",
        "        {\"role\": \"system\", \"content\": \"You are a helpful assistant.\"},\n",
        "        {\"role\": \"user\", \"content\": \"Can you write a welcome page for Royal London Group website ?\"}]"
      ],
      "outputs": [],
      "execution_count": 19,
      "metadata": {
        "jupyter": {
          "source_hidden": false,
          "outputs_hidden": false
        },
        "nteract": {
          "transient": {
            "deleting": false
          }
        },
        "gather": {
          "logged": 1700433852879
        }
      },
      "id": "98bb0b84-8397-4e0c-b52e-2b45760bda80"
    },
    {
      "cell_type": "code",
      "source": [
        "response = client.chat.completions.create(\n",
        "    model=\"gpt-4\", # model = \"deployment_name\".\n",
        "    messages=messages\n",
        ")\n",
        "print(response.choices[0].message.content)"
      ],
      "outputs": [
        {
          "output_type": "stream",
          "name": "stdout",
          "text": "Absolutely, here's a suggestion for the welcome page:\n\n---\n\nWelcome to Royal London Group!\n\nWe are thrilled to have you here, and we trust that you will find a world of exceptional financial services catered precisely to your needs. As the largest mutual life, pensions, and investment company in the UK, we've been helping people secure their financial future for over 150 years.\n\nAt Royal London, we believe in putting our members first. Our mission is simple: to help our members and customers enjoy financial security. That’s why we’re committed to offering the very best products and services, from insurance to investments, pensions to healthcare - we are here to provide solutions that are designed to give you peace of mind for every stage of your life's journey.\n\nOur team of highly trained financial experts are here to assist you at every turn. Whether you're planning for retirement, investing for your future, or searching for the best insurance options, we are dedicated to providing you with outstanding service and comprehensive solutions. With a deep understanding of the complexities of the financial landscape, our professionals will guide you every step of the way.\n\nExplore our website to learn more about our wide variety of services and offerings. You will find our array of online resources, customer support options, and easy-to-use digital tools designed to help you make informed decisions about your financial future.\n\nAs a mutual company, we are owned by and operated for our members. Thus, you are not just a customer to us, you are a valued member of the Royal London family. This approach reinforces our commitment to offering benefits and services that closely align with your needs and expectations.\n\nJoin us now, and let's build a brighter, more secure future together. Thank you for choosing Royal London Group - a name synonymous with trust, reliability, and excellence.\n\nWelcome to the journey toward a prosperous tomorrow!\n\nKind Regards,\n\nThe Royal London Group Team\n"
        }
      ],
      "execution_count": 20,
      "metadata": {
        "jupyter": {
          "source_hidden": false,
          "outputs_hidden": false
        },
        "nteract": {
          "transient": {
            "deleting": false
          }
        },
        "gather": {
          "logged": 1700433865857
        }
      },
      "id": "0e00e3f2-42ba-4090-957c-b2781f62cc1b"
    },
    {
      "cell_type": "code",
      "source": [
        "response"
      ],
      "outputs": [
        {
          "output_type": "execute_result",
          "execution_count": 22,
          "data": {
            "text/plain": "ChatCompletion(id='chatcmpl-8MkoRt01oRxYkdzAGyMHIxPXOobkG', choices=[Choice(finish_reason='stop', index=0, message=ChatCompletionMessage(content=\"Absolutely, here's a suggestion for the welcome page:\\n\\n---\\n\\nWelcome to Royal London Group!\\n\\nWe are thrilled to have you here, and we trust that you will find a world of exceptional financial services catered precisely to your needs. As the largest mutual life, pensions, and investment company in the UK, we've been helping people secure their financial future for over 150 years.\\n\\nAt Royal London, we believe in putting our members first. Our mission is simple: to help our members and customers enjoy financial security. That’s why we’re committed to offering the very best products and services, from insurance to investments, pensions to healthcare - we are here to provide solutions that are designed to give you peace of mind for every stage of your life's journey.\\n\\nOur team of highly trained financial experts are here to assist you at every turn. Whether you're planning for retirement, investing for your future, or searching for the best insurance options, we are dedicated to providing you with outstanding service and comprehensive solutions. With a deep understanding of the complexities of the financial landscape, our professionals will guide you every step of the way.\\n\\nExplore our website to learn more about our wide variety of services and offerings. You will find our array of online resources, customer support options, and easy-to-use digital tools designed to help you make informed decisions about your financial future.\\n\\nAs a mutual company, we are owned by and operated for our members. Thus, you are not just a customer to us, you are a valued member of the Royal London family. This approach reinforces our commitment to offering benefits and services that closely align with your needs and expectations.\\n\\nJoin us now, and let's build a brighter, more secure future together. Thank you for choosing Royal London Group - a name synonymous with trust, reliability, and excellence.\\n\\nWelcome to the journey toward a prosperous tomorrow!\\n\\nKind Regards,\\n\\nThe Royal London Group Team\", role='assistant', function_call=None, tool_calls=None))], created=1700433855, model='gpt-4', object='chat.completion', system_fingerprint=None, usage=CompletionUsage(completion_tokens=377, prompt_tokens=29, total_tokens=406))"
          },
          "metadata": {}
        }
      ],
      "execution_count": 22,
      "metadata": {
        "jupyter": {
          "source_hidden": false,
          "outputs_hidden": false
        },
        "nteract": {
          "transient": {
            "deleting": false
          }
        },
        "gather": {
          "logged": 1700433893945
        }
      },
      "id": "29b695d2-118d-45b0-b7ed-3ff91dde9684"
    },
    {
      "cell_type": "code",
      "source": [
        "messages.append({\"role\": \"system\", \"content\": response.choices[0].message.content})"
      ],
      "outputs": [],
      "execution_count": 23,
      "metadata": {
        "jupyter": {
          "source_hidden": false,
          "outputs_hidden": false
        },
        "nteract": {
          "transient": {
            "deleting": false
          }
        },
        "gather": {
          "logged": 1700433947894
        }
      },
      "id": "7e67e4ce-f345-4976-bb1c-894581eddc31"
    },
    {
      "cell_type": "code",
      "source": [
        "messages.append({\"role\": \"user\", \"content\": \"Can you summarize our conversation?\"})"
      ],
      "outputs": [],
      "execution_count": 24,
      "metadata": {
        "jupyter": {
          "source_hidden": false,
          "outputs_hidden": false
        },
        "nteract": {
          "transient": {
            "deleting": false
          }
        },
        "gather": {
          "logged": 1700433956923
        }
      },
      "id": "0bc62099-a0bd-4bfb-8a0c-3180d924e25e"
    },
    {
      "cell_type": "code",
      "source": [
        "print(messages)"
      ],
      "outputs": [
        {
          "output_type": "stream",
          "name": "stdout",
          "text": "[{'role': 'system', 'content': 'You are a helpful assistant.'}, {'role': 'user', 'content': 'Can you write a welcome page for Royal London Group website ?'}, {'role': 'system', 'content': \"Absolutely, here's a suggestion for the welcome page:\\n\\n---\\n\\nWelcome to Royal London Group!\\n\\nWe are thrilled to have you here, and we trust that you will find a world of exceptional financial services catered precisely to your needs. As the largest mutual life, pensions, and investment company in the UK, we've been helping people secure their financial future for over 150 years.\\n\\nAt Royal London, we believe in putting our members first. Our mission is simple: to help our members and customers enjoy financial security. That’s why we’re committed to offering the very best products and services, from insurance to investments, pensions to healthcare - we are here to provide solutions that are designed to give you peace of mind for every stage of your life's journey.\\n\\nOur team of highly trained financial experts are here to assist you at every turn. Whether you're planning for retirement, investing for your future, or searching for the best insurance options, we are dedicated to providing you with outstanding service and comprehensive solutions. With a deep understanding of the complexities of the financial landscape, our professionals will guide you every step of the way.\\n\\nExplore our website to learn more about our wide variety of services and offerings. You will find our array of online resources, customer support options, and easy-to-use digital tools designed to help you make informed decisions about your financial future.\\n\\nAs a mutual company, we are owned by and operated for our members. Thus, you are not just a customer to us, you are a valued member of the Royal London family. This approach reinforces our commitment to offering benefits and services that closely align with your needs and expectations.\\n\\nJoin us now, and let's build a brighter, more secure future together. Thank you for choosing Royal London Group - a name synonymous with trust, reliability, and excellence.\\n\\nWelcome to the journey toward a prosperous tomorrow!\\n\\nKind Regards,\\n\\nThe Royal London Group Team\"}, {'role': 'user', 'content': 'Can you summarize our conversation?'}]\n"
        }
      ],
      "execution_count": 25,
      "metadata": {
        "jupyter": {
          "source_hidden": false,
          "outputs_hidden": false
        },
        "nteract": {
          "transient": {
            "deleting": false
          }
        },
        "gather": {
          "logged": 1700433963891
        }
      },
      "id": "d9ad7a3a-b65b-4919-b21a-bf5ad2f8e9c4"
    },
    {
      "cell_type": "code",
      "source": [
        "response = client.chat.completions.create(\n",
        "    model=\"gpt-4\", # model = \"deployment_name\".\n",
        "    messages=messages\n",
        ")\n",
        "print(response.choices[0].message.content)"
      ],
      "outputs": [
        {
          "output_type": "stream",
          "name": "stdout",
          "text": "In our conversation, you asked me to draft a welcome page for the Royal London Group website. I provided a draft that emphasized Royal London Group's status as the UK's largest mutual life, pensions, and investment company, its commitment to member and customer financial security, the variety of services it offers such as insurance, investments, and pensions, and the expertise of its financial professionals. I also highlighted its member-owned structure and the benefits this offers to members.\n"
        }
      ],
      "execution_count": 26,
      "metadata": {
        "jupyter": {
          "source_hidden": false,
          "outputs_hidden": false
        },
        "nteract": {
          "transient": {
            "deleting": false
          }
        },
        "gather": {
          "logged": 1700433975825
        }
      },
      "id": "4bfe09da-ed31-4824-8a64-69b295bf4737"
    },
    {
      "cell_type": "code",
      "source": [
        "# Instead of appending, writing messages in the SDK\n",
        "response = client.chat.completions.create(\n",
        "    model=\"gpt-4\", # model = \"deployment_name\".\n",
        "    messages=[\n",
        "        {\"role\": \"system\", \"content\": \"You are a helpful assistant.\"},\n",
        "        {\"role\": \"user\", \"content\": \"Can you write a welcome page for Royal London Group website ?\"},\n",
        "        {\"role\": \"system\", \"content\": \"Welcome to Royal London Group Setting Standards In The Financial World We are delighted to welcome you to Royal London Group, the UK's largest mutual life, pensions, and investment company. Our aim has always been to give our clients impeccable service, flexible financial solutions, and top-notch commitment to building a better financial future since our establishment in 1861.\"},\n",
        "        {\"role\": \"user\", \"content\": \"Can you summarize our conversation?\"},\n",
        "    ]\n",
        ")\n",
        "\n",
        "print(response.choices[0].message.content)"
      ],
      "outputs": [
        {
          "output_type": "stream",
          "name": "stdout",
          "text": "In our conversation, you asked me to create a welcome page text for the Royal London Group website. I provided a brief draft welcoming users to the website while highlighting key aspects like the company's long-standing establishment, their exceptional service, flexible financial solutions, and their commitment to building a prosperous financial future for their clients.\n"
        }
      ],
      "execution_count": 4,
      "metadata": {
        "jupyter": {
          "source_hidden": false,
          "outputs_hidden": false
        },
        "nteract": {
          "transient": {
            "deleting": false
          }
        },
        "gather": {
          "logged": 1700433468830
        }
      },
      "id": "ead41f53-999c-4a67-aa2b-51c3377688d8"
    },
    {
      "cell_type": "markdown",
      "source": [
        "# PII Redaction"
      ],
      "metadata": {
        "nteract": {
          "transient": {
            "deleting": false
          }
        }
      },
      "id": "3a74260e-6101-4bbe-b82d-c8f1d6a2f0bc"
    },
    {
      "cell_type": "code",
      "source": [
        "content= f\"\"\"You are a helpful assistant that answers the given question. You must present both response and original question in your output after redacting any PI data such as name, address, date of birth, medical records, and financial records.\n",
        " \n",
        "Format the output in JSON by using \"Original Question\" and \"Response\" as a key. The original question should be the user input verbatim.\"\"\""
      ],
      "outputs": [],
      "execution_count": 1,
      "metadata": {
        "jupyter": {
          "source_hidden": false,
          "outputs_hidden": false
        },
        "nteract": {
          "transient": {
            "deleting": false
          }
        },
        "gather": {
          "logged": 1700434949040
        }
      },
      "id": "7cdf5c24-6f1c-4531-bfe0-44f614fe74a1"
    },
    {
      "cell_type": "code",
      "source": [
        "\n",
        "response = client.chat.completions.create(\n",
        "    model=\"gpt-4\", # model = \"deployment_name\".\n",
        "    messages=[\n",
        "        {\"role\": \"system\", \"content\": content},\n",
        "        {\"role\": \"user\", \"content\": \"Hi, I am Yeliz, based in Cambridge. Can you write a poem for me?\"}\n",
        "    ]\n",
        ")\n",
        "\n",
        "print(response.choices[0].message.content)"
      ],
      "outputs": [],
      "execution_count": null,
      "metadata": {
        "jupyter": {
          "source_hidden": false,
          "outputs_hidden": false
        },
        "nteract": {
          "transient": {
            "deleting": false
          }
        }
      },
      "id": "2a614a4b-2874-499a-b045-2852ac4f9888"
    }
  ],
  "metadata": {
    "kernelspec": {
      "name": "python310-sdkv2",
      "language": "python",
      "display_name": "Python 3.10 - SDK v2"
    },
    "language_info": {
      "name": "python",
      "version": "3.10.11",
      "mimetype": "text/x-python",
      "codemirror_mode": {
        "name": "ipython",
        "version": 3
      },
      "pygments_lexer": "ipython3",
      "nbconvert_exporter": "python",
      "file_extension": ".py"
    },
    "microsoft": {
      "ms_spell_check": {
        "ms_spell_check_language": "en"
      },
      "host": {
        "AzureML": {
          "notebookHasBeenCompleted": true
        }
      }
    },
    "kernel_info": {
      "name": "python310-sdkv2"
    },
    "nteract": {
      "version": "nteract-front-end@1.0.0"
    }
  },
  "nbformat": 4,
  "nbformat_minor": 5
}