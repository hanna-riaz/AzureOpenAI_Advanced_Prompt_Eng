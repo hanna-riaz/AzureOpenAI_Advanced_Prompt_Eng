{
  "cells": [
    {
      "cell_type": "markdown",
      "source": [
        "# Chat Completions\n",
        "\n",
        "Chat models take a series of messages as input, and return a model-generated message as output.\n",
        "The main input is the messages parameter. **Messages must be an array of message objects, where each object has a role (either \"system\", \"user\") and content** (the content of the message). "
      ],
      "metadata": {},
      "id": "278e7451"
    },
    {
      "cell_type": "code",
      "source": [
        "# if needed, install and/or upgrade to the latest version of the OpenAI Python library\n",
        "#%pip install --upgrade openai"
      ],
      "outputs": [],
      "execution_count": null,
      "metadata": {},
      "id": "fb97123e"
    },
    {
      "cell_type": "code",
      "source": [
        "# import openai\n",
        "# from openai import AzureOpenAI\n",
        "# import os \n",
        "# from azure.identity import ManagedIdentityCredential\n",
        "\n",
        "# default_credential=ManagedIdentityCredential(client_id=\"d30cba06-04c1-4065-a91d-8b7ce3b07b78\")\n",
        "# token=default_credential.get_token(\"https://cognitiveservices.azure.com/.default\")\n",
        "# Resource_endpoint=\"https://openaiykus.openai.azure.com/\"\n",
        "\n",
        "# client = AzureOpenAI(\n",
        "#   azure_endpoint = Resource_endpoint, \n",
        "#   api_key=token.token,  \n",
        "#   api_version=\"2023-05-15\"\n",
        "# )"
      ],
      "outputs": [],
      "execution_count": 3,
      "metadata": {
        "gather": {
          "logged": 1700434959897
        }
      },
      "id": "ccbb9a99"
    },
    {
      "cell_type": "code",
      "source": [
        "import os\n",
        "import openai\n",
        "from openai import AzureOpenAI\n",
        "from dotenv import load_dotenv\n",
        "\n",
        "# Set up Azure OpenAI\n",
        "load_dotenv(\"credentials.env\")\n",
        "\n",
        "openai.api_type = \"azure\"\n",
        "    \n",
        "client = AzureOpenAI(\n",
        "    api_key=os.getenv(\"AZURE_OPENAI_KEY\"),  \n",
        "    api_version=\"2024-02-15-preview\",#2024-02-01\n",
        "    azure_endpoint = os.getenv(\"AZURE_OPENAI_ENDPOINT\")\n",
        "    )"
      ],
      "outputs": [],
      "execution_count": 1,
      "metadata": {
        "jupyter": {
          "source_hidden": false,
          "outputs_hidden": false
        },
        "nteract": {
          "transient": {
            "deleting": false
          }
        },
        "gather": {
          "logged": 1712291148167
        }
      },
      "id": "424b2269-4ed0-44a2-8e35-1b397cf3e172"
    },
    {
      "cell_type": "code",
      "source": [
        "messages=[\n",
        "        {\"role\": \"system\", \"content\": \"You are a helpful assistant.\"},\n",
        "        {\"role\": \"user\", \"content\": \"Can you write a welcome page for The Very Group company website ?\"}]"
      ],
      "outputs": [],
      "execution_count": 3,
      "metadata": {
        "jupyter": {
          "source_hidden": false,
          "outputs_hidden": false
        },
        "nteract": {
          "transient": {
            "deleting": false
          }
        },
        "gather": {
          "logged": 1712291169917
        }
      },
      "id": "98bb0b84-8397-4e0c-b52e-2b45760bda80"
    },
    {
      "cell_type": "code",
      "source": [
        "response = client.chat.completions.create(\n",
        "    model=\"gpt-4\", # model = \"deployment_name\".\n",
        "    messages=messages\n",
        ")\n",
        "print(response.choices[0].message.content)"
      ],
      "outputs": [
        {
          "output_type": "stream",
          "name": "stdout",
          "text": "Welcome to The Very Group, a company that integrates creativity, innovation, and cutting-edge technology to create unique and exceptional customer experiences.\n\nWe aim to connect, inspire and transform the way people live, work, and play through our diverse range of products and services. With our comprehensive collection that spans from categories including fashion, home, beauty, tech, sports and more, we are at the forefront of the retail industry.\n\nOur passion for what we do is reflected not only in the quality of our products but also in the exceptional service we provide. As pioneers of online retail and financial services, we combine real-world insights with digital expertise to deliver the best for our customers. \n\nWe are more than just a company - we are a community, a network, and a platform for positive change. We are committed to being a force for good in society, empowering our customers, our people, and our partners to reach their fullest potential.\n\nThis is what differentiates us. We make our customers' lives easier, we elevate their experiences, we show them what's possible. We put them at the heart of everything we do.\n\nExplore our website to discover more about our offerings, our people, and our purpose. Let's make great things happen together. Welcome to The Very Group – where innovation and excellence meet customer delight. Welcome to a world of endless opportunities.\n"
        }
      ],
      "execution_count": 4,
      "metadata": {
        "jupyter": {
          "source_hidden": false,
          "outputs_hidden": false
        },
        "nteract": {
          "transient": {
            "deleting": false
          }
        },
        "gather": {
          "logged": 1712291199055
        }
      },
      "id": "0e00e3f2-42ba-4090-957c-b2781f62cc1b"
    },
    {
      "cell_type": "code",
      "source": [
        "response"
      ],
      "outputs": [
        {
          "output_type": "execute_result",
          "execution_count": 5,
          "data": {
            "text/plain": "ChatCompletion(id='chatcmpl-9AVRVdSA7IQf558S2bFFlQa3dsNA7', choices=[Choice(finish_reason='stop', index=0, logprobs=None, message=ChatCompletionMessage(content=\"Welcome to The Very Group, a company that integrates creativity, innovation, and cutting-edge technology to create unique and exceptional customer experiences.\\n\\nWe aim to connect, inspire and transform the way people live, work, and play through our diverse range of products and services. With our comprehensive collection that spans from categories including fashion, home, beauty, tech, sports and more, we are at the forefront of the retail industry.\\n\\nOur passion for what we do is reflected not only in the quality of our products but also in the exceptional service we provide. As pioneers of online retail and financial services, we combine real-world insights with digital expertise to deliver the best for our customers. \\n\\nWe are more than just a company - we are a community, a network, and a platform for positive change. We are committed to being a force for good in society, empowering our customers, our people, and our partners to reach their fullest potential.\\n\\nThis is what differentiates us. We make our customers' lives easier, we elevate their experiences, we show them what's possible. We put them at the heart of everything we do.\\n\\nExplore our website to discover more about our offerings, our people, and our purpose. Let's make great things happen together. Welcome to The Very Group – where innovation and excellence meet customer delight. Welcome to a world of endless opportunities.\", role='assistant', function_call=None, tool_calls=None), content_filter_results={'hate': {'filtered': False, 'severity': 'safe'}, 'self_harm': {'filtered': False, 'severity': 'safe'}, 'sexual': {'filtered': False, 'severity': 'safe'}, 'violence': {'filtered': False, 'severity': 'safe'}})], created=1712291173, model='gpt-4', object='chat.completion', system_fingerprint=None, usage=CompletionUsage(completion_tokens=270, prompt_tokens=30, total_tokens=300), prompt_filter_results=[{'prompt_index': 0, 'content_filter_results': {'hate': {'filtered': False, 'severity': 'safe'}, 'self_harm': {'filtered': False, 'severity': 'safe'}, 'sexual': {'filtered': False, 'severity': 'safe'}, 'violence': {'filtered': False, 'severity': 'safe'}}}])"
          },
          "metadata": {}
        }
      ],
      "execution_count": 5,
      "metadata": {
        "jupyter": {
          "source_hidden": false,
          "outputs_hidden": false
        },
        "nteract": {
          "transient": {
            "deleting": false
          }
        },
        "gather": {
          "logged": 1712291211121
        }
      },
      "id": "29b695d2-118d-45b0-b7ed-3ff91dde9684"
    },
    {
      "cell_type": "code",
      "source": [
        "messages.append({\"role\": \"system\", \"content\": response.choices[0].message.content})"
      ],
      "outputs": [],
      "execution_count": 6,
      "metadata": {
        "jupyter": {
          "source_hidden": false,
          "outputs_hidden": false
        },
        "nteract": {
          "transient": {
            "deleting": false
          }
        },
        "gather": {
          "logged": 1712291238787
        }
      },
      "id": "7e67e4ce-f345-4976-bb1c-894581eddc31"
    },
    {
      "cell_type": "code",
      "source": [
        "messages.append({\"role\": \"user\", \"content\": \"Can you summarize our conversation?\"})"
      ],
      "outputs": [],
      "execution_count": 7,
      "metadata": {
        "jupyter": {
          "source_hidden": false,
          "outputs_hidden": false
        },
        "nteract": {
          "transient": {
            "deleting": false
          }
        },
        "gather": {
          "logged": 1712291240746
        }
      },
      "id": "0bc62099-a0bd-4bfb-8a0c-3180d924e25e"
    },
    {
      "cell_type": "code",
      "source": [
        "print(messages)"
      ],
      "outputs": [
        {
          "output_type": "stream",
          "name": "stdout",
          "text": "[{'role': 'system', 'content': 'You are a helpful assistant.'}, {'role': 'user', 'content': 'Can you write a welcome page for The Very Group company website ?'}, {'role': 'system', 'content': \"Welcome to The Very Group, a company that integrates creativity, innovation, and cutting-edge technology to create unique and exceptional customer experiences.\\n\\nWe aim to connect, inspire and transform the way people live, work, and play through our diverse range of products and services. With our comprehensive collection that spans from categories including fashion, home, beauty, tech, sports and more, we are at the forefront of the retail industry.\\n\\nOur passion for what we do is reflected not only in the quality of our products but also in the exceptional service we provide. As pioneers of online retail and financial services, we combine real-world insights with digital expertise to deliver the best for our customers. \\n\\nWe are more than just a company - we are a community, a network, and a platform for positive change. We are committed to being a force for good in society, empowering our customers, our people, and our partners to reach their fullest potential.\\n\\nThis is what differentiates us. We make our customers' lives easier, we elevate their experiences, we show them what's possible. We put them at the heart of everything we do.\\n\\nExplore our website to discover more about our offerings, our people, and our purpose. Let's make great things happen together. Welcome to The Very Group – where innovation and excellence meet customer delight. Welcome to a world of endless opportunities.\"}, {'role': 'user', 'content': 'Can you summarize our conversation?'}]\n"
        }
      ],
      "execution_count": 8,
      "metadata": {
        "jupyter": {
          "source_hidden": false,
          "outputs_hidden": false
        },
        "nteract": {
          "transient": {
            "deleting": false
          }
        },
        "gather": {
          "logged": 1712291243898
        }
      },
      "id": "d9ad7a3a-b65b-4919-b21a-bf5ad2f8e9c4"
    },
    {
      "cell_type": "code",
      "source": [
        "response = client.chat.completions.create(\n",
        "    model=\"gpt-4\", # model = \"deployment_name\".\n",
        "    messages=messages\n",
        ")\n",
        "print(response.choices[0].message.content)"
      ],
      "outputs": [
        {
          "output_type": "stream",
          "name": "stdout",
          "text": "You requested that I write a welcome page for The Very Group's company website. I composed a welcoming message that describes the company as an innovative and creative force in the retail industry. The summary touches on their comprehensive product range, commitment to exceptional customer service, and dedication to empowering customers, employees, and partners. Furthermore, the message encourages visitors to explore the website and welcomes them to a world of endless opportunities.\n"
        }
      ],
      "execution_count": 9,
      "metadata": {
        "jupyter": {
          "source_hidden": false,
          "outputs_hidden": false
        },
        "nteract": {
          "transient": {
            "deleting": false
          }
        },
        "gather": {
          "logged": 1712291284917
        }
      },
      "id": "4bfe09da-ed31-4824-8a64-69b295bf4737"
    },
    {
      "cell_type": "code",
      "source": [
        "# Instead of appending, writing messages in the SDK\n",
        "response = client.chat.completions.create(\n",
        "    model=\"gpt-4\", # model = \"deployment_name\".\n",
        "    messages=[\n",
        "        {\"role\": \"system\", \"content\": \"You are a helpful assistant.\"},\n",
        "        {\"role\": \"user\", \"content\": \"Can you write a welcome page for The Very Group company website ?\"},\n",
        "        {\"role\": \"system\", \"content\": \"Welcome to The Very Group, a company that integrates creativity, innovation, and cutting-edge technology to create unique and exceptional customer experiences.\"},\n",
        "        {\"role\": \"user\", \"content\": \"Can you summarize our conversation?\"},\n",
        "    ]\n",
        ")\n",
        "\n",
        "print(response.choices[0].message.content)"
      ],
      "outputs": [
        {
          "output_type": "stream",
          "name": "stdout",
          "text": "You asked me to write a welcome page for The Very Group's company website, which I did by encapsulating their essence as a creative, innovative, and technology-driven company dedicated to providing unique customer experiences.\n"
        }
      ],
      "execution_count": 10,
      "metadata": {
        "jupyter": {
          "source_hidden": false,
          "outputs_hidden": false
        },
        "nteract": {
          "transient": {
            "deleting": false
          }
        },
        "gather": {
          "logged": 1712291470714
        }
      },
      "id": "ead41f53-999c-4a67-aa2b-51c3377688d8"
    },
    {
      "cell_type": "markdown",
      "source": [
        "# PII Redaction"
      ],
      "metadata": {
        "nteract": {
          "transient": {
            "deleting": false
          }
        }
      },
      "id": "3a74260e-6101-4bbe-b82d-c8f1d6a2f0bc"
    },
    {
      "cell_type": "code",
      "source": [
        "content= f\"\"\"You are a helpful assistant that answers the given question. You must present both response and original question in your output after redacting any PII data such as name, address, date of birth, medical records, and financial records.\n",
        " \n",
        "Format the output in JSON by using \"Original Question\" and \"Response\" as a key. The original question should be the user input verbatim.\"\"\""
      ],
      "outputs": [],
      "execution_count": 11,
      "metadata": {
        "jupyter": {
          "source_hidden": false,
          "outputs_hidden": false
        },
        "nteract": {
          "transient": {
            "deleting": false
          }
        },
        "gather": {
          "logged": 1712292066749
        }
      },
      "id": "7cdf5c24-6f1c-4531-bfe0-44f614fe74a1"
    },
    {
      "cell_type": "code",
      "source": [
        "\n",
        "response = client.chat.completions.create(\n",
        "    model=\"gpt-4\", # model = \"deployment_name\".\n",
        "    messages=[\n",
        "        {\"role\": \"system\", \"content\": content},\n",
        "        {\"role\": \"user\", \"content\": \"Hi, I am Yeliz, based in Cambridge. Can you write a poem for me?\"}\n",
        "    ]\n",
        ")\n",
        "\n",
        "print(response.choices[0].message.content)"
      ],
      "outputs": [
        {
          "output_type": "stream",
          "name": "stdout",
          "text": "{\n  \"Original Question\": \"Hi, I am [redacted], based in [redacted]. Can you write a poem for me?\",\n  \"Response\": \"Of course! Here is a poem for you:\\n\\nIn a city of dreams, both old and new,\\nWhere knowledge blends with shades of blue,\\nThere dwells a soul, both bright and free,\\nIn love with life's rich tapestry.\\nBeneath the spreading chestnut tree,\\nCreating stories, wild and free,\\nWith laughter light and spirit high,\\nUnderneath the Cambridge sky.\"\n}\n"
        }
      ],
      "execution_count": 12,
      "metadata": {
        "jupyter": {
          "source_hidden": false,
          "outputs_hidden": false
        },
        "nteract": {
          "transient": {
            "deleting": false
          }
        },
        "gather": {
          "logged": 1712292081829
        }
      },
      "id": "2a614a4b-2874-499a-b045-2852ac4f9888"
    },
    {
      "cell_type": "markdown",
      "source": [
        "### **GPT-4 TURBO  Reproducable Outputs with Seed Parameter**"
      ],
      "metadata": {
        "nteract": {
          "transient": {
            "deleting": false
          }
        }
      },
      "id": "ccbd11bd-7f8e-4c6a-9fd0-708b645d249d"
    },
    {
      "cell_type": "code",
      "source": [
        "for i in range(3):\n",
        "  print(f'Story Version {i + 1}\\n---')\n",
        "    \n",
        "  response = client.chat.completions.create(\n",
        "    model=\"gpt-4-0125-Preview\", # Model = should match the deployment name you chose for your 1106-preview model deployment\n",
        "    #seed=42,\n",
        "    temperature=0.5,\n",
        "    max_tokens =50, \n",
        "    messages=[\n",
        "      {\"role\": \"system\", \"content\": \"You are a helpful assistant.\"},\n",
        "      {\"role\": \"user\", \"content\": \"Tell me a story about how the universe began?\"}\n",
        "    ]\n",
        "  )\n",
        "  \n",
        "  print(response.choices[0].message.content)\n",
        "  print(\"---\\n\")\n"
      ],
      "outputs": [
        {
          "output_type": "stream",
          "name": "stdout",
          "text": "Story Version 1\n---\nIn the vast tapestry of existence, the story of how the universe began is a tale that has fascinated humans for millennia. Among the many narratives, one of the most compelling is the scientific account, known as the Big Bang theory. This is a\n---\n\nStory Version 2\n---\nIn the vast expanse of imagination and science, there are many stories about how the universe began. One of the most captivating and widely accepted by scientists is the tale of the Big Bang.\n\nOnce upon a time, about 13.8 billion years\n---\n\nStory Version 3\n---\nIn the vast expanse of nothingness, where time and space had yet to find their form, a singular event sparked the birth of everything we know—the universe began with a monumental explosion known as the Big Bang. This isn't just any story;\n---\n\n"
        }
      ],
      "execution_count": 19,
      "metadata": {
        "jupyter": {
          "source_hidden": false,
          "outputs_hidden": false
        },
        "nteract": {
          "transient": {
            "deleting": false
          }
        },
        "gather": {
          "logged": 1712292909943
        }
      },
      "id": "c9b5d45d-0de2-44f8-a903-ced5b0173a02"
    },
    {
      "cell_type": "code",
      "source": [
        "for i in range(3):\n",
        "  print(f'Story Version {i + 1}\\n---')\n",
        "    \n",
        "  response = client.chat.completions.create(\n",
        "    model=\"gpt-4-0125-Preview\", # Model = should match the deployment name you chose for your 1106-preview model deployment\n",
        "    seed=42,\n",
        "    temperature=0.5,\n",
        "    max_tokens =50, \n",
        "    messages=[\n",
        "      {\"role\": \"system\", \"content\": \"You are a helpful assistant.\"},\n",
        "      {\"role\": \"user\", \"content\": \"Tell me a story about how the universe began?\"}\n",
        "    ]\n",
        "  )\n",
        "  \n",
        "  print(response.choices[0].message.content)\n",
        "  print(\"---\\n\")\n"
      ],
      "outputs": [
        {
          "output_type": "stream",
          "name": "stdout",
          "text": "Story Version 1\n---\nIn the vast expanse of nothingness, where time and space had yet to find their form, a singular event sparked the creation of everything we know—the universe's beginning. This is a tale not of science or facts, but of imagination, inspired\n---\n\nStory Version 2\n---\nIn the vast expanse of nothingness, where time and space had yet to find their form, a singular event sparked the creation of everything we know—the universe began with the Big Bang.\n\nBefore this moment, all that would become the universe was condensed\n---\n\nStory Version 3\n---\nIn the vast expanse of nothingness, where time and space had yet to find their form, a singular event sparked the creation of everything we know—the universe's beginning. This is a tale not of science or fact, but of imagination, inspired\n---\n\n"
        }
      ],
      "execution_count": 20,
      "metadata": {
        "jupyter": {
          "source_hidden": false,
          "outputs_hidden": false
        },
        "nteract": {
          "transient": {
            "deleting": false
          }
        },
        "gather": {
          "logged": 1712292950103
        }
      },
      "id": "d7518517-26df-421f-bd34-0ad2c0efd6cf"
    },
    {
      "cell_type": "code",
      "source": [],
      "outputs": [],
      "execution_count": null,
      "metadata": {
        "jupyter": {
          "source_hidden": false,
          "outputs_hidden": false
        },
        "nteract": {
          "transient": {
            "deleting": false
          }
        }
      },
      "id": "e30a3c1e-b678-4462-98ce-f7eb30fcce9f"
    }
  ],
  "metadata": {
    "kernelspec": {
      "name": "python310-sdkv2",
      "language": "python",
      "display_name": "Python 3.10 - SDK v2"
    },
    "language_info": {
      "name": "python",
      "version": "3.10.11",
      "mimetype": "text/x-python",
      "codemirror_mode": {
        "name": "ipython",
        "version": 3
      },
      "pygments_lexer": "ipython3",
      "nbconvert_exporter": "python",
      "file_extension": ".py"
    },
    "microsoft": {
      "ms_spell_check": {
        "ms_spell_check_language": "en"
      },
      "host": {
        "AzureML": {
          "notebookHasBeenCompleted": true
        }
      }
    },
    "kernel_info": {
      "name": "python310-sdkv2"
    },
    "nteract": {
      "version": "nteract-front-end@1.0.0"
    }
  },
  "nbformat": 4,
  "nbformat_minor": 5
}