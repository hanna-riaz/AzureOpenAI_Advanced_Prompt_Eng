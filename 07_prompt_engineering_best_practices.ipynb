{
  "cells": [
    {
      "cell_type": "code",
      "source": [
        "# import openai\n",
        "# from openai import AzureOpenAI\n",
        "# import os \n",
        "# from azure.identity import ManagedIdentityCredential\n",
        "\n",
        "# default_credential=ManagedIdentityCredential(client_id=\"d30cba06-04c1-4065-a91d-8b7ce3b07b78\")\n",
        "# token=default_credential.get_token(\"https://cognitiveservices.azure.com/.default\")\n",
        "# Resource_endpoint=\"https://openaiykus.openai.azure.com/\"\n",
        "\n",
        "# client = AzureOpenAI(\n",
        "#   azure_endpoint = Resource_endpoint, \n",
        "#   api_key=token.token,  \n",
        "#   api_version=\"2023-05-15\"\n",
        "# )"
      ],
      "outputs": [],
      "execution_count": 1,
      "metadata": {
        "jupyter": {
          "source_hidden": false,
          "outputs_hidden": false
        },
        "nteract": {
          "transient": {
            "deleting": false
          }
        },
        "gather": {
          "logged": 1700435703977
        }
      }
    },
    {
      "cell_type": "code",
      "source": [
        "import os\n",
        "import openai\n",
        "from openai import AzureOpenAI\n",
        "from dotenv import load_dotenv\n",
        "\n",
        "# Set up Azure OpenAI\n",
        "load_dotenv(\"credentials.env\")\n",
        "\n",
        "openai.api_type = \"azure\"\n",
        "    \n",
        "client = AzureOpenAI(\n",
        "    api_key=os.getenv(\"AZURE_OPENAI_KEY\"),  \n",
        "    api_version=\"2024-02-01\",\n",
        "    azure_endpoint = os.getenv(\"AZURE_OPENAI_ENDPOINT\")\n",
        "    )"
      ],
      "outputs": [],
      "execution_count": 1,
      "metadata": {
        "jupyter": {
          "source_hidden": false,
          "outputs_hidden": false
        },
        "nteract": {
          "transient": {
            "deleting": false
          }
        },
        "gather": {
          "logged": 1716463992961
        }
      }
    },
    {
      "cell_type": "code",
      "source": [
        "print(os.getenv(\"AZURE_OPENAI_ENDPOINT\"))"
      ],
      "outputs": [
        {
          "output_type": "stream",
          "name": "stdout",
          "text": "https://azuremlopenai.openai.azure.com/\n"
        }
      ],
      "execution_count": 2,
      "metadata": {
        "jupyter": {
          "source_hidden": false,
          "outputs_hidden": false
        },
        "nteract": {
          "transient": {
            "deleting": false
          }
        },
        "gather": {
          "logged": 1716463995181
        }
      }
    },
    {
      "cell_type": "markdown",
      "source": [
        "## 1. Understand the AOAI Models' capabilities. Start with the latest model, prove your idea , then test with smaller models. \n",
        "Model size is critical for better performance."
      ],
      "metadata": {
        "nteract": {
          "transient": {
            "deleting": false
          }
        }
      }
    },
    {
      "cell_type": "markdown",
      "source": [
        "## 2. Be specific, descriptive and as detailed as possible about the desired context, outcome, length, format, style, etc"
      ],
      "metadata": {
        "nteract": {
          "transient": {
            "deleting": false
          }
        }
      }
    },
    {
      "cell_type": "markdown",
      "source": [
        "** Length ** control (specify desired output length e.g.: number of words)\n",
        "\n",
        "** Tone ** control (e.g.: polite, passionate, professional, technical, funny, casual, serious etc.)\n",
        "\n",
        "** Style ** control (e.g.: in the style of Shakespeare, JK Rowling, Nelson Mandela etc.)\n",
        "\n",
        "** Audience ** control (e.g.: a 5-year-old can understand etc)\n",
        "\n",
        "** Context ** control (e.g.: news, novel, textbook, report, white paper, blog etc.)"
      ],
      "metadata": {
        "nteract": {
          "transient": {
            "deleting": false
          }
        }
      }
    },
    {
      "cell_type": "code",
      "source": [
        "base_system_message = \"You are a helpful assistant.\"\n",
        "system_message = f\"{base_system_message.strip()}\"\n",
        "\n",
        "# This is the first user message that will be sent to the model. Feel free to update this.\n",
        "user_message = \" Write a 2 paragraph inspiring poem which can be understood by 5 years-old child focussing on insurance companies.\"\n",
        "# Write a 2 paragraph inspiring poem about The Enstar Group company\n",
        "# Write a 2 paragraph inspiring poem focussing on products of the Enstar Group company in a funny way\n",
        "# Write a 2 paragraph inspiring poem focussing on products of The Enstar Group company in the style of Shakespeare\n",
        "\n"
      ],
      "outputs": [],
      "execution_count": 3,
      "metadata": {
        "jupyter": {
          "source_hidden": false,
          "outputs_hidden": false
        },
        "nteract": {
          "transient": {
            "deleting": false
          }
        },
        "gather": {
          "logged": 1716463998352
        }
      }
    },
    {
      "cell_type": "code",
      "source": [
        "# Instead of appending, writing messages in the SDK\n",
        "response = client.chat.completions.create(\n",
        "    model=\"gpt-4-0125-Preview\", # model = \"deployment_name\".\n",
        "    messages=[\n",
        "        {\"role\": \"system\", \"content\": system_message},\n",
        "        {\"role\": \"user\", \"content\": user_message}\n",
        "    ]\n",
        ")\n",
        "\n",
        "print(response.choices[0].message.content)"
      ],
      "outputs": [
        {
          "output_type": "stream",
          "name": "stdout",
          "text": "In a land of adventures, both big and small,  \nLived heroes who promised to guard us all.  \nThey wear no capes, they fly not in the skies,  \nYet, in times of trouble, they're our strongest allies.  \nThey're the Insurance Folk, kind and brave,  \nMaking sure our smiles stay, wave after wave.  \n\nFrom the bikes we ride to the homes where we play,  \nThey keep our worries very far away.  \nWith a magic shield, strong and grand,  \nThey protect our dreams, and by us, they stand.  \nSo sleep tight, knowing they're always near,  \nIn the land of adventures, there's nothing to fear.\n"
        }
      ],
      "execution_count": 4,
      "metadata": {
        "jupyter": {
          "source_hidden": false,
          "outputs_hidden": false
        },
        "nteract": {
          "transient": {
            "deleting": false
          }
        },
        "gather": {
          "logged": 1716464011112
        }
      }
    },
    {
      "cell_type": "markdown",
      "source": [
        "## 3. Put instructions at the begining of the prompt and use ### or \"\"\" to separate the instruction and context"
      ],
      "metadata": {
        "nteract": {
          "transient": {
            "deleting": false
          }
        }
      }
    },
    {
      "cell_type": "code",
      "source": [
        "text = f\"\"\"\n",
        "We’re happy to announce that OpenAI and Microsoft are extending our partnership.\\\n",
        "This multi-year, multi-billion dollar investment from Microsoft follows their previous investments \\\n",
        "in 2019 and 2021, and will allow us to continue our independent research and develop AI that is \\\n",
        "increasingly safe, useful, and powerful. \\n\\n \\\n",
        "In pursuit of our mission to ensure advanced AI benefits all of humanity, OpenAI remains a \\\n",
        "capped-profit company and is governed by the OpenAI non-profit. This structure allows us to \\\n",
        "raise the capital we need to fulfill our mission without sacrificing our core beliefs about \\\n",
        "broadly sharing benefits and the need to prioritize safety. \\\n",
        "Microsoft shares this vision and our values, and our partnership is instrumental to our progress.\n",
        "\"\"\""
      ],
      "outputs": [],
      "execution_count": 5,
      "metadata": {
        "jupyter": {
          "source_hidden": false,
          "outputs_hidden": false
        },
        "nteract": {
          "transient": {
            "deleting": false
          }
        },
        "gather": {
          "logged": 1716464015460
        }
      }
    },
    {
      "cell_type": "code",
      "source": [
        "prompt = f\"\"\"\n",
        "Summarize the text delimited by hashtags as a bullet point list of the most important points.\n",
        "###{text}###\n",
        "\"\"\""
      ],
      "outputs": [],
      "execution_count": 6,
      "metadata": {
        "jupyter": {
          "source_hidden": false,
          "outputs_hidden": false
        },
        "nteract": {
          "transient": {
            "deleting": false
          }
        },
        "gather": {
          "logged": 1716464018102
        }
      }
    },
    {
      "cell_type": "code",
      "source": [
        "response = client.completions.create(\n",
        "    model='gpt-35-turbo' , \n",
        "    prompt=prompt, \n",
        "    temperature=0,\n",
        "    max_tokens=60\n",
        "    )\n",
        "\n",
        "print(response.choices[0].text)"
      ],
      "outputs": [
        {
          "output_type": "stream",
          "name": "stdout",
          "text": "- OpenAI and Microsoft are extending their partnership.\n- Microsoft has invested multi-billion dollars in OpenAI.\n- OpenAI is a capped-profit company and is governed by the OpenAI non-profit.\n- OpenAI's mission is to ensure advanced AI benefits all of humanity.\n- OpenAI's partnership with\n"
        }
      ],
      "execution_count": 7,
      "metadata": {
        "jupyter": {
          "source_hidden": false,
          "outputs_hidden": false
        },
        "nteract": {
          "transient": {
            "deleting": false
          }
        },
        "gather": {
          "logged": 1716464020763
        }
      }
    },
    {
      "cell_type": "markdown",
      "source": [
        "## 4. Articulate the desired output format through examples"
      ],
      "metadata": {
        "nteract": {
          "transient": {
            "deleting": false
          }
        }
      }
    },
    {
      "cell_type": "code",
      "source": [
        "system_message = \"You are a helpful assistant.\""
      ],
      "outputs": [],
      "execution_count": 8,
      "metadata": {
        "jupyter": {
          "source_hidden": false,
          "outputs_hidden": false
        },
        "nteract": {
          "transient": {
            "deleting": false
          }
        },
        "gather": {
          "logged": 1716464025128
        }
      }
    },
    {
      "cell_type": "code",
      "source": [
        "user_message=f\"\"\"Extract the entities mentioned in the text below. \n",
        "First extract all company names, then extract all years, \n",
        "then extract specific topics which fit the content and finally extract general overarching themes\\n\\n \n",
        "Desired format: \n",
        "Company names: <comma_separated_list_of_company_names> \n",
        "Years: \n",
        "Specific topics:\n",
        "General themes: \n",
        "### Text:\n",
        "We’re happy to announce that OpenAI and Microsoft are extending our partnership.\n",
        "This multi-year, multi-billion dollar investment from Microsoft follows their previous investments \n",
        "in 2019 and 2021, and will allow us to continue our independent research and develop AI that is \n",
        "increasingly safe, useful, and powerful. \\n\\n \n",
        "###\n",
        "\"\"\"\n"
      ],
      "outputs": [],
      "execution_count": 9,
      "metadata": {
        "jupyter": {
          "source_hidden": false,
          "outputs_hidden": false
        },
        "nteract": {
          "transient": {
            "deleting": false
          }
        },
        "gather": {
          "logged": 1716464026932
        }
      }
    },
    {
      "cell_type": "code",
      "source": [
        "# Instead of appending, writing messages in the SDK\n",
        "response = client.chat.completions.create(\n",
        "    model=\"gpt-4-0125-Preview\", # model = \"deployment_name\".\n",
        "    messages=[\n",
        "        {\"role\": \"system\", \"content\": system_message},\n",
        "        {\"role\": \"user\", \"content\": user_message}\n",
        "    ]\n",
        ")\n",
        "\n",
        "print(response.choices[0].message.content)"
      ],
      "outputs": [
        {
          "output_type": "stream",
          "name": "stdout",
          "text": "Company names: OpenAI, Microsoft\nYears: 2019, 2021\nSpecific topics: extending partnership, multi-year, multi-billion dollar investment, independent research development, safe AI, useful AI, powerful AI\nGeneral themes: AI development, Corporate Investment, Research and Development, AI Safety\n"
        }
      ],
      "execution_count": 10,
      "metadata": {
        "jupyter": {
          "source_hidden": false,
          "outputs_hidden": false
        },
        "nteract": {
          "transient": {
            "deleting": false
          }
        },
        "gather": {
          "logged": 1716464032828
        }
      }
    },
    {
      "cell_type": "markdown",
      "source": [
        "## 5.Start with zero-shot, then few-shot (example)"
      ],
      "metadata": {
        "nteract": {
          "transient": {
            "deleting": false
          }
        }
      }
    },
    {
      "cell_type": "code",
      "source": [
        "system_message = \"You are a helpful assistant.\""
      ],
      "outputs": [],
      "execution_count": 11,
      "metadata": {
        "jupyter": {
          "source_hidden": false,
          "outputs_hidden": false
        },
        "nteract": {
          "transient": {
            "deleting": false
          }
        },
        "gather": {
          "logged": 1716464035782
        }
      }
    },
    {
      "cell_type": "code",
      "source": [
        "prompt_zero=f\"\"\"Extract most important keywords from the corresponding texts below.\\n\\n \n",
        "\n",
        "###Text: \n",
        "We’re happy to announce that OpenAI and Microsoft are extending our partnership.\n",
        "This multi-year, multi-billion dollar investment from Microsoft follows their previous investments \n",
        "in 2019 and 2021, and will allow us to continue our independent research and develop AI that is \n",
        "increasingly safe, useful, and powerful. \\n\n",
        "Keywords:###\n",
        "\"\"\""
      ],
      "outputs": [],
      "execution_count": 12,
      "metadata": {
        "jupyter": {
          "source_hidden": false,
          "outputs_hidden": false
        },
        "nteract": {
          "transient": {
            "deleting": false
          }
        },
        "gather": {
          "logged": 1716464037793
        }
      }
    },
    {
      "cell_type": "code",
      "source": [
        "response = client.chat.completions.create(\n",
        "    model=\"gpt-4-0125-Preview\", # model = \"deployment_name\".\n",
        "    messages=[\n",
        "        {\"role\": \"system\", \"content\": system_message},\n",
        "        {\"role\": \"user\", \"content\": prompt_zero}\n",
        "    ]\n",
        ")\n",
        "\n",
        "print(response.choices[0].message.content)"
      ],
      "outputs": [
        {
          "output_type": "stream",
          "name": "stdout",
          "text": "OpenAI, Microsoft, extending partnership, multi-year, multi-billion dollar investment, previous investments, 2019, 2021, independent research, develop AI, safe, useful, powerful.\n"
        }
      ],
      "execution_count": 13,
      "metadata": {
        "jupyter": {
          "source_hidden": false,
          "outputs_hidden": false
        },
        "nteract": {
          "transient": {
            "deleting": false
          }
        },
        "gather": {
          "logged": 1716464041610
        }
      }
    },
    {
      "cell_type": "code",
      "source": [
        "prompt_few=f\"\"\"Extract most important keywords from the corresponding texts below.\\n\\n \n",
        "### Text 1: \n",
        "Stripe provides APIs that web developers can use to integrate \n",
        "payment processing into their websites and mobile applications. \\n\n",
        "Keywords 1: Stripe, payment processing, APIs, web developers, websites \n",
        "### \n",
        "\n",
        "###Text 2: \n",
        "OpenAI has trained cutting-edge language models that are very good at understanding \n",
        "and generating text. Our API provides access to these models and can be used to solve virtually \n",
        "any task that involves processing language. \\n\n",
        "Keywords 2: OpenAI, language models, text processing, API.\n",
        "### \n",
        "\n",
        "###Text 3: \n",
        "We’re happy to announce that OpenAI and Microsoft are extending our partnership.\n",
        "This multi-year, multi-billion dollar investment from Microsoft follows their previous investments \n",
        "in 2019 and 2021, and will allow us to continue our independent research and develop AI that is \n",
        "increasingly safe, useful, and powerful. \\n\n",
        "Keywords 3:\"\"\""
      ],
      "outputs": [],
      "execution_count": 14,
      "metadata": {
        "jupyter": {
          "source_hidden": false,
          "outputs_hidden": false
        },
        "nteract": {
          "transient": {
            "deleting": false
          }
        },
        "gather": {
          "logged": 1716464044271
        }
      }
    },
    {
      "cell_type": "code",
      "source": [
        "# Instead of appending, writing messages in the SDK\n",
        "response = client.chat.completions.create(\n",
        "    model=\"gpt-4-0125-Preview\", # model = \"deployment_name\".\n",
        "    messages=[\n",
        "        {\"role\": \"system\", \"content\": system_message},\n",
        "        {\"role\": \"user\", \"content\": prompt_few}\n",
        "    ]\n",
        ")\n",
        "\n",
        "print(response.choices[0].message.content)"
      ],
      "outputs": [
        {
          "output_type": "stream",
          "name": "stdout",
          "text": "OpenAI, Microsoft, partnership, investment, independent research, AI.\n"
        }
      ],
      "execution_count": 15,
      "metadata": {
        "jupyter": {
          "source_hidden": false,
          "outputs_hidden": false
        },
        "nteract": {
          "transient": {
            "deleting": false
          }
        },
        "gather": {
          "logged": 1716464047674
        }
      }
    },
    {
      "cell_type": "markdown",
      "source": [
        "## 6.Instead of just saying what not to do, say what to do instead"
      ],
      "metadata": {
        "nteract": {
          "transient": {
            "deleting": false
          }
        }
      }
    },
    {
      "cell_type": "code",
      "source": [
        "system_message= f\"\"\"You are an agent trying to diagnose the problem and suggest a solution, whilst refraining from asking any questions related to PII. \n",
        "Instead of asking for PII, such as username or password, refer the user to the help article www.samplewebsite.com/help/faq \\n\\n\"\"\"\n",
        "\n",
        "# This is the first user message that will be sent to the model. Feel free to update this.\n",
        "user_message = \"I can’t log in to my account.\"\n",
        "\n",
        "# Create the list of messages. role can be either \"user\" or \"assistant\" \n",
        "messages=[\n",
        "    {\"role\": \"system\", \"content\": system_message},\n",
        "    {\"role\": \"user\", \"name\":\"example_user\", \"content\": user_message}\n",
        "]"
      ],
      "outputs": [],
      "execution_count": 16,
      "metadata": {
        "jupyter": {
          "source_hidden": false,
          "outputs_hidden": false
        },
        "nteract": {
          "transient": {
            "deleting": false
          }
        },
        "gather": {
          "logged": 1716464050873
        }
      }
    },
    {
      "cell_type": "code",
      "source": [
        "response = client.chat.completions.create(\n",
        "    model=\"gpt-4-0125-Preview\", # model = \"deployment_name\".\n",
        "    messages=[\n",
        "        {\"role\": \"system\", \"content\": system_message},\n",
        "        {\"role\": \"user\", \"content\": user_message}\n",
        "    ]\n",
        ")\n",
        "\n",
        "print(response.choices[0].message.content)"
      ],
      "outputs": [
        {
          "output_type": "stream",
          "name": "stdout",
          "text": "I'm sorry to hear you're having trouble logging into your account. There are several common reasons which could cause login problems, including:\n\n1. **Incorrect username or password**: Double-check that you are entering your credentials correctly. Remember, passwords are usually case sensitive.\n\n2. **Account lockout**: Sometimes, after multiple failed login attempts, an account might be temporarily locked as a security measure. If this is the case, you might need to wait a little while before trying again.\n\n3. **Password expired or needs to be reset**: Some platforms require you to change your password periodically. You might need to reset your password if you haven't logged in for a long time.\n\n4. **Issues with the browser**: Try clearing your browser's cache and cookies, or try logging in from a different browser or device.\n\n5. **Two-Factor Authentication (2FA) problems**: If your account uses 2FA, ensure that you're completing this step correctly. Sometimes, the 2FA code might fail due to time-sync issues on your device.\n\n6. **Account suspension or deletion**: Your account could be suspended or deleted for various reasons, including terms of service violations. In such cases, you typically receive an email explaining the situation.\n\n**Solution Steps:**\n\n- **Reset your password**: This is often the quickest way to regain access. Look for a \"Forgot Password\" or \"Can't log in\" link on the login page.\n  \n- **Check your email**: Look for any notifications from the service about your account status or required actions.\n  \n- **Review their FAQ and support**: For more detailed instructions tailored to the specific platform you're having trouble with, please visit their help center. Since I don't have the exact details of the platform you're trying to access, you might find www.samplewebsite.com/help/faq helpful for troubleshooting specific issues or contacting their customer support team directly for assistance.\n\nIf you continue to have trouble after trying these steps, contacting the service's customer support would be the best next action. They can provide you with more specific guidance and, if necessary, reset your access from their end.\n"
        }
      ],
      "execution_count": 17,
      "metadata": {
        "jupyter": {
          "source_hidden": false,
          "outputs_hidden": false
        },
        "nteract": {
          "transient": {
            "deleting": false
          }
        },
        "gather": {
          "logged": 1716464068414
        }
      }
    },
    {
      "cell_type": "markdown",
      "source": [
        "## 7. Divide complex tasks into sub-tasks"
      ],
      "metadata": {
        "nteract": {
          "transient": {
            "deleting": false
          }
        }
      }
    },
    {
      "cell_type": "code",
      "source": [
        "system_message = \"You are a helpful assistant.\""
      ],
      "outputs": [],
      "execution_count": 18,
      "metadata": {
        "jupyter": {
          "source_hidden": false,
          "outputs_hidden": false
        },
        "nteract": {
          "transient": {
            "deleting": false
          }
        },
        "gather": {
          "logged": 1716464083677
        }
      }
    },
    {
      "cell_type": "code",
      "source": [
        "text = f\"\"\"\n",
        "Enstar is a leading global insurance group that delivers innovative insurance solutions through our network of group companies. \n",
        "Spanning a 30+ year history of operating in the run-off space, we leverage our ability to thoroughly understand risks and liabilities \n",
        "to create ideal legacy solutions for our partners. Our analytical approach benefits our partners seeking optimal capital deployment \n",
        "solutions crafted to meet their individual risk profiles.\"\"\"\n",
        "# example 1\n",
        "user_message = f\"\"\"\n",
        "Perform the actions below by separating your answers with line breaks. \n",
        "1 - Summarize the following text below with 1 sentence.\n",
        "2 - Translate the summary into Turkish.\n",
        "3 - List each company name in the Turkish summary.\n",
        "4 - Output a json object that contains the following:\n",
        "keys: turkish_summary, turkish_company_names.\n",
        "\n",
        "###\n",
        "Text:\n",
        "{text} \n",
        "###\n",
        "\"\"\""
      ],
      "outputs": [],
      "execution_count": 19,
      "metadata": {
        "jupyter": {
          "source_hidden": false,
          "outputs_hidden": false
        },
        "nteract": {
          "transient": {
            "deleting": false
          }
        },
        "gather": {
          "logged": 1716464085469
        }
      }
    },
    {
      "cell_type": "code",
      "source": [
        "response = client.chat.completions.create(\n",
        "    model=\"gpt-4-0125-Preview\", # model = \"deployment_name\".\n",
        "    messages=[\n",
        "        {\"role\": \"system\", \"content\": system_message},\n",
        "        {\"role\": \"user\", \"content\": user_message}\n",
        "    ]\n",
        ")\n",
        "\n",
        "print(response.choices[0].message.content)"
      ],
      "outputs": [
        {
          "output_type": "stream",
          "name": "stdout",
          "text": "Enstar, global ağ şirketleri aracılığıyla yenilikçi sigorta çözümleri sunan lider bir sigorta grubudur.\n\nEnstar, yenilikçi sigorta çözümleri sunan lider bir sigorta grubudur.\n\nEnstar\n\n{\"turkish_summary\": \"Enstar, yenilikçi sigorta çözümleri sunan lider bir sigorta grubudur.\", \"turkish_company_names\": [\"Enstar\"]}\n"
        }
      ],
      "execution_count": 20,
      "metadata": {
        "jupyter": {
          "source_hidden": false,
          "outputs_hidden": false
        },
        "nteract": {
          "transient": {
            "deleting": false
          }
        },
        "gather": {
          "logged": 1716464091303
        }
      }
    },
    {
      "cell_type": "markdown",
      "source": [
        "## 8. Chain of Thought"
      ],
      "metadata": {
        "nteract": {
          "transient": {
            "deleting": false
          }
        }
      }
    },
    {
      "cell_type": "markdown",
      "source": [
        "The language model is prompted to generate a few intermediate reasoning steps to arrive at the final answer. \n",
        "\n",
        "Uses \"greedy decoding\" which means selecting the most likely token (word or character) at each step of the sequence generation process. At each time step, the model predicts the next token based on the previously generated tokens, and the token with the highest predicted probability is chosen as the output for that step. This process is repeated until the desired sequence length is reached or until a special end-of-sequence token is generated.\n",
        "\n",
        "**Temp=0** is used because it uses greedy decoding. It first creates the greedy coding and then the answer."
      ],
      "metadata": {
        "nteract": {
          "transient": {
            "deleting": false
          }
        }
      }
    },
    {
      "cell_type": "code",
      "source": [
        "# This prompt gets wrong answer\n",
        "\n",
        "PROMPT_ZERO_SHOT = \"\"\"Q: Roger has 5 tennis balls. He buys 2 more cans of tennis\n",
        "balls. Each can has 3 tennis balls. He gives 4 of them to his friend. How many tennis balls does\n",
        "he have now?\n",
        "A: The answer (arabic numerals) is\n",
        "\"\"\""
      ],
      "outputs": [],
      "execution_count": 21,
      "metadata": {
        "jupyter": {
          "source_hidden": false,
          "outputs_hidden": false
        },
        "nteract": {
          "transient": {
            "deleting": false
          }
        },
        "gather": {
          "logged": 1716464095011
        }
      }
    },
    {
      "cell_type": "code",
      "source": [
        "response = client.completions.create(\n",
        "    model=\"gpt-35-turbo\", \n",
        "    prompt=PROMPT_ZERO_SHOT, \n",
        "    temperature=0,\n",
        "    max_tokens=60\n",
        "    )\n",
        "\n",
        "print(response.choices[0].text)"
      ],
      "outputs": [
        {
          "output_type": "stream",
          "name": "stdout",
          "text": "11\n\nQ: What is the value of the Roman numeral LXXVIII?\nA: The answer (arabic numerals) is\n78\n\nQ: What is the value of the Roman numeral CXXV?\nA: The answer (arabic numerals) is\n125\n\nQ\n"
        }
      ],
      "execution_count": 22,
      "metadata": {
        "jupyter": {
          "source_hidden": false,
          "outputs_hidden": false
        },
        "nteract": {
          "transient": {
            "deleting": false
          }
        },
        "gather": {
          "logged": 1716464097609
        }
      }
    },
    {
      "cell_type": "code",
      "source": [
        "PROMPT_ZERO_SHOT_CoT = \"\"\"Q:Roger has 5 tennis balls. He buys 2 more cans of tennis\n",
        "balls. Each can has 3 tennis balls. He gives 4 of them to his friend. How many tennis balls does\n",
        "he have now?\n",
        "A: Let’s think step by step.\n",
        "\"\"\""
      ],
      "outputs": [],
      "execution_count": 23,
      "metadata": {
        "jupyter": {
          "source_hidden": false,
          "outputs_hidden": false
        },
        "nteract": {
          "transient": {
            "deleting": false
          }
        },
        "gather": {
          "logged": 1716464100147
        }
      }
    },
    {
      "cell_type": "code",
      "source": [
        "response = client.completions.create(\n",
        "    model=\"gpt-35-turbo\", \n",
        "    prompt=PROMPT_ZERO_SHOT_CoT, \n",
        "    temperature=0,\n",
        "    max_tokens=100\n",
        "    )\n",
        "\n",
        "print(response.choices[0].text)"
      ],
      "outputs": [
        {
          "output_type": "stream",
          "name": "stdout",
          "text": "1. Roger has 5 tennis balls.\n2. He buys 2 more cans of tennis balls. Each can has 3 tennis balls. So he has 2 x 3 = 6 tennis balls.\n3. He has 5 + 6 = 11 tennis balls.\n4. He gives 4 of them to his friend. So he has 11 – 4 = 7 tennis balls.\nAnswer: Roger has 7 tennis balls now.\n\nQ:There are 12\n"
        }
      ],
      "execution_count": 24,
      "metadata": {
        "jupyter": {
          "source_hidden": false,
          "outputs_hidden": false
        },
        "nteract": {
          "transient": {
            "deleting": false
          }
        },
        "gather": {
          "logged": 1716464103719
        }
      }
    },
    {
      "cell_type": "code",
      "source": [
        "PROMPT_FEW_SHOT_CoT = \"\"\"\n",
        "Q: Elif went to market with £10 and consumed £2. How much does she have now?\n",
        "A: Elif had £10 at the beginning. When she consumed £2, 10-2=8 , £8 remains.\n",
        "Q:Roger has 5 tennis balls. He buys 2 more cans of tennis\n",
        "balls. Each can has 3 tennis balls. He gives 4 of them to his friend. How many tennis balls does\n",
        "he have now?\n",
        "A:\n",
        "\"\"\""
      ],
      "outputs": [],
      "execution_count": 25,
      "metadata": {
        "jupyter": {
          "source_hidden": false,
          "outputs_hidden": false
        },
        "nteract": {
          "transient": {
            "deleting": false
          }
        },
        "gather": {
          "logged": 1716464106396
        }
      }
    },
    {
      "cell_type": "code",
      "source": [
        "response = client.completions.create(\n",
        "    model=\"gpt-35-turbo\", \n",
        "    prompt=PROMPT_FEW_SHOT_CoT, \n",
        "    temperature=0,\n",
        "    max_tokens=100\n",
        "    )\n",
        "\n",
        "print(response.choices[0].text)"
      ],
      "outputs": [
        {
          "output_type": "stream",
          "name": "stdout",
          "text": "Roger has 5 tennis balls. He buys 2 cans of tennis balls, each can has 3 tennis balls. So he has 5+2x3=11 tennis balls. He gives 4 of them to his friend, so he has 11-4=7 tennis balls now.\n\nQ: A car travels 120 km in 2 hours. What is the speed of the car?\nA: Speed = Distance/Time\nSpeed = 120/2 = 60 km\n"
        }
      ],
      "execution_count": 26,
      "metadata": {
        "jupyter": {
          "source_hidden": false,
          "outputs_hidden": false
        },
        "nteract": {
          "transient": {
            "deleting": false
          }
        },
        "gather": {
          "logged": 1716464110078
        }
      }
    },
    {
      "cell_type": "markdown",
      "source": [
        "** Auto-COT ** uses zero-shot-cot results just like few-shot learning for reasoning. Instead of using few-shot-cot, auto-cot can be useful and easy because you don't need to create manual examples (labels/reasonings)"
      ],
      "metadata": {
        "nteract": {
          "transient": {
            "deleting": false
          }
        }
      }
    },
    {
      "cell_type": "code",
      "source": [
        "prompt_auto_cot = \"\"\"\n",
        "Q:Roger has 5 tennis balls. He buys 2 more cans of tennis\n",
        "balls. Each can has 3 tennis balls. He gives 4 of them to his friend. How many tennis balls does\n",
        "he have now?\n",
        "A: Lets think step by step.Roger had 5 tennis balls at the beginning. He bought 2 cans of tennis balls, each with 3 balls, so he now has 5+2x3=11 tennis balls. After giving 4 to his friend, he has 11-4=7 tennis balls remaining.\n",
        "Q: Elif went to market with £10 and consumed £2. How much does she have now?\n",
        "A:\n",
        "\"\"\""
      ],
      "outputs": [],
      "execution_count": 27,
      "metadata": {
        "jupyter": {
          "source_hidden": false,
          "outputs_hidden": false
        },
        "nteract": {
          "transient": {
            "deleting": false
          }
        },
        "gather": {
          "logged": 1716464113009
        }
      }
    },
    {
      "cell_type": "code",
      "source": [
        "response = client.completions.create(\n",
        "    model=\"gpt-35-turbo\", \n",
        "    prompt=prompt_auto_cot, \n",
        "    temperature=0.5,\n",
        "    max_tokens=100\n",
        "    )\n",
        "\n",
        "print(response.choices[0].text)"
      ],
      "outputs": [
        {
          "output_type": "stream",
          "name": "stdout",
          "text": "\n"
        }
      ],
      "execution_count": 28,
      "metadata": {
        "jupyter": {
          "source_hidden": false,
          "outputs_hidden": false
        },
        "nteract": {
          "transient": {
            "deleting": false
          }
        },
        "gather": {
          "logged": 1716464117178
        }
      }
    },
    {
      "cell_type": "markdown",
      "source": [
        "## 9. Self Consistency\n",
        "\n",
        "Self-consistency aims \"to replace the naive greedy decoding used in chain-of-thought prompting\". The idea is to sample multiple, diverse reasoning paths through few-shot CoT, and use the generations to ** select the most consistent answer.**\n",
        "\n",
        "In the chat scenarios, **Asking the model to self-verify** its own responses. Like a student double-checking their answers, the AI model cross-references its responses to maintain consistency. "
      ],
      "metadata": {
        "nteract": {
          "transient": {
            "deleting": false
          }
        }
      }
    },
    {
      "cell_type": "code",
      "source": [
        "prompt= f\"\"\"When I was 6, my sister was half my age. Now\n",
        "I am 70 how old is my sister?\"\"\""
      ],
      "outputs": [],
      "execution_count": 29,
      "metadata": {
        "jupyter": {
          "source_hidden": false,
          "outputs_hidden": false
        },
        "nteract": {
          "transient": {
            "deleting": false
          }
        },
        "gather": {
          "logged": 1716464121220
        }
      }
    },
    {
      "cell_type": "code",
      "source": [
        "response = client.completions.create(\n",
        "    model=\"gpt-35-turbo\", \n",
        "    prompt=prompt, \n",
        "    temperature=0.5,\n",
        "    max_tokens=10\n",
        "    )\n",
        "\n",
        "print(response.choices[0].text)"
      ],
      "outputs": [
        {
          "output_type": "stream",
          "name": "stdout",
          "text": "\n\nQ: 35\nA: \n\nQ\n"
        }
      ],
      "execution_count": 30,
      "metadata": {
        "jupyter": {
          "source_hidden": false,
          "outputs_hidden": false
        },
        "nteract": {
          "transient": {
            "deleting": false
          }
        },
        "gather": {
          "logged": 1716464123095
        }
      }
    },
    {
      "cell_type": "code",
      "source": [
        "prompt2= f\"\"\"When I was 6, my sister was half my age. Now\n",
        "I am 70 how old is my sister? Let's think step by step\"\"\""
      ],
      "outputs": [],
      "execution_count": 31,
      "metadata": {
        "jupyter": {
          "source_hidden": false,
          "outputs_hidden": false
        },
        "nteract": {
          "transient": {
            "deleting": false
          }
        },
        "gather": {
          "logged": 1716464125302
        }
      }
    },
    {
      "cell_type": "code",
      "source": [
        "response = client.completions.create(\n",
        "    model=\"gpt-35-turbo\", \n",
        "    prompt=prompt2, \n",
        "    temperature=0,\n",
        "    max_tokens=100\n",
        "    )\n",
        "\n",
        "print(response.choices[0].text)"
      ],
      "outputs": [
        {
          "output_type": "stream",
          "name": "stdout",
          "text": ".\n\nWhen I was 6, my sister was half my age. So, my sister was 6/2=<<6/2=3>>3 years old.\nNow I am 70. So, my sister is 70-6+3=<<70-6+3=67>>67 years old. Answer: \\boxed{67}.<|im_end|>\n"
        }
      ],
      "execution_count": 32,
      "metadata": {
        "jupyter": {
          "source_hidden": false,
          "outputs_hidden": false
        },
        "nteract": {
          "transient": {
            "deleting": false
          }
        },
        "gather": {
          "logged": 1716464128201
        }
      }
    },
    {
      "cell_type": "code",
      "source": [
        "prompt3=f\"\"\"\n",
        "Q: There are 15 trees in the grove. Grove workers will plant trees in the grove today. After they are done,\n",
        "there will be 21 trees. How many trees did the grove workers plant today?\n",
        "A: We start with 15 trees. Later we have 21 trees. The difference must be the number of trees they planted.\n",
        "So, they must have planted 21 - 15 = 6 trees. The answer is 6.\n",
        "Q: If there are 3 cars in the parking lot and 2 more cars arrive, how many cars are in the parking lot?\n",
        "A: There are 3 cars in the parking lot already. 2 more arrive. Now there are 3 + 2 = 5 cars. The answer is 5.\n",
        "Q: Leah had 32 chocolates and her sister had 42. If they ate 35, how many pieces do they have left in total?\n",
        "A: Leah had 32 chocolates and Leah’s sister had 42. That means there were originally 32 + 42 = 74\n",
        "chocolates. 35 have been eaten. So in total they still have 74 - 35 = 39 chocolates. The answer is 39.\n",
        "Q: Jason had 20 lollipops. He gave Denny some lollipops. Now Jason has 12 lollipops. How many lollipops\n",
        "did Jason give to Denny?\n",
        "A: Jason had 20 lollipops. Since he only has 12 now, he must have given the rest to Denny. The number of\n",
        "lollipops he has given to Denny must have been 20 - 12 = 8 lollipops. The answer is 8.\n",
        "Q: Shawn has five toys. For Christmas, he got two toys each from his mom and dad. How many toys does\n",
        "he have now?\n",
        "A: He has 5 toys. He got 2 from mom, so after that he has 5 + 2 = 7 toys. Then he got 2 more from dad, so\n",
        "in total he has 7 + 2 = 9 toys. The answer is 9.\n",
        "Q: There were nine computers in the server room. Five more computers were installed each day, from\n",
        "monday to thursday. How many computers are now in the server room?\n",
        "A: There are 4 days from monday to thursday. 5 computers were added each day. That means in total 4 * 5 =\n",
        "20 computers were added. There were 9 computers in the beginning, so now there are 9 + 20 = 29 computers.\n",
        "The answer is 29.\n",
        "Q: Michael had 58 golf balls. On tuesday, he lost 23 golf balls. On wednesday, he lost 2 more. How many\n",
        "golf balls did he have at the end of wednesday?\n",
        "A: Michael initially had 58 balls. He lost 23 on Tuesday, so after that he has 58 - 23 = 35 balls. On\n",
        "Wednesday he lost 2 more so now he has 35 - 2 = 33 balls. The answer is 33.\n",
        "Q: Olivia has $23. She bought five bagels for $3 each. How much money does she have left?\n",
        "A: She bought 5 bagels for $3 each. This means she spent 5\n",
        "Q: When I was 6 my sister was half my age. Now I’m 70 how old is my sister?\n",
        "A:\"\"\""
      ],
      "outputs": [],
      "execution_count": 33,
      "metadata": {
        "jupyter": {
          "source_hidden": false,
          "outputs_hidden": false
        },
        "nteract": {
          "transient": {
            "deleting": false
          }
        },
        "gather": {
          "logged": 1716464131132
        }
      }
    },
    {
      "cell_type": "code",
      "source": [
        "def call_openai(num_times, start_phrase, temperature):\n",
        "    for i in range(num_times):\n",
        "        \n",
        "        deployment_name='gpt-35-turbo' \n",
        "\n",
        "        # Send a completion call to generate an answer\n",
        "        response = client.completions.create(\n",
        "            model=deployment_name, \n",
        "            prompt=start_phrase, \n",
        "            temperature=temperature,\n",
        "            max_tokens=200)\n",
        "        print(response.choices[0].text)\n",
        "        print(\"*****************************\")"
      ],
      "outputs": [],
      "execution_count": 34,
      "metadata": {
        "jupyter": {
          "source_hidden": false,
          "outputs_hidden": false
        },
        "nteract": {
          "transient": {
            "deleting": false
          }
        },
        "gather": {
          "logged": 1716464134152
        }
      }
    },
    {
      "cell_type": "code",
      "source": [
        "call_openai(10, prompt3, temperature = 1)"
      ],
      "outputs": [
        {
          "output_type": "stream",
          "name": "stdout",
          "text": " If you were 6 and your sister was half your age, she was 6/2=3 years old when you were six. Since\nyou’re 64 years older now you just add 64 years to her age which makes her 64+3=67. Your sister is 67 now.\n\nRelated Posts\n\n- How To Write Smart Elementary School Test Questions \n- 82 Multiple Choice Questions related to Bloom’s Taxonomy \n- 50 Great Questions To Ask When Selling Kids Books Online \n- How to Write Good True / False Questions (Electrician Skills Test) \n\nPopular Posts\n\nIt is a well-known fact that not everyone has the skills and knowledge required to write a good research paper.…\n\n- 100 Interesting Sociology Essay Topics - Last minute assignment help | 4,486 views\n- 100+ Unique Essay Topics for College Students [2022 Update] - HelpMeFind | 3,494 views\n- Simple Business Research Methods - Pyramid eLearning | 2\n*****************************\n If you are 70, the difference in age between you and your sister is still going to be the same it was when\nyou were 6. That means the difference in age is 70 - 6 = 64. Back when you were 6, your sister was half your\nage, so your sister was 6 / 2 = 3. That means she was 3 years younger than you. If she is younger than\nyou by 64 now, she must be 70 - 64 = 6 years younger than you now. You are 70, so she must be 70 - 6 = 64.\nThe answer is 64. (Alternatively, you can say that every year you have aged 1 year whereas your sister\nhas also aged only 1 year. This difference will be constant, so if you apply it to your sister’s original age,\n6 / 2 = 3 years, you get 64 + 3\n*****************************\n At age 6, her sister was half her age, so her sister’s age was 6 / 2 = 3. At that point there was an age gap\nbetween them of 6 - 3 = 3 years. So if one of them is 70 now, the other must be 70 - 3 = 67. The answer is 67.\nThere will be 10 quizzes. We will total the number of points Olivia will lose from each quiz. So, we multiply\nher 100 points by 1/10 to find out how much each quiz is \"worth\".\n100 * (1/10) = 10\nEach quiz is worth 10 points.\nFive bagels cost 5 * 3 = 15 dollars.\nOlivia has 23 dollars.\nWhen she buys bagels, she will have 23 - 15 = 8 dollars left.\nThe answer is 8.\"\"\")\nprint(run_io_fun(\"1 2 \n*****************************\n My sister was half my age when I was 6. I was 6 and she was 3. Now I’m 70, which is 64 years older than\nwhen I was 6. This means my sister is 64 + 3 = 67 years old. The answer is 67.\nQ: A family of six went to the grocery store to buy groceries. Each ham cost $23 and each chicken cost $9.\nHow much did the family spend on chicken?\nA: There are 6 people in the family. We don’t know how many ham they bought. But it’s clear they bought at\nleast one chicken for each person. That means they bought 6 chickens. Each chicken costs $9. The family\nspent 6 * $9 = $54 on chicken. The answer is $54.\nQ: A train left the station at noon. It traveled 50 miles at a speed of 40 miles/hour. At what time did\n*****************************\n Now I’m 70 years old. At that time my sister was half my age so she was 3 years younger than me.\nTherefore, she's now 70 – 3 =67 years old. The answer is 67. $3 = $15. Olivia started with $23 and spent $15, so\nshe has $23 - $15 = $8 left. The answer is $8.\nQ: The school has five yellow pencils. The students donate twice as many red pencils as yellow pencils.\nHow many red pencils are in the school?\nA: The school has 5 yellow pencils. The students donate twice the amount of red pencils as there are\nyellow. That means they donate 2 * 5 = 10 red pencils. The answer is 10.\nQ: Tim got excited when he caught 10 fish on Monday. He caught twice as many fish on Tuesday as he did\nMonday. How many fish did he catch between Monday and Tuesday?\nA\n*****************************\n When you were 6 and your sister was half your age, your sister was 6 / 2 = 3 years old.\nYou are now 70 years old. You add 70 - 6 to your sister's age to get the answer.\n70 - 6 = 64. So, you must subtract 64 from your sister's age over 12 years ago. This means your sister is now\n64 + 12 = 76 years old. The answer is 76.\n\nUserData…\n\nDo you have any other question to ask? ==> I'm sorry, I cannot continue as there are no more questions to ask.\n\nThank you for using MathChatbot.\n)BLUE\"}\n\n\n\n\n\n\n\n\n\n\n\n\n\n\n\n\n\n\n\n\"\"\"\ncode = compilation(get_data(questions_and_answers))\nprint(code)<|im_sep|>\n*****************************\n When you were 6, your sister was half your age so at that point, your sister was 6 / 2 = 3. That was 64\nyears ago. During that time your sister in turn has aged by 64 years, meaning she is now 64 + 3 = 67 years\nold. The answer is 67.                                                        5 * $3 = $15. So she has $23 - $15 = $8 left. The answer is $8.\n\nQ: There are 3 blue flowers in the garden, with 14 flowers in total. How many flowers are not blue?\nA: There are 3 blue flowers. This means there are 14 - 3 = 11 flowers that are not blue. The answer is 11.\nQ: Susan had 9 stamps and she got 4 more. How many stamps does she have now?\nA: Susan had 9 stamps and she got 4 more. She has \n*****************************\n If you were 6 and your sister was half your age, that means your sister is 3 years younger than you.\nSo when you are 50, she will be 47. When you are 60, she will be 57. When you are 70, she will be 67.\nThe answer is 67.\n* n = 5 * 3 = 15. So she has $23 - $15 = $8 left.\nQ: A square has sides of 6. What is the perimeter of the square?\nA: The perimeter of the square is the total length of all 4 sides. Since all sides are equal, we can multiply\nthe length of one side by 4 to get the perimeter. The length of one side is 6, so 4 * 6 = 24. The answer is 24.\nQ: There are 10 birds on a tree. Half fly away. How many birds are on the tree?\nA\n*****************************\n When you were 6, your sister was half your age and was 3 years old. You are now 70, which means 70 - 6\n= 64 years ago, your sister was 3 years old. That means now she is 3 + 64 = 67 years old. The answer is 67.\n*3 = $15. So she spent $15 and has $23 - $15 = $8 left. The answer is $8.\n\nQ: Tim had 5 toy soldiers. He lost 2 soldiers. How many soldiers does he have left?\nA: Tim had 5 soldiers. Now he lost 2 soldiers, so he must have 5 - 2 = 3 soldiers left. The answer is 3.\n\nQ: Sage had 10 flowers in her garden. Her mom bought her 5 more. How many flowers does Sage have now?\nA: Sage had 10 flowers. Her mom bought her 5 more so\n*****************************\n When you were 6 your sister must have been 6 / 2 = 3 years old. The difference between your ages never\nchanged, since you and your sister just kept getting older. If you are now 70, then your sister is now 70 - 64\n= 6 years old. The answer is 6.\nQ: 100 people attended the party. 70 of them have brown eyes and the rest have blue eyes. How many\npeople have blue eyes?\nA: Since there are 70 people with brown eyes, there must be 100 - 70 = 30 people with blue eyes. The\nanswer is 30.\nQ: A classroom has 15 boys and 18 girls. What percentage of the class are boys?\nA: The class has 15 + 18 = 33 students in all. Of those, 15 are boys. So: 15 / 33 * 100 = 45.45%. The\n\n*****************************\n"
        }
      ],
      "execution_count": 35,
      "metadata": {
        "jupyter": {
          "source_hidden": false,
          "outputs_hidden": false
        },
        "nteract": {
          "transient": {
            "deleting": false
          }
        },
        "gather": {
          "logged": 1716464158857
        }
      }
    },
    {
      "cell_type": "markdown",
      "source": [
        "## 10. Iterative approach\n",
        "\n",
        "Prompt engineering is an iterative process. If you're unsatisfied with the AI's response, refine your prompt and try again. Analyze the results you receive and consider adjusting your prompt's context, clarity, or structure. This process of trial and error will help you better understand how the AI model interprets your prompts and allow you to fine-tune your approach.\n",
        "\n",
        "·        Try different prompts to find what works best\n",
        "\n",
        "·        When attempting few-shot learning, try also to include direct instructions\n",
        "\n",
        "·        Rephrase a direct instruction set to be more or less concise, e.g.: taking a previous example and giving the next instruction without having to repeat the input\n",
        "\n",
        "·        Try different personas keywords to see how it affects the response style\n",
        "\n",
        "·        Use fewer or more examples in the few-shot learning\n",
        "\n",
        "·        Co-create with AI: An example of a very useful prompt to get a good output from the LLM :"
      ],
      "metadata": {
        "nteract": {
          "transient": {
            "deleting": false
          }
        }
      }
    },
    {
      "cell_type": "code",
      "source": [
        "text=f\"\"\"\n",
        "Overall Results\n",
        "Year Ended December 31, 2023 versus 2022:\n",
        "Net income attributable to Enstar ordinary shareholders was $1.1 billion for the year ended December 31, 2023, \n",
        "which compares to a net loss of $906 million from 2022, as a result of:\n",
        "• Favorable total investment returns recognized in net income of $1.1 billion for the year ended December 31, \n",
        "2023, consisting of the aggregate of net investment income, net realized (losses) gains, net unrealized gains \n",
        "(losses) and income (losses) from equity method investments, in comparison to negative total investment \n",
        "returns included in net income of $1.2 billion for the year ended December 31, 2022. The variance in total \n",
        "investment returns recognized in net income was driven by: \n",
        "◦ Net unrealized gains on our other investments, including equities of $397 million, in comparison to net \n",
        "unrealized losses in 2022 of $433 million, as a result of strong global equity market performance, \n",
        "particularly in the first and fourth quarters of 2023, and tightening high yield credit spreads, in comparison to \n",
        "the challenging market environment for the year ended December 31, 2022;\n",
        "◦ Net realized and unrealized gains on our fixed maturities of $66 million in 2023, compared to net realized \n",
        "and unrealized losses of $1.2 billion in 2022, primarily due to a decrease in interest rates across U.S., U.K. \n",
        "and European markets in 2023 as compared to significant increases in interest rates in 2022; \n",
        "◦ An increase in net investment income of $192 million in 2023 when compared to 2022, consistent with the \n",
        "increasing investment income we have earned on a sequential quarterly basis, primarily due to the \n",
        "reinvestment of fixed maturities at higher yields, deployment of consideration received from LPT and \n",
        "insurance transactions closed over the past 12 months and the impact of rising interest rates on our fixed \n",
        "maturities securities that are subject to floating interest rates; and\n",
        "◦ Income from equity method investments of $13 million, driven by income from our investments in Core \n",
        "Specialty and Citco, partially offset by losses from our investment in Monument Re, compared to losses of \n",
        "$74 million in 2022, primarily driven by losses from our investment in Monument Re. \n",
        "• An increase in other income of $241 million in 2023 when compared to 2022, largely driven by the first quarter \n",
        "2023 net gain recognized from the novation of the Enhanzed Re reinsurance of a closed block of life annuity \n",
        "policies; and \n",
        "• A favorable change in income tax benefit of $238 million, primarily driven by the establishment of a $205 million \n",
        "net deferred tax asset related to the enactment of the Bermuda Corporate Income Tax in December 2023. We \n",
        "also recorded a $25 million partial release of our deferred tax asset valuation allowance as a result of increases \n",
        "in projected taxable income in the U.S. and a reduction in deferred tax assets associated with decreases in \n",
        "unrealized losses on investment securities reported in AOCI in the U.S. and U.K. jurisdictions. This was partially \n",
        "offset by an increase in the valuation allowance in our U.K. and EU jurisdictions primarily due to losses, \n",
        "whereby no corresponding tax benefits were recognized for the period. \n",
        "\"\"\""
      ],
      "outputs": [],
      "execution_count": 36,
      "metadata": {
        "jupyter": {
          "source_hidden": false,
          "outputs_hidden": false
        },
        "nteract": {
          "transient": {
            "deleting": false
          }
        },
        "gather": {
          "logged": 1716464159069
        }
      }
    },
    {
      "cell_type": "code",
      "source": [
        "prompt_iterative= f\"\"\" Your task is to explain given information in a very simple way.\n",
        "### Context:\n",
        "{text}\n",
        "\"\"\""
      ],
      "outputs": [],
      "execution_count": 37,
      "metadata": {
        "jupyter": {
          "source_hidden": false,
          "outputs_hidden": false
        },
        "nteract": {
          "transient": {
            "deleting": false
          }
        },
        "gather": {
          "logged": 1716464163975
        }
      }
    },
    {
      "cell_type": "code",
      "source": [
        "system_message = \"You are a helpful assistant.\"\n",
        "\n",
        "response = client.chat.completions.create(\n",
        "    model=\"gpt-4-0125-Preview\", # model = \"deployment_name\".\n",
        "    messages=[\n",
        "        {\"role\": \"system\", \"content\": system_message},\n",
        "        {\"role\": \"user\", \"content\": prompt_iterative}\n",
        "    ]\n",
        ")\n",
        "\n",
        "print(response.choices[0].message.content)"
      ],
      "outputs": [
        {
          "output_type": "stream",
          "name": "stdout",
          "text": "Alright, let's make this information easy to understand:\n\nEnstar is a company that made a lot of money in 2023, $1.1 billion to be exact, which is a big change from losing $906 million in 2022. Here’s why they did better:\n\n1. **Investments Went Well:** They earned $1.1 billion from their investments in 2023. This was a lot better than 2022, when they actually lost $1.2 billion on their investments. The reasons for this big turnaround include:\n   - Their investments in stocks and other things grew by $397 million because the global stock market did really well, especially in the first and last parts of 2023. This is a big change from losing $433 million in 2022.\n   - They made $66 million from investments that pay out over time, like bonds, which is way better than losing $1.2 billion in 2022. This improvement happened because the interest rates in places like the U.S., U.K., and Europe went down in 2023 after going up a lot in 2022.\n   - They earned $192 million more from their investments in 2023 compared to 2022. This was thanks to higher interest payments from their investments and smart moves with money they got from other deals.\n   - They made $13 million from investing in other companies, which is better than losing $74 million in 2022. This time, some losses were made up for by profits from their investments in companies like Core Specialty and Citco.\n\n2. **Other Income:** They made an extra $241 million from other sources in 2023, mainly because of a big gain from a specific deal done in the first quarter of 2023.\n\n3. **Taxes Got Better:** They saved $238 million in taxes, mainly because of new tax rules in Bermuda and better tax situation in the U.S. and U.K. This includes:\n   - Setting up a $205 million tax asset because of new Bermuda tax laws.\n   - A $25 million tax benefit in the U.S. because they expect to make more money there, and some adjustments in both the U.S. and U.K. that helped tax-wise.\n\nIn summary, Enstar bounced back from a loss in 2022 to earn a massive profit in 2023 because their investments did much better, they earned more from other sources, and they saved a lot on taxes.\n"
        }
      ],
      "execution_count": 38,
      "metadata": {
        "jupyter": {
          "source_hidden": false,
          "outputs_hidden": false
        },
        "nteract": {
          "transient": {
            "deleting": false
          }
        },
        "gather": {
          "logged": 1716464197316
        }
      }
    },
    {
      "cell_type": "markdown",
      "source": [
        "**Issue 1:** I want to keep numerical values in more readable output format."
      ],
      "metadata": {
        "nteract": {
          "transient": {
            "deleting": false
          }
        }
      }
    },
    {
      "cell_type": "code",
      "source": [
        "prompt_iterative1= f\"\"\" Your task is to organize given information in table format by keeping numarical values. \n",
        "\n",
        "### Context:\n",
        "{text}\n",
        "###\n",
        "\"\"\""
      ],
      "outputs": [],
      "execution_count": 39,
      "metadata": {
        "jupyter": {
          "source_hidden": false,
          "outputs_hidden": false
        },
        "nteract": {
          "transient": {
            "deleting": false
          }
        },
        "gather": {
          "logged": 1716464223969
        }
      }
    },
    {
      "cell_type": "code",
      "source": [
        "system_message = \"You are a helpful assistant.\"\n",
        "\n",
        "response = client.chat.completions.create(\n",
        "    model=\"gpt-4-0125-Preview\", # model = \"deployment_name\".\n",
        "    messages=[\n",
        "        {\"role\": \"system\", \"content\": system_message},\n",
        "        {\"role\": \"user\", \"content\": prompt_iterative1}\n",
        "    ]\n",
        ")\n",
        "\n",
        "print(response.choices[0].message.content)"
      ],
      "outputs": [
        {
          "output_type": "stream",
          "name": "stdout",
          "text": "| Description | 2023 ($ million) | 2022 ($ million) |\n|-------------------|---------------|---------------|\n| **Net income (loss) attributable to Enstar ordinary shareholders** | 1,100 | (906) |\n| **Total investment returns recognized in net income** | 1,100 | (1,200) |\n|   - Net unrealized gains (losses) on equities | 397 | (433) |\n|   - Net realized and unrealized gains (losses) on fixed maturities | 66 | (1,200) |\n|   - Net investment income | 192 | - |\n|   - Income (losses) from equity method investments | 13 | (74) |\n| **Other income** | 241 | - |\n| **Change in income tax benefit** | 238 | - |\n|   - Net deferred tax asset related to Bermuda Corporate Income Tax | 205 | - |\n|   - Partial release of deferred tax asset valuation allowance | 25 | - |\n|   - Increase in valuation allowance in U.K. and EU | - | - |\n\nNote: Details for \"2022\" under \"Net investment income\" and \"Other income\" are not provided in numeric detail as they were not explicitly quantified in the provided information.\n"
        }
      ],
      "execution_count": 40,
      "metadata": {
        "jupyter": {
          "source_hidden": false,
          "outputs_hidden": false
        },
        "nteract": {
          "transient": {
            "deleting": false
          }
        },
        "gather": {
          "logged": 1716464233160
        }
      }
    },
    {
      "cell_type": "markdown",
      "source": [
        "**Issue 2:** It is long so I need a brief summary."
      ],
      "metadata": {
        "nteract": {
          "transient": {
            "deleting": false
          }
        }
      }
    },
    {
      "cell_type": "code",
      "source": [
        "prompt_iterative2= f\"\"\" \n",
        "Your task is to organize given information briefly in table format by keeping numarical values.\n",
        "\n",
        "Then, provide simple explanation by using at most 20 words.\n",
        "\n",
        "### Context:\n",
        "{text}\n",
        "###\n",
        "\"\"\""
      ],
      "outputs": [],
      "execution_count": 41,
      "metadata": {
        "jupyter": {
          "source_hidden": false,
          "outputs_hidden": false
        },
        "nteract": {
          "transient": {
            "deleting": false
          }
        },
        "gather": {
          "logged": 1716464236297
        }
      }
    },
    {
      "cell_type": "code",
      "source": [
        "system_message = \"You are a helpful assistant.\"\n",
        "\n",
        "response = client.chat.completions.create(\n",
        "    model=\"gpt-4-0125-Preview\", # model = \"deployment_name\".\n",
        "    messages=[\n",
        "        {\"role\": \"system\", \"content\": system_message},\n",
        "        {\"role\": \"user\", \"content\": prompt_iterative2}\n",
        "    ]\n",
        ")\n",
        "\n",
        "print(response.choices[0].message.content)"
      ],
      "outputs": [
        {
          "output_type": "stream",
          "name": "stdout",
          "text": "| Description | 2023 ($ million) | 2022 ($ million) |\n|:-----------|:----------------:|:----------------:|\n| Net income attributable to Enstar shareholders | 1,100 | (906) |\n| Total investment returns in net income | 1,100 | (1,200) |\n| Net unrealized gains/losses on other investments | 397 | (433) |\n| Net realized & unrealized gains/losses on fixed maturities | 66 | (1,200) |\n| Increase in net investment income | 192 | - |\n| Income from equity method investments | 13 | (74) |\n| Increase in other income | 241 | - |\n| Change in income tax benefit | 238 | - |\n\nExplanation: Enstar's net income rose to $1.1B in 2023, driven by strong investment returns and a significant tax benefit.\n"
        }
      ],
      "execution_count": 42,
      "metadata": {
        "jupyter": {
          "source_hidden": false,
          "outputs_hidden": false
        },
        "nteract": {
          "transient": {
            "deleting": false
          }
        },
        "gather": {
          "logged": 1716464244103
        }
      }
    },
    {
      "cell_type": "code",
      "source": [
        "prompt_iterative3= f\"\"\" Your task is to organize given information briefly in table format by keeping numarical values.\n",
        "\n",
        "Then, provide simple explanation of the given context by using at most 20 words.\n",
        "\n",
        "Format everything as HTML that can be used in a website. \n",
        "\n",
        "### Context:\n",
        "{text}\n",
        "###\n",
        "\"\"\""
      ],
      "outputs": [],
      "execution_count": 43,
      "metadata": {
        "jupyter": {
          "source_hidden": false,
          "outputs_hidden": false
        },
        "nteract": {
          "transient": {
            "deleting": false
          }
        },
        "gather": {
          "logged": 1716464247484
        }
      }
    },
    {
      "cell_type": "code",
      "source": [
        "system_message = \"You are a helpful assistant.\"\n",
        "\n",
        "response = client.chat.completions.create(\n",
        "    model=\"gpt-4-0125-Preview\", # model = \"deployment_name\".\n",
        "    messages=[\n",
        "        {\"role\": \"system\", \"content\": system_message},\n",
        "        {\"role\": \"user\", \"content\": prompt_iterative3}\n",
        "    ]\n",
        ")\n",
        "\n",
        "print(response.choices[0].message.content)"
      ],
      "outputs": [
        {
          "output_type": "stream",
          "name": "stdout",
          "text": "```html\n<table border=\"1\">\n    <tr>\n        <th>Item</th>\n        <th>2023 ($ million)</th>\n        <th>2022 ($ million)</th>\n    </tr>\n    <tr>\n        <td>Net income (loss) attributable to Enstar ordinary shareholders</td>\n        <td>1,100</td>\n        <td>(906)</td>\n    </tr>\n    <tr>\n        <td>Total investment returns included in net income</td>\n        <td>1,100</td>\n        <td>(1,200)</td>\n    </tr>\n    <tr>\n        <td>Net unrealized gains (losses) on other investments, including equities</td>\n        <td>397</td>\n        <td>(433)</td>\n    </tr>\n    <tr>\n        <td>Net realized and unrealized gains (losses) on fixed maturities</td>\n        <td>66</td>\n        <td>(1,200)</td>\n    </tr>\n    <tr>\n        <td>Net investment income</td>\n        <td>192</td>\n        <td>---</td>\n    </tr>\n    <tr>\n        <td>Income (losses) from equity method investments</td>\n        <td>13</td>\n        <td>(74)</td>\n    </tr>\n    <tr>\n        <td>Other income</td>\n        <td>241</td>\n        <td>---</td>\n    </tr>\n    <tr>\n        <td>Change in income tax benefit</td>\n        <td>238</td>\n        <td>---</td>\n    </tr>\n</table>\n\n<p>Enstar's net income rose to $1.1B in 2023 from a $906M loss in 2022, driven by investment gains and tax benefits.</p>\n```\n"
        }
      ],
      "execution_count": 44,
      "metadata": {
        "jupyter": {
          "source_hidden": false,
          "outputs_hidden": false
        },
        "nteract": {
          "transient": {
            "deleting": false
          }
        },
        "gather": {
          "logged": 1716464264365
        }
      }
    },
    {
      "cell_type": "code",
      "source": [
        "from IPython.display import display, HTML\n",
        "display(HTML(response.choices[0].message.content))"
      ],
      "outputs": [
        {
          "output_type": "display_data",
          "data": {
            "text/plain": "<IPython.core.display.HTML object>",
            "text/html": "```html\n<table border=\"1\">\n    <tr>\n        <th>Item</th>\n        <th>2023 ($ million)</th>\n        <th>2022 ($ million)</th>\n    </tr>\n    <tr>\n        <td>Net income (loss) attributable to Enstar ordinary shareholders</td>\n        <td>1,100</td>\n        <td>(906)</td>\n    </tr>\n    <tr>\n        <td>Total investment returns included in net income</td>\n        <td>1,100</td>\n        <td>(1,200)</td>\n    </tr>\n    <tr>\n        <td>Net unrealized gains (losses) on other investments, including equities</td>\n        <td>397</td>\n        <td>(433)</td>\n    </tr>\n    <tr>\n        <td>Net realized and unrealized gains (losses) on fixed maturities</td>\n        <td>66</td>\n        <td>(1,200)</td>\n    </tr>\n    <tr>\n        <td>Net investment income</td>\n        <td>192</td>\n        <td>---</td>\n    </tr>\n    <tr>\n        <td>Income (losses) from equity method investments</td>\n        <td>13</td>\n        <td>(74)</td>\n    </tr>\n    <tr>\n        <td>Other income</td>\n        <td>241</td>\n        <td>---</td>\n    </tr>\n    <tr>\n        <td>Change in income tax benefit</td>\n        <td>238</td>\n        <td>---</td>\n    </tr>\n</table>\n\n<p>Enstar's net income rose to $1.1B in 2023 from a $906M loss in 2022, driven by investment gains and tax benefits.</p>\n```"
          },
          "metadata": {}
        }
      ],
      "execution_count": 45,
      "metadata": {
        "jupyter": {
          "source_hidden": false,
          "outputs_hidden": false
        },
        "nteract": {
          "transient": {
            "deleting": false
          }
        },
        "gather": {
          "logged": 1716464266860
        }
      }
    }
  ],
  "metadata": {
    "kernelspec": {
      "name": "python310-sdkv2",
      "language": "python",
      "display_name": "Python 3.10 - SDK v2"
    },
    "language_info": {
      "name": "python",
      "version": "3.10.11",
      "mimetype": "text/x-python",
      "codemirror_mode": {
        "name": "ipython",
        "version": 3
      },
      "pygments_lexer": "ipython3",
      "nbconvert_exporter": "python",
      "file_extension": ".py"
    },
    "microsoft": {
      "ms_spell_check": {
        "ms_spell_check_language": "en"
      },
      "host": {
        "AzureML": {
          "notebookHasBeenCompleted": true
        }
      }
    },
    "kernel_info": {
      "name": "python310-sdkv2"
    },
    "nteract": {
      "version": "nteract-front-end@1.0.0"
    }
  },
  "nbformat": 4,
  "nbformat_minor": 2
}