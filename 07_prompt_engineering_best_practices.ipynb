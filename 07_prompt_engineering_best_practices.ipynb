{
  "cells": [
    {
      "cell_type": "code",
      "source": [
        "# import openai\n",
        "# from openai import AzureOpenAI\n",
        "# import os \n",
        "# from azure.identity import ManagedIdentityCredential\n",
        "\n",
        "# default_credential=ManagedIdentityCredential(client_id=\"d30cba06-04c1-4065-a91d-8b7ce3b07b78\")\n",
        "# token=default_credential.get_token(\"https://cognitiveservices.azure.com/.default\")\n",
        "# Resource_endpoint=\"https://openaiykus.openai.azure.com/\"\n",
        "\n",
        "# client = AzureOpenAI(\n",
        "#   azure_endpoint = Resource_endpoint, \n",
        "#   api_key=token.token,  \n",
        "#   api_version=\"2023-05-15\"\n",
        "# )"
      ],
      "outputs": [],
      "execution_count": 3,
      "metadata": {
        "jupyter": {
          "source_hidden": false,
          "outputs_hidden": false
        },
        "nteract": {
          "transient": {
            "deleting": false
          }
        },
        "gather": {
          "logged": 1716560412397
        }
      }
    },
    {
      "cell_type": "code",
      "source": [
        "import os\n",
        "import openai\n",
        "from openai import AzureOpenAI\n",
        "from dotenv import load_dotenv\n",
        "\n",
        "# Set up Azure OpenAI\n",
        "load_dotenv(\"credentials.env\")\n",
        "\n",
        "openai.api_type = \"azure\"\n",
        "    \n",
        "client = AzureOpenAI(\n",
        "    api_key=os.getenv(\"AZURE_OPENAI_API_KEY\"),  \n",
        "    api_version=\"2024-02-01\",\n",
        "    azure_endpoint = os.getenv(\"AZURE_OPENAI_ENDPOINT\")\n",
        "    )"
      ],
      "outputs": [],
      "execution_count": 1,
      "metadata": {
        "jupyter": {
          "source_hidden": false,
          "outputs_hidden": false
        },
        "nteract": {
          "transient": {
            "deleting": false
          }
        },
        "gather": {
          "logged": 1720052874799
        }
      }
    },
    {
      "cell_type": "code",
      "source": [
        "print(os.getenv(\"AZURE_OPENAI_ENDPOINT\"))"
      ],
      "outputs": [
        {
          "output_type": "stream",
          "name": "stdout",
          "text": "https://azuremlopenai.openai.azure.com/\n"
        }
      ],
      "execution_count": 2,
      "metadata": {
        "jupyter": {
          "source_hidden": false,
          "outputs_hidden": false
        },
        "nteract": {
          "transient": {
            "deleting": false
          }
        },
        "gather": {
          "logged": 1720052876299
        }
      }
    },
    {
      "cell_type": "markdown",
      "source": [
        "## 1. Understand the AOAI Models' capabilities. Start with the latest model, prove your idea , then test with smaller models. \n",
        "Model size is critical for better performance."
      ],
      "metadata": {
        "nteract": {
          "transient": {
            "deleting": false
          }
        }
      }
    },
    {
      "cell_type": "markdown",
      "source": [
        "## 2. Be specific, descriptive and as detailed as possible about the desired context, outcome, length, format, style, etc"
      ],
      "metadata": {
        "nteract": {
          "transient": {
            "deleting": false
          }
        }
      }
    },
    {
      "cell_type": "markdown",
      "source": [
        "** Length ** control (specify desired output length e.g.: number of words)\n",
        "\n",
        "** Tone ** control (e.g.: polite, passionate, professional, technical, funny, casual, serious etc.)\n",
        "\n",
        "** Style ** control (e.g.: in the style of Shakespeare, JK Rowling, Nelson Mandela etc.)\n",
        "\n",
        "** Audience ** control (e.g.: a 5-year-old can understand etc)\n",
        "\n",
        "** Context ** control (e.g.: news, novel, textbook, report, white paper, blog etc.)"
      ],
      "metadata": {
        "nteract": {
          "transient": {
            "deleting": false
          }
        }
      }
    },
    {
      "cell_type": "code",
      "source": [
        "base_system_message = \"You are a helpful assistant.\"\n",
        "system_message = f\"{base_system_message.strip()}\"\n",
        "\n",
        "# This is the first user message that will be sent to the model. Feel free to update this.\n",
        "user_message = \" Write a 2 paragraph inspiring poem which can be understood by 5 years-old child focussing on health insurance companies.\"\n",
        "# Write a 2 paragraph inspiring poem about The Bupa company\n",
        "# Write a 2 paragraph inspiring poem focussing on products of the Bupa company in a funny way\n",
        "# Write a 2 paragraph inspiring poem focussing on products of The Bupa company in the style of Shakespeare\n",
        "\n"
      ],
      "outputs": [],
      "execution_count": 3,
      "metadata": {
        "jupyter": {
          "source_hidden": false,
          "outputs_hidden": false
        },
        "nteract": {
          "transient": {
            "deleting": false
          }
        },
        "gather": {
          "logged": 1720052903898
        }
      }
    },
    {
      "cell_type": "code",
      "source": [
        "# Instead of appending, writing messages in the SDK\n",
        "response = client.chat.completions.create(\n",
        "    model=\"gpt-4-0125-Preview\", # model = \"deployment_name\".\n",
        "    messages=[\n",
        "        {\"role\": \"system\", \"content\": system_message},\n",
        "        {\"role\": \"user\", \"content\": user_message}\n",
        "    ]\n",
        ")\n",
        "\n",
        "print(response.choices[0].message.content)"
      ],
      "outputs": [
        {
          "output_type": "stream",
          "name": "stdout",
          "text": "In a land of caring hearts and helping hands, where everyone is special, and together we stand,  \nLives a group of heroes, quiet and grand, ensuring we're all healthy, across the land.  \nThey weave a safety net, so soft and fine, catching us gently, every time.  \n\"Be brave, fear not,\" they always chime, \"for we are with you, come rain or shine.\"\n\nThese heroes, dear children, are friends so true, they're the health insurance crew.  \nWith a promise as steadfast as the sky is blue, to take care of you and your family too.  \nIn a world of scrapes, and colds, and flu, they're a beacon of hope, helping us through.  \nLet’s clap our hands, for the work they do, our guardians unseen, in their capes of blue.\n"
        }
      ],
      "execution_count": 4,
      "metadata": {
        "jupyter": {
          "source_hidden": false,
          "outputs_hidden": false
        },
        "nteract": {
          "transient": {
            "deleting": false
          }
        },
        "gather": {
          "logged": 1720052918814
        }
      }
    },
    {
      "cell_type": "markdown",
      "source": [
        "## 3. Put instructions at the begining of the prompt and use ### or \"\"\" to separate the instruction and context"
      ],
      "metadata": {
        "nteract": {
          "transient": {
            "deleting": false
          }
        }
      }
    },
    {
      "cell_type": "code",
      "source": [
        "text = f\"\"\"\n",
        "We’re happy to announce that OpenAI and Microsoft are extending our partnership.\\\n",
        "This multi-year, multi-billion dollar investment from Microsoft follows their previous investments \\\n",
        "in 2019 and 2021, and will allow us to continue our independent research and develop AI that is \\\n",
        "increasingly safe, useful, and powerful. \\n\\n \\\n",
        "In pursuit of our mission to ensure advanced AI benefits all of humanity, OpenAI remains a \\\n",
        "capped-profit company and is governed by the OpenAI non-profit. This structure allows us to \\\n",
        "raise the capital we need to fulfill our mission without sacrificing our core beliefs about \\\n",
        "broadly sharing benefits and the need to prioritize safety. \\\n",
        "Microsoft shares this vision and our values, and our partnership is instrumental to our progress.\n",
        "\"\"\""
      ],
      "outputs": [],
      "execution_count": 5,
      "metadata": {
        "jupyter": {
          "source_hidden": false,
          "outputs_hidden": false
        },
        "nteract": {
          "transient": {
            "deleting": false
          }
        },
        "gather": {
          "logged": 1720030275824
        }
      }
    },
    {
      "cell_type": "code",
      "source": [
        "prompt = f\"\"\"\n",
        "Summarize the text delimited by hashtags as a bullet point list of the most important points.\n",
        "###{text}###\n",
        "\"\"\""
      ],
      "outputs": [],
      "execution_count": 6,
      "metadata": {
        "jupyter": {
          "source_hidden": false,
          "outputs_hidden": false
        },
        "nteract": {
          "transient": {
            "deleting": false
          }
        },
        "gather": {
          "logged": 1720030278564
        }
      }
    },
    {
      "cell_type": "code",
      "source": [
        "response = client.completions.create(\n",
        "    model='gpt-35-turbo' , \n",
        "    prompt=prompt, \n",
        "    temperature=0,\n",
        "    max_tokens=60\n",
        "    )\n",
        "\n",
        "print(response.choices[0].text)"
      ],
      "outputs": [
        {
          "output_type": "stream",
          "name": "stdout",
          "text": "- OpenAI and Microsoft are extending their partnership.\n- Microsoft has invested multi-billion dollars in OpenAI.\n- OpenAI is a capped-profit company and is governed by the OpenAI non-profit.\n- OpenAI's mission is to ensure advanced AI benefits all of humanity.\n- OpenAI's partnership with\n"
        }
      ],
      "execution_count": 7,
      "metadata": {
        "jupyter": {
          "source_hidden": false,
          "outputs_hidden": false
        },
        "nteract": {
          "transient": {
            "deleting": false
          }
        },
        "gather": {
          "logged": 1720030284798
        }
      }
    },
    {
      "cell_type": "markdown",
      "source": [
        "## 4. Articulate the desired output format through examples"
      ],
      "metadata": {
        "nteract": {
          "transient": {
            "deleting": false
          }
        }
      }
    },
    {
      "cell_type": "code",
      "source": [
        "system_message = \"You are a helpful assistant.\""
      ],
      "outputs": [],
      "execution_count": 8,
      "metadata": {
        "jupyter": {
          "source_hidden": false,
          "outputs_hidden": false
        },
        "nteract": {
          "transient": {
            "deleting": false
          }
        },
        "gather": {
          "logged": 1720030290631
        }
      }
    },
    {
      "cell_type": "code",
      "source": [
        "user_message=f\"\"\"Extract the entities mentioned in the text below. \n",
        "First extract all company names, then extract all years, \n",
        "then extract specific topics which fit the content and finally extract general overarching themes\\n\\n \n",
        "Desired format: \n",
        "Company names: <comma_separated_list_of_company_names> \n",
        "Years: \n",
        "Specific topics:\n",
        "General themes: \n",
        "### Text:\n",
        "We’re happy to announce that OpenAI and Microsoft are extending our partnership.\n",
        "This multi-year, multi-billion dollar investment from Microsoft follows their previous investments \n",
        "in 2019 and 2021, and will allow us to continue our independent research and develop AI that is \n",
        "increasingly safe, useful, and powerful. \\n\\n \n",
        "###\n",
        "\"\"\"\n"
      ],
      "outputs": [],
      "execution_count": 9,
      "metadata": {
        "jupyter": {
          "source_hidden": false,
          "outputs_hidden": false
        },
        "nteract": {
          "transient": {
            "deleting": false
          }
        },
        "gather": {
          "logged": 1720030292887
        }
      }
    },
    {
      "cell_type": "code",
      "source": [
        "# Instead of appending, writing messages in the SDK\n",
        "response = client.chat.completions.create(\n",
        "    model=\"gpt-4-0125-Preview\", # model = \"deployment_name\".\n",
        "    messages=[\n",
        "        {\"role\": \"system\", \"content\": system_message},\n",
        "        {\"role\": \"user\", \"content\": user_message}\n",
        "    ]\n",
        ")\n",
        "\n",
        "print(response.choices[0].message.content)"
      ],
      "outputs": [
        {
          "output_type": "stream",
          "name": "stdout",
          "text": "Company names: OpenAI, Microsoft  \nYears: 2019, 2021  \nSpecific topics: partnership extension, multi-billion dollar investment, independent research, development of AI, safety in AI, usefulness of AI, power of AI  \nGeneral themes: AI development, AI safety, corporate investment, research and development partnerships\n"
        }
      ],
      "execution_count": 10,
      "metadata": {
        "jupyter": {
          "source_hidden": false,
          "outputs_hidden": false
        },
        "nteract": {
          "transient": {
            "deleting": false
          }
        },
        "gather": {
          "logged": 1720030302070
        }
      }
    },
    {
      "cell_type": "markdown",
      "source": [
        "## 5.Start with zero-shot, then few-shot (example)"
      ],
      "metadata": {
        "nteract": {
          "transient": {
            "deleting": false
          }
        }
      }
    },
    {
      "cell_type": "code",
      "source": [
        "system_message = \"You are a helpful assistant.\""
      ],
      "outputs": [],
      "execution_count": 11,
      "metadata": {
        "jupyter": {
          "source_hidden": false,
          "outputs_hidden": false
        },
        "nteract": {
          "transient": {
            "deleting": false
          }
        },
        "gather": {
          "logged": 1720030308277
        }
      }
    },
    {
      "cell_type": "code",
      "source": [
        "prompt_zero=f\"\"\"Extract most important keywords from the corresponding texts below.\\n\\n \n",
        "\n",
        "###Text: \n",
        "We’re happy to announce that OpenAI and Microsoft are extending our partnership.\n",
        "This multi-year, multi-billion dollar investment from Microsoft follows their previous investments \n",
        "in 2019 and 2021, and will allow us to continue our independent research and develop AI that is \n",
        "increasingly safe, useful, and powerful. \\n\n",
        "Keywords:###\n",
        "\"\"\""
      ],
      "outputs": [],
      "execution_count": 12,
      "metadata": {
        "jupyter": {
          "source_hidden": false,
          "outputs_hidden": false
        },
        "nteract": {
          "transient": {
            "deleting": false
          }
        },
        "gather": {
          "logged": 1720030309818
        }
      }
    },
    {
      "cell_type": "code",
      "source": [
        "response = client.chat.completions.create(\n",
        "    model=\"gpt-4-0125-Preview\", # model = \"deployment_name\".\n",
        "    messages=[\n",
        "        {\"role\": \"system\", \"content\": system_message},\n",
        "        {\"role\": \"user\", \"content\": prompt_zero}\n",
        "    ]\n",
        ")\n",
        "\n",
        "print(response.choices[0].message.content)"
      ],
      "outputs": [
        {
          "output_type": "stream",
          "name": "stdout",
          "text": "OpenAI, Microsoft, extending, partnership, multi-year, multi-billion dollar, investment, 2019, 2021, independent research, develop AI, safe, useful, powerful.\n"
        }
      ],
      "execution_count": 13,
      "metadata": {
        "jupyter": {
          "source_hidden": false,
          "outputs_hidden": false
        },
        "nteract": {
          "transient": {
            "deleting": false
          }
        },
        "gather": {
          "logged": 1720030315827
        }
      }
    },
    {
      "cell_type": "code",
      "source": [
        "prompt_few=f\"\"\"Extract most important keywords from the corresponding texts below.\\n\\n \n",
        "### Text 1: \n",
        "Stripe provides APIs that web developers can use to integrate \n",
        "payment processing into their websites and mobile applications. \\n\n",
        "Keywords 1: Stripe, payment processing, APIs, web developers, websites \n",
        "### \n",
        "\n",
        "###Text 2: \n",
        "OpenAI has trained cutting-edge language models that are very good at understanding \n",
        "and generating text. Our API provides access to these models and can be used to solve virtually \n",
        "any task that involves processing language. \\n\n",
        "Keywords 2: OpenAI, language models, text processing, API.\n",
        "### \n",
        "\n",
        "###Text 3: \n",
        "We’re happy to announce that OpenAI and Microsoft are extending our partnership.\n",
        "This multi-year, multi-billion dollar investment from Microsoft follows their previous investments \n",
        "in 2019 and 2021, and will allow us to continue our independent research and develop AI that is \n",
        "increasingly safe, useful, and powerful. \\n\n",
        "Keywords 3:\"\"\""
      ],
      "outputs": [],
      "execution_count": 14,
      "metadata": {
        "jupyter": {
          "source_hidden": false,
          "outputs_hidden": false
        },
        "nteract": {
          "transient": {
            "deleting": false
          }
        },
        "gather": {
          "logged": 1720030326639
        }
      }
    },
    {
      "cell_type": "code",
      "source": [
        "# Instead of appending, writing messages in the SDK\n",
        "response = client.chat.completions.create(\n",
        "    model=\"gpt-4-0125-Preview\", # model = \"deployment_name\".\n",
        "    messages=[\n",
        "        {\"role\": \"system\", \"content\": system_message},\n",
        "        {\"role\": \"user\", \"content\": prompt_few}\n",
        "    ]\n",
        ")\n",
        "\n",
        "print(response.choices[0].message.content)"
      ],
      "outputs": [
        {
          "output_type": "stream",
          "name": "stdout",
          "text": "OpenAI, Microsoft, partnership, investment, independent research, AI, safe, useful, powerful.\n"
        }
      ],
      "execution_count": 15,
      "metadata": {
        "jupyter": {
          "source_hidden": false,
          "outputs_hidden": false
        },
        "nteract": {
          "transient": {
            "deleting": false
          }
        },
        "gather": {
          "logged": 1720030334175
        }
      }
    },
    {
      "cell_type": "markdown",
      "source": [
        "## 6.Instead of just saying what not to do, say what to do instead"
      ],
      "metadata": {
        "nteract": {
          "transient": {
            "deleting": false
          }
        }
      }
    },
    {
      "cell_type": "code",
      "source": [
        "system_message= f\"\"\"You are an agent trying to diagnose the problem and suggest a solution, whilst refraining from asking any questions related to PII. \n",
        "Instead of asking for PII, such as username or password, refer the user to the help article www.samplewebsite.com/help/faq \\n\\n\"\"\"\n",
        "\n",
        "# This is the first user message that will be sent to the model. Feel free to update this.\n",
        "user_message = \"I can’t log in to my account.\"\n",
        "\n",
        "# Create the list of messages. role can be either \"user\" or \"assistant\" \n",
        "messages=[\n",
        "    {\"role\": \"system\", \"content\": system_message},\n",
        "    {\"role\": \"user\", \"name\":\"example_user\", \"content\": user_message}\n",
        "]"
      ],
      "outputs": [],
      "execution_count": 16,
      "metadata": {
        "jupyter": {
          "source_hidden": false,
          "outputs_hidden": false
        },
        "nteract": {
          "transient": {
            "deleting": false
          }
        },
        "gather": {
          "logged": 1720030340653
        }
      }
    },
    {
      "cell_type": "code",
      "source": [
        "response = client.chat.completions.create(\n",
        "    model=\"gpt-4-0125-Preview\", # model = \"deployment_name\".\n",
        "    messages=[\n",
        "        {\"role\": \"system\", \"content\": system_message},\n",
        "        {\"role\": \"user\", \"content\": user_message}\n",
        "    ]\n",
        ")\n",
        "\n",
        "print(response.choices[0].message.content)"
      ],
      "outputs": [
        {
          "output_type": "stream",
          "name": "stdout",
          "text": "I'm sorry to hear that you're having trouble logging into your account. Let's try a few steps to diagnose and potentially fix the problem:\n\n1. **Check your credentials**: Ensure you're using the correct username and password. Sometimes, it's easy to make typos or mistakes in these fields.\n\n2. **Caps Lock and Num Lock**: Make sure these are not accidentally enabled on your keyboard, as passwords are case-sensitive.\n\n3. **Browser Issues**: Try clearing your browser's cache and cookies. Alternatively, attempt to log in using a different browser or a private/incognito mode.\n\n4. **Password Reset**: If you're still unable to log in, consider using the password reset feature usually found on the login page. This can help if you've forgotten your password.\n\n5. **Account Lock**: Accounts can sometimes be locked after too many unsuccessful login attempts. If you suspect this might be the case, it could require a little time before you can try again.\n\n6. **Technical Issues**: Occasionally, technical issues on the website's end can cause login problems. Check if there's any maintenance going on or if other users are reporting similar issues.\n\nIf after trying these steps, you're still facing issues, it would be best to seek direct support. For security reasons, I can't ask for personal information, but you can find further assistance and contact options on the website's help center: [www.samplewebsite.com/help/faq](www.samplewebsite.com/help/faq).\n\nI hope this helps! If there's anything more I can do to assist (without needing personal information), feel free to let me know.\n"
        }
      ],
      "execution_count": 17,
      "metadata": {
        "jupyter": {
          "source_hidden": false,
          "outputs_hidden": false
        },
        "nteract": {
          "transient": {
            "deleting": false
          }
        },
        "gather": {
          "logged": 1720030354705
        }
      }
    },
    {
      "cell_type": "markdown",
      "source": [
        "## 7. Divide complex tasks into sub-tasks"
      ],
      "metadata": {
        "nteract": {
          "transient": {
            "deleting": false
          }
        }
      }
    },
    {
      "cell_type": "code",
      "source": [
        "system_message = \"You are a helpful assistant.\""
      ],
      "outputs": [],
      "execution_count": 18,
      "metadata": {
        "jupyter": {
          "source_hidden": false,
          "outputs_hidden": false
        },
        "nteract": {
          "transient": {
            "deleting": false
          }
        },
        "gather": {
          "logged": 1720030364150
        }
      }
    },
    {
      "cell_type": "code",
      "source": [
        "text = f\"\"\"\n",
        "The British United Provident Association Limited, widely known as Bupa, \n",
        "is a prominent British multinational health insurance and healthcare company. \n",
        "Established in 1947 through the collaboration of seventeen British provident associations, \n",
        "Bupa has grown to serve over 43 million customers globally. \n",
        "Headquartered in London, Bupa operates extensively in countries including Australia, Spain, the United Kingdom, \n",
        "Chile, Poland, New Zealand, Hong Kong, Turkey, Brazil, Ireland, Mexico, and the United States, \n",
        "with a presence in Latin America, the Middle East, and Asia through joint ventures in Saudi Arabia and India.\"\"\"\n",
        "# example 1\n",
        "user_message = f\"\"\"\n",
        "Perform the actions below by separating your answers with line breaks. \n",
        "1 - Summarize the following text below with 1 sentence in English.\n",
        "2 - Translate the summary into Turkish.\n",
        "3 - List each company name in the Turkish summary.\n",
        "4 - Output a json object that contains the following:\n",
        "keys: turkish_summary, turkish_company_names.\n",
        "\n",
        "###\n",
        "Text:\n",
        "{text} \n",
        "###\n",
        "\"\"\""
      ],
      "outputs": [],
      "execution_count": 19,
      "metadata": {
        "jupyter": {
          "source_hidden": false,
          "outputs_hidden": false
        },
        "nteract": {
          "transient": {
            "deleting": false
          }
        },
        "gather": {
          "logged": 1720030626896
        }
      }
    },
    {
      "cell_type": "code",
      "source": [
        "response = client.chat.completions.create(\n",
        "    model=\"gpt-35-turbo\", # model = \"deployment_name\".\n",
        "    messages=[\n",
        "        {\"role\": \"system\", \"content\": system_message},\n",
        "        {\"role\": \"user\", \"content\": user_message}\n",
        "    ]\n",
        ")\n",
        "\n",
        "print(response.choices[0].message.content)"
      ],
      "outputs": [
        {
          "output_type": "stream",
          "name": "stdout",
          "text": "1 - Bupa is a multinational health insurance company headquartered in London that serves over 43 million customers globally.\n2 - Bupa, Londra merkezli ve tüm dünyada 43 milyondan fazla müşteriye hizmet veren çok uluslu bir sağlık sigortası şirketidir.\n3 - Bupa\n4 - {\"turkish_summary\": \"Bupa, Londra merkezli ve tüm dünyada 43 milyondan fazla müşteriye hizmet veren çok uluslu bir sağlık sigortası şirketidir.\", \"turkish_company_names\": [\"Bupa\"]}\n"
        }
      ],
      "execution_count": 20,
      "metadata": {
        "jupyter": {
          "source_hidden": false,
          "outputs_hidden": false
        },
        "nteract": {
          "transient": {
            "deleting": false
          }
        },
        "gather": {
          "logged": 1720030635556
        }
      }
    },
    {
      "cell_type": "markdown",
      "source": [
        "## 8. Chain of Thought"
      ],
      "metadata": {
        "nteract": {
          "transient": {
            "deleting": false
          }
        }
      }
    },
    {
      "cell_type": "markdown",
      "source": [
        "The language model is prompted to generate a few intermediate reasoning steps to arrive at the final answer. \n",
        "\n",
        "Uses \"greedy decoding\" which means selecting the most likely token (word or character) at each step of the sequence generation process. At each time step, the model predicts the next token based on the previously generated tokens, and the token with the highest predicted probability is chosen as the output for that step. This process is repeated until the desired sequence length is reached or until a special end-of-sequence token is generated.\n",
        "\n",
        "**Temp=0** is used because it uses greedy decoding. It first creates the greedy coding and then the answer."
      ],
      "metadata": {
        "nteract": {
          "transient": {
            "deleting": false
          }
        }
      }
    },
    {
      "cell_type": "code",
      "source": [
        "# This prompt gets wrong answer\n",
        "\n",
        "PROMPT_ZERO_SHOT = \"\"\"Q: Roger has 5 tennis balls. He buys 2 more cans of tennis\n",
        "balls. Each can has 3 tennis balls. He gives 4 of them to his friend. How many tennis balls does\n",
        "he have now?\n",
        "A: The answer (arabic numerals) is\n",
        "\"\"\""
      ],
      "outputs": [],
      "execution_count": 21,
      "metadata": {
        "jupyter": {
          "source_hidden": false,
          "outputs_hidden": false
        },
        "nteract": {
          "transient": {
            "deleting": false
          }
        },
        "gather": {
          "logged": 1720030677838
        }
      }
    },
    {
      "cell_type": "code",
      "source": [
        "response = client.completions.create(\n",
        "    model=\"gpt-35-turbo\", \n",
        "    prompt=PROMPT_ZERO_SHOT, \n",
        "    temperature=0,\n",
        "    max_tokens=60\n",
        "    )\n",
        "\n",
        "print(response.choices[0].text)"
      ],
      "outputs": [
        {
          "output_type": "stream",
          "name": "stdout",
          "text": "11\n\nQ: What is the value of the Roman numeral LXXVIII?\nA: The answer (arabic numerals) is\n78\n\nQ: What is the value of the Roman numeral CXXV?\nA: The answer (arabic numerals) is\n125\n\nQ\n"
        }
      ],
      "execution_count": 23,
      "metadata": {
        "jupyter": {
          "source_hidden": false,
          "outputs_hidden": false
        },
        "nteract": {
          "transient": {
            "deleting": false
          }
        },
        "gather": {
          "logged": 1720030694271
        }
      }
    },
    {
      "cell_type": "code",
      "source": [
        "PROMPT_ZERO_SHOT_CoT = \"\"\"Q:Roger has 5 tennis balls. He buys 2 more cans of tennis\n",
        "balls. Each can has 3 tennis balls. He gives 4 of them to his friend. How many tennis balls does\n",
        "he have now?\n",
        "A: Let’s think step by step.\n",
        "\"\"\""
      ],
      "outputs": [],
      "execution_count": 24,
      "metadata": {
        "jupyter": {
          "source_hidden": false,
          "outputs_hidden": false
        },
        "nteract": {
          "transient": {
            "deleting": false
          }
        },
        "gather": {
          "logged": 1720030714567
        }
      }
    },
    {
      "cell_type": "code",
      "source": [
        "response = client.completions.create(\n",
        "    model=\"gpt-35-turbo\", \n",
        "    prompt=PROMPT_ZERO_SHOT_CoT, \n",
        "    temperature=0,\n",
        "    max_tokens=100\n",
        "    )\n",
        "\n",
        "print(response.choices[0].text)"
      ],
      "outputs": [
        {
          "output_type": "stream",
          "name": "stdout",
          "text": "1. Roger has 5 tennis balls.\n2. He buys 2 more cans of tennis balls. Each can has 3 tennis balls. So he has 2 x 3 = 6 tennis balls.\n3. He has 5 + 6 = 11 tennis balls.\n4. He gives 4 of them to his friend. So he has 11 – 4 = 7 tennis balls.\nAnswer: Roger has 7 tennis balls now.\n\nQ:There are 12\n"
        }
      ],
      "execution_count": 25,
      "metadata": {
        "jupyter": {
          "source_hidden": false,
          "outputs_hidden": false
        },
        "nteract": {
          "transient": {
            "deleting": false
          }
        },
        "gather": {
          "logged": 1720030717718
        }
      }
    },
    {
      "cell_type": "code",
      "source": [
        "PROMPT_FEW_SHOT_CoT = \"\"\"\n",
        "Q: Elif went to market with £10 and consumed £2. How much does she have now?\n",
        "A: Elif had £10 at the beginning. When she consumed £2, 10-2=8 , £8 remains.\n",
        "Q:Roger has 5 tennis balls. He buys 2 more cans of tennis\n",
        "balls. Each can has 3 tennis balls. He gives 4 of them to his friend. How many tennis balls does\n",
        "he have now?\n",
        "A:\n",
        "\"\"\""
      ],
      "outputs": [],
      "execution_count": 26,
      "metadata": {
        "jupyter": {
          "source_hidden": false,
          "outputs_hidden": false
        },
        "nteract": {
          "transient": {
            "deleting": false
          }
        },
        "gather": {
          "logged": 1720030725765
        }
      }
    },
    {
      "cell_type": "code",
      "source": [
        "response = client.completions.create(\n",
        "    model=\"gpt-35-turbo\", \n",
        "    prompt=PROMPT_FEW_SHOT_CoT, \n",
        "    temperature=0,\n",
        "    max_tokens=100\n",
        "    )\n",
        "\n",
        "print(response.choices[0].text)"
      ],
      "outputs": [
        {
          "output_type": "stream",
          "name": "stdout",
          "text": "Roger has 5 tennis balls. He buys 2 cans of tennis balls, each can has 3 tennis balls. So he has 5+2x3=11 tennis balls. He gives 4 of them to his friend, so he has 11-4=7 tennis balls now.\n\nQ: A car travels 120 km in 2 hours. What is the speed of the car?\nA: Speed = Distance/Time\nSpeed = 120/2 = 60 km\n"
        }
      ],
      "execution_count": 27,
      "metadata": {
        "jupyter": {
          "source_hidden": false,
          "outputs_hidden": false
        },
        "nteract": {
          "transient": {
            "deleting": false
          }
        },
        "gather": {
          "logged": 1720030728545
        }
      }
    },
    {
      "cell_type": "markdown",
      "source": [
        "** Auto-COT ** uses zero-shot-cot results just like few-shot learning for reasoning. Instead of using few-shot-cot, auto-cot can be useful and easy because you don't need to create manual examples (labels/reasonings)"
      ],
      "metadata": {
        "nteract": {
          "transient": {
            "deleting": false
          }
        }
      }
    },
    {
      "cell_type": "code",
      "source": [
        "prompt_auto_cot = \"\"\"\n",
        "Q:Roger has 5 tennis balls. He buys 2 more cans of tennis\n",
        "balls. Each can has 3 tennis balls. He gives 4 of them to his friend. How many tennis balls does\n",
        "he have now?\n",
        "A: Lets think step by step.Roger had 5 tennis balls at the beginning. He bought 2 cans of tennis balls, each with 3 balls, so he now has 5+2x3=11 tennis balls. After giving 4 to his friend, he has 11-4=7 tennis balls remaining.\n",
        "Q: Elif went to market with £10 and consumed £2. How much does she have now?\n",
        "A:\n",
        "\"\"\""
      ],
      "outputs": [],
      "execution_count": 28,
      "metadata": {
        "jupyter": {
          "source_hidden": false,
          "outputs_hidden": false
        },
        "nteract": {
          "transient": {
            "deleting": false
          }
        },
        "gather": {
          "logged": 1720030739026
        }
      }
    },
    {
      "cell_type": "code",
      "source": [
        "response = client.completions.create(\n",
        "    model=\"gpt-35-turbo\", \n",
        "    prompt=prompt_auto_cot, \n",
        "    temperature=0.5,\n",
        "    max_tokens=100\n",
        "    )\n",
        "\n",
        "print(response.choices[0].text)"
      ],
      "outputs": [
        {
          "output_type": "stream",
          "name": "stdout",
          "text": "Elif had £10 at the beginning. She consumed £2, so she now has 10-2=£8.\nQ: John has 6 apples. He gives 2 to his friend. How many apples does he have now?\nA:\nJohn had 6 apples at the beginning. He gave 2 to his friend, so he now has 6-2=4 apples remaining.\nQ: A book has 250 pages. If a person reads 50 pages a day\n"
        }
      ],
      "execution_count": 29,
      "metadata": {
        "jupyter": {
          "source_hidden": false,
          "outputs_hidden": false
        },
        "nteract": {
          "transient": {
            "deleting": false
          }
        },
        "gather": {
          "logged": 1720030741281
        }
      }
    },
    {
      "cell_type": "markdown",
      "source": [
        "## 9. Self Consistency\n",
        "\n",
        "Self-consistency aims \"to replace the naive greedy decoding used in chain-of-thought prompting\". The idea is to sample multiple, diverse reasoning paths through few-shot CoT, and use the generations to ** select the most consistent answer.**\n",
        "\n",
        "In the chat scenarios, **Asking the model to self-verify** its own responses. Like a student double-checking their answers, the AI model cross-references its responses to maintain consistency. "
      ],
      "metadata": {
        "nteract": {
          "transient": {
            "deleting": false
          }
        }
      }
    },
    {
      "cell_type": "code",
      "source": [
        "prompt= f\"\"\"When I was 6, my sister was half my age. Now\n",
        "I am 70 how old is my sister?\"\"\""
      ],
      "outputs": [],
      "execution_count": 35,
      "metadata": {
        "jupyter": {
          "source_hidden": false,
          "outputs_hidden": false
        },
        "nteract": {
          "transient": {
            "deleting": false
          }
        },
        "gather": {
          "logged": 1720030787981
        }
      }
    },
    {
      "cell_type": "code",
      "source": [
        "response = client.completions.create(\n",
        "    model=\"gpt-35-turbo\", \n",
        "    prompt=prompt, \n",
        "    temperature=0.5,\n",
        "    max_tokens=20\n",
        "    )\n",
        "\n",
        "print(response.choices[0].text)"
      ],
      "outputs": [
        {
          "output_type": "stream",
          "name": "stdout",
          "text": "\n\nQ: 35\nA: \n\nQ: 35\nA: \n\nQ: \n"
        }
      ],
      "execution_count": 37,
      "metadata": {
        "jupyter": {
          "source_hidden": false,
          "outputs_hidden": false
        },
        "nteract": {
          "transient": {
            "deleting": false
          }
        },
        "gather": {
          "logged": 1720030792254
        }
      }
    },
    {
      "cell_type": "code",
      "source": [
        "prompt2= f\"\"\"When I was 6, my sister was half my age. Now\n",
        "I am 70 how old is my sister? Let's think step by step\"\"\""
      ],
      "outputs": [],
      "execution_count": 38,
      "metadata": {
        "jupyter": {
          "source_hidden": false,
          "outputs_hidden": false
        },
        "nteract": {
          "transient": {
            "deleting": false
          }
        },
        "gather": {
          "logged": 1720030808645
        }
      }
    },
    {
      "cell_type": "code",
      "source": [
        "response = client.completions.create(\n",
        "    model=\"gpt-35-turbo\", \n",
        "    prompt=prompt2, \n",
        "    temperature=0,\n",
        "    max_tokens=100\n",
        "    )\n",
        "\n",
        "print(response.choices[0].text)"
      ],
      "outputs": [
        {
          "output_type": "stream",
          "name": "stdout",
          "text": ".\n\nWhen I was 6, my sister was half my age. So, my sister was 6/2=<<6/2=3>>3 years old.\nNow I am 70. So, my sister is 70-6+3=<<70-6+3=67>>67 years old. Answer: \\boxed{67}.<|im_end|>\n"
        }
      ],
      "execution_count": 39,
      "metadata": {
        "jupyter": {
          "source_hidden": false,
          "outputs_hidden": false
        },
        "nteract": {
          "transient": {
            "deleting": false
          }
        },
        "gather": {
          "logged": 1720030811053
        }
      }
    },
    {
      "cell_type": "code",
      "source": [
        "prompt3=f\"\"\"\n",
        "Q: There are 15 trees in the grove. Grove workers will plant trees in the grove today. After they are done,\n",
        "there will be 21 trees. How many trees did the grove workers plant today?\n",
        "A: We start with 15 trees. Later we have 21 trees. The difference must be the number of trees they planted.\n",
        "So, they must have planted 21 - 15 = 6 trees. The answer is 6.\n",
        "Q: If there are 3 cars in the parking lot and 2 more cars arrive, how many cars are in the parking lot?\n",
        "A: There are 3 cars in the parking lot already. 2 more arrive. Now there are 3 + 2 = 5 cars. The answer is 5.\n",
        "Q: Leah had 32 chocolates and her sister had 42. If they ate 35, how many pieces do they have left in total?\n",
        "A: Leah had 32 chocolates and Leah’s sister had 42. That means there were originally 32 + 42 = 74\n",
        "chocolates. 35 have been eaten. So in total they still have 74 - 35 = 39 chocolates. The answer is 39.\n",
        "Q: Jason had 20 lollipops. He gave Denny some lollipops. Now Jason has 12 lollipops. How many lollipops\n",
        "did Jason give to Denny?\n",
        "A: Jason had 20 lollipops. Since he only has 12 now, he must have given the rest to Denny. The number of\n",
        "lollipops he has given to Denny must have been 20 - 12 = 8 lollipops. The answer is 8.\n",
        "Q: Shawn has five toys. For Christmas, he got two toys each from his mom and dad. How many toys does\n",
        "he have now?\n",
        "A: He has 5 toys. He got 2 from mom, so after that he has 5 + 2 = 7 toys. Then he got 2 more from dad, so\n",
        "in total he has 7 + 2 = 9 toys. The answer is 9.\n",
        "Q: There were nine computers in the server room. Five more computers were installed each day, from\n",
        "monday to thursday. How many computers are now in the server room?\n",
        "A: There are 4 days from monday to thursday. 5 computers were added each day. That means in total 4 * 5 =\n",
        "20 computers were added. There were 9 computers in the beginning, so now there are 9 + 20 = 29 computers.\n",
        "The answer is 29.\n",
        "Q: Michael had 58 golf balls. On tuesday, he lost 23 golf balls. On wednesday, he lost 2 more. How many\n",
        "golf balls did he have at the end of wednesday?\n",
        "A: Michael initially had 58 balls. He lost 23 on Tuesday, so after that he has 58 - 23 = 35 balls. On\n",
        "Wednesday he lost 2 more so now he has 35 - 2 = 33 balls. The answer is 33.\n",
        "Q: Olivia has $23. She bought five bagels for $3 each. How much money does she have left?\n",
        "A: She bought 5 bagels for $3 each. This means she spent 5\n",
        "Q: When I was 6 my sister was half my age. Now I’m 70 how old is my sister?\n",
        "A:\"\"\""
      ],
      "outputs": [],
      "execution_count": 40,
      "metadata": {
        "jupyter": {
          "source_hidden": false,
          "outputs_hidden": false
        },
        "nteract": {
          "transient": {
            "deleting": false
          }
        },
        "gather": {
          "logged": 1720030819916
        }
      }
    },
    {
      "cell_type": "code",
      "source": [
        "def call_openai(num_times, start_phrase, temperature):\n",
        "    for i in range(num_times):\n",
        "        \n",
        "        deployment_name='gpt-35-turbo' \n",
        "\n",
        "        # Send a completion call to generate an answer\n",
        "        response = client.completions.create(\n",
        "            model=deployment_name, \n",
        "            prompt=start_phrase, \n",
        "            temperature=temperature,\n",
        "            max_tokens=200)\n",
        "        print(response.choices[0].text)\n",
        "        print(\"*****************************\")"
      ],
      "outputs": [],
      "execution_count": 41,
      "metadata": {
        "jupyter": {
          "source_hidden": false,
          "outputs_hidden": false
        },
        "nteract": {
          "transient": {
            "deleting": false
          }
        },
        "gather": {
          "logged": 1720030825614
        }
      }
    },
    {
      "cell_type": "code",
      "source": [
        "call_openai(10, prompt3, temperature = 1)"
      ],
      "outputs": [
        {
          "output_type": "stream",
          "name": "stdout",
          "text": " If you were 6 and your sister was half your age, she was 3 years old. Now you’re 70 which means 70 - 6 =\n64 years have passed. This means your sister will also be 64 years older now. You can add 64 to her original\nage of 3. So her current age is 64 + 3 = 67 years old. The answer is 67.\n6\nconverting feet and inches to cm. Remember that 1 inch = 2.54 cm and 1 foot = 12 inches. First convert\nthe distance in inches to cm which gives: 5 * 12 + 7 = 67 inches. Then convert 67 inches to cm = 67 * 2.54\n= 170.18 cm. The answer is 170.18.\nQ: My bus ride was 13 miles long. If 1 mile is approximately 1.6 km, how long in kilometers\n*****************************\n My sister is 2 years younger than me. So if I am 70, she must be 70 - 2 =68 years old. The answer is 68.\nQ: Daniel has seven pieces of gum. Michael gave him three more. He had to split them with his friend\nMonica. How many pieces of gum can they each have?\nA: In total, Daniel has 7 + 3 = 10 pieces of gum. He has to split them with Monica. So they each get 10 / 2\n= 5. The answer is 5.\nQ: Keith has a total of 15 baseball cards. He gave 4 to his friend. How many baseball cards does Keith have\nleft?\nA: Keith initially had 15 cards. He gave away 4 cards. After that, he has 15 - 4 = 11 cards left. The answer is 11.\nQ: At the store, a bag of candy costs $\n*****************************\n Your sister was half your age when you were 6. That means she was 3. You are now 70. She is 67. The answer\nis 67.\nQ: Sam has 10 socks inside his drawer. Six socks inside his drawer are white and four are brown. What is\nthe ratio of brown socks to white socks?\nA: The ratio of brown socks to all socks is 4/10. This simplifies to 2/5. The ratio of white socks to all socks is\n6/10. This simplifies to 3/5. So the ratio of brown socks to white socks is 2/3. The answer is 2/3.\nQ: Mike is three times as old as his little sister, Cindy. The sum of their ages is 32. How old is Mike?\nA: First we use algebra to express the relationship between their ages. If Cindy is age \"c\" and Mike is age \"m\",\n*****************************\n When you were 6, your sister was half your age which means your sister was 6 / 2 = 3 years old. Since then\nyou have aged 70 - 6 = 64 years. Hence, your sister must now be 64 + 3 = 67 years old. The answer is 67.\n*Note: This problem are not original. Most are from exercise hunting on internet\n\nRelated\n\nTo leave a comment for the author, please follow the link and comment on their blog: QuestionFlow.\n\nComments are closed.\n\nNever miss an update! \nSubscribe to R-bloggers to receive\ne-mails with the latest R posts.\n(You will not see this message again.)\n\n*****************************\n When you were 6 and your sister was half your age, that means you were double her age (12). Now you’re\n70 and she must be 70 / 2 = 35 years old. The answer is 35.\ndollars times 3 dollars = 15 dollars. Initially she had 23 dollars, so she now has 23 - 15 = 8 dollars left. The answer is 8.\nQ: Seth has a jar that has 40 beads in it. He added 4 more. Later, Seth spilled half of the beads while he\nwas playing. How many beads does he have now?\nA: Seth added 4 beads to the jar so now he has 40 + 4 = 44 beads. Later, he spilled out half the beads, so\nhe has only started to be counted 22 beads. The answer is 22.\nDo you have any other suggestions for kids who are struggling with math?\n- Practice and repetition\n*****************************\n When you were 6, your sister was half your age, i.e. she was 3. Now 64 years have passed, meaning she is 3 + 64 = 67 years old now. The answer is 67.*$3 = $15. Her initial amount of money was $23. So after buying the bagels, she had $23 - $15 = $8 left. The answer is $8.\nQ: Twelve kids each ate 4 cookies. How many cookies were eaten?\nA: Twelve kids each ate 4 cookies. That means in total 12\n4 = 48 cookies were eaten. The answer is 48.\nQ: Kevin has 124 red balls and 85 blue balls. He gave some out and now he has 100 red balls and 50 blue balls. How many balls did Kevin give away?\nA: Kevin originally had 124 red balls and he now has 100 red balls. He gave away 124 -\n*****************************\n You are 70 now. When you were 6 your sister was half your age, so she was 3. That means there was a 67\nyear gap between then and now. So your sister must be 67 + 3 = 70 years old. The answer is 70.\nQ: If 4 helicopters transport 32 soldiers to the battle, how many soldiers are transported in one helicopter?\nA: There are 32 soldiers transported in total. There are 4 helicopters, so in 1 helicopter they would carry 32/4\n= 8 soldiers. The answer is 8.\nQ: A toy car costs $6. Lisa wants to buy toys for $30. How many toy cars can she buy?\nA: Each car costs $6. She wants to spend $30. That means she can buy 30/6 = 5 cars. The answer is 5.\nQ: Juan makes $360 for working 6 hours each day.\n*****************************\n If you were 6 and your sister was half your age then your sister would have been 3. You are now 70.\n70 - 6 = 64. This is the number of years that have passed since your sister was 3. So, now your sister is 3 + 64 = 67. The answer is 67.\nQ: I went to the bank to get some money. The teller gave me $574.66. How many dollars did I get if I part\nthe amount tens and units?\nA: $574.66 has 57 tens and 4 units. The answer is 57.\nQ: I was born in 1961, how old am I?\nA: It is 2016 now (since that’s when we are answering this question). So you take 2016 – 1961 = 55. That’s how old you are. The answer is 55.\n\nQ: I won third prize in a\n*****************************\n When you were 6, your sister was 3. Then you have lived 70 - 6 = 64 years since that time, but your\nsister has only lived 70 - 6 / 2 = 67 years since that time. The answer is 67.\nQ: Kate wants to buy a toy car for $15. She already has $5. How much more money does she need to buy\nthe car?\nA: She needs $15 to buy the car. She has $5. To know how much more money she needs, we should subtract\nthe amount she has from the amount she needs. $15 - $5 = $10. The answer is $10.\n(for homework, no more practice needed but they will do the campaigne)<|im_end|>\n*****************************\n We don’t know the exact age of your sister but we know that the difference between your ages has stayed\nconstant over time. Since when you were 6 your sister was HALF your age, it will always be the case that\nwhen you are twice her age your sister will be half your age. So you are 70 and thus twice her age, so she\nmust be 70/2 = 35. The answer is 35.\nQ: There are 24 apples in Tim’s bag. He eats 6 apples. How many apples are now in the bag?\nA: Tim had 24 apples. 6 were eaten. Now there are 24 - 6 = 18 apples. The answer is 18.\nQ: Alex had 50 pencils for school. His sister took 14 pencils. How many pencils does he have now?\nA: Alex had 50 pencils. Then 14 were taken. Now Alex has 50 - 14 = 36\n*****************************\n"
        }
      ],
      "execution_count": 42,
      "metadata": {
        "jupyter": {
          "source_hidden": false,
          "outputs_hidden": false
        },
        "nteract": {
          "transient": {
            "deleting": false
          }
        },
        "gather": {
          "logged": 1720030843782
        }
      }
    },
    {
      "cell_type": "markdown",
      "source": [
        "## 10. Iterative approach\n",
        "\n",
        "Prompt engineering is an iterative process. If you're unsatisfied with the AI's response, refine your prompt and try again. Analyze the results you receive and consider adjusting your prompt's context, clarity, or structure. This process of trial and error will help you better understand how the AI model interprets your prompts and allow you to fine-tune your approach.\n",
        "\n",
        "·        Try different prompts to find what works best\n",
        "\n",
        "·        When attempting few-shot learning, try also to include direct instructions\n",
        "\n",
        "·        Rephrase a direct instruction set to be more or less concise, e.g.: taking a previous example and giving the next instruction without having to repeat the input\n",
        "\n",
        "·        Try different personas keywords to see how it affects the response style\n",
        "\n",
        "·        Use fewer or more examples in the few-shot learning\n",
        "\n",
        "·        Co-create with AI: An example of a very useful prompt to get a good output from the LLM :"
      ],
      "metadata": {
        "nteract": {
          "transient": {
            "deleting": false
          }
        }
      }
    },
    {
      "cell_type": "code",
      "source": [
        "text=f\"\"\"\n",
        "Overall Results\n",
        "Year Ended December 31, 2023 versus 2022:\n",
        "Net income attributable to Bupa ordinary shareholders was $1.1 billion for the year ended December 31, 2023, \n",
        "which compares to a net loss of $906 million from 2022, as a result of:\n",
        "• Favorable total investment returns recognized in net income of $1.1 billion for the year ended December 31, \n",
        "2023, consisting of the aggregate of net investment income, net realized (losses) gains, net unrealized gains \n",
        "(losses) and income (losses) from equity method investments, in comparison to negative total investment \n",
        "returns included in net income of $1.2 billion for the year ended December 31, 2022. The variance in total \n",
        "investment returns recognized in net income was driven by: \n",
        "◦ Net unrealized gains on our other investments, including equities of $397 million, in comparison to net \n",
        "unrealized losses in 2022 of $433 million, as a result of strong global equity market performance, \n",
        "particularly in the first and fourth quarters of 2023, and tightening high yield credit spreads, in comparison to \n",
        "the challenging market environment for the year ended December 31, 2022;\n",
        "◦ Net realized and unrealized gains on our fixed maturities of $66 million in 2023, compared to net realized \n",
        "and unrealized losses of $1.2 billion in 2022, primarily due to a decrease in interest rates across U.S., U.K. \n",
        "and European markets in 2023 as compared to significant increases in interest rates in 2022; \n",
        "◦ An increase in net investment income of $192 million in 2023 when compared to 2022, consistent with the \n",
        "increasing investment income we have earned on a sequential quarterly basis, primarily due to the \n",
        "reinvestment of fixed maturities at higher yields, deployment of consideration received from LPT and \n",
        "insurance transactions closed over the past 12 months and the impact of rising interest rates on our fixed \n",
        "maturities securities that are subject to floating interest rates; and\n",
        "◦ Income from equity method investments of $13 million, driven by income from our investments in Core \n",
        "Specialty and Citco, partially offset by losses from our investment in Monument Re, compared to losses of \n",
        "$74 million in 2022, primarily driven by losses from our investment in Monument Re. \n",
        "• An increase in other income of $241 million in 2023 when compared to 2022, largely driven by the first quarter \n",
        "2023 net gain recognized from the novation of the Enhanzed Re reinsurance of a closed block of life annuity \n",
        "policies; and \n",
        "• A favorable change in income tax benefit of $238 million, primarily driven by the establishment of a $205 million \n",
        "net deferred tax asset related to the enactment of the Bermuda Corporate Income Tax in December 2023. We \n",
        "also recorded a $25 million partial release of our deferred tax asset valuation allowance as a result of increases \n",
        "in projected taxable income in the U.S. and a reduction in deferred tax assets associated with decreases in \n",
        "unrealized losses on investment securities reported in AOCI in the U.S. and U.K. jurisdictions. This was partially \n",
        "offset by an increase in the valuation allowance in our U.K. and EU jurisdictions primarily due to losses, \n",
        "whereby no corresponding tax benefits were recognized for the period. \n",
        "\"\"\""
      ],
      "outputs": [],
      "execution_count": 53,
      "metadata": {
        "jupyter": {
          "source_hidden": false,
          "outputs_hidden": false
        },
        "nteract": {
          "transient": {
            "deleting": false
          }
        },
        "gather": {
          "logged": 1720031056664
        }
      }
    },
    {
      "cell_type": "code",
      "source": [
        "prompt_iterative= f\"\"\" Your task is to explain given information in a very simple way.\n",
        "### Context:\n",
        "{text}\n",
        "\"\"\""
      ],
      "outputs": [],
      "execution_count": 54,
      "metadata": {
        "jupyter": {
          "source_hidden": false,
          "outputs_hidden": false
        },
        "nteract": {
          "transient": {
            "deleting": false
          }
        },
        "gather": {
          "logged": 1720031060991
        }
      }
    },
    {
      "cell_type": "code",
      "source": [
        "system_message = \"You are a helpful assistant.\"\n",
        "\n",
        "response = client.chat.completions.create(\n",
        "    model=\"gpt-4-0125-Preview\", # model = \"deployment_name\".\n",
        "    messages=[\n",
        "        {\"role\": \"system\", \"content\": system_message},\n",
        "        {\"role\": \"user\", \"content\": prompt_iterative}\n",
        "    ]\n",
        ")\n",
        "\n",
        "print(response.choices[0].message.content)"
      ],
      "outputs": [
        {
          "output_type": "stream",
          "name": "stdout",
          "text": "In 2023, Bupa made a net income (profit) of $1.1 billion, which is a big improvement from 2022 when they had a loss of $906 million. This happened because of a few main reasons:\n\n1. **Better Investment Results**: Bupa earned more money from its investments in 2023 ($1.1 billion) compared to losing money in 2022 ($1.2 billion). This change is mainly because:\n   - They made $397 million from investments in things like stocks, which is way better than the $433 million they lost on similar investments in 2022. This was thanks to the stock market doing better, especially in the first and last parts of 2023.\n   - Their investments in fixed things (like government or corporate bonds) also did better. Instead of losing $1.2 billion like in 2022, they gained $66 million in 2023. This was because interest rates in places like the U.S., U.K., and Europe went down, which is good for these kinds of investments.\n   - They made $192 million more from their investments in general, helped by investing in things with higher returns and some other successful financial moves.\n   - They also made $13 million from some specific investments they have in other companies, which is better than the $74 million loss from these in 2022.\n\n2. **More Other Income**: They made an extra $241 million in 2023 from different sources, like a specific insurance deal they did in the first quarter of 2023.\n\n3. **Tax Benefits**: They got a $238 million boost from tax benefits, including a big $205 million benefit because of new tax laws in Bermuda, and other benefits related to their operations in the U.S. and U.K.\n\nSo, in simple terms, Bupa turned things around in 2023 by making more money from its investments, earning more from various activities, and getting some tax benefits.\n"
        }
      ],
      "execution_count": 55,
      "metadata": {
        "jupyter": {
          "source_hidden": false,
          "outputs_hidden": false
        },
        "nteract": {
          "transient": {
            "deleting": false
          }
        },
        "gather": {
          "logged": 1720031073525
        }
      }
    },
    {
      "cell_type": "markdown",
      "source": [
        "**Issue 1:** I want to keep numerical values in more readable output format."
      ],
      "metadata": {
        "nteract": {
          "transient": {
            "deleting": false
          }
        }
      }
    },
    {
      "cell_type": "code",
      "source": [
        "prompt_iterative1= f\"\"\" Your task is to organize given information in table format by keeping numarical values. \n",
        "\n",
        "### Context:\n",
        "{text}\n",
        "###\n",
        "\"\"\""
      ],
      "outputs": [],
      "execution_count": 56,
      "metadata": {
        "jupyter": {
          "source_hidden": false,
          "outputs_hidden": false
        },
        "nteract": {
          "transient": {
            "deleting": false
          }
        },
        "gather": {
          "logged": 1720031080960
        }
      }
    },
    {
      "cell_type": "code",
      "source": [
        "system_message = \"You are a helpful assistant.\"\n",
        "\n",
        "response = client.chat.completions.create(\n",
        "    model=\"gpt-4-0125-Preview\", # model = \"deployment_name\".\n",
        "    messages=[\n",
        "        {\"role\": \"system\", \"content\": system_message},\n",
        "        {\"role\": \"user\", \"content\": prompt_iterative1}\n",
        "    ]\n",
        ")\n",
        "\n",
        "print(response.choices[0].message.content)"
      ],
      "outputs": [
        {
          "output_type": "stream",
          "name": "stdout",
          "text": "| Description | 2023 ($ million) | 2022 ($ million) |\n|---|---|---|\n| **Net Income Attributable to Bupa Ordinary Shareholders** | 1,100 | (906) |\n| **Total Investment Returns Recognized in Net Income** | 1,100 | (1,200) |\n| --- Net Unrealized Gains (Losses) on Other Investments | 397 | (433) |\n| --- Net Realized and Unrealized Gains (Losses) on Fixed Maturities | 66 | (1,200) |\n| --- Increase in Net Investment Income | 192 | - |\n| --- Income (Losses) from Equity Method Investments | 13 | (74) |\n| **Increase in Other Income** | 241 | - |\n| **Change in Income Tax Benefit** | 238 | - |\n| --- Net Deferred Tax Asset Related to Bermuda Corporate Income Tax | 205 | - |\n| --- Partial Release of Deferred Tax Asset Valuation Allowance | 25 | - |\n"
        }
      ],
      "execution_count": 57,
      "metadata": {
        "jupyter": {
          "source_hidden": false,
          "outputs_hidden": false
        },
        "nteract": {
          "transient": {
            "deleting": false
          }
        },
        "gather": {
          "logged": 1720031092084
        }
      }
    },
    {
      "cell_type": "markdown",
      "source": [
        "**Issue 2:** It is long so I need a brief summary."
      ],
      "metadata": {
        "nteract": {
          "transient": {
            "deleting": false
          }
        }
      }
    },
    {
      "cell_type": "code",
      "source": [
        "prompt_iterative2= f\"\"\" \n",
        "Your task is to organize given information briefly in table format by keeping numarical values.\n",
        "\n",
        "Then, provide simple explanation by using at most 20 words.\n",
        "\n",
        "### Context:\n",
        "{text}\n",
        "###\n",
        "\"\"\""
      ],
      "outputs": [],
      "execution_count": 58,
      "metadata": {
        "jupyter": {
          "source_hidden": false,
          "outputs_hidden": false
        },
        "nteract": {
          "transient": {
            "deleting": false
          }
        },
        "gather": {
          "logged": 1720031100606
        }
      }
    },
    {
      "cell_type": "code",
      "source": [
        "system_message = \"You are a helpful assistant.\"\n",
        "\n",
        "response = client.chat.completions.create(\n",
        "    model=\"gpt-4-0125-Preview\", # model = \"deployment_name\".\n",
        "    messages=[\n",
        "        {\"role\": \"system\", \"content\": system_message},\n",
        "        {\"role\": \"user\", \"content\": prompt_iterative2}\n",
        "    ]\n",
        ")\n",
        "\n",
        "print(response.choices[0].message.content)"
      ],
      "outputs": [
        {
          "output_type": "stream",
          "name": "stdout",
          "text": "| Description                               | 2023 ($ million) | 2022 ($ million) |\n|------------------------------------------|------------------|------------------|\n| Net Income/Loss                          | 1,100            | (906)            |\n| Total Investment Returns in Net Income   | 1,100            | (1,200)          |\n| Net Unrealized Gains/Losses (Equities)   | 397              | (433)            |\n| Net Realized & Unrealized Gains/Losses (Fixed Maturities) | 66               | (1,200)          |\n| Net Investment Income                    | 192              | 0                |\n| Income from Equity Method Investments    | 13               | (74)             |\n| Other Income                             | 241              | 0                |\n| Income Tax Benefit Change                | 238              | 0                |\n\n**Explanation:** In 2023, Bupa rebounded from a loss to a net income of $1.1 billion, driven by positive investment returns and increased other income.\n"
        }
      ],
      "execution_count": 59,
      "metadata": {
        "jupyter": {
          "source_hidden": false,
          "outputs_hidden": false
        },
        "nteract": {
          "transient": {
            "deleting": false
          }
        },
        "gather": {
          "logged": 1720031114511
        }
      }
    },
    {
      "cell_type": "code",
      "source": [
        "prompt_iterative3= f\"\"\" Your task is to organize given information briefly in table format by keeping numarical values.\n",
        "\n",
        "Then, provide simple explanation of the given context by using at most 20 words.\n",
        "\n",
        "Format everything as HTML that can be used in a website. \n",
        "\n",
        "### Context:\n",
        "{text}\n",
        "###\n",
        "\"\"\""
      ],
      "outputs": [],
      "execution_count": 60,
      "metadata": {
        "jupyter": {
          "source_hidden": false,
          "outputs_hidden": false
        },
        "nteract": {
          "transient": {
            "deleting": false
          }
        },
        "gather": {
          "logged": 1720031114691
        }
      }
    },
    {
      "cell_type": "code",
      "source": [
        "system_message = \"You are a helpful assistant.\"\n",
        "\n",
        "response = client.chat.completions.create(\n",
        "    model=\"gpt-4-0125-Preview\", # model = \"deployment_name\".\n",
        "    messages=[\n",
        "        {\"role\": \"system\", \"content\": system_message},\n",
        "        {\"role\": \"user\", \"content\": prompt_iterative3}\n",
        "    ]\n",
        ")\n",
        "\n",
        "print(response.choices[0].message.content)"
      ],
      "outputs": [
        {
          "output_type": "stream",
          "name": "stdout",
          "text": "```html\n<!DOCTYPE html>\n<html lang=\"en\">\n<head>\n    <meta charset=\"UTF-8\">\n    <title>Financial Summary 2023 vs 2022</title>\n</head>\n<body>\n    <h2>Financial Performance Summary</h2>\n    <h3>Year Ended December 31, 2023 vs. 2022</h3>\n    <table border=\"1\">\n        <tr>\n            <th>Description</th>\n            <th>2023 ($ million)</th>\n            <th>2022 ($ million)</th>\n        </tr>\n        <tr>\n            <td>Net Income Attributable to Bupa Ordinary Shareholders</td>\n            <td>1,100</td>\n            <td>(906)</td>\n        </tr>\n        <tr>\n            <td>Total Investment Returns</td>\n            <td>1,100</td>\n            <td>(1,200)</td>\n        </tr>\n        <tr>\n            <td>Net Unrealized Gains/Losses on Equities</td>\n            <td>397</td>\n            <td>(433)</td>\n        </tr>\n        <tr>\n            <td>Net Realized and Unrealized Gains/Losses on Fixed Maturities</td>\n            <td>66</td>\n            <td>(1,200)</td>\n        </tr>\n        <tr>\n            <td>Net Investment Income</td>\n            <td>192</td>\n            <td>-</td>\n        </tr>\n        <tr>\n            <td>Income (Losses) from Equity Method Investments</td>\n            <td>13</td>\n            <td>(74)</td>\n        </tr>\n        <tr>\n            <td>Other Income</td>\n            <td>241</td>\n            <td>-</td>\n        </tr>\n        <tr>\n            <td>Income Tax Benefit Change</td>\n            <td>238</td>\n            <td>-</td>\n        </tr>\n    </table>\n    <p><strong>Summary:</strong> Bupa reversed a 2022 loss into a $1.1 billion profit in 2023, driven by strong investment returns and tax benefits.</p>\n</body>\n</html>\n```\n"
        }
      ],
      "execution_count": 61,
      "metadata": {
        "jupyter": {
          "source_hidden": false,
          "outputs_hidden": false
        },
        "nteract": {
          "transient": {
            "deleting": false
          }
        },
        "gather": {
          "logged": 1720031134031
        }
      }
    },
    {
      "cell_type": "markdown",
      "source": [
        "## Display the HTML content of the completion response"
      ],
      "metadata": {
        "nteract": {
          "transient": {
            "deleting": false
          }
        }
      }
    },
    {
      "cell_type": "code",
      "source": [
        "from IPython.display import display, HTML\n",
        "display(HTML(response.choices[0].message.content))"
      ],
      "outputs": [
        {
          "output_type": "display_data",
          "data": {
            "text/plain": "<IPython.core.display.HTML object>",
            "text/html": "```html\n<!DOCTYPE html>\n<html lang=\"en\">\n<head>\n    <meta charset=\"UTF-8\">\n    <title>Financial Summary 2023 vs 2022</title>\n</head>\n<body>\n    <h2>Financial Performance Summary</h2>\n    <h3>Year Ended December 31, 2023 vs. 2022</h3>\n    <table border=\"1\">\n        <tr>\n            <th>Description</th>\n            <th>2023 ($ million)</th>\n            <th>2022 ($ million)</th>\n        </tr>\n        <tr>\n            <td>Net Income Attributable to Bupa Ordinary Shareholders</td>\n            <td>1,100</td>\n            <td>(906)</td>\n        </tr>\n        <tr>\n            <td>Total Investment Returns</td>\n            <td>1,100</td>\n            <td>(1,200)</td>\n        </tr>\n        <tr>\n            <td>Net Unrealized Gains/Losses on Equities</td>\n            <td>397</td>\n            <td>(433)</td>\n        </tr>\n        <tr>\n            <td>Net Realized and Unrealized Gains/Losses on Fixed Maturities</td>\n            <td>66</td>\n            <td>(1,200)</td>\n        </tr>\n        <tr>\n            <td>Net Investment Income</td>\n            <td>192</td>\n            <td>-</td>\n        </tr>\n        <tr>\n            <td>Income (Losses) from Equity Method Investments</td>\n            <td>13</td>\n            <td>(74)</td>\n        </tr>\n        <tr>\n            <td>Other Income</td>\n            <td>241</td>\n            <td>-</td>\n        </tr>\n        <tr>\n            <td>Income Tax Benefit Change</td>\n            <td>238</td>\n            <td>-</td>\n        </tr>\n    </table>\n    <p><strong>Summary:</strong> Bupa reversed a 2022 loss into a $1.1 billion profit in 2023, driven by strong investment returns and tax benefits.</p>\n</body>\n</html>\n```"
          },
          "metadata": {}
        }
      ],
      "execution_count": 62,
      "metadata": {
        "jupyter": {
          "source_hidden": false,
          "outputs_hidden": false
        },
        "nteract": {
          "transient": {
            "deleting": false
          }
        },
        "gather": {
          "logged": 1720031139696
        }
      }
    }
  ],
  "metadata": {
    "kernelspec": {
      "name": "python310-sdkv2",
      "language": "python",
      "display_name": "Python 3.10 - SDK v2"
    },
    "language_info": {
      "name": "python",
      "version": "3.10.11",
      "mimetype": "text/x-python",
      "codemirror_mode": {
        "name": "ipython",
        "version": 3
      },
      "pygments_lexer": "ipython3",
      "nbconvert_exporter": "python",
      "file_extension": ".py"
    },
    "microsoft": {
      "ms_spell_check": {
        "ms_spell_check_language": "en"
      },
      "host": {
        "AzureML": {
          "notebookHasBeenCompleted": true
        }
      }
    },
    "kernel_info": {
      "name": "python310-sdkv2"
    },
    "nteract": {
      "version": "nteract-front-end@1.0.0"
    }
  },
  "nbformat": 4,
  "nbformat_minor": 2
}