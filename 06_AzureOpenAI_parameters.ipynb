{
  "cells": [
    {
      "cell_type": "code",
      "source": [
        "# import openai\n",
        "# from openai import AzureOpenAI\n",
        "# import os \n",
        "# from azure.identity import ManagedIdentityCredential\n",
        "\n",
        "# default_credential=ManagedIdentityCredential(client_id=\"f4980c43-9766-48d7-a925-c377a74605bb\")\n",
        "# token=default_credential.get_token(\"https://cognitiveservices.azure.com/.default\")\n",
        "# Resource_endpoint=\"https://openaiykus.openai.azure.com/\"\n",
        "\n",
        "# client = AzureOpenAI(\n",
        "#   azure_endpoint = Resource_endpoint, \n",
        "#   api_key=token.token,  \n",
        "#   api_version=\"2023-05-15\"\n",
        "# )"
      ],
      "outputs": [],
      "execution_count": 1,
      "metadata": {
        "jupyter": {
          "source_hidden": false,
          "outputs_hidden": false
        },
        "nteract": {
          "transient": {
            "deleting": false
          }
        },
        "gather": {
          "logged": 1712287450305
        }
      }
    },
    {
      "cell_type": "code",
      "source": [
        "pip install python-dotenv\n"
      ],
      "outputs": [
        {
          "output_type": "stream",
          "name": "stdout",
          "text": "Collecting python-dotenv\n  Downloading python_dotenv-1.0.1-py3-none-any.whl (19 kB)\nInstalling collected packages: python-dotenv\nSuccessfully installed python-dotenv-1.0.1\nNote: you may need to restart the kernel to use updated packages.\n"
        }
      ],
      "execution_count": 2,
      "metadata": {
        "jupyter": {
          "source_hidden": false,
          "outputs_hidden": false
        },
        "nteract": {
          "transient": {
            "deleting": false
          }
        },
        "gather": {
          "logged": 1716461859696
        }
      }
    },
    {
      "cell_type": "code",
      "source": [
        "pip install openai"
      ],
      "outputs": [
        {
          "output_type": "stream",
          "name": "stdout",
          "text": "Collecting openai\n  Using cached openai-1.30.1-py3-none-any.whl (320 kB)\nCollecting anyio<5,>=3.5.0 (from openai)\n  Downloading anyio-4.3.0-py3-none-any.whl (85 kB)\n\u001b[2K     \u001b[90m━━━━━━━━━━━━━━━━━━━━━━━━━━━━━━━━━━━━━━━━\u001b[0m \u001b[32m85.6/85.6 kB\u001b[0m \u001b[31m4.1 MB/s\u001b[0m eta \u001b[36m0:00:00\u001b[0m\n\u001b[?25hRequirement already satisfied: distro<2,>=1.7.0 in /anaconda/envs/azureml_py310_sdkv2/lib/python3.10/site-packages (from openai) (1.8.0)\nCollecting httpx<1,>=0.23.0 (from openai)\n  Using cached httpx-0.27.0-py3-none-any.whl (75 kB)\nCollecting pydantic<3,>=1.9.0 (from openai)\n  Downloading pydantic-2.7.1-py3-none-any.whl (409 kB)\n\u001b[2K     \u001b[90m━━━━━━━━━━━━━━━━━━━━━━━━━━━━━━━━━━━━━━\u001b[0m \u001b[32m409.3/409.3 kB\u001b[0m \u001b[31m28.1 MB/s\u001b[0m eta \u001b[36m0:00:00\u001b[0m\n\u001b[?25hCollecting sniffio (from openai)\n  Downloading sniffio-1.3.1-py3-none-any.whl (10 kB)\nRequirement already satisfied: tqdm>4 in /anaconda/envs/azureml_py310_sdkv2/lib/python3.10/site-packages (from openai) (4.65.0)\nCollecting typing-extensions<5,>=4.7 (from openai)\n  Using cached typing_extensions-4.11.0-py3-none-any.whl (34 kB)\nRequirement already satisfied: idna>=2.8 in /anaconda/envs/azureml_py310_sdkv2/lib/python3.10/site-packages (from anyio<5,>=3.5.0->openai) (3.4)\nCollecting exceptiongroup>=1.0.2 (from anyio<5,>=3.5.0->openai)\n  Downloading exceptiongroup-1.2.1-py3-none-any.whl (16 kB)\nRequirement already satisfied: certifi in /anaconda/envs/azureml_py310_sdkv2/lib/python3.10/site-packages (from httpx<1,>=0.23.0->openai) (2023.5.7)\nCollecting httpcore==1.* (from httpx<1,>=0.23.0->openai)\n  Using cached httpcore-1.0.5-py3-none-any.whl (77 kB)\nCollecting h11<0.15,>=0.13 (from httpcore==1.*->httpx<1,>=0.23.0->openai)\n  Downloading h11-0.14.0-py3-none-any.whl (58 kB)\n\u001b[2K     \u001b[90m━━━━━━━━━━━━━━━━━━━━━━━━━━━━━━━━━━━━━━━━\u001b[0m \u001b[32m58.3/58.3 kB\u001b[0m \u001b[31m7.6 MB/s\u001b[0m eta \u001b[36m0:00:00\u001b[0m\n\u001b[?25hCollecting annotated-types>=0.4.0 (from pydantic<3,>=1.9.0->openai)\n  Downloading annotated_types-0.7.0-py3-none-any.whl (13 kB)\nCollecting pydantic-core==2.18.2 (from pydantic<3,>=1.9.0->openai)\n  Downloading pydantic_core-2.18.2-cp310-cp310-manylinux_2_17_x86_64.manylinux2014_x86_64.whl (2.1 MB)\n\u001b[2K     \u001b[90m━━━━━━━━━━━━━━━━━━━━━━━━━━━━━━━━━━━━━━━━\u001b[0m \u001b[32m2.1/2.1 MB\u001b[0m \u001b[31m65.2 MB/s\u001b[0m eta \u001b[36m0:00:00\u001b[0m\n\u001b[?25hInstalling collected packages: typing-extensions, sniffio, h11, exceptiongroup, annotated-types, pydantic-core, httpcore, anyio, pydantic, httpx, openai\n  Attempting uninstall: typing-extensions\n    Found existing installation: typing_extensions 4.6.3\n    Uninstalling typing_extensions-4.6.3:\n      Successfully uninstalled typing_extensions-4.6.3\n\u001b[31mERROR: pip's dependency resolver does not currently take into account all the packages that are installed. This behaviour is the source of the following dependency conflicts.\nazureml-mlflow 1.51.0 requires azure-storage-blob<=12.13.0,>=12.5.0, but you have azure-storage-blob 12.16.0 which is incompatible.\u001b[0m\u001b[31m\n\u001b[0mSuccessfully installed annotated-types-0.7.0 anyio-4.3.0 exceptiongroup-1.2.1 h11-0.14.0 httpcore-1.0.5 httpx-0.27.0 openai-1.30.1 pydantic-2.7.1 pydantic-core-2.18.2 sniffio-1.3.1 typing-extensions-4.11.0\nNote: you may need to restart the kernel to use updated packages.\n"
        }
      ],
      "execution_count": 2,
      "metadata": {
        "jupyter": {
          "source_hidden": false,
          "outputs_hidden": false
        },
        "nteract": {
          "transient": {
            "deleting": false
          }
        },
        "gather": {
          "logged": 1716461716769
        }
      }
    },
    {
      "cell_type": "code",
      "source": [
        "import os\n",
        "import openai\n",
        "from openai import AzureOpenAI\n",
        "from dotenv import load_dotenv\n",
        "\n",
        "# Set up Azure OpenAI\n",
        "load_dotenv(\"credentials.env\")\n",
        "\n",
        "openai.api_type = \"azure\"\n",
        "    \n",
        "client = AzureOpenAI(\n",
        "    api_key=os.getenv(\"AZURE_OPENAI_KEY\"),  \n",
        "    api_version=\"2024-02-01\", #latest GA API version: https://learn.microsoft.com/en-us/azure/ai-services/openai/api-version-deprecation\n",
        "    azure_endpoint = os.getenv(\"AZURE_OPENAI_ENDPOINT\")\n",
        "    )"
      ],
      "outputs": [],
      "execution_count": 27,
      "metadata": {
        "jupyter": {
          "source_hidden": false,
          "outputs_hidden": false
        },
        "nteract": {
          "transient": {
            "deleting": false
          }
        },
        "gather": {
          "logged": 1716463977749
        }
      }
    },
    {
      "cell_type": "code",
      "source": [
        "print(os.getenv(\"AZURE_OPENAI_ENDPOINT\"))"
      ],
      "outputs": [
        {
          "output_type": "stream",
          "name": "stdout",
          "text": "https://aml-prod-aoai.openai.azure.com/\n"
        }
      ],
      "execution_count": 2,
      "metadata": {
        "jupyter": {
          "source_hidden": false,
          "outputs_hidden": false
        },
        "nteract": {
          "transient": {
            "deleting": false
          }
        },
        "gather": {
          "logged": 1716462589097
        }
      }
    },
    {
      "attachments": {},
      "cell_type": "markdown",
      "source": [
        "# Temperature\n",
        "\n",
        "Defaults to 1, Optional\n",
        "\n",
        "What sampling temperature to use, between 0 and 2. Higher values means the model will take more risks. Try 0.9 for more creative applications, and 0 for ones with a well-defined answer.\n",
        "\n",
        "We generally recommend altering this or top_p but not both."
      ],
      "metadata": {}
    },
    {
      "cell_type": "code",
      "source": [
        "def call_openai(num_times, start_phrase, temperature):\n",
        "    for i in range(num_times):\n",
        "        \n",
        "        deployment_name='gpt-35-turbo' \n",
        "\n",
        "        # Send a completion call to generate an answer\n",
        "        response = client.completions.create(\n",
        "            model=deployment_name, \n",
        "            prompt=start_phrase, \n",
        "            temperature=temperature,\n",
        "            max_tokens=10)\n",
        "        print(response.choices[0].text)\n",
        "        print(\"*****************************\")"
      ],
      "outputs": [],
      "execution_count": 3,
      "metadata": {
        "gather": {
          "logged": 1716462591317
        }
      }
    },
    {
      "cell_type": "code",
      "source": [
        "call_openai(10, 'The Enstar Group company is a ', temperature = 0)"
      ],
      "outputs": [
        {
          "output_type": "stream",
          "name": "stdout",
          "text": "10-year-old, Bermuda-based reinsurer that specializes\n*****************************\n10-year-old, Bermuda-based reinsurer that specializes\n*****************************\n10-year-old, Bermuda-based reinsurer that specializes\n*****************************\n10-year-old, Bermuda-based reinsurer that specializes\n*****************************\n10-year-old, Bermuda-based reinsurer that specializes\n*****************************\n10-year-old, Bermuda-based reinsurer that specializes\n*****************************\n10-year-old, Bermuda-based reinsurer that specializes\n*****************************\n10-year-old, Bermuda-based reinsurer that specializes\n*****************************\n10-year-old, Bermuda-based reinsurer that specializes\n*****************************\n10-year-old, Bermuda-based reinsurer that specializes\n*****************************\n"
        }
      ],
      "execution_count": 4,
      "metadata": {
        "jupyter": {
          "source_hidden": false,
          "outputs_hidden": false
        },
        "nteract": {
          "transient": {
            "deleting": false
          }
        },
        "gather": {
          "logged": 1716462595671
        }
      }
    },
    {
      "cell_type": "code",
      "source": [
        "call_openai(10, 'The Enstar Group company is a  ', temperature = 1)"
      ],
      "outputs": [
        {
          "output_type": "stream",
          "name": "stdout",
          "text": " Bermuda-domiciled holding company that offers diversified insurance\n*****************************\n range of businesses with activities in the insurance underwriting\n*****************************\n provider of life insurance products in Canada, with about\n*****************************\n Bermuda-based insurance group that offers life and non-life\n*****************************\n mortgage-bond insurer providing coverage on more than $\n*****************************\n provider of outsourced claim services. Under the deal\n*****************************\n provider of alternate   run-off services, which allow\n*****************************\n holding company that provides reinsurance services to more than\n*****************************\n multi-faceted insurance group established in 197\n*****************************\n that provides run-off property and casualty insurance solutions.\n*****************************\n"
        }
      ],
      "execution_count": 6,
      "metadata": {
        "jupyter": {
          "source_hidden": false,
          "outputs_hidden": false
        },
        "nteract": {
          "transient": {
            "deleting": false
          }
        },
        "gather": {
          "logged": 1716462663240
        }
      }
    },
    {
      "attachments": {},
      "cell_type": "markdown",
      "source": [
        "# Top_p\n",
        "\n",
        "Defaults to 1, Optional\n",
        "\n",
        "top_p parameter which stands for “top probability” and an alternative to sampling with temperature, called nucleus sampling, where the model considers the results of the tokens with top_p probability mass. So 0.1 means only the tokens comprising the top 10% probability mass are considered. \n",
        "\n",
        "The top_p refers to the probability mass that should be used when considering the next word in the generated text. Essentially it ** sets a threshold for the probability of the next word being chosen and only considers the most likely words that exceed that threshold.**\n",
        "\n",
        "We generally recommend altering this or temperature but not both."
      ],
      "metadata": {}
    },
    {
      "cell_type": "code",
      "source": [
        "def call_openai(num_times, start_phrase, top_p):\n",
        "    for i in range(num_times):\n",
        "        \n",
        "        deployment_name='gpt-35-turbo' \n",
        "\n",
        "        # Send a completion call to generate an answer\n",
        "        response = client.completions.create(\n",
        "            model=deployment_name, \n",
        "            prompt=start_phrase, \n",
        "            top_p=top_p,\n",
        "            max_tokens=10)\n",
        "        print(response.choices[0].text)\n",
        "        print(\"*****************************\")"
      ],
      "outputs": [],
      "execution_count": 7,
      "metadata": {
        "gather": {
          "logged": 1716462678327
        }
      }
    },
    {
      "cell_type": "code",
      "source": [
        "call_openai(10, 'The Enstar Group company is a ', top_p = 0.1)"
      ],
      "outputs": [
        {
          "output_type": "stream",
          "name": "stdout",
          "text": "11.6% shareholder in the company, and\n*****************************\n11.54 billion USD market cap company. The\n*****************************\n10-year-old firm that provides insurance and reinsurance\n*****************************\n10-year-old firm that provides insurance and reinsurance\n*****************************\n10-year-old, A.M. Best A-rated\n*****************************\n11.5% shareholder in the company, and\n*****************************\n10-year-old, A.M. Best A-rated\n*****************************\n10-year-old firm that provides insurance and reinsurance\n*****************************\n10-year-old, A.M. Best A-rated\n*****************************\n10-year-old firm that provides insurance and reinsurance\n*****************************\n"
        }
      ],
      "execution_count": 8,
      "metadata": {
        "gather": {
          "logged": 1716462683087
        }
      }
    },
    {
      "cell_type": "code",
      "source": [
        "call_openai(10, 'The Enstar Group company is a ', top_p = 1)"
      ],
      "outputs": [
        {
          "output_type": "stream",
          "name": "stdout",
          "text": "2017 Levitt AMP winner, and has built\n*****************************\n3rd-party manager of insurance an\n*****************************\n3.2 billion dollar enterprise and is continually looking\n*****************************\nlargely run-off insurance carrier, and manages its\n*****************************\n10% owner of Waterside Capital, which it\n*****************************\n49% partner in the Estrella syndicate at\n*****************************\n26 year established manufacturer, employing 105 people at\n*****************************\n51 percent shareholder of two Atriums,\n*****************************\n26-year-old Bermuda-based firm focusing on a complex\n*****************************\n23-year-old Hampton Bays-based venture that is\n*****************************\n"
        }
      ],
      "execution_count": 9,
      "metadata": {
        "gather": {
          "logged": 1716462687643
        }
      }
    },
    {
      "cell_type": "markdown",
      "source": [
        "# Max_Tokens \n",
        "\n",
        "Default value=16, Optional\n",
        "\n",
        "The maximum number of tokens to generate in the completion. **The token count of your prompt plus max_tokens can't exceed the model's context length. **"
      ],
      "metadata": {
        "nteract": {
          "transient": {
            "deleting": false
          }
        }
      }
    },
    {
      "cell_type": "code",
      "source": [
        "deployment_name='gpt-35-turbo' \n",
        "#This will correspond to the custom name you chose for your deployment when you deployed a model. \n",
        "    \n",
        "# Send a completion call to generate an answer\n",
        "start_phrase = 'The Enstar Group company is a '\n",
        "response = client.completions.create(\n",
        "    model=deployment_name, \n",
        "    prompt=start_phrase, \n",
        "    temperature=1,\n",
        "    max_tokens=5)\n",
        "\n",
        "print(response.model_dump_json(indent=2))"
      ],
      "outputs": [
        {
          "output_type": "stream",
          "name": "stdout",
          "text": "{\n  \"id\": \"cmpl-9S0e83I8WA6wwBkVasyw3fEvgv5f5\",\n  \"choices\": [\n    {\n      \"finish_reason\": \"length\",\n      \"index\": 0,\n      \"logprobs\": null,\n      \"text\": \"21-year old Bermuda based\",\n      \"content_filter_results\": {\n        \"hate\": {\n          \"filtered\": false,\n          \"severity\": \"safe\"\n        },\n        \"self_harm\": {\n          \"filtered\": false,\n          \"severity\": \"safe\"\n        },\n        \"sexual\": {\n          \"filtered\": false,\n          \"severity\": \"safe\"\n        },\n        \"violence\": {\n          \"filtered\": false,\n          \"severity\": \"safe\"\n        }\n      }\n    }\n  ],\n  \"created\": 1716462696,\n  \"model\": \"gpt-35-turbo\",\n  \"object\": \"text_completion\",\n  \"system_fingerprint\": null,\n  \"usage\": {\n    \"completion_tokens\": 5,\n    \"prompt_tokens\": 8,\n    \"total_tokens\": 13\n  },\n  \"prompt_filter_results\": [\n    {\n      \"prompt_index\": 0,\n      \"content_filter_results\": {\n        \"hate\": {\n          \"filtered\": false,\n          \"severity\": \"safe\"\n        },\n        \"self_harm\": {\n          \"filtered\": false,\n          \"severity\": \"safe\"\n        },\n        \"sexual\": {\n          \"filtered\": false,\n          \"severity\": \"safe\"\n        },\n        \"violence\": {\n          \"filtered\": false,\n          \"severity\": \"safe\"\n        }\n      }\n    }\n  ]\n}\n"
        }
      ],
      "execution_count": 10,
      "metadata": {
        "jupyter": {
          "source_hidden": false,
          "outputs_hidden": false
        },
        "nteract": {
          "transient": {
            "deleting": false
          }
        },
        "gather": {
          "logged": 1716462695658
        }
      }
    },
    {
      "cell_type": "code",
      "source": [
        "# Send a completion call to generate an answer\n",
        "start_phrase = 'The Enstar Group company is a '\n",
        "response = client.completions.create(\n",
        "    model=deployment_name, \n",
        "    prompt=start_phrase, \n",
        "    temperature=1,\n",
        "    max_tokens=1000)\n",
        "\n",
        "print(response.model_dump_json(indent=2))"
      ],
      "outputs": [
        {
          "output_type": "stream",
          "name": "stdout",
          "text": "{\n  \"id\": \"cmpl-9S0eNtWiIQZXGhyyTVrxfWY7lR7MD\",\n  \"choices\": [\n    {\n      \"finish_reason\": \"stop\",\n      \"index\": 0,\n      \"logprobs\": null,\n      \"text\": \"154 year old Canadian headquartered insurance provider, operating internationally with over 20 offices in Bermuda, the US, the UK and Greece.\\n\\nThe insurance company is committed to \\\"specialising in off balance sheet balance activities largely within the property and casualty industry,\\\" utilising their experience and heritage to develop their position within the market place.\\n\\nBen Higham, Director of Insurance Services at Stones International states that, \\\"the reputation of the workforce being consistently cited as a massive factor in the continued succession of Toronto as a key figure in the financial and insurance landscape\\\".\\n\\nNeither Stones International nor Enstar Group have commented on the plans, however, the Financial Post reports this to be a \\\"key indicator\\\" of a focus on expansion westwards, with many firms choosing to trade in locations such as Edmonton and Calgary, which have now been linked to booming growth since the opening of new pipelines through the region, as well as an array of new industries emerging on a daily basis.\\n\\nTAGS: , , ,\\n\\nUP NEXT SNL Financial’s takeover by S&P Global completes\\n\\nDeutsche Bank continues to restructure global banking business\\n\\nKPMG Bitcoin research criticised by financial and digital currency experts\\n\\nInvestment and asset manager solidifies Shanghai unit with latest acquisition\\n\\nCryptocurrency services affected as AlphaBay and Hansa marketplaces shut down HOME\\n\\nExpanding Insurance and Reinsurance Firm Enstar in talks to acquire Toronto Fortress Office\\n\\nEnstar Group is said to be in talks to acquire Toronto's Fortress Risk Management, to expand operations in Western Canada. The firm is said to have made its intentions clear to expand overseas whilst maintaining operational control of the new expansions from its headquarters in Hamilton, Bermuda.\\n\\nEnstar to begin acquiring individual syndicate assets via legacy joint venture\\n\\nInternational insurance and claims firm, Enstar, has agreed a joint venture with Trident IV to purchase the remaining assets attached to Atrium Underwriting, the Lloyd’s of London unit, acquiring the final piece by 2025.\\n\\nThe Bermuda headquartered firm provides a number of firms with insurance and reinsurance services, from health plan providers to airlines and manufacturing groups. In this instance, the purchase will entail individual syndicate assets, enabling the firm to further expand their services and products.\\n\\nRegions agreed for EU SME access to assets market - clarification expected\\n\\nThe European Commission is expected to boost access to funding for small and medium sized enterprises (SMEs) by confirming the access points for financing vehicles holding certain packaged assets. The proposal will clarify where SMEs can source funding as well as identifying methods to speed up access to institutional market growth. The package will not include new legislation, but intends to define how current rules should be interpreted. Part of the plan is to relax capital requirements for banks investing in infrastructure projects as part of an initiative to mobilise €315bn of private sector money. (subscription article)\\n\\nUK, EU could be tied by red tape box or a Brexit cliff-edge\\n\\nAs Theresa May started her tour to promote a 'global Britain', a new report by Open Europe said the UK will either remain associated with the Customs Union and the Single Market which means adherence to laws, regulations and financial commitments, or risk a \\\"cliff-edge\\\" scenario leading to mutual financial damage. The report suggested the UK needs a bespoke deal, not a current off-the-shelf possibility, indicating neither the Norway nor Swiss model works well. The \\\"only likely model\\\" is based on a Free Trade Area deal, or potential for sectors-by-sector deals, the report said.\\n\\nAIIB approves $140m loan for Pakistan wind farm\\n\\nThe Asian Infrastructure Investment Bank (AIIB) has approved a $140m loan for a wind farm in Pakistan. The 100 MW Wind Power Project will connect with Pakistan's national grid, delivering up to 311 GWh per annum. The total cost of the project, which is expected to be completed by January 2020, is $450m.\\n\\n\",\n      \"content_filter_results\": {\n        \"hate\": {\n          \"filtered\": false,\n          \"severity\": \"safe\"\n        },\n        \"self_harm\": {\n          \"filtered\": false,\n          \"severity\": \"safe\"\n        },\n        \"sexual\": {\n          \"filtered\": false,\n          \"severity\": \"safe\"\n        },\n        \"violence\": {\n          \"filtered\": false,\n          \"severity\": \"safe\"\n        }\n      }\n    }\n  ],\n  \"created\": 1716462711,\n  \"model\": \"gpt-35-turbo\",\n  \"object\": \"text_completion\",\n  \"system_fingerprint\": null,\n  \"usage\": {\n    \"completion_tokens\": 782,\n    \"prompt_tokens\": 8,\n    \"total_tokens\": 790\n  },\n  \"prompt_filter_results\": [\n    {\n      \"prompt_index\": 0,\n      \"content_filter_results\": {\n        \"hate\": {\n          \"filtered\": false,\n          \"severity\": \"safe\"\n        },\n        \"self_harm\": {\n          \"filtered\": false,\n          \"severity\": \"safe\"\n        },\n        \"sexual\": {\n          \"filtered\": false,\n          \"severity\": \"safe\"\n        },\n        \"violence\": {\n          \"filtered\": false,\n          \"severity\": \"safe\"\n        }\n      }\n    }\n  ]\n}\n"
        }
      ],
      "execution_count": 11,
      "metadata": {
        "jupyter": {
          "source_hidden": false,
          "outputs_hidden": false
        },
        "nteract": {
          "transient": {
            "deleting": false
          }
        },
        "gather": {
          "logged": 1716462717185
        }
      }
    },
    {
      "attachments": {},
      "cell_type": "markdown",
      "source": [
        "# n\n",
        "\n",
        "Defaults to 1, optional\n",
        "\n",
        "How many completions to generate for each prompt. To generate multiple completions, we specify the n request parameter, which simply stands for ** “number of completions” **\n",
        "\n",
        "Note: Because this parameter generates many completions, it can quickly consume your token quota. Use carefully and ensure that you have reasonable settings for max_tokens and stop."
      ],
      "metadata": {}
    },
    {
      "cell_type": "code",
      "source": [
        "deployment_name='gpt-35-turbo' \n",
        "#This will correspond to the custom name you chose for your deployment when you deployed a model. \n",
        "    \n",
        "# Send a completion call to generate an answer\n",
        "start_phrase = 'The Enstar Group is a '\n",
        "response = client.completions.create(\n",
        "    model=deployment_name, \n",
        "    prompt=start_phrase, \n",
        "    temperature=1,\n",
        "    n=3)\n",
        "\n",
        "for i in response.choices:\n",
        "    print(i.text)\n",
        "    print (\"**************************\")"
      ],
      "outputs": [
        {
          "output_type": "stream",
          "name": "stdout",
          "text": "49% shareholder in HSB Group, an Energy Efficiency and Renewable\n**************************\n2.2 billion-dollar company that is owned by the Trident VI L.P.\n**************************\n3BL Media sponsor.\nImage credit: Wikimedia Commons\n\nLesley Lammers\n\n**************************\n"
        }
      ],
      "execution_count": 12,
      "metadata": {
        "jupyter": {
          "source_hidden": false,
          "outputs_hidden": false
        },
        "nteract": {
          "transient": {
            "deleting": false
          }
        },
        "gather": {
          "logged": 1716462728630
        }
      }
    },
    {
      "attachments": {},
      "cell_type": "markdown",
      "source": [
        "# logprobs\n",
        "\n",
        "Defaults to null, optional\n",
        "\n",
        "Log probabilities of output tokens indicate **the likelihood of each token occurring in the sequence given the context.** To simplify, a logprob is log(p), where p = probability of a token occurring at a specific position based on the previous tokens in the context.\n",
        "\n",
        "For example, if logprobs is 5, the API will return a list of the 5 most likely tokens. The API will always return the logprob of the sampled token, so there may be up to logprobs+1 elements in the response.\n",
        "\n",
        "** tokens ** — is an array of tokens generated by the language model. Each token is a word or part of a word.\n",
        "\n",
        "** token_logprobs ** — represents an array of log probabilities for each token in the tokens array. Log probability indicates the likelihood of the language model generating that token for the given prompt. The logprob values are negative, where smaller (more negative) numbers indicate a less likely outcome.\n",
        "\n",
        "** top_logprobs ** — represents an array of log probability objects, representing tokens most likely to be used for the completion. For example, if we specify the request parameter top_p = 0.5, then top_logprobs would contain log probabilities for top 50% of generated tokens."
      ],
      "metadata": {}
    },
    {
      "cell_type": "code",
      "source": [
        "start_phrase = 'The Enstar Group campany is a '\n",
        "response = client.completions.create(\n",
        "    model=deployment_name, \n",
        "    prompt=start_phrase, \n",
        "    temperature=0,\n",
        "    logprobs=4)"
      ],
      "outputs": [],
      "execution_count": 13,
      "metadata": {
        "jupyter": {
          "source_hidden": false,
          "outputs_hidden": false
        },
        "nteract": {
          "transient": {
            "deleting": false
          }
        },
        "gather": {
          "logged": 1716462739411
        }
      }
    },
    {
      "cell_type": "code",
      "source": [
        "response.choices[0].text"
      ],
      "outputs": [
        {
          "output_type": "execute_result",
          "execution_count": 14,
          "data": {
            "text/plain": "'3.5 billion dollar company that is based in Bermuda. The company is a'"
          },
          "metadata": {}
        }
      ],
      "execution_count": 14,
      "metadata": {
        "jupyter": {
          "source_hidden": false,
          "outputs_hidden": false
        },
        "nteract": {
          "transient": {
            "deleting": false
          }
        },
        "gather": {
          "logged": 1716462741923
        }
      }
    },
    {
      "cell_type": "code",
      "source": [
        "print(response.model_dump_json(indent=2))"
      ],
      "outputs": [
        {
          "output_type": "stream",
          "name": "stdout",
          "text": "{\n  \"id\": \"cmpl-9S0eqem2z47Lvy7J41LJkA9fQpwHl\",\n  \"choices\": [\n    {\n      \"finish_reason\": \"length\",\n      \"index\": 0,\n      \"logprobs\": {\n        \"text_offset\": [\n          30,\n          31,\n          32,\n          33,\n          41,\n          48,\n          56,\n          61,\n          64,\n          70,\n          73,\n          81,\n          82,\n          86,\n          94,\n          97\n        ],\n        \"token_logprobs\": [\n          -1.2614923,\n          -1.015463,\n          -1.4534577,\n          -0.39620423,\n          -0.399388,\n          -0.8076763,\n          -1.1357656,\n          -1.8642232,\n          -1.9506617,\n          -0.39279744,\n          -0.5855744,\n          -0.5134492,\n          -1.1054024,\n          -0.23762925,\n          -1.5667689,\n          -1.4469649\n        ],\n        \"tokens\": [\n          \"3\",\n          \".\",\n          \"5\",\n          \" billion\",\n          \" dollar\",\n          \" company\",\n          \" that\",\n          \" is\",\n          \" based\",\n          \" in\",\n          \" Bermuda\",\n          \".\",\n          \" The\",\n          \" company\",\n          \" is\",\n          \" a\"\n        ],\n        \"top_logprobs\": [\n          {\n            \"3\": -1.2614923,\n            \"2\": -3.0366416,\n            \"4\": -3.0591292,\n            \"5\": -3.107162\n          },\n          {\n            \".\": -1.015463,\n            \" billion\": -1.3195001,\n            \"rd\": -2.2744484,\n            \",\": -2.8927803\n          },\n          {\n            \"5\": -1.4534577,\n            \"2\": -2.0363398,\n            \"3\": -2.2649298,\n            \"7\": -2.2882872\n          },\n          {\n            \" billion\": -0.39620423,\n            \"-billion\": -2.6992056,\n            \" Billion\": -2.9759161,\n            \"B\": -3.2946818\n          },\n          {\n            \" dollar\": -0.399388,\n            \" company\": -2.7707603,\n            \" dollars\": -2.9332645,\n            \"-dollar\": -3.5418613\n          },\n          {\n            \" company\": -0.8076763,\n            \" insurance\": -2.750328,\n            \" holding\": -3.0336342,\n            \" global\": -3.0831394\n          },\n          {\n            \" that\": -1.1357656,\n            \" with\": -2.358605,\n            \".\": -2.4539456,\n            \" and\": -2.4796758\n          },\n          {\n            \" is\": -1.8642232,\n            \" specializes\": -1.9645956,\n            \" provides\": -2.0981996,\n            \" has\": -2.2690065\n          },\n          {\n            \" based\": -1.9506617,\n            \" a\": -2.491664,\n            \" headquartered\": -2.6354074,\n            \" publicly\": -2.8855143\n          },\n          {\n            \" in\": -0.39279744,\n            \" out\": -1.3314171,\n            \" on\": -3.224493,\n            \" off\": -5.6061306\n          },\n          {\n            \" Bermuda\": -0.5855744,\n            \" Hamilton\": -1.0723832,\n            \" the\": -3.2554657,\n            \" New\": -4.759244\n          },\n          {\n            \".\": -0.5134492,\n            \" and\": -1.6959996,\n            \",\": -2.4174123,\n            \" but\": -3.4222188\n          },\n          {\n            \" The\": -1.1054024,\n            \" It\": -1.4436477,\n            \" They\": -1.7613147,\n            \" En\": -2.533709\n          },\n          {\n            \" company\": -0.23762925,\n            \" En\": -3.4331458,\n            \" firm\": -3.8491156,\n            \" group\": -3.9527705\n          },\n          {\n            \" is\": -1.5667689,\n            \" has\": -1.5877287,\n            \" was\": -2.3290026,\n            \" specializes\": -2.6264937\n          },\n          {\n            \" a\": -1.4469649,\n            \" involved\": -2.494801,\n            \" known\": -2.8214726,\n            \" an\": -2.840918\n          }\n        ]\n      },\n      \"text\": \"3.5 billion dollar company that is based in Bermuda. The company is a\",\n      \"content_filter_results\": {\n        \"hate\": {\n          \"filtered\": false,\n          \"severity\": \"safe\"\n        },\n        \"self_harm\": {\n          \"filtered\": false,\n          \"severity\": \"safe\"\n        },\n        \"sexual\": {\n          \"filtered\": false,\n          \"severity\": \"safe\"\n        },\n        \"violence\": {\n          \"filtered\": false,\n          \"severity\": \"safe\"\n        }\n      }\n    }\n  ],\n  \"created\": 1716462740,\n  \"model\": \"gpt-35-turbo\",\n  \"object\": \"text_completion\",\n  \"system_fingerprint\": null,\n  \"usage\": {\n    \"completion_tokens\": 16,\n    \"prompt_tokens\": 9,\n    \"total_tokens\": 25\n  },\n  \"prompt_filter_results\": [\n    {\n      \"prompt_index\": 0,\n      \"content_filter_results\": {\n        \"hate\": {\n          \"filtered\": false,\n          \"severity\": \"safe\"\n        },\n        \"self_harm\": {\n          \"filtered\": false,\n          \"severity\": \"safe\"\n        },\n        \"sexual\": {\n          \"filtered\": false,\n          \"severity\": \"safe\"\n        },\n        \"violence\": {\n          \"filtered\": false,\n          \"severity\": \"safe\"\n        }\n      }\n    }\n  ]\n}\n"
        }
      ],
      "execution_count": 15,
      "metadata": {
        "jupyter": {
          "source_hidden": false,
          "outputs_hidden": false
        },
        "nteract": {
          "transient": {
            "deleting": false
          }
        },
        "gather": {
          "logged": 1716462744924
        }
      }
    },
    {
      "cell_type": "code",
      "source": [
        "import numpy as np"
      ],
      "outputs": [],
      "execution_count": 16,
      "metadata": {
        "jupyter": {
          "source_hidden": false,
          "outputs_hidden": false
        },
        "nteract": {
          "transient": {
            "deleting": false
          }
        },
        "gather": {
          "logged": 1716462749431
        }
      }
    },
    {
      "cell_type": "code",
      "source": [
        "print(\"Word values :\",response.choices[0].logprobs.tokens)\n",
        "print(\"Token log probabilities :\",response.choices[0].logprobs.token_logprobs)\n",
        "print(\"Top log linear probabilities :\",np.round(np.exp(response.choices[0].logprobs.token_logprobs)*100,2))\n",
        "\n",
        "print(\"Response:\", response.choices[0].text)"
      ],
      "outputs": [
        {
          "output_type": "stream",
          "name": "stdout",
          "text": "Word values : ['3', '.', '5', ' billion', ' dollar', ' company', ' that', ' is', ' based', ' in', ' Bermuda', '.', ' The', ' company', ' is', ' a']\nToken log probabilities : [-1.2614923, -1.015463, -1.4534577, -0.39620423, -0.399388, -0.8076763, -1.1357656, -1.8642232, -1.9506617, -0.39279744, -0.5855744, -0.5134492, -1.1054024, -0.23762925, -1.5667689, -1.4469649]\nTop log linear probabilities : [28.32 36.22 23.38 67.29 67.07 44.59 32.12 15.5  14.22 67.52 55.68 59.84\n 33.11 78.85 20.87 23.53]\nResponse: 3.5 billion dollar company that is based in Bermuda. The company is a\n"
        }
      ],
      "execution_count": 17,
      "metadata": {
        "jupyter": {
          "source_hidden": false,
          "outputs_hidden": false
        },
        "nteract": {
          "transient": {
            "deleting": false
          }
        },
        "gather": {
          "logged": 1716462750821
        }
      }
    },
    {
      "cell_type": "markdown",
      "source": [
        "# Presence_penalty\n",
        "\n",
        "Defaults to 0, Optional -> 0 means there is really no penalty or reward for the same token appearing multiple times. \n",
        "\n",
        "Number between -2.0 and 2.0. Positive values penalize new tokens based on ** whether they appear in the text so far **, increasing the model's likelihood to talk about new topics.\n",
        "\n",
        "Smaller values (minimum -2) decrease the penalty and increase the chances of a token appearing, while higher values (maximum 2) increase the penalty and decrease the chances of a token appearing."
      ],
      "metadata": {
        "nteract": {
          "transient": {
            "deleting": false
          }
        }
      }
    },
    {
      "cell_type": "code",
      "source": [
        "start_phrase = 'The Enstar Group company is a '\n",
        "response = client.completions.create(\n",
        "    model=deployment_name, \n",
        "    prompt=start_phrase, \n",
        "    presence_penalty=2,\n",
        "    max_tokens=50)"
      ],
      "outputs": [],
      "execution_count": 18,
      "metadata": {
        "jupyter": {
          "source_hidden": false,
          "outputs_hidden": false
        },
        "nteract": {
          "transient": {
            "deleting": false
          }
        },
        "gather": {
          "logged": 1716462757179
        }
      }
    },
    {
      "cell_type": "code",
      "source": [
        "print(response.choices[0].text)"
      ],
      "outputs": [
        {
          "output_type": "stream",
          "name": "stdout",
          "text": "53-year-old firm that deals in property and casualty insurance, focusing on the area of reinsurance. Enstar has offices across Bermuda, London, Beachwood Ohio, Australia, and Munich. The company is led by CEO Dominic Silvester,\n"
        }
      ],
      "execution_count": 19,
      "metadata": {
        "jupyter": {
          "source_hidden": false,
          "outputs_hidden": false
        },
        "nteract": {
          "transient": {
            "deleting": false
          }
        },
        "gather": {
          "logged": 1716462759814
        }
      }
    },
    {
      "cell_type": "code",
      "source": [
        "start_phrase = 'The Enstar Group company is a '\n",
        "response = client.completions.create(\n",
        "    model=deployment_name, \n",
        "    prompt=start_phrase, \n",
        "    presence_penalty=-2,\n",
        "    max_tokens=50)\n",
        "\n",
        "print(response.choices[0].text)"
      ],
      "outputs": [
        {
          "output_type": "stream",
          "name": "stdout",
          "text": "11.04 billion USD firm headquartered in Hamilton, Bermuda. It is a leading acquirer, manager, and reinsurer of insurance, and a leading provider of insurance-related services headquartered in Bermuda. It is also a global specialty property and casualty insurance firm\n"
        }
      ],
      "execution_count": 20,
      "metadata": {
        "jupyter": {
          "source_hidden": false,
          "outputs_hidden": false
        },
        "nteract": {
          "transient": {
            "deleting": false
          }
        },
        "gather": {
          "logged": 1716462763739
        }
      }
    },
    {
      "cell_type": "code",
      "source": [
        "print(response.model_dump_json(indent=2))"
      ],
      "outputs": [
        {
          "output_type": "stream",
          "name": "stdout",
          "text": "{\n  \"id\": \"cmpl-9S0fE82oYWcSkUKgU0xBk835uh9ja\",\n  \"choices\": [\n    {\n      \"finish_reason\": \"length\",\n      \"index\": 0,\n      \"logprobs\": null,\n      \"text\": \"11.04 billion USD firm headquartered in Hamilton, Bermuda. It is a leading acquirer, manager, and reinsurer of insurance, and a leading provider of insurance-related services headquartered in Bermuda. It is also a global specialty property and casualty insurance firm\",\n      \"content_filter_results\": {\n        \"hate\": {\n          \"filtered\": false,\n          \"severity\": \"safe\"\n        },\n        \"self_harm\": {\n          \"filtered\": false,\n          \"severity\": \"safe\"\n        },\n        \"sexual\": {\n          \"filtered\": false,\n          \"severity\": \"safe\"\n        },\n        \"violence\": {\n          \"filtered\": false,\n          \"severity\": \"safe\"\n        }\n      }\n    }\n  ],\n  \"created\": 1716462764,\n  \"model\": \"gpt-35-turbo\",\n  \"object\": \"text_completion\",\n  \"system_fingerprint\": null,\n  \"usage\": {\n    \"completion_tokens\": 50,\n    \"prompt_tokens\": 8,\n    \"total_tokens\": 58\n  },\n  \"prompt_filter_results\": [\n    {\n      \"prompt_index\": 0,\n      \"content_filter_results\": {\n        \"hate\": {\n          \"filtered\": false,\n          \"severity\": \"safe\"\n        },\n        \"self_harm\": {\n          \"filtered\": false,\n          \"severity\": \"safe\"\n        },\n        \"sexual\": {\n          \"filtered\": false,\n          \"severity\": \"safe\"\n        },\n        \"violence\": {\n          \"filtered\": false,\n          \"severity\": \"safe\"\n        }\n      }\n    }\n  ]\n}\n"
        }
      ],
      "execution_count": 21,
      "metadata": {
        "jupyter": {
          "source_hidden": false,
          "outputs_hidden": false
        },
        "nteract": {
          "transient": {
            "deleting": false
          }
        },
        "gather": {
          "logged": 1716462766347
        }
      }
    },
    {
      "cell_type": "markdown",
      "source": [
        "\n",
        "# Frequency_penalty\n",
        "\n",
        "Defaults to 0\n",
        "\n",
        "Number between -2.0 and 2.0. Positive values ** penalize new tokens based on their existing frequency in the text so far **, decreasing the model's likelihood to repeat the same line verbatim."
      ],
      "metadata": {
        "nteract": {
          "transient": {
            "deleting": false
          }
        }
      }
    },
    {
      "attachments": {},
      "cell_type": "markdown",
      "source": [
        "\n",
        "# Best_of\n",
        "\n",
        "Defaults to 1,optional\n",
        "\n",
        "This parameter tells the language model to generate multiple completions and return the best one, which is the one with the highest log probability per token.\n",
        "\n",
        "\n",
        "Note: Because this parameter generates many completions, it can quickly consume your token quota. Use carefully and ensure that you have reasonable settings for max_tokens and stop.\n",
        "\n"
      ],
      "metadata": {}
    },
    {
      "cell_type": "code",
      "source": [
        "start_phrase = 'The Enstar Group company is a '\n",
        "response = client.completions.create(\n",
        "    model=deployment_name, \n",
        "    prompt=start_phrase, \n",
        "    best_of=3,\n",
        "    max_tokens=50)\n",
        "\n",
        "print(response.choices[0].text)"
      ],
      "outputs": [
        {
          "output_type": "stream",
          "name": "stdout",
          "text": "19 year old, Bermuda-based reinsurance provider with 1,300 employees worldwide. The company also operates other business units in the U.S., Europe, and Bermuda.\n\nhttps://www.reinsurancene.ws/beechwood-re-seeks-\n"
        }
      ],
      "execution_count": 22,
      "metadata": {
        "jupyter": {
          "source_hidden": false,
          "outputs_hidden": false
        },
        "nteract": {
          "transient": {
            "deleting": false
          }
        },
        "gather": {
          "logged": 1716462772719
        }
      }
    },
    {
      "cell_type": "markdown",
      "source": [
        "# logit_bias\n",
        "\n",
        "Defaults to null\n",
        "\n",
        "The logit_bias request parameter is used to modify the likelihood of specified tokens appearing in the completion. We can use this parameter to provide hints to the language model about **which tokens we want or don’t want to appear in the completion**. It basically allows us to make the model more biased towards certain keywords or topics."
      ],
      "metadata": {
        "nteract": {
          "transient": {
            "deleting": false
          }
        }
      }
    },
    {
      "cell_type": "code",
      "source": [
        "#-100 bias, which should completely prevent them from appearing.\n",
        "# 100 bias will show only that word\n",
        "start_phrase = 'The Enstar Group company is a '\n",
        "response = client.completions.create(\n",
        "    model=deployment_name, \n",
        "    prompt=start_phrase,\n",
        "    max_tokens=50,\n",
        "    logit_bias={\"30\":10, \"5936\": 10})\n",
        "#5936 for April\n",
        "print(response.choices[0].text)"
      ],
      "outputs": [
        {
          "output_type": "stream",
          "name": "stdout",
          "text": "26 April April April April April April April April April April April April April April April April April April April April April April April April April April April April April April April April April April April April April April April April April April April April April April April April April\n"
        }
      ],
      "execution_count": 23,
      "metadata": {
        "jupyter": {
          "source_hidden": false,
          "outputs_hidden": false
        },
        "nteract": {
          "transient": {
            "deleting": false
          }
        },
        "gather": {
          "logged": 1716462777327
        }
      }
    },
    {
      "cell_type": "markdown",
      "source": [
        "## Echo and Stop"
      ],
      "metadata": {
        "nteract": {
          "transient": {
            "deleting": false
          }
        }
      }
    },
    {
      "cell_type": "markdown",
      "source": [
        "By setting the echo parameter to true, you’re asking the language model to **return the prompt embedded within the completion.** This is useful for debugging."
      ],
      "metadata": {
        "nteract": {
          "transient": {
            "deleting": false
          }
        }
      }
    },
    {
      "cell_type": "code",
      "source": [
        "start_phrase = 'The Enstar Group company is a '\n",
        "\n",
        "response = client.completions.create(\n",
        "    model=deployment_name, \n",
        "    prompt=start_phrase,\n",
        "    max_tokens=50,\n",
        "    echo=True)\n",
        "print(response.choices[0].text)"
      ],
      "outputs": [
        {
          "output_type": "stream",
          "name": "stdout",
          "text": "The Enstar Group company is a 46-year-old, Bermuda-based holding company that operates in the global markets as a buyer of insurance and/or reinsurance business or portfolios. One of its subsidiaries stateside is Enstar Public Adjusters.Our public adjusting firm provides services to policyholders who find\n"
        }
      ],
      "execution_count": 24,
      "metadata": {
        "jupyter": {
          "source_hidden": false,
          "outputs_hidden": false
        },
        "nteract": {
          "transient": {
            "deleting": false
          }
        },
        "gather": {
          "logged": 1716462785700
        }
      }
    },
    {
      "cell_type": "markdown",
      "source": [
        "The ** stop ** parameter allows you to specify up to 4 sequences of text on which the language model will halt and return the result. This is useful for specifying early termination triggers for the language model."
      ],
      "metadata": {
        "nteract": {
          "transient": {
            "deleting": false
          }
        }
      }
    },
    {
      "cell_type": "code",
      "source": [
        "start_phrase = 'The Enstar Group company is a '\n",
        "\n",
        "response = client.completions.create(\n",
        "    model=deployment_name, \n",
        "    prompt=start_phrase,\n",
        "    max_tokens=50,\n",
        "    temperature=0,\n",
        "    stop=\"company\")\n",
        "print(response.choices[0].text)"
      ],
      "outputs": [
        {
          "output_type": "stream",
          "name": "stdout",
          "text": "10-year-old, Bermuda-based reinsurer that specializes in acquiring and managing insurance and reinsurance companies in run-off. It has offices in the United States, the United Kingdom, and Bermuda.\n\nThe \n"
        }
      ],
      "execution_count": 25,
      "metadata": {
        "jupyter": {
          "source_hidden": false,
          "outputs_hidden": false
        },
        "nteract": {
          "transient": {
            "deleting": false
          }
        },
        "gather": {
          "logged": 1716462788934
        }
      }
    },
    {
      "cell_type": "code",
      "source": [
        "start_phrase = 'The Enstar Group company is a '\n",
        "\n",
        "response = client.completions.create(\n",
        "    model=deployment_name, \n",
        "    prompt=start_phrase,\n",
        "    max_tokens=50,\n",
        "    temperature=0,\n",
        "    stop=[\"company\",\"United\"])\n",
        "print(response.choices[0].text)"
      ],
      "outputs": [
        {
          "output_type": "stream",
          "name": "stdout",
          "text": "10-year-old, Bermuda-based reinsurer that specializes in acquiring and managing insurance and reinsurance companies in run-off. It has offices in the \n"
        }
      ],
      "execution_count": 26,
      "metadata": {
        "jupyter": {
          "source_hidden": false,
          "outputs_hidden": false
        },
        "nteract": {
          "transient": {
            "deleting": false
          }
        },
        "gather": {
          "logged": 1716462791658
        }
      }
    },
    {
      "cell_type": "markdown",
      "source": [
        "https://learn.microsoft.com/en-us/azure/ai-services/openai/reference"
      ],
      "metadata": {
        "nteract": {
          "transient": {
            "deleting": false
          }
        }
      }
    }
  ],
  "metadata": {
    "kernelspec": {
      "name": "python310-sdkv2",
      "language": "python",
      "display_name": "Python 3.10 - SDK v2"
    },
    "language_info": {
      "name": "python",
      "version": "3.10.11",
      "mimetype": "text/x-python",
      "codemirror_mode": {
        "name": "ipython",
        "version": 3
      },
      "pygments_lexer": "ipython3",
      "nbconvert_exporter": "python",
      "file_extension": ".py"
    },
    "orig_nbformat": 4,
    "vscode": {
      "interpreter": {
        "hash": "2139c70ac98f3202d028164a545621647e07f47fd6f5d8ac55cf952bf7c15ed1"
      }
    },
    "microsoft": {
      "ms_spell_check": {
        "ms_spell_check_language": "en"
      },
      "host": {
        "AzureML": {
          "notebookHasBeenCompleted": true
        }
      }
    },
    "kernel_info": {
      "name": "python310-sdkv2"
    },
    "nteract": {
      "version": "nteract-front-end@1.0.0"
    }
  },
  "nbformat": 4,
  "nbformat_minor": 2
}