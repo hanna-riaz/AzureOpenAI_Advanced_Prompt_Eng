{
  "cells": [
    {
      "cell_type": "markdown",
      "source": [
        "# Chat Completions\n",
        "\n",
        "Chat models take a series of messages as input, and return a model-generated message as output.\n",
        "The main input is the messages parameter. **Messages must be an array of message objects, where each object has a role (either \"system\", \"user\") and content** (the content of the message). "
      ],
      "metadata": {},
      "id": "278e7451"
    },
    {
      "cell_type": "code",
      "source": [
        "# if needed, install and/or upgrade to the latest version of the OpenAI Python library\n",
        "#%pip install --upgrade openai"
      ],
      "outputs": [],
      "execution_count": null,
      "metadata": {},
      "id": "fb97123e"
    },
    {
      "cell_type": "code",
      "source": [
        "# import openai\n",
        "# from openai import AzureOpenAI\n",
        "# import os \n",
        "# from azure.identity import ManagedIdentityCredential\n",
        "\n",
        "# default_credential=ManagedIdentityCredential(client_id=\"d30cba06-04c1-4065-a91d-8b7ce3b07b78\")\n",
        "# token=default_credential.get_token(\"https://cognitiveservices.azure.com/.default\")\n",
        "# Resource_endpoint=\"https://openaiykus.openai.azure.com/\"\n",
        "\n",
        "# client = AzureOpenAI(\n",
        "#   azure_endpoint = Resource_endpoint, \n",
        "#   api_key=token.token,  \n",
        "#   api_version=\"2023-05-15\"\n",
        "# )"
      ],
      "outputs": [],
      "execution_count": 3,
      "metadata": {
        "gather": {
          "logged": 1700434959897
        }
      },
      "id": "ccbb9a99"
    },
    {
      "cell_type": "code",
      "source": [
        "import os\n",
        "import openai\n",
        "from openai import AzureOpenAI\n",
        "from dotenv import load_dotenv\n",
        "\n",
        "# Set up Azure OpenAI\n",
        "load_dotenv(\"credentials.env\")\n",
        "\n",
        "openai.api_type = \"azure\"\n",
        "    \n",
        "client = AzureOpenAI(\n",
        "    api_key=os.getenv(\"AZURE_OPENAI_KEY\"),  \n",
        "    api_version=\"2024-02-01\",\n",
        "    azure_endpoint = os.getenv(\"AZURE_OPENAI_ENDPOINT\")\n",
        "    )"
      ],
      "outputs": [],
      "execution_count": 1,
      "metadata": {
        "jupyter": {
          "source_hidden": false,
          "outputs_hidden": false
        },
        "nteract": {
          "transient": {
            "deleting": false
          }
        },
        "gather": {
          "logged": 1716203958870
        }
      },
      "id": "424b2269-4ed0-44a2-8e35-1b397cf3e172"
    },
    {
      "cell_type": "code",
      "source": [
        "messages=[\n",
        "        {\"role\": \"system\", \"content\": \"You are a helpful assistant.\"},\n",
        "        {\"role\": \"user\", \"content\": \"Can you write a welcome page for The Very Group company website ?\"}]"
      ],
      "outputs": [],
      "execution_count": 2,
      "metadata": {
        "jupyter": {
          "source_hidden": false,
          "outputs_hidden": false
        },
        "nteract": {
          "transient": {
            "deleting": false
          }
        },
        "gather": {
          "logged": 1716203963128
        }
      },
      "id": "98bb0b84-8397-4e0c-b52e-2b45760bda80"
    },
    {
      "cell_type": "markdown",
      "source": [
        "# change the env file if needed for the gpt-4 model"
      ],
      "metadata": {
        "nteract": {
          "transient": {
            "deleting": false
          }
        }
      },
      "id": "f10e93aa-d4dd-465f-bf37-b78bb45feda6"
    },
    {
      "cell_type": "code",
      "source": [
        "response = client.chat.completions.create(\n",
        "    model=\"gpt-4\", # model = \"deployment_name\".\n",
        "    messages=messages\n",
        ")\n",
        "print(response.choices[0].message.content)"
      ],
      "outputs": [
        {
          "output_type": "stream",
          "name": "stdout",
          "text": "Welcome to The Very Group\n\nGreetings and a warm welcome to The Very Group website. Here, we are proud to house one of the most dynamic assortments of leading retail brands in the UK, including Very.co.uk, Littlewoods.com, and Very Exclusive. \n\nAs one of the United Kingdom's largest integrated digital retailers and financial services provider, we are relentlessly committed to serving millions of customers with dynamic, innovative, and personalized offerings. Our sustained legacy of over 100 years in retail speaks volumes about our dedication to evolve and improve the customer shopping experience.\n\nWithin our digital pages, you will uncover a rich combination of over 1,900 brands, serving an extensive customer base of almost four million active customers. Whether you’re in search of the latest fashion collections, pioneering tech gadgets, home decor innovations or phenomenal beauty products, we've got you covered!\n\nWe believe in a future that is driven by technology. Our unique, tailor-made approach to retail combines leading-edge technology and finely-tuned data analytics, ensuring an unparalleled customer experience with resources to discover, personalize and easily shop the products they adore.\n\nOur commitment isn't just to provide an excellent shopping experience. As a company, we put immense value on our responsibility towards the community and the environment. We take careful strides in minimizing our environmental footprint and are dedicated to empowering our people, our partners, and the local community.\n\nFeel free to explore our website, read up on The Very Group’s services, get to know our brands, learn about our commitment towards responsible retailing and discover the exciting career opportunities we offer.\n\nShould you have any inquiries or require any assistance, our dedicated customer service team is just a click away, ready to assist you with the warmest of welcomes.\n\nWelcome aboard The Very Group, where incredible shopping journeys begin!\n"
        }
      ],
      "execution_count": 27,
      "metadata": {
        "jupyter": {
          "source_hidden": false,
          "outputs_hidden": false
        },
        "nteract": {
          "transient": {
            "deleting": false
          }
        },
        "gather": {
          "logged": 1712318088039
        }
      },
      "id": "0e00e3f2-42ba-4090-957c-b2781f62cc1b"
    },
    {
      "cell_type": "code",
      "source": [
        "response"
      ],
      "outputs": [
        {
          "output_type": "execute_result",
          "execution_count": 28,
          "data": {
            "text/plain": "ChatCompletion(id='chatcmpl-9AcRHEs8N6ouW6WzbEklUpOml60zl', choices=[Choice(finish_reason='stop', index=0, logprobs=None, message=ChatCompletionMessage(content=\"Welcome to The Very Group\\n\\nGreetings and a warm welcome to The Very Group website. Here, we are proud to house one of the most dynamic assortments of leading retail brands in the UK, including Very.co.uk, Littlewoods.com, and Very Exclusive. \\n\\nAs one of the United Kingdom's largest integrated digital retailers and financial services provider, we are relentlessly committed to serving millions of customers with dynamic, innovative, and personalized offerings. Our sustained legacy of over 100 years in retail speaks volumes about our dedication to evolve and improve the customer shopping experience.\\n\\nWithin our digital pages, you will uncover a rich combination of over 1,900 brands, serving an extensive customer base of almost four million active customers. Whether you’re in search of the latest fashion collections, pioneering tech gadgets, home decor innovations or phenomenal beauty products, we've got you covered!\\n\\nWe believe in a future that is driven by technology. Our unique, tailor-made approach to retail combines leading-edge technology and finely-tuned data analytics, ensuring an unparalleled customer experience with resources to discover, personalize and easily shop the products they adore.\\n\\nOur commitment isn't just to provide an excellent shopping experience. As a company, we put immense value on our responsibility towards the community and the environment. We take careful strides in minimizing our environmental footprint and are dedicated to empowering our people, our partners, and the local community.\\n\\nFeel free to explore our website, read up on The Very Group’s services, get to know our brands, learn about our commitment towards responsible retailing and discover the exciting career opportunities we offer.\\n\\nShould you have any inquiries or require any assistance, our dedicated customer service team is just a click away, ready to assist you with the warmest of welcomes.\\n\\nWelcome aboard The Very Group, where incredible shopping journeys begin!\", role='assistant', function_call=None, tool_calls=None), content_filter_results={'hate': {'filtered': False, 'severity': 'safe'}, 'self_harm': {'filtered': False, 'severity': 'safe'}, 'sexual': {'filtered': False, 'severity': 'safe'}, 'violence': {'filtered': False, 'severity': 'safe'}})], created=1712318067, model='gpt-4', object='chat.completion', system_fingerprint=None, usage=CompletionUsage(completion_tokens=358, prompt_tokens=30, total_tokens=388), prompt_filter_results=[{'prompt_index': 0, 'content_filter_results': {'hate': {'filtered': False, 'severity': 'safe'}, 'self_harm': {'filtered': False, 'severity': 'safe'}, 'sexual': {'filtered': False, 'severity': 'safe'}, 'violence': {'filtered': False, 'severity': 'safe'}}}])"
          },
          "metadata": {}
        }
      ],
      "execution_count": 28,
      "metadata": {
        "jupyter": {
          "source_hidden": false,
          "outputs_hidden": false
        },
        "nteract": {
          "transient": {
            "deleting": false
          }
        },
        "gather": {
          "logged": 1712318122594
        }
      },
      "id": "29b695d2-118d-45b0-b7ed-3ff91dde9684"
    },
    {
      "cell_type": "code",
      "source": [
        "messages.append({\"role\": \"system\", \"content\": response.choices[0].message.content})"
      ],
      "outputs": [],
      "execution_count": 29,
      "metadata": {
        "jupyter": {
          "source_hidden": false,
          "outputs_hidden": false
        },
        "nteract": {
          "transient": {
            "deleting": false
          }
        },
        "gather": {
          "logged": 1712318156119
        }
      },
      "id": "7e67e4ce-f345-4976-bb1c-894581eddc31"
    },
    {
      "cell_type": "code",
      "source": [
        "messages.append({\"role\": \"user\", \"content\": \"Can you summarize our conversation?\"})"
      ],
      "outputs": [],
      "execution_count": 30,
      "metadata": {
        "jupyter": {
          "source_hidden": false,
          "outputs_hidden": false
        },
        "nteract": {
          "transient": {
            "deleting": false
          }
        },
        "gather": {
          "logged": 1712318180150
        }
      },
      "id": "0bc62099-a0bd-4bfb-8a0c-3180d924e25e"
    },
    {
      "cell_type": "code",
      "source": [
        "print(messages)"
      ],
      "outputs": [
        {
          "output_type": "stream",
          "name": "stdout",
          "text": "[{'role': 'system', 'content': 'You are a helpful assistant.'}, {'role': 'user', 'content': 'Can you write a welcome page for The Very Group company website ?'}, {'role': 'system', 'content': \"Welcome to The Very Group\\n\\nGreetings and a warm welcome to The Very Group website. Here, we are proud to house one of the most dynamic assortments of leading retail brands in the UK, including Very.co.uk, Littlewoods.com, and Very Exclusive. \\n\\nAs one of the United Kingdom's largest integrated digital retailers and financial services provider, we are relentlessly committed to serving millions of customers with dynamic, innovative, and personalized offerings. Our sustained legacy of over 100 years in retail speaks volumes about our dedication to evolve and improve the customer shopping experience.\\n\\nWithin our digital pages, you will uncover a rich combination of over 1,900 brands, serving an extensive customer base of almost four million active customers. Whether you’re in search of the latest fashion collections, pioneering tech gadgets, home decor innovations or phenomenal beauty products, we've got you covered!\\n\\nWe believe in a future that is driven by technology. Our unique, tailor-made approach to retail combines leading-edge technology and finely-tuned data analytics, ensuring an unparalleled customer experience with resources to discover, personalize and easily shop the products they adore.\\n\\nOur commitment isn't just to provide an excellent shopping experience. As a company, we put immense value on our responsibility towards the community and the environment. We take careful strides in minimizing our environmental footprint and are dedicated to empowering our people, our partners, and the local community.\\n\\nFeel free to explore our website, read up on The Very Group’s services, get to know our brands, learn about our commitment towards responsible retailing and discover the exciting career opportunities we offer.\\n\\nShould you have any inquiries or require any assistance, our dedicated customer service team is just a click away, ready to assist you with the warmest of welcomes.\\n\\nWelcome aboard The Very Group, where incredible shopping journeys begin!\"}, {'role': 'user', 'content': 'Can you summarize our conversation?'}]\n"
        }
      ],
      "execution_count": 31,
      "metadata": {
        "jupyter": {
          "source_hidden": false,
          "outputs_hidden": false
        },
        "nteract": {
          "transient": {
            "deleting": false
          }
        },
        "gather": {
          "logged": 1712318182101
        }
      },
      "id": "d9ad7a3a-b65b-4919-b21a-bf5ad2f8e9c4"
    },
    {
      "cell_type": "code",
      "source": [
        "response = client.chat.completions.create(\n",
        "    model=\"gpt-4\", # model = \"deployment_name\".\n",
        "    messages=messages\n",
        ")\n",
        "print(response.choices[0].message.content)"
      ],
      "outputs": [
        {
          "output_type": "stream",
          "name": "stdout",
          "text": "You requested me to write a welcome page for The Very Group's company website. I created a welcoming message that introduces visitors to The Very Group as one of UK's largest integrated digital retailers and financial services provider. The welcome page also included details about their brands, their commitment to technology and responsible retailing, and encourages exploration of the services, opportunities, and assistance they offer.\n"
        }
      ],
      "execution_count": 32,
      "metadata": {
        "jupyter": {
          "source_hidden": false,
          "outputs_hidden": false
        },
        "nteract": {
          "transient": {
            "deleting": false
          }
        },
        "gather": {
          "logged": 1712318224023
        }
      },
      "id": "4bfe09da-ed31-4824-8a64-69b295bf4737"
    },
    {
      "cell_type": "code",
      "source": [
        "# Instead of appending, writing messages in the SDK\n",
        "response = client.chat.completions.create(\n",
        "    model=\"gpt-4\", # model = \"deployment_name\".\n",
        "    messages=[\n",
        "        {\"role\": \"system\", \"content\": \"You are a helpful assistant.\"},\n",
        "        {\"role\": \"user\", \"content\": \"Can you write a welcome page for The Very Group company website ?\"},\n",
        "        {\"role\": \"system\", \"content\": \"Welcome to The Very Group, a company that integrates creativity, innovation, and cutting-edge technology to create unique and exceptional customer experiences.\"},\n",
        "        {\"role\": \"user\", \"content\": \"Can you summarize our conversation?\"},\n",
        "    ]\n",
        ")\n",
        "\n",
        "print(response.choices[0].message.content)"
      ],
      "outputs": [
        {
          "output_type": "stream",
          "name": "stdout",
          "text": "You asked me to write a welcome page for The Very Group's company website, which I did by encapsulating their essence as a creative, innovative, and technology-driven company dedicated to providing unique customer experiences.\n"
        }
      ],
      "execution_count": 10,
      "metadata": {
        "jupyter": {
          "source_hidden": false,
          "outputs_hidden": false
        },
        "nteract": {
          "transient": {
            "deleting": false
          }
        },
        "gather": {
          "logged": 1712291470714
        }
      },
      "id": "ead41f53-999c-4a67-aa2b-51c3377688d8"
    },
    {
      "cell_type": "markdown",
      "source": [
        "# PII Redaction"
      ],
      "metadata": {
        "nteract": {
          "transient": {
            "deleting": false
          }
        }
      },
      "id": "3a74260e-6101-4bbe-b82d-c8f1d6a2f0bc"
    },
    {
      "cell_type": "code",
      "source": [
        "content= f\"\"\"You are a helpful assistant that answers the given question. You must present both response and original question in your output after redacting any PII data such as name, address, date of birth, medical records, and financial records.\n",
        " \n",
        "Format the output in JSON by using \"Original Question\" and \"Response\" as a key. The original question should be the user input verbatim.\"\"\""
      ],
      "outputs": [],
      "execution_count": 33,
      "metadata": {
        "jupyter": {
          "source_hidden": false,
          "outputs_hidden": false
        },
        "nteract": {
          "transient": {
            "deleting": false
          }
        },
        "gather": {
          "logged": 1712318302867
        }
      },
      "id": "7cdf5c24-6f1c-4531-bfe0-44f614fe74a1"
    },
    {
      "cell_type": "code",
      "source": [
        "\n",
        "response = client.chat.completions.create(\n",
        "    model=\"gpt-4\", # model = \"deployment_name\".\n",
        "    messages=[\n",
        "        {\"role\": \"system\", \"content\": content},\n",
        "        {\"role\": \"user\", \"content\": \"Hi, I am Yeliz, based in Cambridge. Can you write a poem for me?\"}\n",
        "    ]\n",
        ")\n",
        "\n",
        "print(response.choices[0].message.content)"
      ],
      "outputs": [
        {
          "output_type": "stream",
          "name": "stdout",
          "text": "{\n  \"Original Question\": \"Hi, I am [Redacted], based in [Redacted]. Can you write a poem for me?\",\n  \"Response\": \"Of course! Here's a poem for you:\\n\\nAmid the halls of dreaming spires,\\nWhere knowledge flows like running rivers.\\nThere, in the city of whispers,\\nLives a soul, like a beacon that never shivers.\\nPossessor of wisdom, carrier of light,\\nWalking amidst history, in day and night.\\nMay you continue to learn and thrive,\\nIn the city where curiosity is ever-alive.\"\n}\n"
        }
      ],
      "execution_count": 34,
      "metadata": {
        "jupyter": {
          "source_hidden": false,
          "outputs_hidden": false
        },
        "nteract": {
          "transient": {
            "deleting": false
          }
        },
        "gather": {
          "logged": 1712318316033
        }
      },
      "id": "2a614a4b-2874-499a-b045-2852ac4f9888"
    },
    {
      "cell_type": "markdown",
      "source": [
        "### **GPT-4 TURBO  Reproducable Outputs with Seed Parameter**"
      ],
      "metadata": {
        "nteract": {
          "transient": {
            "deleting": false
          }
        }
      },
      "id": "ccbd11bd-7f8e-4c6a-9fd0-708b645d249d"
    },
    {
      "cell_type": "code",
      "source": [
        "for i in range(3):\n",
        "  print(f'Story Version {i + 1}\\n---')\n",
        "    \n",
        "  response = client.chat.completions.create(\n",
        "    model=\"gpt-35-turbo-0125\", # Model = should match the deployment name you chose for your 1106-preview model deployment\n",
        "    seed=42,\n",
        "    temperature=0.5,\n",
        "    max_tokens =50, \n",
        "    messages=[\n",
        "      {\"role\": \"system\", \"content\": \"You are a helpful assistant.\"},\n",
        "      {\"role\": \"user\", \"content\": \"Tell me a story about how the universe began?\"}\n",
        "    ]\n",
        "  )\n",
        "  \n",
        "  print(response.choices[0].message.content)\n",
        "  print(\"---\\n\")\n"
      ],
      "outputs": [
        {
          "output_type": "stream",
          "name": "stdout",
          "text": "Story Version 1\n---\nIn the beginning, there was nothing but darkness and silence. Then, suddenly, a tiny point of light appeared, bursting forth with unimaginable energy. This was the moment of the Big Bang, the birth of our universe.\n\nAs the universe expanded and\n---\n\nStory Version 2\n---\nIn the beginning, there was nothing but darkness and silence. Then, suddenly, a tiny point of light appeared, and with a great explosion, the universe was born. This event was known as the Big Bang.\n\nAs the universe expanded and cooled,\n---\n\nStory Version 3\n---\nIn the beginning, there was nothing but darkness and silence. Then, suddenly, a tiny point of light appeared, bursting forth with unimaginable energy. This was the moment of the Big Bang, the birth of our universe.\n\nAs the universe expanded and\n---\n\n"
        }
      ],
      "execution_count": 3,
      "metadata": {
        "jupyter": {
          "source_hidden": false,
          "outputs_hidden": false
        },
        "nteract": {
          "transient": {
            "deleting": false
          }
        },
        "gather": {
          "logged": 1713347002817
        }
      },
      "id": "c9b5d45d-0de2-44f8-a903-ced5b0173a02"
    },
    {
      "cell_type": "code",
      "source": [
        "for i in range(3):\n",
        "  print(f'Story Version {i + 1}\\n---')\n",
        "    \n",
        "  response = client.chat.completions.create(\n",
        "    model=\"gpt-4-0125-Preview\", # Model = should match the deployment name you chose for your 1106-preview model deployment\n",
        "    seed=42,\n",
        "    temperature=0.5,\n",
        "    max_tokens =50, \n",
        "    messages=[\n",
        "      {\"role\": \"system\", \"content\": \"You are a helpful assistant.\"},\n",
        "      {\"role\": \"user\", \"content\": \"Tell me a story about how the universe began?\"}\n",
        "    ]\n",
        "  )\n",
        "  \n",
        "  print(response.choices[0].message.content)\n",
        "  print(\"---\\n\")\n"
      ],
      "outputs": [
        {
          "output_type": "stream",
          "name": "stdout",
          "text": "Story Version 1\n---\nIn the vast expanse of nothingness, where time and space had yet to find their form, a singular event sparked the creation of everything we know—the universe's beginning. This is a tale not of science or facts, but of imagination, inspired\n---\n\nStory Version 2\n---\nIn the vast expanse of nothingness, where time and space had yet to find their form, a singular event sparked the creation of everything we know—the universe began with the Big Bang.\n\nBefore this moment, all that would become the universe was condensed\n---\n\nStory Version 3\n---\nIn the vast expanse of nothingness, where time and space had yet to find their form, a singular event sparked the creation of everything we know—the universe's beginning. This is a tale not of science or fact, but of imagination, inspired\n---\n\n"
        }
      ],
      "execution_count": 20,
      "metadata": {
        "jupyter": {
          "source_hidden": false,
          "outputs_hidden": false
        },
        "nteract": {
          "transient": {
            "deleting": false
          }
        },
        "gather": {
          "logged": 1712292950103
        }
      },
      "id": "d7518517-26df-421f-bd34-0ad2c0efd6cf"
    },
    {
      "cell_type": "code",
      "source": [],
      "outputs": [],
      "execution_count": null,
      "metadata": {
        "jupyter": {
          "source_hidden": false,
          "outputs_hidden": false
        },
        "nteract": {
          "transient": {
            "deleting": false
          }
        }
      },
      "id": "e30a3c1e-b678-4462-98ce-f7eb30fcce9f"
    }
  ],
  "metadata": {
    "kernelspec": {
      "name": "python310-sdkv2",
      "language": "python",
      "display_name": "Python 3.10 - SDK v2"
    },
    "language_info": {
      "name": "python",
      "version": "3.10.11",
      "mimetype": "text/x-python",
      "codemirror_mode": {
        "name": "ipython",
        "version": 3
      },
      "pygments_lexer": "ipython3",
      "nbconvert_exporter": "python",
      "file_extension": ".py"
    },
    "microsoft": {
      "ms_spell_check": {
        "ms_spell_check_language": "en"
      },
      "host": {
        "AzureML": {
          "notebookHasBeenCompleted": true
        }
      }
    },
    "kernel_info": {
      "name": "python310-sdkv2"
    },
    "nteract": {
      "version": "nteract-front-end@1.0.0"
    }
  },
  "nbformat": 4,
  "nbformat_minor": 5
}