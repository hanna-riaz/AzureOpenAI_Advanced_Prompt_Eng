{
  "cells": [
    {
      "cell_type": "code",
      "source": [
        "import os\n",
        "import requests\n",
        "import base64\n",
        "\n",
        "api_key=\"XXX\"\n",
        "\n",
        "IMAGE_PATH = \"data/complex_report_screenshot.png\"\n",
        "\n",
        "encoded_image = base64.b64encode(open(IMAGE_PATH, 'rb').read()).decode('ascii')\n",
        "headers = {\n",
        "    \"Content-Type\": \"application/json\",\n",
        "    \"api-key\": api_key,\n",
        "}\n",
        "\n",
        "# Payload for the request\n",
        "payload = {\n",
        "  \"messages\": [\n",
        "    {\n",
        "      \"role\": \"system\",\n",
        "      \"content\": [\n",
        "        {\n",
        "          \"type\": \"text\",\n",
        "          \"text\": \"You are an AI assistant that extract information from images.\"\n",
        "        }\n",
        "      ]\n",
        "    },\n",
        "    {\n",
        "      \"role\": \"user\",\n",
        "      \"content\": [\n",
        "        {\n",
        "          \"type\": \"image_url\",\n",
        "          \"image_url\": {\n",
        "            \"url\": f\"data:image/jpeg;base64,{encoded_image}\"\n",
        "          }\n",
        "        },\n",
        "        {\n",
        "          \"type\": \"text\",\n",
        "          \"text\":\"explain this image and give me launch date, fund size and risk class as key value pairs.\"\n",
        "        }\n",
        "      ]\n",
        "    }\n",
        "  ],\n",
        "  \"temperature\": 0.7,\n",
        "  \"top_p\": 0.95,\n",
        "  \"max_tokens\": 800\n",
        "}\n",
        "\n",
        "endpoint = \"https://aoai-eastus2-yk.openai.azure.com/openai/deployments/gpt-4turbo-0409/chat/completions?api-version=2024-02-15-preview\"\n",
        "\n",
        "# Send request\n",
        "try:\n",
        "    response = requests.post(endpoint, headers=headers, json=payload)\n",
        "    response.raise_for_status()  # Will raise an HTTPError if the HTTP request returned an unsuccessful status code\n",
        "except requests.RequestException as e:\n",
        "    raise SystemExit(f\"Failed to make the request. Error: {e}\")\n",
        "\n",
        "# Handle the response as needed (e.g., print or process)\n",
        "print(response.json())"
      ],
      "outputs": [
        {
          "output_type": "stream",
          "name": "stdout",
          "text": "{'choices': [{'content_filter_results': {'hate': {'filtered': False, 'severity': 'safe'}, 'self_harm': {'filtered': False, 'severity': 'safe'}, 'sexual': {'filtered': False, 'severity': 'safe'}, 'violence': {'filtered': False, 'severity': 'safe'}}, 'finish_reason': 'stop', 'index': 0, 'message': {'content': 'This image is a detailed fund fact sheet for the \"Principal - MPF Conservative Fund (CAP)\". It provides comprehensive information about the fund including investment objectives, fund details, performance metrics, asset allocation, and the top ten holdings. The document is intended for investors to assess the characteristics and historical performance of the fund.\\n\\nHere are the requested key-value pairs from the fact sheet:\\n\\n- **Launch Date**: 1/12/2000\\n- **Fund Size (in Million)**: HKD 3,804.49\\n- **Risk Class**: Low (低)', 'role': 'assistant'}}], 'created': 1720058857, 'id': 'chatcmpl-9h6AjSs7o5XkHPXrA6NPbypjvJyhX', 'model': 'gpt-4-turbo-2024-04-09', 'object': 'chat.completion', 'prompt_filter_results': [{'prompt_index': 0, 'content_filter_result': {'jailbreak': {'filtered': False, 'detected': False}, 'custom_blocklists': {'filtered': False, 'details': []}}}, {'prompt_index': 1, 'content_filter_result': {'sexual': {'filtered': False, 'severity': 'safe'}, 'violence': {'filtered': False, 'severity': 'safe'}, 'hate': {'filtered': False, 'severity': 'safe'}, 'self_harm': {'filtered': False, 'severity': 'safe'}, 'custom_blocklists': {'filtered': False, 'details': []}}}], 'usage': {'completion_tokens': 116, 'prompt_tokens': 1146, 'total_tokens': 1262}}\n"
        }
      ],
      "execution_count": 3,
      "metadata": {
        "gather": {
          "logged": 1720058861077
        }
      }
    },
    {
      "cell_type": "code",
      "source": [
        "import json\n",
        "result = json.loads(response.text)[\"choices\"][0][\"message\"][\"content\"]"
      ],
      "outputs": [],
      "execution_count": 4,
      "metadata": {
        "jupyter": {
          "source_hidden": false,
          "outputs_hidden": false
        },
        "nteract": {
          "transient": {
            "deleting": false
          }
        },
        "gather": {
          "logged": 1720058875152
        }
      }
    },
    {
      "cell_type": "code",
      "source": [
        "result"
      ],
      "outputs": [
        {
          "output_type": "execute_result",
          "execution_count": 5,
          "data": {
            "text/plain": "'This image is a detailed fund fact sheet for the \"Principal - MPF Conservative Fund (CAP)\". It provides comprehensive information about the fund including investment objectives, fund details, performance metrics, asset allocation, and the top ten holdings. The document is intended for investors to assess the characteristics and historical performance of the fund.\\n\\nHere are the requested key-value pairs from the fact sheet:\\n\\n- **Launch Date**: 1/12/2000\\n- **Fund Size (in Million)**: HKD 3,804.49\\n- **Risk Class**: Low (低)'"
          },
          "metadata": {}
        }
      ],
      "execution_count": 5,
      "metadata": {
        "jupyter": {
          "source_hidden": false,
          "outputs_hidden": false
        },
        "nteract": {
          "transient": {
            "deleting": false
          }
        },
        "gather": {
          "logged": 1720058875276
        }
      }
    },
    {
      "cell_type": "markdown",
      "source": [
        "# JSON FORMAT OUTPUT"
      ],
      "metadata": {
        "nteract": {
          "transient": {
            "deleting": false
          }
        }
      }
    },
    {
      "cell_type": "code",
      "source": [
        "import datetime\n",
        "import json\n",
        "import openai\n",
        "import os\n",
        "import sys\n",
        "\n",
        "from openai import AzureOpenAI\n",
        "from dotenv import load_dotenv\n",
        "from pprint import pprint"
      ],
      "outputs": [],
      "execution_count": 6,
      "metadata": {
        "jupyter": {
          "source_hidden": false,
          "outputs_hidden": false
        },
        "nteract": {
          "transient": {
            "deleting": false
          }
        },
        "gather": {
          "logged": 1720058885638
        }
      }
    },
    {
      "cell_type": "code",
      "source": [
        "client = AzureOpenAI(\n",
        "    api_version=\"2024-02-15-preview\",\n",
        "    azure_endpoint=\"https://aoai-eastus2-yk.openai.azure.com/\",\n",
        "    api_key=\"XXX\"\n",
        ")"
      ],
      "outputs": [],
      "execution_count": 7,
      "metadata": {
        "jupyter": {
          "source_hidden": false,
          "outputs_hidden": false
        },
        "nteract": {
          "transient": {
            "deleting": false
          }
        },
        "gather": {
          "logged": 1720058891138
        }
      }
    },
    {
      "cell_type": "code",
      "source": [
        "completion = client.chat.completions.create(\n",
        "    model=\"gpt-4turbo-0409\",\n",
        "    messages=[\n",
        "        {\n",
        "            \"role\": \"system\",\n",
        "            \"content\": \"You are a helpful assistant. Your response should be in JSON format.\",\n",
        "        },\n",
        "        {\n",
        "            \"role\": \"user\",\n",
        "            \"content\": \"List me 10 top movies from the 70's with the title, the director, the year \\\n",
        "        and the main actors\",\n",
        "        },\n",
        "    ],\n",
        "    response_format={\"type\": \"json_object\"},\n",
        ")"
      ],
      "outputs": [],
      "execution_count": 8,
      "metadata": {
        "jupyter": {
          "source_hidden": false,
          "outputs_hidden": false
        },
        "nteract": {
          "transient": {
            "deleting": false
          }
        },
        "gather": {
          "logged": 1720058925116
        }
      }
    },
    {
      "cell_type": "code",
      "source": [
        "print(completion)"
      ],
      "outputs": [
        {
          "output_type": "stream",
          "name": "stdout",
          "text": "ChatCompletion(id='chatcmpl-9h6BLjKEHuAp3EJMMh3GNozGL94Bv', choices=[Choice(finish_reason='stop', index=0, logprobs=None, message=ChatCompletionMessage(content='{\\n  \"movies\": [\\n    {\\n      \"title\": \"The Godfather\",\\n      \"director\": \"Francis Ford Coppola\",\\n      \"year\": 1972,\\n      \"main_actors\": [\"Marlon Brando\", \"Al Pacino\", \"James Caan\"]\\n    },\\n    {\\n      \"title\": \"Star Wars\",\\n      \"director\": \"George Lucas\",\\n      \"year\": 1977,\\n      \"main_actors\": [\"Mark Hamill\", \"Harrison Ford\", \"Carrie Fisher\"]\\n    },\\n    {\\n      \"title\": \"Jaws\",\\n      \"director\": \"Steven Spielberg\",\\n      \"year\": 1975,\\n      \"main_actors\": [\"Roy Scheider\", \"Robert Shaw\", \"Richard Dreyfuss\"]\\n    },\\n    {\\n      \"title\": \"One Flew Over the Cuckoo\\'s Nest\",\\n      \"director\": \"Miloš Forman\",\\n      \"year\": 1975,\\n      \"main_actors\": [\"Jack Nicholson\", \"Louise Fletcher\", \"Will Sampson\"]\\n    },\\n    {\\n      \"title\": \"The Godfather Part II\",\\n      \"director\": \"Francis Ford Coppola\",\\n      \"year\": 1974,\\n      \"main_actors\": [\"Al Pacino\", \"Robert Duvall\", \"Diane Keaton\"]\\n    },\\n    {\\n      \"title\": \"Apocalypse Now\",\\n      \"director\": \"Francis Ford Coppola\",\\n      \"year\": 1979,\\n      \"main_actors\": [\"Marlon Brando\", \"Robert Duvall\", \"Martin Sheen\"]\\n    },\\n    {\\n      \"title\": \"Taxi Driver\",\\n      \"director\": \"Martin Scorsese\",\\n      \"year\": 1976,\\n      \"main_actors\": [\"Robert De Niro\", \"Jodie Foster\", \"Cybill Shepherd\"]\\n    },\\n    {\\n      \"title\": \"A Clockwork Orange\",\\n      \"director\": \"Stanley Kubrick\",\\n      \"year\": 1971,\\n      \"main_actors\": [\"Malcolm McDowell\", \"Patrick Magee\", \"Adrienne Corri\"]\\n    },\\n    {\\n      \"title\": \"Rocky\",\\n      \"director\": \"John G. Avildsen\",\\n      \"year\": 1976,\\n      \"main_actors\": [\"Sylvester Stallone\", \"Talia Shire\", \"Burt Young\"]\\n    },\\n    {\\n      \"title\": \"Chinatown\",\\n      \"director\": \"Roman Polanski\",\\n      \"year\": 1974,\\n      \"main_actors\": [\"Jack Nicholson\", \"Faye Dunaway\", \"John Huston\"]\\n    }\\n  ]\\n}', role='assistant', function_call=None, tool_calls=None), content_filter_results={'hate': {'filtered': False, 'severity': 'safe'}, 'self_harm': {'filtered': False, 'severity': 'safe'}, 'sexual': {'filtered': False, 'severity': 'safe'}, 'violence': {'filtered': False, 'severity': 'safe'}})], created=1720058895, model='gpt-4-turbo-2024-04-09', object='chat.completion', system_fingerprint='fp_811936bd4f', usage=CompletionUsage(completion_tokens=550, prompt_tokens=50, total_tokens=600), prompt_filter_results=[{'prompt_index': 0, 'content_filter_results': {'hate': {'filtered': False, 'severity': 'safe'}, 'self_harm': {'filtered': False, 'severity': 'safe'}, 'sexual': {'filtered': False, 'severity': 'safe'}, 'violence': {'filtered': False, 'severity': 'safe'}}}])\n"
        }
      ],
      "execution_count": 9,
      "metadata": {
        "jupyter": {
          "source_hidden": false,
          "outputs_hidden": false
        },
        "nteract": {
          "transient": {
            "deleting": false
          }
        },
        "gather": {
          "logged": 1720058925240
        }
      }
    },
    {
      "cell_type": "code",
      "source": [
        "completion.usage"
      ],
      "outputs": [
        {
          "output_type": "execute_result",
          "execution_count": 10,
          "data": {
            "text/plain": "CompletionUsage(completion_tokens=550, prompt_tokens=50, total_tokens=600)"
          },
          "metadata": {}
        }
      ],
      "execution_count": 10,
      "metadata": {
        "jupyter": {
          "source_hidden": false,
          "outputs_hidden": false
        },
        "nteract": {
          "transient": {
            "deleting": false
          }
        },
        "gather": {
          "logged": 1720058925350
        }
      }
    },
    {
      "cell_type": "code",
      "source": [
        "json_answer = json.loads(completion.choices[0].message.content)\n",
        "pprint(json_answer)"
      ],
      "outputs": [
        {
          "output_type": "stream",
          "name": "stdout",
          "text": "{'movies': [{'director': 'Francis Ford Coppola',\n             'main_actors': ['Marlon Brando', 'Al Pacino', 'James Caan'],\n             'title': 'The Godfather',\n             'year': 1972},\n            {'director': 'George Lucas',\n             'main_actors': ['Mark Hamill', 'Harrison Ford', 'Carrie Fisher'],\n             'title': 'Star Wars',\n             'year': 1977},\n            {'director': 'Steven Spielberg',\n             'main_actors': ['Roy Scheider', 'Robert Shaw', 'Richard Dreyfuss'],\n             'title': 'Jaws',\n             'year': 1975},\n            {'director': 'Miloš Forman',\n             'main_actors': ['Jack Nicholson',\n                             'Louise Fletcher',\n                             'Will Sampson'],\n             'title': \"One Flew Over the Cuckoo's Nest\",\n             'year': 1975},\n            {'director': 'Francis Ford Coppola',\n             'main_actors': ['Al Pacino', 'Robert Duvall', 'Diane Keaton'],\n             'title': 'The Godfather Part II',\n             'year': 1974},\n            {'director': 'Francis Ford Coppola',\n             'main_actors': ['Marlon Brando', 'Robert Duvall', 'Martin Sheen'],\n             'title': 'Apocalypse Now',\n             'year': 1979},\n            {'director': 'Martin Scorsese',\n             'main_actors': ['Robert De Niro',\n                             'Jodie Foster',\n                             'Cybill Shepherd'],\n             'title': 'Taxi Driver',\n             'year': 1976},\n            {'director': 'Stanley Kubrick',\n             'main_actors': ['Malcolm McDowell',\n                             'Patrick Magee',\n                             'Adrienne Corri'],\n             'title': 'A Clockwork Orange',\n             'year': 1971},\n            {'director': 'John G. Avildsen',\n             'main_actors': ['Sylvester Stallone', 'Talia Shire', 'Burt Young'],\n             'title': 'Rocky',\n             'year': 1976},\n            {'director': 'Roman Polanski',\n             'main_actors': ['Jack Nicholson', 'Faye Dunaway', 'John Huston'],\n             'title': 'Chinatown',\n             'year': 1974}]}\n"
        }
      ],
      "execution_count": 11,
      "metadata": {
        "jupyter": {
          "source_hidden": false,
          "outputs_hidden": false
        },
        "nteract": {
          "transient": {
            "deleting": false
          }
        },
        "gather": {
          "logged": 1720058925462
        }
      }
    },
    {
      "cell_type": "code",
      "source": [
        "json_answer[\"movies\"][0]"
      ],
      "outputs": [
        {
          "output_type": "execute_result",
          "execution_count": 12,
          "data": {
            "text/plain": "{'title': 'The Godfather',\n 'director': 'Francis Ford Coppola',\n 'year': 1972,\n 'main_actors': ['Marlon Brando', 'Al Pacino', 'James Caan']}"
          },
          "metadata": {}
        }
      ],
      "execution_count": 12,
      "metadata": {
        "jupyter": {
          "source_hidden": false,
          "outputs_hidden": false
        },
        "nteract": {
          "transient": {
            "deleting": false
          }
        },
        "gather": {
          "logged": 1720058949161
        }
      }
    },
    {
      "cell_type": "code",
      "source": [
        "for i in range(len(json_answer[\"movies\"])):\n",
        "    print(i+1, json_answer[\"movies\"][i][\"title\"], json_answer[\"movies\"][i][\"year\"])"
      ],
      "outputs": [
        {
          "output_type": "stream",
          "name": "stdout",
          "text": "1 The Godfather 1972\n2 Star Wars 1977\n3 Jaws 1975\n4 One Flew Over the Cuckoo's Nest 1975\n5 The Godfather Part II 1974\n6 Apocalypse Now 1979\n7 Taxi Driver 1976\n8 A Clockwork Orange 1971\n9 Rocky 1976\n10 Chinatown 1974\n"
        }
      ],
      "execution_count": 13,
      "metadata": {
        "jupyter": {
          "source_hidden": false,
          "outputs_hidden": false
        },
        "nteract": {
          "transient": {
            "deleting": false
          }
        },
        "gather": {
          "logged": 1720058949285
        }
      }
    }
  ],
  "metadata": {
    "kernelspec": {
      "name": "python310-sdkv2",
      "language": "python",
      "display_name": "Python 3.10 - SDK v2"
    },
    "language_info": {
      "name": "python",
      "version": "3.10.11",
      "mimetype": "text/x-python",
      "codemirror_mode": {
        "name": "ipython",
        "version": 3
      },
      "pygments_lexer": "ipython3",
      "nbconvert_exporter": "python",
      "file_extension": ".py"
    },
    "microsoft": {
      "ms_spell_check": {
        "ms_spell_check_language": "en"
      },
      "host": {
        "AzureML": {
          "notebookHasBeenCompleted": true
        }
      }
    },
    "kernel_info": {
      "name": "python310-sdkv2"
    },
    "nteract": {
      "version": "nteract-front-end@1.0.0"
    }
  },
  "nbformat": 4,
  "nbformat_minor": 2
}