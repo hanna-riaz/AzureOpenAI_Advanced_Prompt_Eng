{
  "cells": [
    {
      "cell_type": "markdown",
      "source": [
        "## Key topics:\n",
        "\n",
        "**Tokens**: Tokens are a numerical representation of how the Azure OpenAI models process text. So they are representing words or just chunks of characters. For English text, 1 token is approximately 4 characters or 0.75 words. \n",
        "\n",
        "**Tokenization**: splitting input/output texts into smaller units for LLMs.\n",
        "\n",
        "**Vocabulary size**: the number of tokens each model uses, which varies among different GPT models."
      ],
      "metadata": {
        "nteract": {
          "transient": {
            "deleting": false
          }
        }
      }
    },
    {
      "cell_type": "code",
      "source": [
        "import tiktoken #python library for encoding text \n",
        "\n",
        "cl100k_base = tiktoken.get_encoding(\"cl100k_base\") #pretrained tokenizer\n",
        "\n",
        "enc = tiktoken.Encoding( \n",
        "    name=\"gpt-35-turbo\",  \n",
        "    pat_str=cl100k_base._pat_str, \n",
        "    mergeable_ranks=cl100k_base._mergeable_ranks, \n",
        "    special_tokens={ \n",
        "        **cl100k_base._special_tokens, \n",
        "        \"<|im_start|>\": 100264, \n",
        "        \"<|im_end|>\": 100265\n",
        "    } \n",
        ") \n",
        "\n",
        "tokens = enc.encode( \n",
        "    \"Mortgages from Nationwide\" #tbc\n",
        ") \n",
        "\n",
        "print('Total number of tokens:', len(tokens))\n",
        "print('Tokens : ', [enc.decode([t]) for t in tokens])\n",
        "print(\"Tokens' numerical values:\", tokens)\n",
        "\n",
        "#https://platform.openai.com/tokenizer"
      ],
      "outputs": [
        {
          "output_type": "stream",
          "name": "stdout",
          "text": "Total number of tokens: 5\nTokens :  ['M', 'ort', 'gages', ' from', ' Nationwide']\nTokens' numerical values: [44, 371, 56144, 505, 90754]\n"
        }
      ],
      "execution_count": 6,
      "metadata": {
        "gather": {
          "logged": 1724161825987
        }
      }
    },
    {
      "cell_type": "code",
      "source": [
        "# Returns the num of tokens used on a string\n",
        "def num_tokens_from_string(string: str) -> int:\n",
        "    encoding_name ='cl100k_base'\n",
        "    \"\"\"Returns the number of tokens in a text string.\"\"\"\n",
        "    encoding = tiktoken.get_encoding(encoding_name)\n",
        "    num_tokens = len(encoding.encode(string))\n",
        "    return num_tokens"
      ],
      "outputs": [],
      "execution_count": 2,
      "metadata": {
        "jupyter": {
          "source_hidden": false,
          "outputs_hidden": false
        },
        "nteract": {
          "transient": {
            "deleting": false
          }
        },
        "gather": {
          "logged": 1724161441022
        }
      }
    },
    {
      "cell_type": "code",
      "source": [
        "num_tokens_from_string(\"Mortgages from Nationwide\")#tbc"
      ],
      "outputs": [
        {
          "output_type": "execute_result",
          "execution_count": 7,
          "data": {
            "text/plain": "5"
          },
          "metadata": {}
        }
      ],
      "execution_count": 7,
      "metadata": {
        "jupyter": {
          "source_hidden": false,
          "outputs_hidden": false
        },
        "nteract": {
          "transient": {
            "deleting": false
          }
        },
        "gather": {
          "logged": 1724161848022
        }
      }
    },
    {
      "cell_type": "code",
      "source": [
        "import os\n",
        "import openai\n",
        "from dotenv import load_dotenv\n",
        "\n",
        "# Set up Azure OpenAI\n",
        "load_dotenv(\"credentials.env\")\n",
        "\n",
        "openai.api_type = \"azure\"\n",
        "\n",
        "import os\n",
        "from openai import AzureOpenAI\n",
        "    \n",
        "client = AzureOpenAI(\n",
        "    api_key=os.getenv(\"AZURE_OPENAI_API_KEY\"),  \n",
        "    api_version=\"2024-02-01\",\n",
        "    azure_endpoint = os.getenv(\"AZURE_OPENAI_ENDPOINT\")\n",
        "    )\n",
        "    \n",
        "deployment_name='gpt-35-turbo' #This will correspond to the custom name you chose for your deployment when you deployed a model. \n",
        " "
      ],
      "outputs": [],
      "execution_count": 1,
      "metadata": {
        "jupyter": {
          "source_hidden": false,
          "outputs_hidden": false
        },
        "nteract": {
          "transient": {
            "deleting": false
          }
        },
        "gather": {
          "logged": 1724165296893
        }
      }
    },
    {
      "cell_type": "code",
      "source": [
        "#pip install --upgrade openai"
      ],
      "outputs": [
        {
          "output_type": "stream",
          "name": "stdout",
          "text": "Requirement already satisfied: openai in /anaconda/envs/azureml_py310_sdkv2/lib/python3.10/site-packages (1.30.1)\nCollecting openai\n  Downloading openai-1.41.1-py3-none-any.whl (362 kB)\n\u001b[2K     \u001b[90m━━━━━━━━━━━━━━━━━━━━━━━━━━━━━━━━━━━━━━\u001b[0m \u001b[32m362.5/362.5 kB\u001b[0m \u001b[31m12.4 MB/s\u001b[0m eta \u001b[36m0:00:00\u001b[0m\n\u001b[?25hRequirement already satisfied: anyio<5,>=3.5.0 in /anaconda/envs/azureml_py310_sdkv2/lib/python3.10/site-packages (from openai) (3.7.1)\nRequirement already satisfied: distro<2,>=1.7.0 in /anaconda/envs/azureml_py310_sdkv2/lib/python3.10/site-packages (from openai) (1.8.0)\nRequirement already satisfied: httpx<1,>=0.23.0 in /anaconda/envs/azureml_py310_sdkv2/lib/python3.10/site-packages (from openai) (0.27.0)\nCollecting jiter<1,>=0.4.0 (from openai)\n  Downloading jiter-0.5.0-cp310-cp310-manylinux_2_17_x86_64.manylinux2014_x86_64.whl (318 kB)\n\u001b[2K     \u001b[90m━━━━━━━━━━━━━━━━━━━━━━━━━━━━━━━━━━━━━━\u001b[0m \u001b[32m318.9/318.9 kB\u001b[0m \u001b[31m21.3 MB/s\u001b[0m eta \u001b[36m0:00:00\u001b[0m\n\u001b[?25hRequirement already satisfied: pydantic<3,>=1.9.0 in /anaconda/envs/azureml_py310_sdkv2/lib/python3.10/site-packages (from openai) (2.7.1)\nRequirement already satisfied: sniffio in /anaconda/envs/azureml_py310_sdkv2/lib/python3.10/site-packages (from openai) (1.3.1)\nRequirement already satisfied: tqdm>4 in /anaconda/envs/azureml_py310_sdkv2/lib/python3.10/site-packages (from openai) (4.65.0)\nCollecting typing-extensions<5,>=4.11 (from openai)\n  Using cached typing_extensions-4.12.2-py3-none-any.whl (37 kB)\nRequirement already satisfied: idna>=2.8 in /anaconda/envs/azureml_py310_sdkv2/lib/python3.10/site-packages (from anyio<5,>=3.5.0->openai) (3.4)\nRequirement already satisfied: exceptiongroup in /anaconda/envs/azureml_py310_sdkv2/lib/python3.10/site-packages (from anyio<5,>=3.5.0->openai) (1.2.1)\nRequirement already satisfied: certifi in /anaconda/envs/azureml_py310_sdkv2/lib/python3.10/site-packages (from httpx<1,>=0.23.0->openai) (2023.5.7)\nRequirement already satisfied: httpcore==1.* in /anaconda/envs/azureml_py310_sdkv2/lib/python3.10/site-packages (from httpx<1,>=0.23.0->openai) (1.0.5)\nRequirement already satisfied: h11<0.15,>=0.13 in /anaconda/envs/azureml_py310_sdkv2/lib/python3.10/site-packages (from httpcore==1.*->httpx<1,>=0.23.0->openai) (0.14.0)\nRequirement already satisfied: annotated-types>=0.4.0 in /anaconda/envs/azureml_py310_sdkv2/lib/python3.10/site-packages (from pydantic<3,>=1.9.0->openai) (0.6.0)\nRequirement already satisfied: pydantic-core==2.18.2 in /anaconda/envs/azureml_py310_sdkv2/lib/python3.10/site-packages (from pydantic<3,>=1.9.0->openai) (2.18.2)\nInstalling collected packages: typing-extensions, jiter, openai\n  Attempting uninstall: typing-extensions\n    Found existing installation: typing_extensions 4.8.0\n    Uninstalling typing_extensions-4.8.0:\n      Successfully uninstalled typing_extensions-4.8.0\n  Attempting uninstall: openai\n    Found existing installation: openai 1.30.1\n    Uninstalling openai-1.30.1:\n      Successfully uninstalled openai-1.30.1\n\u001b[31mERROR: pip's dependency resolver does not currently take into account all the packages that are installed. This behaviour is the source of the following dependency conflicts.\nazureml-core 1.51.0.post1 requires packaging<=23.0,>=20.0, but you have packaging 23.2 which is incompatible.\nazureml-mlflow 1.51.0 requires azure-storage-blob<=12.13.0,>=12.5.0, but you have azure-storage-blob 12.16.0 which is incompatible.\u001b[0m\u001b[31m\n\u001b[0mSuccessfully installed jiter-0.5.0 openai-1.41.1 typing-extensions-4.12.2\nNote: you may need to restart the kernel to use updated packages.\n"
        }
      ],
      "execution_count": 23,
      "metadata": {
        "jupyter": {
          "source_hidden": false,
          "outputs_hidden": false
        },
        "nteract": {
          "transient": {
            "deleting": false
          }
        },
        "gather": {
          "logged": 1724165142902
        }
      }
    },
    {
      "cell_type": "code",
      "source": [
        "#import openai\n",
        "#print(openai.__version__)"
      ],
      "outputs": [
        {
          "output_type": "stream",
          "name": "stdout",
          "text": "1.30.1\n"
        }
      ],
      "execution_count": 24,
      "metadata": {
        "jupyter": {
          "source_hidden": false,
          "outputs_hidden": false
        },
        "nteract": {
          "transient": {
            "deleting": false
          }
        },
        "gather": {
          "logged": 1724165206142
        }
      }
    },
    {
      "cell_type": "code",
      "source": [
        " # Send a completion call to generate an answer\n",
        "print('Sending a test completion job')\n",
        "start_phrase = \"Nationwide is a \" #tbc\n",
        "response = client.completions.create(\n",
        "    model=deployment_name, \n",
        "    prompt=start_phrase, \n",
        "    max_tokens=1000)\n",
        "print(response.choices[0].text)"
      ],
      "outputs": [
        {
          "output_type": "stream",
          "name": "stdout",
          "text": "Sending a test completion job\n44-year-old company that is among the top personal auto and homeowners insurance companies in America as measured by premiums written. Its market position has gone from being principally a direct writer in Ohio to one of a leading multi-line insurance companies, with products ranging from pet insurance to term life insurance.\n\nOver time, Nationwide learned that to succeed it needed to establish long-term, profitable relationships with its customers based on a win-win proposition. “What our customer needed and wanted and what we were prepared to offer had to be in complete alignment,” said Steven Schreibman, SVP and chief marketing officer.\n\nThe Great Recession taught Nationwide that people needed help in managing their finances while maintaining adequate protection. The company responded with new product offerings such as a suite of offerings called Nationwide My Pet Protection, which includes insurance for pets and 24/7 access to a veterinary helpline.\n\nNationwide also learned that the buying process was changing dramatically. “We learned that the way consumers wanted to interact with us had to change, that they wanted to transact with us via mobile technology, via tablet computers, through social media, through other digital formats,” said Schreibman. So, the company invested in products and services that let customers transact business with Nationwide in ways that were convenient for them.\n\nFor more, read my latest post on Forbes.\n\nFrom decades-old Chrysler cars to mid- and small-sized businesses, high-risk lending has once again started to become prevalent, posing a danger to the overall economy.\n\nThe dangers of the practice were brought to harsh relief during the financial crisis, but the risk of having a large sector of borrowers default seems to be largely ignored by lenders, with few exceptions. As they did before the financial crisis, lenders who make high-risk loans are betting on their ability to collect and resell collateral, assuming they can clamp down on any losses by selling repossessed homers, cars or other used collateral to new payers or to scrap dealers, or to work with borrowers to help prevent defaults.\n\nWhile few investment banks and large financial institutions have returned, the landscape in which they played has dramatically changed. Shadow banks such as private-equity firms, investors, family offices and specialty finance companies now dominate many high-risk lending sectors. And, many of the biggest such lenders are less connected to global markets, regulators and depositors, so they have less at risk and in some cases are looking to expand.\n\nOne such high-risk firm is Direct Lending Investments (DLI), which is housed in a large, rectangular office building in Los Angeles’ Century City neighborhood. DLI has around $800 million worth of assets, gathered from investors lured by promises of 8 percent to 10 percent annual interest for loans to businesses that banks consider too risky. The company and its affiliate have given loans as high as $50 million to small firms, often charging interest rates of 22 percent to 36 percent. Now, DLI is raising new funds so it can grow.\n\n“There is extreme pressure on all investors to chase yield. The only difference between now and the last time that pressure existed is yield is lower,” said Larry Chiavaro, a partner specializing in distressed debt at New York-based investment bank Focus Investment Banking.\n\nFor more, read my latest post on Forbes.\n\nWhile private equity firms have enjoyed strong returns on paper over the past few years and are poised to announce some of their strongest fundraising totals since the financial crisis, the tools they’re using to bulk up returns are drying up as lending standards tighten. Lenders are being more cautious as they weigh the potential for large losses in the face of slowing global growth. In fact, purchases of US companies by PE firms fell 31% in the first half of the year to the lowest level since the same period in 2010. And, many PE firms have turned to bolt-on acquisitions to power returns.\n\n“There are two sets of rules right now. In the  larger-corporate market, credit is available, and it’s very competitive. For transactions involving smaller companies, it’s more challenging.” said Ian Snow, co-head of M&A at middle market investment bank Moelis & Co.\n\nEven in the middle market, funding mills have grown increasingly stingy. Loan quality is suffering, with regulators stifling lenders from throwing money to debt-laden borrowers.\n\n“All the credit rules, the debt-to-equity levels, the cash flow ratios are more difficult for us these days, but the good news is we don’t have house-of-cards companies. We have healthy, long-term profitable companies. The larger private equity firms have certainly felt the drought in the larger markets. But for middle-market firms, it’s more manageable,” said Daniel Galante, CFO of middle-market Private equity firm Graham Partners.\n\nFor more, read my latest post on Forbes.\n\nThe retail banking sector has been slowly eroding since the financial crisis, with total assets of the largest banks falling for the past six quarters. The banks\n"
        }
      ],
      "execution_count": 2,
      "metadata": {
        "gather": {
          "logged": 1724165311894
        }
      }
    },
    {
      "cell_type": "markdown",
      "source": [
        "\n",
        "\n",
        "# Usage"
      ],
      "metadata": {}
    },
    {
      "cell_type": "code",
      "source": [
        "response"
      ],
      "outputs": [
        {
          "output_type": "execute_result",
          "execution_count": 3,
          "data": {
            "text/plain": "Completion(id='cmpl-9yKRjH7HGjaa16v17eEYrvRGzJUq3', choices=[CompletionChoice(finish_reason='length', index=0, logprobs=None, text='44-year-old company that is among the top personal auto and homeowners insurance companies in America as measured by premiums written. Its market position has gone from being principally a direct writer in Ohio to one of a leading multi-line insurance companies, with products ranging from pet insurance to term life insurance.\\n\\nOver time, Nationwide learned that to succeed it needed to establish long-term, profitable relationships with its customers based on a win-win proposition. “What our customer needed and wanted and what we were prepared to offer had to be in complete alignment,” said Steven Schreibman, SVP and chief marketing officer.\\n\\nThe Great Recession taught Nationwide that people needed help in managing their finances while maintaining adequate protection. The company responded with new product offerings such as a suite of offerings called Nationwide My Pet Protection, which includes insurance for pets and 24/7 access to a veterinary helpline.\\n\\nNationwide also learned that the buying process was changing dramatically. “We learned that the way consumers wanted to interact with us had to change, that they wanted to transact with us via mobile technology, via tablet computers, through social media, through other digital formats,” said Schreibman. So, the company invested in products and services that let customers transact business with Nationwide in ways that were convenient for them.\\n\\nFor more, read my latest post on Forbes.\\n\\nFrom decades-old Chrysler cars to mid- and small-sized businesses, high-risk lending has once again started to become prevalent, posing a danger to the overall economy.\\n\\nThe dangers of the practice were brought to harsh relief during the financial crisis, but the risk of having a large sector of borrowers default seems to be largely ignored by lenders, with few exceptions. As they did before the financial crisis, lenders who make high-risk loans are betting on their ability to collect and resell collateral, assuming they can clamp down on any losses by selling repossessed homers, cars or other used collateral to new payers or to scrap dealers, or to work with borrowers to help prevent defaults.\\n\\nWhile few investment banks and large financial institutions have returned, the landscape in which they played has dramatically changed. Shadow banks such as private-equity firms, investors, family offices and specialty finance companies now dominate many high-risk lending sectors. And, many of the biggest such lenders are less connected to global markets, regulators and depositors, so they have less at risk and in some cases are looking to expand.\\n\\nOne such high-risk firm is Direct Lending Investments (DLI), which is housed in a large, rectangular office building in Los Angeles’ Century City neighborhood. DLI has around $800 million worth of assets, gathered from investors lured by promises of 8 percent to 10 percent annual interest for loans to businesses that banks consider too risky. The company and its affiliate have given loans as high as $50 million to small firms, often charging interest rates of 22 percent to 36 percent. Now, DLI is raising new funds so it can grow.\\n\\n“There is extreme pressure on all investors to chase yield. The only difference between now and the last time that pressure existed is yield is lower,” said Larry Chiavaro, a partner specializing in distressed debt at New York-based investment bank Focus Investment Banking.\\n\\nFor more, read my latest post on Forbes.\\n\\nWhile private equity firms have enjoyed strong returns on paper over the past few years and are poised to announce some of their strongest fundraising totals since the financial crisis, the tools they’re using to bulk up returns are drying up as lending standards tighten. Lenders are being more cautious as they weigh the potential for large losses in the face of slowing global growth. In fact, purchases of US companies by PE firms fell 31% in the first half of the year to the lowest level since the same period in 2010. And, many PE firms have turned to bolt-on acquisitions to power returns.\\n\\n“There are two sets of rules right now. In the \\xa0larger-corporate market, credit is available, and it’s very competitive. For transactions involving smaller companies, it’s more challenging.” said Ian Snow, co-head of M&A at middle market investment bank Moelis & Co.\\n\\nEven in the middle market, funding mills have grown increasingly stingy. Loan quality is suffering, with regulators stifling lenders from throwing money to debt-laden borrowers.\\n\\n“All the credit rules, the debt-to-equity levels, the cash flow ratios are more difficult for us these days, but the good news is we don’t have house-of-cards companies. We have healthy, long-term profitable companies.\\xa0The larger private equity firms have certainly felt the drought in the larger markets. But for middle-market firms, it’s more manageable,”\\xa0said Daniel Galante, CFO of middle-market Private equity firm Graham Partners.\\n\\nFor more, read my latest post on Forbes.\\n\\nThe retail banking sector has been slowly eroding since the financial crisis, with total assets of the largest banks falling for the past six quarters. The banks', content_filter_results={'hate': {'filtered': False, 'severity': 'safe'}, 'self_harm': {'filtered': False, 'severity': 'safe'}, 'sexual': {'filtered': False, 'severity': 'safe'}, 'violence': {'filtered': False, 'severity': 'safe'}})], created=1724165303, model='gpt-35-turbo', object='text_completion', system_fingerprint=None, usage=CompletionUsage(completion_tokens=1000, prompt_tokens=5, total_tokens=1005), prompt_filter_results=[{'prompt_index': 0, 'content_filter_results': {'hate': {'filtered': False, 'severity': 'safe'}, 'self_harm': {'filtered': False, 'severity': 'safe'}, 'sexual': {'filtered': False, 'severity': 'safe'}, 'violence': {'filtered': False, 'severity': 'safe'}}}])"
          },
          "metadata": {}
        }
      ],
      "execution_count": 3,
      "metadata": {
        "jupyter": {
          "source_hidden": false,
          "outputs_hidden": false
        },
        "nteract": {
          "transient": {
            "deleting": false
          }
        },
        "gather": {
          "logged": 1724165386982
        }
      }
    },
    {
      "cell_type": "code",
      "source": [
        "response.usage"
      ],
      "outputs": [
        {
          "output_type": "execute_result",
          "execution_count": 4,
          "data": {
            "text/plain": "CompletionUsage(completion_tokens=1000, prompt_tokens=5, total_tokens=1005)"
          },
          "metadata": {}
        }
      ],
      "execution_count": 4,
      "metadata": {
        "gather": {
          "logged": 1724165395967
        }
      }
    },
    {
      "cell_type": "markdown",
      "source": [
        "Azure OpenAI uses a subword tokenization method called \"Byte-Pair Encoding (BPE)\" for its GPT-based models. ** BPE is a method that merges the most frequently occurring pairs of characters or bytes into a single token **, until a certain number of tokens or a vocabulary size is reached. BPE can help the model to handle rare or unseen words, and to create more compact and consistent representations of the texts. BPE can also allow the model to generate new words or tokens, by combining existing ones. "
      ],
      "metadata": {
        "nteract": {
          "transient": {
            "deleting": false
          }
        }
      }
    },
    {
      "cell_type": "markdown",
      "source": [
        "https://learn.microsoft.com/en-us/semantic-kernel/prompt-engineering/tokens"
      ],
      "metadata": {
        "nteract": {
          "transient": {
            "deleting": false
          }
        }
      }
    }
  ],
  "metadata": {
    "kernelspec": {
      "name": "python310-sdkv2",
      "language": "python",
      "display_name": "Python 3.10 - SDK v2"
    },
    "language_info": {
      "name": "python",
      "version": "3.10.11",
      "mimetype": "text/x-python",
      "codemirror_mode": {
        "name": "ipython",
        "version": 3
      },
      "pygments_lexer": "ipython3",
      "nbconvert_exporter": "python",
      "file_extension": ".py"
    },
    "orig_nbformat": 4,
    "vscode": {
      "interpreter": {
        "hash": "2139c70ac98f3202d028164a545621647e07f47fd6f5d8ac55cf952bf7c15ed1"
      }
    },
    "microsoft": {
      "ms_spell_check": {
        "ms_spell_check_language": "en"
      },
      "host": {
        "AzureML": {
          "notebookHasBeenCompleted": true
        }
      }
    },
    "kernel_info": {
      "name": "python310-sdkv2"
    },
    "nteract": {
      "version": "nteract-front-end@1.0.0"
    }
  },
  "nbformat": 4,
  "nbformat_minor": 2
}