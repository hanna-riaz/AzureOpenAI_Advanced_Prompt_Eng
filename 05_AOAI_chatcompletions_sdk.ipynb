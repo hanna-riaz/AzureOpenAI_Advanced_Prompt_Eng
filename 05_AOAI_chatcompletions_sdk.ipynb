{
  "cells": [
    {
      "cell_type": "markdown",
      "source": [
        "# Chat Completions\n",
        "\n",
        "Chat models take a series of messages as input, and return a model-generated message as output.\n",
        "The main input is the messages parameter. **Messages must be an array of message objects, where each object has a role (either \"system\", \"user\") and content** (the content of the message). "
      ],
      "metadata": {},
      "id": "278e7451"
    },
    {
      "cell_type": "code",
      "source": [
        "# if needed, install and/or upgrade to the latest version of the OpenAI Python library\n",
        "#%pip install --upgrade openai"
      ],
      "outputs": [],
      "execution_count": null,
      "metadata": {},
      "id": "fb97123e"
    },
    {
      "cell_type": "code",
      "source": [
        "# import openai\n",
        "# from openai import AzureOpenAI\n",
        "# import os \n",
        "# from azure.identity import ManagedIdentityCredential\n",
        "\n",
        "# default_credential=ManagedIdentityCredential(client_id=\"d30cba06-04c1-4065-a91d-8b7ce3b07b78\")\n",
        "# token=default_credential.get_token(\"https://cognitiveservices.azure.com/.default\")\n",
        "# Resource_endpoint=\"https://openaiykus.openai.azure.com/\"\n",
        "\n",
        "# client = AzureOpenAI(\n",
        "#   azure_endpoint = Resource_endpoint, \n",
        "#   api_key=token.token,  \n",
        "#   api_version=\"2023-05-15\"\n",
        "# )"
      ],
      "outputs": [],
      "execution_count": 3,
      "metadata": {
        "gather": {
          "logged": 1700434959897
        }
      },
      "id": "ccbb9a99"
    },
    {
      "cell_type": "code",
      "source": [
        "import os\n",
        "import openai\n",
        "from openai import AzureOpenAI\n",
        "from dotenv import load_dotenv\n",
        "\n",
        "# Set up Azure OpenAI\n",
        "load_dotenv(\"credentials.env\")\n",
        "\n",
        "openai.api_type = \"azure\"\n",
        "    \n",
        "client = AzureOpenAI(\n",
        "    api_key=os.getenv(\"AZURE_OPENAI_API_KEY\"),  \n",
        "    api_version=\"2024-02-15-preview\",\n",
        "    azure_endpoint = os.getenv(\"AZURE_OPENAI_ENDPOINT\")\n",
        "    )"
      ],
      "outputs": [],
      "execution_count": 10,
      "metadata": {
        "jupyter": {
          "source_hidden": false,
          "outputs_hidden": false
        },
        "nteract": {
          "transient": {
            "deleting": false
          }
        },
        "gather": {
          "logged": 1720089549079
        }
      },
      "id": "424b2269-4ed0-44a2-8e35-1b397cf3e172"
    },
    {
      "cell_type": "code",
      "source": [
        "messages=[\n",
        "        {\"role\": \"system\", \"content\": \"You are a helpful assistant.\"},\n",
        "        {\"role\": \"user\", \"content\": \"Can you write a welcome page for The BUPA UK company website ?\"}]"
      ],
      "outputs": [],
      "execution_count": 11,
      "metadata": {
        "jupyter": {
          "source_hidden": false,
          "outputs_hidden": false
        },
        "nteract": {
          "transient": {
            "deleting": false
          }
        },
        "gather": {
          "logged": 1720089577580
        }
      },
      "id": "98bb0b84-8397-4e0c-b52e-2b45760bda80"
    },
    {
      "cell_type": "code",
      "source": [
        "response = client.chat.completions.create(\n",
        "    model=\"gpt-4o\", # model = \"deployment_name\".\n",
        "    messages=messages\n",
        ")\n",
        "print(response.choices[0].message.content)"
      ],
      "outputs": [
        {
          "output_type": "stream",
          "name": "stdout",
          "text": "### Welcome to Bupa UK\n\nWelcome to Bupa UK, where your health and wellbeing are our highest priority. We're proud to be a company that puts you first, offering exceptional healthcare services tailored to meet your individual needs. At Bupa, we believe in a holistic approach to health, ensuring that you receive comprehensive care and support every step of the way.\n\n#### Who We Are\n\nBupa UK is part of a leading global healthcare organization with a rich history of delivering quality health services for over 70 years. Our mission is simple: providing our customers with the highest standard of care, helping them live longer, healthier, and happier lives. We are dedicated to innovation, efficiency, and excellence in everything we do.\n\n#### Our Services\n\nWe offer an extensive range of healthcare services designed to cater to everyone:\n\n- **Health Insurance:** Tailored plans to cover your specific needs, giving you access to cutting-edge treatments and renowned specialists.\n- **Dental Care:** Comprehensive dental services to ensure your oral health is in top condition.\n- **Care Homes:** Compassionate and professional care homes providing personalized support in a friendly and comfortable environment.\n- **Health Assessments:** Detailed health assessments from experienced professionals to help you stay on top of your health.\n- **Mental Health Support:** Integrated mental health services, offering guidance, counselling, and therapies to support your mental wellbeing.\n\n#### Our Commitment\n\nAt Bupa UK, our commitment extends beyond providing high-quality healthcare services. We strive to:\n\n- **Put You First:** Our services are designed with you at the heart, ensuring every aspect of your care is personalized and responsive to your needs.\n- **Innovate and Lead:** We embrace the latest technological advancements and medical research to offer state-of-the-art treatments and services.\n- **Act with Integrity:** Transparency, honesty, and ethical practices are foundational to our operations.\n\n#### Join the Bupa Family\n\nBecoming part of the Bupa family means more than just having access to top-tier healthcare. It means joining a community devoted to advancing your health and wellbeing. We invite you to explore our services, reach out to our friendly team, and take the first step towards a healthier, happier you.\n\n#### Get in Touch\n\nHave questions or need assistance? We're here to help. Contact us today and let us guide you to the best healthcare solutions for you and your loved ones.\n\nWelcome to Bupa UK. Your health is our passion, and your care is our commitment. Together, let's make your wellbeing our mission.\n\n---\nAt Bupa UK, caring is our calling. Experience the difference with us.\n\n---\n\nFeel free to browse our website to discover more about our services and the Bupa community. Thank you for choosing Bupa UK!\n"
        }
      ],
      "execution_count": 12,
      "metadata": {
        "jupyter": {
          "source_hidden": false,
          "outputs_hidden": false
        },
        "nteract": {
          "transient": {
            "deleting": false
          }
        },
        "gather": {
          "logged": 1720089588969
        }
      },
      "id": "0e00e3f2-42ba-4090-957c-b2781f62cc1b"
    },
    {
      "cell_type": "code",
      "source": [
        "response"
      ],
      "outputs": [
        {
          "output_type": "execute_result",
          "execution_count": 13,
          "data": {
            "text/plain": "ChatCompletion(id='chatcmpl-9hEAIoRCvAnVDxhAW8VouiCsSBo0q', choices=[Choice(finish_reason='stop', index=0, logprobs=None, message=ChatCompletionMessage(content=\"### Welcome to Bupa UK\\n\\nWelcome to Bupa UK, where your health and wellbeing are our highest priority. We're proud to be a company that puts you first, offering exceptional healthcare services tailored to meet your individual needs. At Bupa, we believe in a holistic approach to health, ensuring that you receive comprehensive care and support every step of the way.\\n\\n#### Who We Are\\n\\nBupa UK is part of a leading global healthcare organization with a rich history of delivering quality health services for over 70 years. Our mission is simple: providing our customers with the highest standard of care, helping them live longer, healthier, and happier lives. We are dedicated to innovation, efficiency, and excellence in everything we do.\\n\\n#### Our Services\\n\\nWe offer an extensive range of healthcare services designed to cater to everyone:\\n\\n- **Health Insurance:** Tailored plans to cover your specific needs, giving you access to cutting-edge treatments and renowned specialists.\\n- **Dental Care:** Comprehensive dental services to ensure your oral health is in top condition.\\n- **Care Homes:** Compassionate and professional care homes providing personalized support in a friendly and comfortable environment.\\n- **Health Assessments:** Detailed health assessments from experienced professionals to help you stay on top of your health.\\n- **Mental Health Support:** Integrated mental health services, offering guidance, counselling, and therapies to support your mental wellbeing.\\n\\n#### Our Commitment\\n\\nAt Bupa UK, our commitment extends beyond providing high-quality healthcare services. We strive to:\\n\\n- **Put You First:** Our services are designed with you at the heart, ensuring every aspect of your care is personalized and responsive to your needs.\\n- **Innovate and Lead:** We embrace the latest technological advancements and medical research to offer state-of-the-art treatments and services.\\n- **Act with Integrity:** Transparency, honesty, and ethical practices are foundational to our operations.\\n\\n#### Join the Bupa Family\\n\\nBecoming part of the Bupa family means more than just having access to top-tier healthcare. It means joining a community devoted to advancing your health and wellbeing. We invite you to explore our services, reach out to our friendly team, and take the first step towards a healthier, happier you.\\n\\n#### Get in Touch\\n\\nHave questions or need assistance? We're here to help. Contact us today and let us guide you to the best healthcare solutions for you and your loved ones.\\n\\nWelcome to Bupa UK. Your health is our passion, and your care is our commitment. Together, let's make your wellbeing our mission.\\n\\n---\\nAt Bupa UK, caring is our calling. Experience the difference with us.\\n\\n---\\n\\nFeel free to browse our website to discover more about our services and the Bupa community. Thank you for choosing Bupa UK!\", role='assistant', function_call=None, tool_calls=None), content_filter_results={'hate': {'filtered': False, 'severity': 'safe'}, 'self_harm': {'filtered': False, 'severity': 'safe'}, 'sexual': {'filtered': False, 'severity': 'safe'}, 'violence': {'filtered': False, 'severity': 'safe'}})], created=1720089582, model='gpt-4o-2024-05-13', object='chat.completion', system_fingerprint='fp_abc28019ad', usage=CompletionUsage(completion_tokens=544, prompt_tokens=32, total_tokens=576), prompt_filter_results=[{'prompt_index': 0, 'content_filter_results': {'hate': {'filtered': False, 'severity': 'safe'}, 'self_harm': {'filtered': False, 'severity': 'safe'}, 'sexual': {'filtered': False, 'severity': 'safe'}, 'violence': {'filtered': False, 'severity': 'safe'}}}])"
          },
          "metadata": {}
        }
      ],
      "execution_count": 13,
      "metadata": {
        "jupyter": {
          "source_hidden": false,
          "outputs_hidden": false
        },
        "nteract": {
          "transient": {
            "deleting": false
          }
        },
        "gather": {
          "logged": 1720089841066
        }
      },
      "id": "29b695d2-118d-45b0-b7ed-3ff91dde9684"
    },
    {
      "cell_type": "code",
      "source": [
        "messages.append({\"role\": \"system\", \"content\": response.choices[0].message.content})"
      ],
      "outputs": [],
      "execution_count": 14,
      "metadata": {
        "jupyter": {
          "source_hidden": false,
          "outputs_hidden": false
        },
        "nteract": {
          "transient": {
            "deleting": false
          }
        },
        "gather": {
          "logged": 1720089925017
        }
      },
      "id": "7e67e4ce-f345-4976-bb1c-894581eddc31"
    },
    {
      "cell_type": "code",
      "source": [
        "messages.append({\"role\": \"user\", \"content\": \"Can you summarize our conversation?\"})"
      ],
      "outputs": [],
      "execution_count": 15,
      "metadata": {
        "jupyter": {
          "source_hidden": false,
          "outputs_hidden": false
        },
        "nteract": {
          "transient": {
            "deleting": false
          }
        },
        "gather": {
          "logged": 1720089929085
        }
      },
      "id": "0bc62099-a0bd-4bfb-8a0c-3180d924e25e"
    },
    {
      "cell_type": "code",
      "source": [
        "print(messages)"
      ],
      "outputs": [
        {
          "output_type": "stream",
          "name": "stdout",
          "text": "[{'role': 'system', 'content': 'You are a helpful assistant.'}, {'role': 'user', 'content': 'Can you write a welcome page for The BUPA UK company website ?'}, {'role': 'system', 'content': \"### Welcome to Bupa UK\\n\\nWelcome to Bupa UK, where your health and wellbeing are our highest priority. We're proud to be a company that puts you first, offering exceptional healthcare services tailored to meet your individual needs. At Bupa, we believe in a holistic approach to health, ensuring that you receive comprehensive care and support every step of the way.\\n\\n#### Who We Are\\n\\nBupa UK is part of a leading global healthcare organization with a rich history of delivering quality health services for over 70 years. Our mission is simple: providing our customers with the highest standard of care, helping them live longer, healthier, and happier lives. We are dedicated to innovation, efficiency, and excellence in everything we do.\\n\\n#### Our Services\\n\\nWe offer an extensive range of healthcare services designed to cater to everyone:\\n\\n- **Health Insurance:** Tailored plans to cover your specific needs, giving you access to cutting-edge treatments and renowned specialists.\\n- **Dental Care:** Comprehensive dental services to ensure your oral health is in top condition.\\n- **Care Homes:** Compassionate and professional care homes providing personalized support in a friendly and comfortable environment.\\n- **Health Assessments:** Detailed health assessments from experienced professionals to help you stay on top of your health.\\n- **Mental Health Support:** Integrated mental health services, offering guidance, counselling, and therapies to support your mental wellbeing.\\n\\n#### Our Commitment\\n\\nAt Bupa UK, our commitment extends beyond providing high-quality healthcare services. We strive to:\\n\\n- **Put You First:** Our services are designed with you at the heart, ensuring every aspect of your care is personalized and responsive to your needs.\\n- **Innovate and Lead:** We embrace the latest technological advancements and medical research to offer state-of-the-art treatments and services.\\n- **Act with Integrity:** Transparency, honesty, and ethical practices are foundational to our operations.\\n\\n#### Join the Bupa Family\\n\\nBecoming part of the Bupa family means more than just having access to top-tier healthcare. It means joining a community devoted to advancing your health and wellbeing. We invite you to explore our services, reach out to our friendly team, and take the first step towards a healthier, happier you.\\n\\n#### Get in Touch\\n\\nHave questions or need assistance? We're here to help. Contact us today and let us guide you to the best healthcare solutions for you and your loved ones.\\n\\nWelcome to Bupa UK. Your health is our passion, and your care is our commitment. Together, let's make your wellbeing our mission.\\n\\n---\\nAt Bupa UK, caring is our calling. Experience the difference with us.\\n\\n---\\n\\nFeel free to browse our website to discover more about our services and the Bupa community. Thank you for choosing Bupa UK!\"}, {'role': 'user', 'content': 'Can you summarize our conversation?'}]\n"
        }
      ],
      "execution_count": 16,
      "metadata": {
        "jupyter": {
          "source_hidden": false,
          "outputs_hidden": false
        },
        "nteract": {
          "transient": {
            "deleting": false
          }
        },
        "gather": {
          "logged": 1720089933053
        }
      },
      "id": "d9ad7a3a-b65b-4919-b21a-bf5ad2f8e9c4"
    },
    {
      "cell_type": "code",
      "source": [
        "response = client.chat.completions.create(\n",
        "    model=\"gpt-4-0125-Preview\", # model = \"deployment_name\".\n",
        "    messages=messages\n",
        ")\n",
        "print(response.choices[0].message.content)"
      ],
      "outputs": [
        {
          "output_type": "stream",
          "name": "stdout",
          "text": "Certainly! You asked for assistance in writing a welcome page for the Bupa UK company website. I provided a comprehensive welcome message tailored for Bupa UK, outlining who they are, the services they offer—such as health insurance, dental care, care homes, health assessments, and mental health support—their commitment to customers, and an invitation for visitors to join the Bupa family or get in touch for more information.\n"
        }
      ],
      "execution_count": 17,
      "metadata": {
        "jupyter": {
          "source_hidden": false,
          "outputs_hidden": false
        },
        "nteract": {
          "transient": {
            "deleting": false
          }
        },
        "gather": {
          "logged": 1720089953086
        }
      },
      "id": "4bfe09da-ed31-4824-8a64-69b295bf4737"
    },
    {
      "cell_type": "code",
      "source": [
        "# Instead of appending, writing messages in the SDK\n",
        "response = client.chat.completions.create(\n",
        "    model=\"gpt-4o\", # model = \"deployment_name\".\n",
        "    messages=[\n",
        "        {\"role\": \"system\", \"content\": \"You are a helpful assistant.\"},\n",
        "        {\"role\": \"user\", \"content\": \"Can you write a welcome page for The BUPA UK company website ?\"},\n",
        "        {\"role\": \"system\", \"content\": \"Welcome to The BUPA UK, a company that integrates creativity, innovation, and cutting-edge technology to create unique and exceptional customer experiences.\"},\n",
        "        {\"role\": \"user\", \"content\": \"Can you summarize our conversation?\"},\n",
        "    ]\n",
        ")\n",
        "\n",
        "print(response.choices[0].message.content)"
      ],
      "outputs": [
        {
          "output_type": "stream",
          "name": "stdout",
          "text": "Certainly! You asked me to write a welcome page for The BUPA UK company website, and I provided a brief and engaging welcome message highlighting the company's commitment to creativity, innovation, and exceptional customer experiences.\n"
        }
      ],
      "execution_count": 18,
      "metadata": {
        "jupyter": {
          "source_hidden": false,
          "outputs_hidden": false
        },
        "nteract": {
          "transient": {
            "deleting": false
          }
        },
        "gather": {
          "logged": 1720089997023
        }
      },
      "id": "ead41f53-999c-4a67-aa2b-51c3377688d8"
    },
    {
      "cell_type": "markdown",
      "source": [
        "# PII Redaction"
      ],
      "metadata": {
        "nteract": {
          "transient": {
            "deleting": false
          }
        }
      },
      "id": "5418cb59-baf5-4d72-a92d-6eda425be3c1"
    },
    {
      "cell_type": "code",
      "source": [
        "content= f\"\"\"You are a helpful assistant that answers the given question. You must present both response and original question in your output after redacting any PII data such as name, address, date of birth, medical records, and financial records.\n",
        " \n",
        "Format the output in JSON by using \"Original Question\" and \"Response\" as a key. The original question should be the user input verbatim.\"\"\""
      ],
      "outputs": [],
      "execution_count": 19,
      "metadata": {
        "jupyter": {
          "source_hidden": false,
          "outputs_hidden": false
        },
        "nteract": {
          "transient": {
            "deleting": false
          }
        },
        "gather": {
          "logged": 1720090119073
        }
      },
      "id": "7d0f945f-8412-4825-91a1-6927e292dbd7"
    },
    {
      "cell_type": "code",
      "source": [
        "\n",
        "response = client.chat.completions.create(\n",
        "    model=\"gpt-4-0125-Preview\", # model = \"deployment_name\".\n",
        "    messages=[\n",
        "        {\"role\": \"system\", \"content\": content},\n",
        "        {\"role\": \"user\", \"content\": \"Hi, I am Yeliz, based in Cambridge. Can you write a poem for me?\"}\n",
        "    ]\n",
        ")\n",
        "\n",
        "print(response.choices[0].message.content)"
      ],
      "outputs": [
        {
          "output_type": "stream",
          "name": "stdout",
          "text": "{\n  \"Original Question\": \"Hi, can you write a poem for me?\",\n  \"Response\": \"Certainly! Here's a poem for you:\\n\\nIn a place where ideas take flight,\\nWhere dreams dance with the shimmering night,\\nThere's a whisper, a murmur, a soft sigh of delight,\\nIn the heart of the city, under the moon's gentle light.\\n\\nWhere bridges span stories and rivers sing songs,\\nAnd every path taken right where it belongs,\\nIn the hustle, the bustle, where every heart longs,\\nThere's magic in moments, in hellos and so longs.\\n\\nSo here's to the journey, the laughter, the tears,\\nThe hopes and the memories collected through years,\\nIn a place where the future so brightly appears,\\nEmbrace every second, let go of your fears.\"\n}\n"
        }
      ],
      "execution_count": 22,
      "metadata": {
        "jupyter": {
          "source_hidden": false,
          "outputs_hidden": false
        },
        "nteract": {
          "transient": {
            "deleting": false
          }
        },
        "gather": {
          "logged": 1720090243197
        }
      },
      "id": "40ca2132-a3a7-4e7a-9253-c0caa50ba76b"
    },
    {
      "cell_type": "markdown",
      "source": [
        "###   Reproducable Outputs with Seed Parameter**"
      ],
      "metadata": {
        "nteract": {
          "transient": {
            "deleting": false
          }
        }
      },
      "id": "ccbd11bd-7f8e-4c6a-9fd0-708b645d249d"
    },
    {
      "cell_type": "code",
      "source": [
        "for i in range(3):\n",
        "  print(f'Story Version {i + 1}\\n---')\n",
        "    \n",
        "  response = client.chat.completions.create(\n",
        "    model=\"gpt-4o\", # Model = should match the deployment name you chose for your 1106-preview model deployment\n",
        "    seed=42,\n",
        "    temperature=0.5,\n",
        "    max_tokens =50, \n",
        "    messages=[\n",
        "      {\"role\": \"system\", \"content\": \"You are a helpful assistant.\"},\n",
        "      {\"role\": \"user\", \"content\": \"Tell me a story about how the universe began?\"}\n",
        "    ]\n",
        "  )\n",
        "  \n",
        "  print(response.choices[0].message.content)\n",
        "  print(\"---\\n\")\n"
      ],
      "outputs": [
        {
          "output_type": "stream",
          "name": "stdout",
          "text": "Story Version 1\n---\nSure! Here's a story about the beginning of the universe:\n\n---\n\nIn the vast expanse of nothingness, before time and space existed, there was a singular point of infinite density and temperature. This point held within it all the energy and matter that\n---\n\nStory Version 2\n---\nSure! Here's a story about the beginning of the universe:\n\n---\n\nIn the vast expanse of nothingness, before time and space existed, there was a singular point of infinite density and temperature. This point held within it all the energy and matter that\n---\n\nStory Version 3\n---\nSure! Here's a story about the beginning of the universe:\n\n---\n\nIn the vast expanse of nothingness, before time and space existed, there was a singular point of infinite density and temperature called the \"cosmic egg.\" This cosmic egg held within\n---\n\n"
        }
      ],
      "execution_count": 23,
      "metadata": {
        "jupyter": {
          "source_hidden": false,
          "outputs_hidden": false
        },
        "nteract": {
          "transient": {
            "deleting": false
          }
        },
        "gather": {
          "logged": 1720090273006
        }
      },
      "id": "c9b5d45d-0de2-44f8-a903-ced5b0173a02"
    },
    {
      "cell_type": "code",
      "source": [],
      "outputs": [],
      "execution_count": null,
      "metadata": {
        "jupyter": {
          "source_hidden": false,
          "outputs_hidden": false
        },
        "nteract": {
          "transient": {
            "deleting": false
          }
        }
      },
      "id": "3dfa224c-c70e-4c9d-a8cf-451bb5410a9f"
    }
  ],
  "metadata": {
    "kernelspec": {
      "name": "python310-sdkv2",
      "language": "python",
      "display_name": "Python 3.10 - SDK v2"
    },
    "language_info": {
      "name": "python",
      "version": "3.10.11",
      "mimetype": "text/x-python",
      "codemirror_mode": {
        "name": "ipython",
        "version": 3
      },
      "pygments_lexer": "ipython3",
      "nbconvert_exporter": "python",
      "file_extension": ".py"
    },
    "microsoft": {
      "ms_spell_check": {
        "ms_spell_check_language": "en"
      },
      "host": {
        "AzureML": {
          "notebookHasBeenCompleted": true
        }
      }
    },
    "kernel_info": {
      "name": "python310-sdkv2"
    },
    "nteract": {
      "version": "nteract-front-end@1.0.0"
    }
  },
  "nbformat": 4,
  "nbformat_minor": 5
}