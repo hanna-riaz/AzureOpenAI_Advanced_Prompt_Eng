{
  "cells": [
    {
      "cell_type": "markdown",
      "source": [
        "# Chat Completions\n",
        "\n",
        "Chat models take a series of messages as input, and return a model-generated message as output.\n",
        "The main input is the messages parameter. **Messages must be an array of message objects, where each object has a role (either \"system\", \"user\") and content** (the content of the message). "
      ],
      "metadata": {},
      "id": "278e7451"
    },
    {
      "cell_type": "code",
      "source": [
        "# if needed, install and/or upgrade to the latest version of the OpenAI Python library\n",
        "#%pip install --upgrade openai"
      ],
      "outputs": [],
      "execution_count": null,
      "metadata": {},
      "id": "fb97123e"
    },
    {
      "cell_type": "code",
      "source": [
        "# import openai\n",
        "# from openai import AzureOpenAI\n",
        "# import os \n",
        "# from azure.identity import ManagedIdentityCredential\n",
        "\n",
        "# default_credential=ManagedIdentityCredential(client_id=\"d30cba06-04c1-4065-a91d-8b7ce3b07b78\")\n",
        "# token=default_credential.get_token(\"https://cognitiveservices.azure.com/.default\")\n",
        "# Resource_endpoint=\"https://openaiykus.openai.azure.com/\"\n",
        "\n",
        "# client = AzureOpenAI(\n",
        "#   azure_endpoint = Resource_endpoint, \n",
        "#   api_key=token.token,  \n",
        "#   api_version=\"2023-05-15\"\n",
        "# )"
      ],
      "outputs": [],
      "execution_count": 3,
      "metadata": {
        "gather": {
          "logged": 1700434959897
        }
      },
      "id": "ccbb9a99"
    },
    {
      "cell_type": "code",
      "source": [
        "import os\n",
        "import openai\n",
        "from openai import AzureOpenAI\n",
        "from dotenv import load_dotenv\n",
        "\n",
        "# Set up Azure OpenAI\n",
        "load_dotenv(\"credentials.env\")\n",
        "\n",
        "openai.api_type = \"azure\"\n",
        "    \n",
        "client = AzureOpenAI(\n",
        "    api_key=os.getenv(\"AZURE_OPENAI_API_KEY\"),  \n",
        "    api_version=\"2024-02-15-preview\",\n",
        "    azure_endpoint = os.getenv(\"AZURE_OPENAI_ENDPOINT\")\n",
        "    )"
      ],
      "outputs": [],
      "execution_count": 1,
      "metadata": {
        "jupyter": {
          "source_hidden": false,
          "outputs_hidden": false
        },
        "nteract": {
          "transient": {
            "deleting": false
          }
        },
        "gather": {
          "logged": 1720052455705
        }
      },
      "id": "424b2269-4ed0-44a2-8e35-1b397cf3e172"
    },
    {
      "cell_type": "code",
      "source": [
        "messages=[\n",
        "        {\"role\": \"system\", \"content\": \"You are a helpful assistant.\"},\n",
        "        {\"role\": \"user\", \"content\": \"Can you write a welcome page for The BUPA UK company website ?\"}]"
      ],
      "outputs": [],
      "execution_count": 2,
      "metadata": {
        "jupyter": {
          "source_hidden": false,
          "outputs_hidden": false
        },
        "nteract": {
          "transient": {
            "deleting": false
          }
        },
        "gather": {
          "logged": 1720052457773
        }
      },
      "id": "98bb0b84-8397-4e0c-b52e-2b45760bda80"
    },
    {
      "cell_type": "code",
      "source": [
        "response = client.chat.completions.create(\n",
        "    model=\"gpt-4o\", # model = \"deployment_name\".\n",
        "    messages=messages\n",
        ")\n",
        "print(response.choices[0].message.content)"
      ],
      "outputs": [
        {
          "output_type": "stream",
          "name": "stdout",
          "text": "Welcome to Bupa UK\n\nAt Bupa, we believe in a holistic approach to health and well-being. Our mission is simple yet profound: to help people live longer, healthier, and happier lives. As a global leader in healthcare services and insurance, we're committed to providing you with the best care wherever you are on your health journey.\n\nWho We Are\n\nBupa UK is part of the Bupa Group, a leading international healthcare company serving millions of customers across the globe. With no shareholders, our focus is on our customers' health and well-being. Any profits we make are reinvested back into better healthcare.\n\nWhat We Offer\n\nWe provide a range of health services and products designed to meet your specific needs:\n- **Health Insurance:** Comprehensive cover tailored to protect you and your loved ones.\n- **Health Services:** From GP appointments to specialist consultations, we offer easily accessible healthcare.\n- **Dental Care:** Top-quality dental services across our extensive network of clinics.\n- **Care Homes:** Compassionate residential and nursing care for older adults.\n\nWhy Choose Bupa?\n\n1. **Quality Care:** We work with a vast network of professionals and facilities to ensure you receive the best care available.\n2. **Personalised Services:** Tailored health plans and care solutions designed to fit your unique needs.\n3. **Innovation:** We are constantly innovating to provide better care and to stay ahead of healthcare challenges.\n4. **Customer-Centric Approach:** Your health and satisfaction are our top priorities.\n\nOur Commitment to You\n\nAt Bupa, you're more than just a policy number. We’re dedicated to offering personalised support and expert advice whenever you need it. Our dedicated teams are here to assist you, ensuring that your journey to better health is as smooth and comfortable as possible. \n\nJoin Us\n\nBe part of a community that prioritizes your well-being. Explore our services to discover how we can help you achieve your health goals. Let's embark on this journey together.\n\nThank you for choosing Bupa UK.\n\nLive longer. Live healthier. Live happier.\n\nWould you like more information about any specific service? Feel free to contact us and one of our friendly representatives will be happy to assist you.\n"
        }
      ],
      "execution_count": 3,
      "metadata": {
        "jupyter": {
          "source_hidden": false,
          "outputs_hidden": false
        },
        "nteract": {
          "transient": {
            "deleting": false
          }
        },
        "gather": {
          "logged": 1720052463691
        }
      },
      "id": "0e00e3f2-42ba-4090-957c-b2781f62cc1b"
    },
    {
      "cell_type": "code",
      "source": [
        "response"
      ],
      "outputs": [
        {
          "output_type": "execute_result",
          "execution_count": 4,
          "data": {
            "text/plain": "ChatCompletion(id='chatcmpl-9h4VX2IApmhfkn1XKleiCPvlfR7iX', choices=[Choice(finish_reason='stop', index=0, logprobs=None, message=ChatCompletionMessage(content=\"Welcome to Bupa UK\\n\\nAt Bupa, we believe in a holistic approach to health and well-being. Our mission is simple yet profound: to help people live longer, healthier, and happier lives. As a global leader in healthcare services and insurance, we're committed to providing you with the best care wherever you are on your health journey.\\n\\nWho We Are\\n\\nBupa UK is part of the Bupa Group, a leading international healthcare company serving millions of customers across the globe. With no shareholders, our focus is on our customers' health and well-being. Any profits we make are reinvested back into better healthcare.\\n\\nWhat We Offer\\n\\nWe provide a range of health services and products designed to meet your specific needs:\\n- **Health Insurance:** Comprehensive cover tailored to protect you and your loved ones.\\n- **Health Services:** From GP appointments to specialist consultations, we offer easily accessible healthcare.\\n- **Dental Care:** Top-quality dental services across our extensive network of clinics.\\n- **Care Homes:** Compassionate residential and nursing care for older adults.\\n\\nWhy Choose Bupa?\\n\\n1. **Quality Care:** We work with a vast network of professionals and facilities to ensure you receive the best care available.\\n2. **Personalised Services:** Tailored health plans and care solutions designed to fit your unique needs.\\n3. **Innovation:** We are constantly innovating to provide better care and to stay ahead of healthcare challenges.\\n4. **Customer-Centric Approach:** Your health and satisfaction are our top priorities.\\n\\nOur Commitment to You\\n\\nAt Bupa, you're more than just a policy number. We’re dedicated to offering personalised support and expert advice whenever you need it. Our dedicated teams are here to assist you, ensuring that your journey to better health is as smooth and comfortable as possible. \\n\\nJoin Us\\n\\nBe part of a community that prioritizes your well-being. Explore our services to discover how we can help you achieve your health goals. Let's embark on this journey together.\\n\\nThank you for choosing Bupa UK.\\n\\nLive longer. Live healthier. Live happier.\\n\\nWould you like more information about any specific service? Feel free to contact us and one of our friendly representatives will be happy to assist you.\", role='assistant', function_call=None, tool_calls=None), content_filter_results={'hate': {'filtered': False, 'severity': 'safe'}, 'self_harm': {'filtered': False, 'severity': 'safe'}, 'sexual': {'filtered': False, 'severity': 'safe'}, 'violence': {'filtered': False, 'severity': 'safe'}})], created=1720052459, model='gpt-4o-2024-05-13', object='chat.completion', system_fingerprint='fp_abc28019ad', usage=CompletionUsage(completion_tokens=439, prompt_tokens=32, total_tokens=471), prompt_filter_results=[{'prompt_index': 0, 'content_filter_results': {'hate': {'filtered': False, 'severity': 'safe'}, 'self_harm': {'filtered': False, 'severity': 'safe'}, 'sexual': {'filtered': False, 'severity': 'safe'}, 'violence': {'filtered': False, 'severity': 'safe'}}}])"
          },
          "metadata": {}
        }
      ],
      "execution_count": 4,
      "metadata": {
        "jupyter": {
          "source_hidden": false,
          "outputs_hidden": false
        },
        "nteract": {
          "transient": {
            "deleting": false
          }
        },
        "gather": {
          "logged": 1720052463876
        }
      },
      "id": "29b695d2-118d-45b0-b7ed-3ff91dde9684"
    },
    {
      "cell_type": "code",
      "source": [
        "messages.append({\"role\": \"system\", \"content\": response.choices[0].message.content})"
      ],
      "outputs": [],
      "execution_count": 5,
      "metadata": {
        "jupyter": {
          "source_hidden": false,
          "outputs_hidden": false
        },
        "nteract": {
          "transient": {
            "deleting": false
          }
        },
        "gather": {
          "logged": 1720052463983
        }
      },
      "id": "7e67e4ce-f345-4976-bb1c-894581eddc31"
    },
    {
      "cell_type": "code",
      "source": [
        "messages.append({\"role\": \"user\", \"content\": \"Can you summarize our conversation?\"})"
      ],
      "outputs": [],
      "execution_count": 6,
      "metadata": {
        "jupyter": {
          "source_hidden": false,
          "outputs_hidden": false
        },
        "nteract": {
          "transient": {
            "deleting": false
          }
        },
        "gather": {
          "logged": 1720052464080
        }
      },
      "id": "0bc62099-a0bd-4bfb-8a0c-3180d924e25e"
    },
    {
      "cell_type": "code",
      "source": [
        "print(messages)"
      ],
      "outputs": [
        {
          "output_type": "stream",
          "name": "stdout",
          "text": "[{'role': 'system', 'content': 'You are a helpful assistant.'}, {'role': 'user', 'content': 'Can you write a welcome page for The BUPA UK company website ?'}, {'role': 'system', 'content': \"Welcome to Bupa UK\\n\\nAt Bupa, we believe in a holistic approach to health and well-being. Our mission is simple yet profound: to help people live longer, healthier, and happier lives. As a global leader in healthcare services and insurance, we're committed to providing you with the best care wherever you are on your health journey.\\n\\nWho We Are\\n\\nBupa UK is part of the Bupa Group, a leading international healthcare company serving millions of customers across the globe. With no shareholders, our focus is on our customers' health and well-being. Any profits we make are reinvested back into better healthcare.\\n\\nWhat We Offer\\n\\nWe provide a range of health services and products designed to meet your specific needs:\\n- **Health Insurance:** Comprehensive cover tailored to protect you and your loved ones.\\n- **Health Services:** From GP appointments to specialist consultations, we offer easily accessible healthcare.\\n- **Dental Care:** Top-quality dental services across our extensive network of clinics.\\n- **Care Homes:** Compassionate residential and nursing care for older adults.\\n\\nWhy Choose Bupa?\\n\\n1. **Quality Care:** We work with a vast network of professionals and facilities to ensure you receive the best care available.\\n2. **Personalised Services:** Tailored health plans and care solutions designed to fit your unique needs.\\n3. **Innovation:** We are constantly innovating to provide better care and to stay ahead of healthcare challenges.\\n4. **Customer-Centric Approach:** Your health and satisfaction are our top priorities.\\n\\nOur Commitment to You\\n\\nAt Bupa, you're more than just a policy number. We’re dedicated to offering personalised support and expert advice whenever you need it. Our dedicated teams are here to assist you, ensuring that your journey to better health is as smooth and comfortable as possible. \\n\\nJoin Us\\n\\nBe part of a community that prioritizes your well-being. Explore our services to discover how we can help you achieve your health goals. Let's embark on this journey together.\\n\\nThank you for choosing Bupa UK.\\n\\nLive longer. Live healthier. Live happier.\\n\\nWould you like more information about any specific service? Feel free to contact us and one of our friendly representatives will be happy to assist you.\"}, {'role': 'user', 'content': 'Can you summarize our conversation?'}]\n"
        }
      ],
      "execution_count": 7,
      "metadata": {
        "jupyter": {
          "source_hidden": false,
          "outputs_hidden": false
        },
        "nteract": {
          "transient": {
            "deleting": false
          }
        },
        "gather": {
          "logged": 1720052464164
        }
      },
      "id": "d9ad7a3a-b65b-4919-b21a-bf5ad2f8e9c4"
    },
    {
      "cell_type": "code",
      "source": [
        "response = client.chat.completions.create(\n",
        "    model=\"gpt-4-0125-Preview\", # model = \"deployment_name\".\n",
        "    messages=messages\n",
        ")\n",
        "print(response.choices[0].message.content)"
      ],
      "outputs": [
        {
          "output_type": "stream",
          "name": "stdout",
          "text": "Certainly! You requested a welcome page for the Bupa UK company website. I provided a draft that includes an introduction to Bupa UK, detailing who they are, what services they offer (like health insurance, health services, dental care, and care homes), reasons to choose Bupa, and their commitment to customers. The welcome message emphasizes Bupa's mission to help people live longer, healthier, and happier lives, focusing on quality care, personalized services, innovation, and a customer-centric approach. The summary concludes with an invitation for readers to join the Bupa community and an offer of assistance for those seeking more information.\n"
        }
      ],
      "execution_count": 8,
      "metadata": {
        "jupyter": {
          "source_hidden": false,
          "outputs_hidden": false
        },
        "nteract": {
          "transient": {
            "deleting": false
          }
        },
        "gather": {
          "logged": 1720052467685
        }
      },
      "id": "4bfe09da-ed31-4824-8a64-69b295bf4737"
    },
    {
      "cell_type": "code",
      "source": [
        "# Instead of appending, writing messages in the SDK\n",
        "response = client.chat.completions.create(\n",
        "    model=\"gpt-4o\", # model = \"deployment_name\".\n",
        "    messages=[\n",
        "        {\"role\": \"system\", \"content\": \"You are a helpful assistant.\"},\n",
        "        {\"role\": \"user\", \"content\": \"Can you write a welcome page for The BUPA UK company website ?\"},\n",
        "        {\"role\": \"system\", \"content\": \"Welcome to The BUPA UK, a company that integrates creativity, innovation, and cutting-edge technology to create unique and exceptional customer experiences.\"},\n",
        "        {\"role\": \"user\", \"content\": \"Can you summarize our conversation?\"},\n",
        "    ]\n",
        ")\n",
        "\n",
        "print(response.choices[0].message.content)"
      ],
      "outputs": [
        {
          "output_type": "stream",
          "name": "stdout",
          "text": "Certainly! You initially requested a welcome page for The BUPA UK company website. I provided a concise and engaging welcome message that highlights the company's focus on creativity, innovation, and cutting-edge technology to deliver exceptional customer experiences.\n"
        }
      ],
      "execution_count": 11,
      "metadata": {
        "jupyter": {
          "source_hidden": false,
          "outputs_hidden": false
        },
        "nteract": {
          "transient": {
            "deleting": false
          }
        },
        "gather": {
          "logged": 1720052499704
        }
      },
      "id": "ead41f53-999c-4a67-aa2b-51c3377688d8"
    },
    {
      "cell_type": "markdown",
      "source": [
        "# PII Redaction"
      ],
      "metadata": {
        "nteract": {
          "transient": {
            "deleting": false
          }
        }
      },
      "id": "5418cb59-baf5-4d72-a92d-6eda425be3c1"
    },
    {
      "cell_type": "code",
      "source": [
        "content= f\"\"\"You are a helpful assistant that answers the given question. You must present both response and original question in your output after redacting any PII data such as name, address, date of birth, medical records, and financial records.\n",
        " \n",
        "Format the output in JSON by using \"Original Question\" and \"Response\" as a key. The original question should be the user input verbatim.\"\"\""
      ],
      "outputs": [],
      "execution_count": 12,
      "metadata": {
        "jupyter": {
          "source_hidden": false,
          "outputs_hidden": false
        },
        "nteract": {
          "transient": {
            "deleting": false
          }
        },
        "gather": {
          "logged": 1720052623830
        }
      },
      "id": "7d0f945f-8412-4825-91a1-6927e292dbd7"
    },
    {
      "cell_type": "code",
      "source": [
        "\n",
        "response = client.chat.completions.create(\n",
        "    model=\"gpt-4-0125-Preview\", # model = \"deployment_name\".\n",
        "    messages=[\n",
        "        {\"role\": \"system\", \"content\": content},\n",
        "        {\"role\": \"user\", \"content\": \"Hi, I am Yeliz, based in Cambridge. Can you write a poem for me?\"}\n",
        "    ]\n",
        ")\n",
        "\n",
        "print(response.choices[0].message.content)"
      ],
      "outputs": [
        {
          "output_type": "stream",
          "name": "stdout",
          "text": "```json\n{\n  \"Original Question\": \"Hi, I am [Name], based in [Location]. Can you write a poem for me?\",\n  \"Response\": \"Of course, here is a poem for you:\\n\\nIn a town where history breathes and sighs,\\nBeside the river's gentle flow and rise,\\nThe spires and towers reach for the skies,\\nIn Cambridge, where ambition never dies.\\n\\nHere, dreams are woven in lecture halls,\\nAncient stones whisper of past scholars' calls,\\nThrough every season, beauty enthralls,\\nInspiring minds to break through walls.\\n\\nIn this place of learning, growth, and grace,\\nEach step forward leaves an indelible trace,\\nIn Cambridge, every dreamer finds their space,\\nTo chase the stars, in an endless race.\"\n}\n```\n"
        }
      ],
      "execution_count": 13,
      "metadata": {
        "jupyter": {
          "source_hidden": false,
          "outputs_hidden": false
        },
        "nteract": {
          "transient": {
            "deleting": false
          }
        },
        "gather": {
          "logged": 1720052629690
        }
      },
      "id": "40ca2132-a3a7-4e7a-9253-c0caa50ba76b"
    },
    {
      "cell_type": "markdown",
      "source": [
        "###   Reproducable Outputs with Seed Parameter**"
      ],
      "metadata": {
        "nteract": {
          "transient": {
            "deleting": false
          }
        }
      },
      "id": "ccbd11bd-7f8e-4c6a-9fd0-708b645d249d"
    },
    {
      "cell_type": "code",
      "source": [
        "for i in range(3):\n",
        "  print(f'Story Version {i + 1}\\n---')\n",
        "    \n",
        "  response = client.chat.completions.create(\n",
        "    model=\"gpt-4o\", # Model = should match the deployment name you chose for your 1106-preview model deployment\n",
        "    seed=42,\n",
        "    temperature=0.5,\n",
        "    max_tokens =50, \n",
        "    messages=[\n",
        "      {\"role\": \"system\", \"content\": \"You are a helpful assistant.\"},\n",
        "      {\"role\": \"user\", \"content\": \"Tell me a story about how the universe began?\"}\n",
        "    ]\n",
        "  )\n",
        "  \n",
        "  print(response.choices[0].message.content)\n",
        "  print(\"---\\n\")\n"
      ],
      "outputs": [
        {
          "output_type": "stream",
          "name": "stdout",
          "text": "Story Version 1\n---\nSure! Here's a story about the beginning of the universe:\n\n---\n\nIn the vast expanse of nothingness, before time and space existed, there was a singular point of infinite density and temperature called the \"cosmic egg.\" This cosmic egg held within\n---\n\nStory Version 2\n---\nSure! Here's a story about the beginning of the universe:\n\n---\n\nIn the vast expanse of nothingness, before time and space existed, there was a singular point of infinite density and temperature called the \"cosmic egg.\" This cosmic egg held within\n---\n\nStory Version 3\n---\nSure! Here's a story about the beginning of the universe:\n\n---\n\nIn the vast expanse of nothingness, before time and space existed, there was a singular point of infinite density and temperature called the \"cosmic egg.\" This cosmic egg held within\n---\n\n"
        }
      ],
      "execution_count": 10,
      "metadata": {
        "jupyter": {
          "source_hidden": false,
          "outputs_hidden": false
        },
        "nteract": {
          "transient": {
            "deleting": false
          }
        },
        "gather": {
          "logged": 1720052469850
        }
      },
      "id": "c9b5d45d-0de2-44f8-a903-ced5b0173a02"
    }
  ],
  "metadata": {
    "kernelspec": {
      "name": "python310-sdkv2",
      "language": "python",
      "display_name": "Python 3.10 - SDK v2"
    },
    "language_info": {
      "name": "python",
      "version": "3.10.11",
      "mimetype": "text/x-python",
      "codemirror_mode": {
        "name": "ipython",
        "version": 3
      },
      "pygments_lexer": "ipython3",
      "nbconvert_exporter": "python",
      "file_extension": ".py"
    },
    "microsoft": {
      "ms_spell_check": {
        "ms_spell_check_language": "en"
      },
      "host": {
        "AzureML": {
          "notebookHasBeenCompleted": true
        }
      }
    },
    "kernel_info": {
      "name": "python310-sdkv2"
    },
    "nteract": {
      "version": "nteract-front-end@1.0.0"
    }
  },
  "nbformat": 4,
  "nbformat_minor": 5
}