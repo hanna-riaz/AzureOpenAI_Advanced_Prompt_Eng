{
  "cells": [
    {
      "cell_type": "markdown",
      "source": [
        "# Chat Completions\n",
        "\n",
        "Chat models take a series of messages as input, and return a model-generated message as output.\n",
        "The main input is the messages parameter. **Messages must be an array of message objects, where each object has a role (either \"system\", \"user\") and content** (the content of the message). "
      ],
      "metadata": {},
      "id": "278e7451"
    },
    {
      "cell_type": "code",
      "source": [
        "# if needed, install and/or upgrade to the latest version of the OpenAI Python library\n",
        "#%pip install --upgrade openai"
      ],
      "outputs": [],
      "execution_count": null,
      "metadata": {},
      "id": "fb97123e"
    },
    {
      "cell_type": "code",
      "source": [
        "# import openai\n",
        "# from openai import AzureOpenAI\n",
        "# import os \n",
        "# from azure.identity import ManagedIdentityCredential\n",
        "\n",
        "# default_credential=ManagedIdentityCredential(client_id=\"XXX\")\n",
        "# token=default_credential.get_token(\"https://cognitiveservices.azure.com/.default\")\n",
        "# Resource_endpoint=\"XXX\"\n",
        "\n",
        "# client = AzureOpenAI(\n",
        "#   azure_endpoint = Resource_endpoint, \n",
        "#   api_key=token.token,  \n",
        "#   api_version=\"2023-05-15\"\n",
        "# )"
      ],
      "outputs": [],
      "execution_count": 3,
      "metadata": {
        "gather": {
          "logged": 1700434959897
        }
      },
      "id": "ccbb9a99"
    },
    {
      "cell_type": "code",
      "source": [
        "import os\n",
        "import openai\n",
        "from openai import AzureOpenAI\n",
        "from dotenv import load_dotenv\n",
        "\n",
        "# Set up Azure OpenAI\n",
        "load_dotenv(\"credentials.env\")\n",
        "\n",
        "openai.api_type = \"azure\"\n",
        "    \n",
        "client = AzureOpenAI(\n",
        "    api_key=os.getenv(\"AZURE_OPENAI_API_KEY\"),  \n",
        "    api_version=\"2024-02-01\",\n",
        "    azure_endpoint = os.getenv(\"AZURE_OPENAI_ENDPOINT\")\n",
        "    )"
      ],
      "outputs": [],
      "execution_count": 3,
      "metadata": {
        "jupyter": {
          "source_hidden": false,
          "outputs_hidden": false
        },
        "nteract": {
          "transient": {
            "deleting": false
          }
        },
        "gather": {
          "logged": 1724165727949
        }
      },
      "id": "424b2269-4ed0-44a2-8e35-1b397cf3e172"
    },
    {
      "cell_type": "code",
      "source": [
        "messages=[\n",
        "        {\"role\": \"system\", \"content\": \"You are a helpful assistant.\"},\n",
        "        {\"role\": \"user\", \"content\": \"Can you write a welcome page for Nationwide website ?\"}]"
      ],
      "outputs": [],
      "execution_count": 4,
      "metadata": {
        "jupyter": {
          "source_hidden": false,
          "outputs_hidden": false
        },
        "nteract": {
          "transient": {
            "deleting": false
          }
        },
        "gather": {
          "logged": 1724165729156
        }
      },
      "id": "98bb0b84-8397-4e0c-b52e-2b45760bda80"
    },
    {
      "cell_type": "code",
      "source": [
        "response = client.chat.completions.create(\n",
        "    model=\"gpt-4o\", # model = \"deployment_name\".\n",
        "    messages=messages\n",
        ")\n",
        "print(response.choices[0].message.content)"
      ],
      "outputs": [
        {
          "output_type": "stream",
          "name": "stdout",
          "text": "Sure! Here's a draft for a welcome page for Nationwide’s website:\n\n---\n\n**Welcome to Nationwide**\n\nWelcome to Nationwide, where we put our members first and provide reliable protection for what matters most.\n\n### Who We Are\n\nAt Nationwide, we’ve been protecting what’s important to our members for nearly a century. Whether it’s your car, home, business, or future, our comprehensive insurance and financial services are designed to give you peace of mind.\n\n### Why Choose Us\n\n- **Trustworthy Service**: With a heritage of integrity and dedication, we’re proud to be a top choice for millions of individuals and businesses.\n- **Comprehensive Coverage**: From auto and home insurance to retirement planning and asset management, we offer a wide range of products tailored to meet your unique needs.\n- **Member-Focused**: Your satisfaction is our priority. Our attentive customer service and efficient claims process ensure you are supported when you need it most.\n- **Innovative Solutions**: We continuously invest in technology and innovations to provide you with the most up-to-date and efficient services.\n\n### Our Mission\n\nTo protect people, businesses, and futures with extraordinary care.\n\n### Let’s Get Started\n\nExplore our services, get customized quotes, and discover the benefits of being a Nationwide member. Here are a few areas to help you get started:\n\n- **Insurance Products**: Find the coverage that fits your needs.\n  - [Auto Insurance](#)\n  - [Homeowners Insurance](#)\n  - [Life Insurance](#)\n  - [Business Insurance](#)\n\n- **Financial Services**: Secure your financial future with our expertise.\n  - [Retirement Plans](#)\n  - [Investment Management](#)\n  - [Health Savings Accounts](#)\n\n- **Claims and Support**: Need assistance? We’re here to help.\n  - [File a Claim](#)\n  - [Customer Service](#)\n  - [FAQs](#)\n\n### Join the Nationwide Family\n\nReady to join millions of satisfied members? Contact us today to learn more about how Nationwide can provide the protection and security you deserve.\n\nThank you for visiting Nationwide. We are stronger together.\n\n---\n\n*We’re with you every step of the way.*\n*Welcome home.*\n\n[Get a Quote](#) | [Contact Us](#) | [Find an Agent](#)\n\n---\n\n*This is just a draft and can be further personalized based on the specific services and tone of Nationwide's branding.*\n"
        }
      ],
      "execution_count": 5,
      "metadata": {
        "jupyter": {
          "source_hidden": false,
          "outputs_hidden": false
        },
        "nteract": {
          "transient": {
            "deleting": false
          }
        },
        "gather": {
          "logged": 1724165752934
        }
      },
      "id": "0e00e3f2-42ba-4090-957c-b2781f62cc1b"
    },
    {
      "cell_type": "code",
      "source": [
        "response"
      ],
      "outputs": [
        {
          "output_type": "execute_result",
          "execution_count": 6,
          "data": {
            "text/plain": "ChatCompletion(id='chatcmpl-9yKYcpJ9OkkaJca56uXCb5AY1lZP3', choices=[Choice(finish_reason='stop', index=0, logprobs=None, message=ChatCompletionMessage(content=\"Sure! Here's a draft for a welcome page for Nationwide’s website:\\n\\n---\\n\\n**Welcome to Nationwide**\\n\\nWelcome to Nationwide, where we put our members first and provide reliable protection for what matters most.\\n\\n### Who We Are\\n\\nAt Nationwide, we’ve been protecting what’s important to our members for nearly a century. Whether it’s your car, home, business, or future, our comprehensive insurance and financial services are designed to give you peace of mind.\\n\\n### Why Choose Us\\n\\n- **Trustworthy Service**: With a heritage of integrity and dedication, we’re proud to be a top choice for millions of individuals and businesses.\\n- **Comprehensive Coverage**: From auto and home insurance to retirement planning and asset management, we offer a wide range of products tailored to meet your unique needs.\\n- **Member-Focused**: Your satisfaction is our priority. Our attentive customer service and efficient claims process ensure you are supported when you need it most.\\n- **Innovative Solutions**: We continuously invest in technology and innovations to provide you with the most up-to-date and efficient services.\\n\\n### Our Mission\\n\\nTo protect people, businesses, and futures with extraordinary care.\\n\\n### Let’s Get Started\\n\\nExplore our services, get customized quotes, and discover the benefits of being a Nationwide member. Here are a few areas to help you get started:\\n\\n- **Insurance Products**: Find the coverage that fits your needs.\\n  - [Auto Insurance](#)\\n  - [Homeowners Insurance](#)\\n  - [Life Insurance](#)\\n  - [Business Insurance](#)\\n\\n- **Financial Services**: Secure your financial future with our expertise.\\n  - [Retirement Plans](#)\\n  - [Investment Management](#)\\n  - [Health Savings Accounts](#)\\n\\n- **Claims and Support**: Need assistance? We’re here to help.\\n  - [File a Claim](#)\\n  - [Customer Service](#)\\n  - [FAQs](#)\\n\\n### Join the Nationwide Family\\n\\nReady to join millions of satisfied members? Contact us today to learn more about how Nationwide can provide the protection and security you deserve.\\n\\nThank you for visiting Nationwide. We are stronger together.\\n\\n---\\n\\n*We’re with you every step of the way.*\\n*Welcome home.*\\n\\n[Get a Quote](#) | [Contact Us](#) | [Find an Agent](#)\\n\\n---\\n\\n*This is just a draft and can be further personalized based on the specific services and tone of Nationwide's branding.*\", refusal=None, role='assistant', function_call=None, tool_calls=None), content_filter_results={'hate': {'filtered': False, 'severity': 'safe'}, 'self_harm': {'filtered': False, 'severity': 'safe'}, 'sexual': {'filtered': False, 'severity': 'safe'}, 'violence': {'filtered': False, 'severity': 'safe'}})], created=1724165730, model='gpt-4o-2024-05-13', object='chat.completion', service_tier=None, system_fingerprint='fp_abc28019ad', usage=CompletionUsage(completion_tokens=499, prompt_tokens=27, total_tokens=526), prompt_filter_results=[{'prompt_index': 0, 'content_filter_results': {'hate': {'filtered': False, 'severity': 'safe'}, 'self_harm': {'filtered': False, 'severity': 'safe'}, 'sexual': {'filtered': False, 'severity': 'safe'}, 'violence': {'filtered': False, 'severity': 'safe'}}}])"
          },
          "metadata": {}
        }
      ],
      "execution_count": 6,
      "metadata": {
        "jupyter": {
          "source_hidden": false,
          "outputs_hidden": false
        },
        "nteract": {
          "transient": {
            "deleting": false
          }
        },
        "gather": {
          "logged": 1724165769116
        }
      },
      "id": "29b695d2-118d-45b0-b7ed-3ff91dde9684"
    },
    {
      "cell_type": "code",
      "source": [
        "messages.append({\"role\": \"system\", \"content\": response.choices[0].message.content})"
      ],
      "outputs": [],
      "execution_count": 7,
      "metadata": {
        "jupyter": {
          "source_hidden": false,
          "outputs_hidden": false
        },
        "nteract": {
          "transient": {
            "deleting": false
          }
        },
        "gather": {
          "logged": 1724165772947
        }
      },
      "id": "7e67e4ce-f345-4976-bb1c-894581eddc31"
    },
    {
      "cell_type": "code",
      "source": [
        "messages.append({\"role\": \"user\", \"content\": \"Can you summarize our conversation?\"})"
      ],
      "outputs": [],
      "execution_count": 8,
      "metadata": {
        "jupyter": {
          "source_hidden": false,
          "outputs_hidden": false
        },
        "nteract": {
          "transient": {
            "deleting": false
          }
        },
        "gather": {
          "logged": 1724165774048
        }
      },
      "id": "0bc62099-a0bd-4bfb-8a0c-3180d924e25e"
    },
    {
      "cell_type": "code",
      "source": [
        "print(messages)"
      ],
      "outputs": [
        {
          "output_type": "stream",
          "name": "stdout",
          "text": "[{'role': 'system', 'content': 'You are a helpful assistant.'}, {'role': 'user', 'content': 'Can you write a welcome page for Nationwide website ?'}, {'role': 'system', 'content': \"Sure! Here's a draft for a welcome page for Nationwide’s website:\\n\\n---\\n\\n**Welcome to Nationwide**\\n\\nWelcome to Nationwide, where we put our members first and provide reliable protection for what matters most.\\n\\n### Who We Are\\n\\nAt Nationwide, we’ve been protecting what’s important to our members for nearly a century. Whether it’s your car, home, business, or future, our comprehensive insurance and financial services are designed to give you peace of mind.\\n\\n### Why Choose Us\\n\\n- **Trustworthy Service**: With a heritage of integrity and dedication, we’re proud to be a top choice for millions of individuals and businesses.\\n- **Comprehensive Coverage**: From auto and home insurance to retirement planning and asset management, we offer a wide range of products tailored to meet your unique needs.\\n- **Member-Focused**: Your satisfaction is our priority. Our attentive customer service and efficient claims process ensure you are supported when you need it most.\\n- **Innovative Solutions**: We continuously invest in technology and innovations to provide you with the most up-to-date and efficient services.\\n\\n### Our Mission\\n\\nTo protect people, businesses, and futures with extraordinary care.\\n\\n### Let’s Get Started\\n\\nExplore our services, get customized quotes, and discover the benefits of being a Nationwide member. Here are a few areas to help you get started:\\n\\n- **Insurance Products**: Find the coverage that fits your needs.\\n  - [Auto Insurance](#)\\n  - [Homeowners Insurance](#)\\n  - [Life Insurance](#)\\n  - [Business Insurance](#)\\n\\n- **Financial Services**: Secure your financial future with our expertise.\\n  - [Retirement Plans](#)\\n  - [Investment Management](#)\\n  - [Health Savings Accounts](#)\\n\\n- **Claims and Support**: Need assistance? We’re here to help.\\n  - [File a Claim](#)\\n  - [Customer Service](#)\\n  - [FAQs](#)\\n\\n### Join the Nationwide Family\\n\\nReady to join millions of satisfied members? Contact us today to learn more about how Nationwide can provide the protection and security you deserve.\\n\\nThank you for visiting Nationwide. We are stronger together.\\n\\n---\\n\\n*We’re with you every step of the way.*\\n*Welcome home.*\\n\\n[Get a Quote](#) | [Contact Us](#) | [Find an Agent](#)\\n\\n---\\n\\n*This is just a draft and can be further personalized based on the specific services and tone of Nationwide's branding.*\"}, {'role': 'user', 'content': 'Can you summarize our conversation?'}]\n"
        }
      ],
      "execution_count": 9,
      "metadata": {
        "jupyter": {
          "source_hidden": false,
          "outputs_hidden": false
        },
        "nteract": {
          "transient": {
            "deleting": false
          }
        },
        "gather": {
          "logged": 1724165777979
        }
      },
      "id": "d9ad7a3a-b65b-4919-b21a-bf5ad2f8e9c4"
    },
    {
      "cell_type": "code",
      "source": [
        "response = client.chat.completions.create(\n",
        "    model=\"gpt-4-0125-Preview\", # model = \"deployment_name\".\n",
        "    messages=messages\n",
        ")\n",
        "print(response.choices[0].message.content)"
      ],
      "outputs": [
        {
          "output_type": "stream",
          "name": "stdout",
          "text": "Certainly! You requested a draft for a welcome page for the Nationwide website. I provided a comprehensive welcome page draft that introduces Nationwide, highlights its core values, mission, and the range of products and services offered. The draft emphasizes Nationwide's commitment to trust, comprehensive coverage, customer satisfaction, and innovative solutions, offering guidance on how visitors can explore services, request quotes, and contact Nationwide for more information.\n"
        }
      ],
      "execution_count": 10,
      "metadata": {
        "jupyter": {
          "source_hidden": false,
          "outputs_hidden": false
        },
        "nteract": {
          "transient": {
            "deleting": false
          }
        },
        "gather": {
          "logged": 1724165797887
        }
      },
      "id": "4bfe09da-ed31-4824-8a64-69b295bf4737"
    },
    {
      "cell_type": "code",
      "source": [
        "# Instead of appending, writing messages in the SDK\n",
        "response = client.chat.completions.create(\n",
        "    model=\"gpt-4o\", # model = \"deployment_name\".\n",
        "    messages=[\n",
        "        {\"role\": \"system\", \"content\": \"You are a helpful assistant.\"},\n",
        "        {\"role\": \"user\", \"content\": \"Can you write a welcome page for Nationwide website ?\"},\n",
        "        {\"role\": \"system\", \"content\": \"Welcome to Nationwide, where we put our members first and provide reliable protection for what matters most.\"},\n",
        "        {\"role\": \"user\", \"content\": \"Can you summarize our conversation?\"},\n",
        "    ]\n",
        ")\n",
        "\n",
        "print(response.choices[0].message.content)"
      ],
      "outputs": [
        {
          "output_type": "stream",
          "name": "stdout",
          "text": "Sure! You asked me to write a welcome page for the Nationwide website, and I provided a brief welcome message emphasizing how Nationwide prioritizes its members and offers reliable protection for what matters most.\n"
        }
      ],
      "execution_count": 13,
      "metadata": {
        "jupyter": {
          "source_hidden": false,
          "outputs_hidden": false
        },
        "nteract": {
          "transient": {
            "deleting": false
          }
        },
        "gather": {
          "logged": 1724165873905
        }
      },
      "id": "ead41f53-999c-4a67-aa2b-51c3377688d8"
    },
    {
      "cell_type": "markdown",
      "source": [
        "# PII Redaction"
      ],
      "metadata": {
        "nteract": {
          "transient": {
            "deleting": false
          }
        }
      },
      "id": "5418cb59-baf5-4d72-a92d-6eda425be3c1"
    },
    {
      "cell_type": "code",
      "source": [
        "content= f\"\"\"You are a helpful assistant that answers the given question. You must present both response and original question in your output after redacting any PII data such as name, address, date of birth, medical records, and financial records.\n",
        " \n",
        "Format the output in JSON by using \"Original Question\" and \"Response\" as a key. The original question should be the user input verbatim.\"\"\""
      ],
      "outputs": [],
      "execution_count": 15,
      "metadata": {
        "jupyter": {
          "source_hidden": false,
          "outputs_hidden": false
        },
        "nteract": {
          "transient": {
            "deleting": false
          }
        },
        "gather": {
          "logged": 1724165898942
        }
      },
      "id": "7d0f945f-8412-4825-91a1-6927e292dbd7"
    },
    {
      "cell_type": "code",
      "source": [
        "\n",
        "response = client.chat.completions.create(\n",
        "    model=\"gpt-4-0125-Preview\", # model = \"deployment_name\".\n",
        "    messages=[\n",
        "        {\"role\": \"system\", \"content\": content},\n",
        "        {\"role\": \"user\", \"content\": \"Hi, I am Yeliz, based in Cambridge. Can you write a poem for me?\"}\n",
        "    ]\n",
        ")\n",
        "\n",
        "print(response.choices[0].message.content)"
      ],
      "outputs": [
        {
          "output_type": "stream",
          "name": "stdout",
          "text": "```json\n{\n  \"Original Question\": \"Hi, I am [Name Redacted], based in [Location Redacted]. Can you write a poem for me?\",\n  \"Response\": \"In a town where knowledge towers, under the sky so wide and blue, there lives a soul with creative powers, asking for a poem, fresh as morning dew.\\\\nFrom cobblestone streets to academic halls, where minds like rivers meet and flow, I craft these words as adventure calls, in a rhythm gentle, soft, and slow.\\\\nMay this poem find you well, in [Location Redacted]'s embrace, where stories and dreams dwell, in this charming, historic place.\"\n}\n```\n"
        }
      ],
      "execution_count": 16,
      "metadata": {
        "jupyter": {
          "source_hidden": false,
          "outputs_hidden": false
        },
        "nteract": {
          "transient": {
            "deleting": false
          }
        },
        "gather": {
          "logged": 1724165904890
        }
      },
      "id": "40ca2132-a3a7-4e7a-9253-c0caa50ba76b"
    },
    {
      "cell_type": "markdown",
      "source": [
        "###   Reproducable Outputs with Seed Parameter**"
      ],
      "metadata": {
        "nteract": {
          "transient": {
            "deleting": false
          }
        }
      },
      "id": "ccbd11bd-7f8e-4c6a-9fd0-708b645d249d"
    },
    {
      "cell_type": "code",
      "source": [
        "for i in range(3):\n",
        "  print(f'Story Version {i + 1}\\n---')\n",
        "    \n",
        "  response = client.chat.completions.create(\n",
        "    model=\"gpt-4o\", # Model = should match the deployment name you chose for your 1106-preview model deployment\n",
        "    seed=42,\n",
        "    temperature=0.5,\n",
        "    max_tokens =50, \n",
        "    messages=[\n",
        "      {\"role\": \"system\", \"content\": \"You are a helpful assistant.\"},\n",
        "      {\"role\": \"user\", \"content\": \"Tell me a story about how the universe began?\"}\n",
        "    ]\n",
        "  )\n",
        "  \n",
        "  print(response.choices[0].message.content)\n",
        "  print(\"---\\n\")\n"
      ],
      "outputs": [
        {
          "output_type": "stream",
          "name": "stdout",
          "text": "Story Version 1\n---\nSure! Here's a story about the beginning of the universe:\n\n---\n\nIn the vast expanse of nothingness, before time and space existed, there was a singular point of infinite density and temperature. This point held within it all the energy and matter that\n---\n\nStory Version 2\n---\nSure! Here's a story about the beginning of the universe:\n\n---\n\nIn the vast expanse of nothingness, before time and space existed, there was a singular point of infinite density and temperature. This point held within it all the energy and matter that\n---\n\nStory Version 3\n---\nSure! Here's a story about the beginning of the universe:\n\n---\n\nIn the vast expanse of nothingness, before time and space existed, there was a singular point of infinite density and temperature called the \"cosmic egg.\" This cosmic egg held within\n---\n\n"
        }
      ],
      "execution_count": 17,
      "metadata": {
        "jupyter": {
          "source_hidden": false,
          "outputs_hidden": false
        },
        "nteract": {
          "transient": {
            "deleting": false
          }
        },
        "gather": {
          "logged": 1724165934876
        }
      },
      "id": "c9b5d45d-0de2-44f8-a903-ced5b0173a02"
    },
    {
      "cell_type": "code",
      "source": [],
      "outputs": [],
      "execution_count": null,
      "metadata": {
        "jupyter": {
          "source_hidden": false,
          "outputs_hidden": false
        },
        "nteract": {
          "transient": {
            "deleting": false
          }
        }
      },
      "id": "3dfa224c-c70e-4c9d-a8cf-451bb5410a9f"
    }
  ],
  "metadata": {
    "kernelspec": {
      "name": "python310-sdkv2",
      "language": "python",
      "display_name": "Python 3.10 - SDK v2"
    },
    "language_info": {
      "name": "python",
      "version": "3.10.11",
      "mimetype": "text/x-python",
      "codemirror_mode": {
        "name": "ipython",
        "version": 3
      },
      "pygments_lexer": "ipython3",
      "nbconvert_exporter": "python",
      "file_extension": ".py"
    },
    "microsoft": {
      "ms_spell_check": {
        "ms_spell_check_language": "en"
      },
      "host": {
        "AzureML": {
          "notebookHasBeenCompleted": true
        }
      }
    },
    "kernel_info": {
      "name": "python310-sdkv2"
    },
    "nteract": {
      "version": "nteract-front-end@1.0.0"
    }
  },
  "nbformat": 4,
  "nbformat_minor": 5
}