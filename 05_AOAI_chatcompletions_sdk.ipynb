{
  "cells": [
    {
      "cell_type": "markdown",
      "source": [
        "# Chat Completions\n",
        "\n",
        "Chat models take a series of messages as input, and return a model-generated message as output.\n",
        "The main input is the messages parameter. **Messages must be an array of message objects, where each object has a role (either \"system\", \"user\") and content** (the content of the message). "
      ],
      "metadata": {},
      "id": "278e7451"
    },
    {
      "cell_type": "code",
      "source": [
        "# if needed, install and/or upgrade to the latest version of the OpenAI Python library\n",
        "#%pip install --upgrade openai"
      ],
      "outputs": [],
      "execution_count": null,
      "metadata": {},
      "id": "fb97123e"
    },
    {
      "cell_type": "code",
      "source": [
        "# import openai\n",
        "# from openai import AzureOpenAI\n",
        "# import os \n",
        "# from azure.identity import ManagedIdentityCredential\n",
        "\n",
        "# default_credential=ManagedIdentityCredential(client_id=\"d30cba06-04c1-4065-a91d-8b7ce3b07b78\")\n",
        "# token=default_credential.get_token(\"https://cognitiveservices.azure.com/.default\")\n",
        "# Resource_endpoint=\"https://openaiykus.openai.azure.com/\"\n",
        "\n",
        "# client = AzureOpenAI(\n",
        "#   azure_endpoint = Resource_endpoint, \n",
        "#   api_key=token.token,  \n",
        "#   api_version=\"2023-05-15\"\n",
        "# )"
      ],
      "outputs": [],
      "execution_count": 3,
      "metadata": {
        "gather": {
          "logged": 1700434959897
        }
      },
      "id": "ccbb9a99"
    },
    {
      "cell_type": "code",
      "source": [
        "import os\n",
        "import openai\n",
        "from openai import AzureOpenAI\n",
        "from dotenv import load_dotenv\n",
        "\n",
        "# Set up Azure OpenAI\n",
        "load_dotenv(\"credentials.env\")\n",
        "\n",
        "openai.api_type = \"azure\"\n",
        "    \n",
        "client = AzureOpenAI(\n",
        "    api_key=os.getenv(\"AZURE_OPENAI_KEY\"),  \n",
        "    api_version=\"2024-02-01\",\n",
        "    azure_endpoint = os.getenv(\"AZURE_OPENAI_ENDPOINT\")\n",
        "    )"
      ],
      "outputs": [],
      "execution_count": 1,
      "metadata": {
        "jupyter": {
          "source_hidden": false,
          "outputs_hidden": false
        },
        "nteract": {
          "transient": {
            "deleting": false
          }
        },
        "gather": {
          "logged": 1716418252922
        }
      },
      "id": "424b2269-4ed0-44a2-8e35-1b397cf3e172"
    },
    {
      "cell_type": "code",
      "source": [
        "messages=[\n",
        "        {\"role\": \"system\", \"content\": \"You are a helpful assistant.\"},\n",
        "        {\"role\": \"user\", \"content\": \"Can you write a welcome page for The Enstar Group company website ?\"}]"
      ],
      "outputs": [],
      "execution_count": 2,
      "metadata": {
        "jupyter": {
          "source_hidden": false,
          "outputs_hidden": false
        },
        "nteract": {
          "transient": {
            "deleting": false
          }
        },
        "gather": {
          "logged": 1716418293216
        }
      },
      "id": "98bb0b84-8397-4e0c-b52e-2b45760bda80"
    },
    {
      "cell_type": "code",
      "source": [
        "response = client.chat.completions.create(\n",
        "    model=\"gpt-4-0125-Preview\", # model = \"deployment_name\".\n",
        "    messages=messages\n",
        ")\n",
        "print(response.choices[0].message.content)"
      ],
      "outputs": [
        {
          "output_type": "stream",
          "name": "stdout",
          "text": "Certainly! Below is an example welcome page for The Enstar Group company website. Note that this is a general template and should be customized to align with Enstar's current branding, tone, values, and factual company details.\n\n---\n\n### Welcome to Enstar Group\n\n#### Navigating the Present, Shaping the Future\n\nWelcome to Enstar Group, a global leader in insurance and reinsurance solutions. Since our inception, we've been at the forefront of innovation, focusing on a core mission to manage and resolve insurance and reinsurance portfolios efficiently, with integrity, and with a forward-thinking approach. Our comprehensive services, unparalleled expertise, and commitment to excellence have positioned us as trusted partners in the industry.\n\n#### Who We Are\n\nEnstar Group specializes in managing insurance and reinsurance run-off companies and portfolios and provides capital release solutions. With our extensive knowledge and experience, we've become experts in acquisitions, reinsurance, and the management of legacy and non-core business risks. Headquartered in [Headquarter Location], we have a global footprint with offices across [Key Locations], facilitating a wide-ranging impact in every aspect of insurance and reinsurance industries worldwide.\n\n#### Our Commitment\n\n- **To Our Clients**: Our promise is to deliver bespoke solutions tailored to the unique needs of our clients, ensuring that each client receives the attention, service, and results they deserve.\n- **To Innovation**: We continuously harness technology and data analytics to enhance our service delivery, ensuring that we stay on the cutting edge of industry developments.\n- **To Our People**: At Enstar, we believe in cultivating a diverse and inclusive workplace where every team member is valued, supported, and encouraged to grow.\n- **To Responsibility**: We're deeply committed to acting responsibly and ethically in all our business dealings, contributing to the economies and communities we operate within.\n\n#### Our Services\n\nEnstar Group's suite of services includes, but is not limited to:\n\n- **Legacy Solutions**: Expert management of non-core and legacy insurance and reinsurance businesses.\n- **Capital Solutions**: Providing flexible capital solutions to help our clients achieve their financial objectives.\n- **Acquisitions**: Strategic acquisitions of insurance and reinsurance entities or portfolios.\n- **Management Services**: Comprehensive management services, including but not limited to, claims handling, policy administration, and risk management.\n\n#### Join Us on Our Journey\n\nWe invite you to explore our website to learn more about our services, our values, and how we can work together to create comprehensive solutions tailored to your needs. At Enstar Group, we're not just preparing for the future; we're actively shaping it. Let's navigate this journey together.\n\nFor the latest news and insights, follow us on our social media channels [Insert Social Media Links] or subscribe to our newsletter.\n\nWelcome to Enstar Group — Where excellence meets innovation.\n\n---\n\nPlease ensure that you replace placeholder text (like [Headquarter Location], [Key Locations], and [Insert Social Media Links]) with actual information pertinent to Enstar Group.\n"
        }
      ],
      "execution_count": 3,
      "metadata": {
        "jupyter": {
          "source_hidden": false,
          "outputs_hidden": false
        },
        "nteract": {
          "transient": {
            "deleting": false
          }
        },
        "gather": {
          "logged": 1716418310010
        }
      },
      "id": "0e00e3f2-42ba-4090-957c-b2781f62cc1b"
    },
    {
      "cell_type": "code",
      "source": [
        "response"
      ],
      "outputs": [
        {
          "output_type": "execute_result",
          "execution_count": 4,
          "data": {
            "text/plain": "ChatCompletion(id='chatcmpl-9Rp5zt7zvjnWGsUDVl2IuE3hJDGxQ', choices=[Choice(finish_reason='stop', index=0, logprobs=None, message=ChatCompletionMessage(content=\"Certainly! Below is an example welcome page for The Enstar Group company website. Note that this is a general template and should be customized to align with Enstar's current branding, tone, values, and factual company details.\\n\\n---\\n\\n### Welcome to Enstar Group\\n\\n#### Navigating the Present, Shaping the Future\\n\\nWelcome to Enstar Group, a global leader in insurance and reinsurance solutions. Since our inception, we've been at the forefront of innovation, focusing on a core mission to manage and resolve insurance and reinsurance portfolios efficiently, with integrity, and with a forward-thinking approach. Our comprehensive services, unparalleled expertise, and commitment to excellence have positioned us as trusted partners in the industry.\\n\\n#### Who We Are\\n\\nEnstar Group specializes in managing insurance and reinsurance run-off companies and portfolios and provides capital release solutions. With our extensive knowledge and experience, we've become experts in acquisitions, reinsurance, and the management of legacy and non-core business risks. Headquartered in [Headquarter Location], we have a global footprint with offices across [Key Locations], facilitating a wide-ranging impact in every aspect of insurance and reinsurance industries worldwide.\\n\\n#### Our Commitment\\n\\n- **To Our Clients**: Our promise is to deliver bespoke solutions tailored to the unique needs of our clients, ensuring that each client receives the attention, service, and results they deserve.\\n- **To Innovation**: We continuously harness technology and data analytics to enhance our service delivery, ensuring that we stay on the cutting edge of industry developments.\\n- **To Our People**: At Enstar, we believe in cultivating a diverse and inclusive workplace where every team member is valued, supported, and encouraged to grow.\\n- **To Responsibility**: We're deeply committed to acting responsibly and ethically in all our business dealings, contributing to the economies and communities we operate within.\\n\\n#### Our Services\\n\\nEnstar Group's suite of services includes, but is not limited to:\\n\\n- **Legacy Solutions**: Expert management of non-core and legacy insurance and reinsurance businesses.\\n- **Capital Solutions**: Providing flexible capital solutions to help our clients achieve their financial objectives.\\n- **Acquisitions**: Strategic acquisitions of insurance and reinsurance entities or portfolios.\\n- **Management Services**: Comprehensive management services, including but not limited to, claims handling, policy administration, and risk management.\\n\\n#### Join Us on Our Journey\\n\\nWe invite you to explore our website to learn more about our services, our values, and how we can work together to create comprehensive solutions tailored to your needs. At Enstar Group, we're not just preparing for the future; we're actively shaping it. Let's navigate this journey together.\\n\\nFor the latest news and insights, follow us on our social media channels [Insert Social Media Links] or subscribe to our newsletter.\\n\\nWelcome to Enstar Group — Where excellence meets innovation.\\n\\n---\\n\\nPlease ensure that you replace placeholder text (like [Headquarter Location], [Key Locations], and [Insert Social Media Links]) with actual information pertinent to Enstar Group.\", role='assistant', function_call=None, tool_calls=None), content_filter_results={'hate': {'filtered': False, 'severity': 'safe'}, 'self_harm': {'filtered': False, 'severity': 'safe'}, 'sexual': {'filtered': False, 'severity': 'safe'}, 'violence': {'filtered': False, 'severity': 'safe'}})], created=1716418295, model='gpt-4', object='chat.completion', system_fingerprint='fp_2f57f81c11', usage=CompletionUsage(completion_tokens=601, prompt_tokens=31, total_tokens=632), prompt_filter_results=[{'prompt_index': 0, 'content_filter_results': {'hate': {'filtered': False, 'severity': 'safe'}, 'self_harm': {'filtered': False, 'severity': 'safe'}, 'sexual': {'filtered': False, 'severity': 'safe'}, 'violence': {'filtered': False, 'severity': 'safe'}}}])"
          },
          "metadata": {}
        }
      ],
      "execution_count": 4,
      "metadata": {
        "jupyter": {
          "source_hidden": false,
          "outputs_hidden": false
        },
        "nteract": {
          "transient": {
            "deleting": false
          }
        },
        "gather": {
          "logged": 1716418337175
        }
      },
      "id": "29b695d2-118d-45b0-b7ed-3ff91dde9684"
    },
    {
      "cell_type": "code",
      "source": [
        "messages.append({\"role\": \"system\", \"content\": response.choices[0].message.content})"
      ],
      "outputs": [],
      "execution_count": 5,
      "metadata": {
        "jupyter": {
          "source_hidden": false,
          "outputs_hidden": false
        },
        "nteract": {
          "transient": {
            "deleting": false
          }
        },
        "gather": {
          "logged": 1716418355285
        }
      },
      "id": "7e67e4ce-f345-4976-bb1c-894581eddc31"
    },
    {
      "cell_type": "code",
      "source": [
        "messages.append({\"role\": \"user\", \"content\": \"Can you summarize our conversation?\"})"
      ],
      "outputs": [],
      "execution_count": 6,
      "metadata": {
        "jupyter": {
          "source_hidden": false,
          "outputs_hidden": false
        },
        "nteract": {
          "transient": {
            "deleting": false
          }
        },
        "gather": {
          "logged": 1716418356116
        }
      },
      "id": "0bc62099-a0bd-4bfb-8a0c-3180d924e25e"
    },
    {
      "cell_type": "code",
      "source": [
        "print(messages)"
      ],
      "outputs": [
        {
          "output_type": "stream",
          "name": "stdout",
          "text": "[{'role': 'system', 'content': 'You are a helpful assistant.'}, {'role': 'user', 'content': 'Can you write a welcome page for The Enstar Group company website ?'}, {'role': 'system', 'content': \"Certainly! Below is an example welcome page for The Enstar Group company website. Note that this is a general template and should be customized to align with Enstar's current branding, tone, values, and factual company details.\\n\\n---\\n\\n### Welcome to Enstar Group\\n\\n#### Navigating the Present, Shaping the Future\\n\\nWelcome to Enstar Group, a global leader in insurance and reinsurance solutions. Since our inception, we've been at the forefront of innovation, focusing on a core mission to manage and resolve insurance and reinsurance portfolios efficiently, with integrity, and with a forward-thinking approach. Our comprehensive services, unparalleled expertise, and commitment to excellence have positioned us as trusted partners in the industry.\\n\\n#### Who We Are\\n\\nEnstar Group specializes in managing insurance and reinsurance run-off companies and portfolios and provides capital release solutions. With our extensive knowledge and experience, we've become experts in acquisitions, reinsurance, and the management of legacy and non-core business risks. Headquartered in [Headquarter Location], we have a global footprint with offices across [Key Locations], facilitating a wide-ranging impact in every aspect of insurance and reinsurance industries worldwide.\\n\\n#### Our Commitment\\n\\n- **To Our Clients**: Our promise is to deliver bespoke solutions tailored to the unique needs of our clients, ensuring that each client receives the attention, service, and results they deserve.\\n- **To Innovation**: We continuously harness technology and data analytics to enhance our service delivery, ensuring that we stay on the cutting edge of industry developments.\\n- **To Our People**: At Enstar, we believe in cultivating a diverse and inclusive workplace where every team member is valued, supported, and encouraged to grow.\\n- **To Responsibility**: We're deeply committed to acting responsibly and ethically in all our business dealings, contributing to the economies and communities we operate within.\\n\\n#### Our Services\\n\\nEnstar Group's suite of services includes, but is not limited to:\\n\\n- **Legacy Solutions**: Expert management of non-core and legacy insurance and reinsurance businesses.\\n- **Capital Solutions**: Providing flexible capital solutions to help our clients achieve their financial objectives.\\n- **Acquisitions**: Strategic acquisitions of insurance and reinsurance entities or portfolios.\\n- **Management Services**: Comprehensive management services, including but not limited to, claims handling, policy administration, and risk management.\\n\\n#### Join Us on Our Journey\\n\\nWe invite you to explore our website to learn more about our services, our values, and how we can work together to create comprehensive solutions tailored to your needs. At Enstar Group, we're not just preparing for the future; we're actively shaping it. Let's navigate this journey together.\\n\\nFor the latest news and insights, follow us on our social media channels [Insert Social Media Links] or subscribe to our newsletter.\\n\\nWelcome to Enstar Group — Where excellence meets innovation.\\n\\n---\\n\\nPlease ensure that you replace placeholder text (like [Headquarter Location], [Key Locations], and [Insert Social Media Links]) with actual information pertinent to Enstar Group.\"}, {'role': 'user', 'content': 'Can you summarize our conversation?'}]\n"
        }
      ],
      "execution_count": 7,
      "metadata": {
        "jupyter": {
          "source_hidden": false,
          "outputs_hidden": false
        },
        "nteract": {
          "transient": {
            "deleting": false
          }
        },
        "gather": {
          "logged": 1716418357108
        }
      },
      "id": "d9ad7a3a-b65b-4919-b21a-bf5ad2f8e9c4"
    },
    {
      "cell_type": "code",
      "source": [
        "response = client.chat.completions.create(\n",
        "    model=\"gpt-4-0125-Preview\", # model = \"deployment_name\".\n",
        "    messages=messages\n",
        ")\n",
        "print(response.choices[0].message.content)"
      ],
      "outputs": [
        {
          "output_type": "stream",
          "name": "stdout",
          "text": "Certainly! In our conversation, you requested a welcome page for The Enstar Group company website. I provided a customizable welcome page template that includes sections on:\n\n1. A greeting and brief introduction to Enstar Group, highlighting its role as a leader in insurance and reinsurance solutions.\n2. A \"Who We Are\" section detailing Enstar Group's specialization in managing insurance and reinsurance run-off companies and portfolios, along with a mention of global operations.\n3. The company's commitments to clients, innovation, its people, and ethical responsibility.\n4. An overview of services offered by Enstar Group, such as legacy solutions, capital solutions, acquisitions, and management services.\n5. An invitation for visitors to explore the website further, follow Enstar Group on social media, and subscribe to its newsletter, along with a closing statement emphasizing the company's dedication to excellence and innovation.\n\nI emphasized that the provided content should be customized to reflect Enstar Group's current information, branding, and factual details, with placeholders indicated for specific information to be updated (e.g., headquarters location, key locations, and social media links).\n"
        }
      ],
      "execution_count": 9,
      "metadata": {
        "jupyter": {
          "source_hidden": false,
          "outputs_hidden": false
        },
        "nteract": {
          "transient": {
            "deleting": false
          }
        },
        "gather": {
          "logged": 1716418388947
        }
      },
      "id": "4bfe09da-ed31-4824-8a64-69b295bf4737"
    },
    {
      "cell_type": "code",
      "source": [
        "# Instead of appending, writing messages in the SDK\n",
        "response = client.chat.completions.create(\n",
        "    model=\"gpt-4-0125-Preview\", # model = \"deployment_name\".\n",
        "    messages=[\n",
        "        {\"role\": \"system\", \"content\": \"You are a helpful assistant.\"},\n",
        "        {\"role\": \"user\", \"content\": \"Can you write a welcome page for The Enstar Group company website ?\"},\n",
        "        {\"role\": \"system\", \"content\": \"Welcome to The Enstar Group, a company that integrates creativity, innovation, and cutting-edge technology to create unique and exceptional customer experiences.\"},\n",
        "        {\"role\": \"user\", \"content\": \"Can you summarize our conversation?\"},\n",
        "    ]\n",
        ")\n",
        "\n",
        "print(response.choices[0].message.content)"
      ],
      "outputs": [
        {
          "output_type": "stream",
          "name": "stdout",
          "text": "Certainly! You requested a welcome page message for The Enstar Group company website, and I provided a brief introduction highlighting the company's focus on creativity, innovation, and the use of advanced technology to enhance customer experiences.\n"
        }
      ],
      "execution_count": 10,
      "metadata": {
        "jupyter": {
          "source_hidden": false,
          "outputs_hidden": false
        },
        "nteract": {
          "transient": {
            "deleting": false
          }
        },
        "gather": {
          "logged": 1716418486299
        }
      },
      "id": "ead41f53-999c-4a67-aa2b-51c3377688d8"
    },
    {
      "cell_type": "markdown",
      "source": [
        "# PII Redaction"
      ],
      "metadata": {
        "nteract": {
          "transient": {
            "deleting": false
          }
        }
      },
      "id": "3a74260e-6101-4bbe-b82d-c8f1d6a2f0bc"
    },
    {
      "cell_type": "code",
      "source": [
        "content= f\"\"\"You are a helpful assistant that answers the given question. You must present both response and original question in your output after redacting any PII data such as name, address, date of birth, medical records, and financial records.\n",
        " \n",
        "Format the output in JSON by using \"Original Question\" and \"Response\" as a key. The original question should be the user input verbatim.\"\"\""
      ],
      "outputs": [],
      "execution_count": 11,
      "metadata": {
        "jupyter": {
          "source_hidden": false,
          "outputs_hidden": false
        },
        "nteract": {
          "transient": {
            "deleting": false
          }
        },
        "gather": {
          "logged": 1716418524195
        }
      },
      "id": "7cdf5c24-6f1c-4531-bfe0-44f614fe74a1"
    },
    {
      "cell_type": "code",
      "source": [
        "\n",
        "response = client.chat.completions.create(\n",
        "    model=\"gpt-4-0125-Preview\", # model = \"deployment_name\".\n",
        "    messages=[\n",
        "        {\"role\": \"system\", \"content\": content},\n",
        "        {\"role\": \"user\", \"content\": \"Hi, I am Yeliz, based in Cambridge. Can you write a poem for me?\"}\n",
        "    ]\n",
        ")\n",
        "\n",
        "print(response.choices[0].message.content)"
      ],
      "outputs": [
        {
          "output_type": "stream",
          "name": "stdout",
          "text": "{\n  \"Original Question\": \"Hi, I am [Name Redacted], based in [Location Redacted]. Can you write a poem for me?\",\n  \"Response\": \"Certainly! Here is a poem for you:\\n\\nIn a town where dreams intertwine,\\nBeneath the academic spires that shine,\\nThere lies a heart so bold and fine,\\nSeeking wisdom's treasure, a quest divine.\\n\\nThrough cobbled streets and history’s embrace,\\nPast rivers of knowledge that time cannot erase,\\nA spirit wanders, a gentle trace,\\nOf longing for learning, and life’s sweet taste.\\n\\nIn this haven of thought, where bright minds meet,\\nIdeas flourish, and hearts beat,\\nA dedication to pursuit, no retreat,\\nIn Cambridge’s embrace, a journey complete.\\n\\nMay your days be filled with curious delight,\\nUnder stars that guide you through the night,\\nMay your path be clear, your future bright,\\nIn the quest for wisdom, and truth’s light.\"\n}\n"
        }
      ],
      "execution_count": 12,
      "metadata": {
        "jupyter": {
          "source_hidden": false,
          "outputs_hidden": false
        },
        "nteract": {
          "transient": {
            "deleting": false
          }
        },
        "gather": {
          "logged": 1716418530451
        }
      },
      "id": "2a614a4b-2874-499a-b045-2852ac4f9888"
    },
    {
      "cell_type": "markdown",
      "source": [
        "### **GPT-4 TURBO  Reproducable Outputs with Seed Parameter**"
      ],
      "metadata": {
        "nteract": {
          "transient": {
            "deleting": false
          }
        }
      },
      "id": "ccbd11bd-7f8e-4c6a-9fd0-708b645d249d"
    },
    {
      "cell_type": "code",
      "source": [
        "for i in range(3):\n",
        "  print(f'Story Version {i + 1}\\n---')\n",
        "    \n",
        "  response = client.chat.completions.create(\n",
        "    model=\"gpt-4-0125-Preview\", # Model = should match the deployment name you chose for your 1106-preview model deployment\n",
        "    seed=42,\n",
        "    temperature=0.5,\n",
        "    max_tokens =50, \n",
        "    messages=[\n",
        "      {\"role\": \"system\", \"content\": \"You are a helpful assistant.\"},\n",
        "      {\"role\": \"user\", \"content\": \"Tell me a story about how the universe began?\"}\n",
        "    ]\n",
        "  )\n",
        "  \n",
        "  print(response.choices[0].message.content)\n",
        "  print(\"---\\n\")\n"
      ],
      "outputs": [
        {
          "output_type": "stream",
          "name": "stdout",
          "text": "Story Version 1\n---\nIn the vast expanse of nothingness, where time and space had yet to find their form, a singular event sparked the creation of everything we know—the universe's beginning. This is a tale not of science or fact, but of imagination, inspired\n---\n\nStory Version 2\n---\nIn the vast expanse of nothingness, where time and space had yet to find their form, a singular event sparked the creation of everything we know—the universe's beginning. This is a tale not of science or fact, but of imagination, inspired\n---\n\nStory Version 3\n---\nIn the vast expanse of nothingness, where time and space had yet to find their form, a singular event sparked the creation of everything we know—the universe's beginning. This is a tale not of science or fact, but of imagination, inspired\n---\n\n"
        }
      ],
      "execution_count": 14,
      "metadata": {
        "jupyter": {
          "source_hidden": false,
          "outputs_hidden": false
        },
        "nteract": {
          "transient": {
            "deleting": false
          }
        },
        "gather": {
          "logged": 1716418627429
        }
      },
      "id": "c9b5d45d-0de2-44f8-a903-ced5b0173a02"
    }
  ],
  "metadata": {
    "kernelspec": {
      "name": "python310-sdkv2",
      "language": "python",
      "display_name": "Python 3.10 - SDK v2"
    },
    "language_info": {
      "name": "python",
      "version": "3.10.11",
      "mimetype": "text/x-python",
      "codemirror_mode": {
        "name": "ipython",
        "version": 3
      },
      "pygments_lexer": "ipython3",
      "nbconvert_exporter": "python",
      "file_extension": ".py"
    },
    "microsoft": {
      "ms_spell_check": {
        "ms_spell_check_language": "en"
      },
      "host": {
        "AzureML": {
          "notebookHasBeenCompleted": true
        }
      }
    },
    "kernel_info": {
      "name": "python310-sdkv2"
    },
    "nteract": {
      "version": "nteract-front-end@1.0.0"
    }
  },
  "nbformat": 4,
  "nbformat_minor": 5
}