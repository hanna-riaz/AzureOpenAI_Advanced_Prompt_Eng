{
 "cells": [
  {
   "cell_type": "code",
   "execution_count": 14,
   "metadata": {
    "gather": {
     "logged": 1720097684406
    },
    "jupyter": {
     "outputs_hidden": false,
     "source_hidden": false
    },
    "nteract": {
     "transient": {
      "deleting": false
     }
    }
   },
   "outputs": [],
   "source": [
    "# import openai\n",
    "# from openai import AzureOpenAI\n",
    "# import os \n",
    "# from azure.identity import ManagedIdentityCredential\n",
    "\n",
    "# default_credential=ManagedIdentityCredential(client_id=\"XXX\")\n",
    "# token=default_credential.get_token(\"https://cognitiveservices.azure.com/.default\")\n",
    "# Resource_endpoint=\"XXX\"\n",
    "\n",
    "# client = AzureOpenAI(\n",
    "#   azure_endpoint = Resource_endpoint, \n",
    "#   api_key=token.token,  \n",
    "#   api_version=\"2023-05-15\"\n",
    "# )"
   ]
  },
  {
   "cell_type": "code",
   "execution_count": 1,
   "metadata": {
    "gather": {
     "logged": 1724377457848
    },
    "jupyter": {
     "outputs_hidden": false,
     "source_hidden": false
    },
    "nteract": {
     "transient": {
      "deleting": false
     }
    }
   },
   "outputs": [],
   "source": [
    "import os\n",
    "import openai\n",
    "from openai import AzureOpenAI\n",
    "from dotenv import load_dotenv\n",
    "\n",
    "# Set up Azure OpenAI\n",
    "load_dotenv(\"credentials.env\")\n",
    "\n",
    "openai.api_type = \"azure\"\n",
    "    \n",
    "client = AzureOpenAI(\n",
    "    api_key=os.getenv(\"AZURE_OPENAI_KEY\"),  \n",
    "    api_version=\"2024-02-01\",\n",
    "    azure_endpoint = os.getenv(\"AZURE_OPENAI_ENDPOINT\")\n",
    "    )"
   ]
  },
  {
   "cell_type": "code",
   "execution_count": 76,
   "metadata": {
    "gather": {
     "logged": 1724376603988
    },
    "jupyter": {
     "outputs_hidden": false,
     "source_hidden": false
    },
    "nteract": {
     "transient": {
      "deleting": false
     }
    }
   },
   "outputs": [
    {
     "name": "stdout",
     "output_type": "stream",
     "text": [
      "https://azuremlopenai.openai.azure.com/\n"
     ]
    }
   ],
   "source": [
    "print(os.getenv(\"AZURE_OPENAI_ENDPOINT\"))"
   ]
  },
  {
   "cell_type": "markdown",
   "metadata": {
    "nteract": {
     "transient": {
      "deleting": false
     }
    }
   },
   "source": [
    "## 1. Understand the AOAI Models' capabilities. Start with the latest model, prove your idea , then test with smaller models. \n",
    "Model size is critical for better performance."
   ]
  },
  {
   "cell_type": "markdown",
   "metadata": {
    "nteract": {
     "transient": {
      "deleting": false
     }
    }
   },
   "source": [
    "## 2. Be specific, descriptive and as detailed as possible about the desired context, outcome, length, format, style, etc"
   ]
  },
  {
   "cell_type": "markdown",
   "metadata": {
    "nteract": {
     "transient": {
      "deleting": false
     }
    }
   },
   "source": [
    "** Length ** control (specify desired output length e.g.: number of words)\n",
    "\n",
    "** Tone ** control (e.g.: polite, passionate, professional, technical, funny, casual, serious etc.)\n",
    "\n",
    "** Style ** control (e.g.: in the style of Shakespeare, JK Rowling, Nelson Mandela etc.)\n",
    "\n",
    "** Audience ** control (e.g.: a 5-year-old can understand etc)\n",
    "\n",
    "** Context ** control (e.g.: news, novel, textbook, report, white paper, blog etc.)"
   ]
  },
  {
   "cell_type": "code",
   "execution_count": null,
   "metadata": {
    "gather": {
     "logged": 1724220799436
    },
    "jupyter": {
     "outputs_hidden": false,
     "source_hidden": false
    },
    "nteract": {
     "transient": {
      "deleting": false
     }
    }
   },
   "outputs": [],
   "source": [
    "base_system_message = \"You are a helpful assistant.\"\n",
    "system_message = f\"{base_system_message.strip()}\"\n",
    "\n",
    "# This is the first user message that will be sent to the model. Feel free to update this.\n",
    "user_message = \" Write a 2 paragraph inspiring poem which can be understood by 5 years-old child focussing on pensions.\"\n",
    "# Write a 2 paragraph inspiring poem about Co-op\n",
    "# Write a 2 paragraph inspiring poem focussing on products of Nationwide Building Society in a funny way\n",
    "# Write a 2 paragraph inspiring poem focussing on products of Nationwide Building Society in the style of Shakespeare"
   ]
  },
  {
   "cell_type": "code",
   "execution_count": 4,
   "metadata": {
    "gather": {
     "logged": 1724220812307
    },
    "jupyter": {
     "outputs_hidden": false,
     "source_hidden": false
    },
    "nteract": {
     "transient": {
      "deleting": false
     }
    }
   },
   "outputs": [
    {
     "name": "stdout",
     "output_type": "stream",
     "text": [
      "Once upon a time in a twinkling land so grand,\n",
      "Where toys might walk and talk, playing in bands.\n",
      "There lived an old teddy, with fur now grey,\n",
      "Who smiled and said, “It’s my resting day!”\n",
      "\n",
      "“For years I’ve hugged and played without end,\n",
      "And now it’s time with my pillow to spend.\n",
      "But worry not, for I have saved some honey,\n",
      "Enough to make all my days sunny.”\n"
     ]
    }
   ],
   "source": [
    "# Instead of appending, writing messages in the SDK\n",
    "response = client.chat.completions.create(\n",
    "    model=\"gpt-4-0125-Preview\", # model = \"deployment_name\".\n",
    "    messages=[\n",
    "        {\"role\": \"system\", \"content\": system_message},\n",
    "        {\"role\": \"user\", \"content\": user_message}\n",
    "    ]\n",
    ")\n",
    "\n",
    "print(response.choices[0].message.content)"
   ]
  },
  {
   "cell_type": "markdown",
   "metadata": {
    "nteract": {
     "transient": {
      "deleting": false
     }
    }
   },
   "source": [
    "## 3. Put instructions at the begining of the prompt and use ### or \"\"\" to separate the instruction and context"
   ]
  },
  {
   "cell_type": "code",
   "execution_count": 5,
   "metadata": {
    "gather": {
     "logged": 1724220821426
    },
    "jupyter": {
     "outputs_hidden": false,
     "source_hidden": false
    },
    "nteract": {
     "transient": {
      "deleting": false
     }
    }
   },
   "outputs": [],
   "source": [
    "text = f\"\"\"\n",
    "We’re happy to announce that OpenAI and Microsoft are extending our partnership.\\\n",
    "This multi-year, multi-billion dollar investment from Microsoft follows their previous investments \\\n",
    "in 2019 and 2021, and will allow us to continue our independent research and develop AI that is \\\n",
    "increasingly safe, useful, and powerful. \\n\\n \\\n",
    "In pursuit of our mission to ensure advanced AI benefits all of humanity, OpenAI remains a \\\n",
    "capped-profit company and is governed by the OpenAI non-profit. This structure allows us to \\\n",
    "raise the capital we need to fulfill our mission without sacrificing our core beliefs about \\\n",
    "broadly sharing benefits and the need to prioritize safety. \\\n",
    "Microsoft shares this vision and our values, and our partnership is instrumental to our progress.\n",
    "\"\"\""
   ]
  },
  {
   "cell_type": "code",
   "execution_count": 6,
   "metadata": {
    "gather": {
     "logged": 1724220822459
    },
    "jupyter": {
     "outputs_hidden": false,
     "source_hidden": false
    },
    "nteract": {
     "transient": {
      "deleting": false
     }
    }
   },
   "outputs": [],
   "source": [
    "prompt = f\"\"\"\n",
    "Summarize the text delimited by hashtags as a bullet point list of the most important points.\n",
    "###{text}###\n",
    "\"\"\""
   ]
  },
  {
   "cell_type": "code",
   "execution_count": 7,
   "metadata": {
    "gather": {
     "logged": 1724220824323
    },
    "jupyter": {
     "outputs_hidden": false,
     "source_hidden": false
    },
    "nteract": {
     "transient": {
      "deleting": false
     }
    }
   },
   "outputs": [
    {
     "name": "stdout",
     "output_type": "stream",
     "text": [
      "- OpenAI and Microsoft are extending their partnership.\n",
      "- Microsoft has invested multi-billion dollars in OpenAI.\n",
      "- OpenAI is a capped-profit company and is governed by the OpenAI non-profit.\n",
      "- OpenAI's mission is to ensure advanced AI benefits all of humanity.\n",
      "- OpenAI's partnership with\n"
     ]
    }
   ],
   "source": [
    "response = client.completions.create(\n",
    "    model='gpt-35-turbo' , \n",
    "    prompt=prompt, \n",
    "    temperature=0,\n",
    "    max_tokens=60\n",
    "    )\n",
    "\n",
    "print(response.choices[0].text)"
   ]
  },
  {
   "cell_type": "markdown",
   "metadata": {
    "nteract": {
     "transient": {
      "deleting": false
     }
    }
   },
   "source": [
    "## 4. Articulate the desired output format through examples"
   ]
  },
  {
   "cell_type": "code",
   "execution_count": 8,
   "metadata": {
    "gather": {
     "logged": 1724220830430
    },
    "jupyter": {
     "outputs_hidden": false,
     "source_hidden": false
    },
    "nteract": {
     "transient": {
      "deleting": false
     }
    }
   },
   "outputs": [],
   "source": [
    "system_message = \"You are a helpful assistant.\""
   ]
  },
  {
   "cell_type": "code",
   "execution_count": 9,
   "metadata": {
    "gather": {
     "logged": 1724220834461
    },
    "jupyter": {
     "outputs_hidden": false,
     "source_hidden": false
    },
    "nteract": {
     "transient": {
      "deleting": false
     }
    }
   },
   "outputs": [],
   "source": [
    "user_message=f\"\"\"Extract the entities mentioned in the text below. \n",
    "First extract all company names, then extract all years, \n",
    "then extract specific topics which fit the content and finally extract general overarching themes\\n\\n \n",
    "Desired format: \n",
    "Company names: <comma_separated_list_of_company_names> \n",
    "Years: \n",
    "Specific topics:\n",
    "General themes: \n",
    "### Text:\n",
    "We’re happy to announce that OpenAI and Microsoft are extending our partnership.\n",
    "This multi-year, multi-billion dollar investment from Microsoft follows their previous investments \n",
    "in 2019 and 2021, and will allow us to continue our independent research and develop AI that is \n",
    "increasingly safe, useful, and powerful. \\n\\n \n",
    "###\n",
    "\"\"\"\n"
   ]
  },
  {
   "cell_type": "code",
   "execution_count": 10,
   "metadata": {
    "gather": {
     "logged": 1724220843321
    },
    "jupyter": {
     "outputs_hidden": false,
     "source_hidden": false
    },
    "nteract": {
     "transient": {
      "deleting": false
     }
    }
   },
   "outputs": [
    {
     "name": "stdout",
     "output_type": "stream",
     "text": [
      "Company names: OpenAI, Microsoft\n",
      "Years: 2019, 2021\n",
      "Specific topics: partnership extension, multi-billion dollar investment, independent research development, safety in AI, usefulness of AI, power of AI\n",
      "General themes: AI development, Corporate partnerships, Investment in technology\n"
     ]
    }
   ],
   "source": [
    "# Instead of appending, writing messages in the SDK\n",
    "response = client.chat.completions.create(\n",
    "    model=\"gpt-4-0125-Preview\", # model = \"deployment_name\".\n",
    "    messages=[\n",
    "        {\"role\": \"system\", \"content\": system_message},\n",
    "        {\"role\": \"user\", \"content\": user_message}\n",
    "    ]\n",
    ")\n",
    "\n",
    "print(response.choices[0].message.content)"
   ]
  },
  {
   "cell_type": "markdown",
   "metadata": {
    "nteract": {
     "transient": {
      "deleting": false
     }
    }
   },
   "source": [
    "## 5.Start with zero-shot, then few-shot (example)"
   ]
  },
  {
   "cell_type": "code",
   "execution_count": 11,
   "metadata": {
    "gather": {
     "logged": 1724220850411
    },
    "jupyter": {
     "outputs_hidden": false,
     "source_hidden": false
    },
    "nteract": {
     "transient": {
      "deleting": false
     }
    }
   },
   "outputs": [],
   "source": [
    "system_message = \"You are a helpful assistant.\""
   ]
  },
  {
   "cell_type": "code",
   "execution_count": 12,
   "metadata": {
    "gather": {
     "logged": 1724220851415
    },
    "jupyter": {
     "outputs_hidden": false,
     "source_hidden": false
    },
    "nteract": {
     "transient": {
      "deleting": false
     }
    }
   },
   "outputs": [],
   "source": [
    "prompt_zero=f\"\"\"Extract most important keywords from the corresponding texts below.\\n\\n \n",
    "\n",
    "###Text: \n",
    "We’re happy to announce that OpenAI and Microsoft are extending our partnership.\n",
    "This multi-year, multi-billion dollar investment from Microsoft follows their previous investments \n",
    "in 2019 and 2021, and will allow us to continue our independent research and develop AI that is \n",
    "increasingly safe, useful, and powerful. \\n\n",
    "Keywords:###\n",
    "\"\"\""
   ]
  },
  {
   "cell_type": "code",
   "execution_count": 13,
   "metadata": {
    "gather": {
     "logged": 1724220854326
    },
    "jupyter": {
     "outputs_hidden": false,
     "source_hidden": false
    },
    "nteract": {
     "transient": {
      "deleting": false
     }
    }
   },
   "outputs": [
    {
     "name": "stdout",
     "output_type": "stream",
     "text": [
      "OpenAI, Microsoft, extending partnership, multi-year, multi-billion dollar investment, previous investments, 2019, 2021, independent research, develop AI, safe, useful, powerful\n"
     ]
    }
   ],
   "source": [
    "response = client.chat.completions.create(\n",
    "    model=\"gpt-4-0125-Preview\", # model = \"deployment_name\".\n",
    "    messages=[\n",
    "        {\"role\": \"system\", \"content\": system_message},\n",
    "        {\"role\": \"user\", \"content\": prompt_zero}\n",
    "    ]\n",
    ")\n",
    "\n",
    "print(response.choices[0].message.content)"
   ]
  },
  {
   "cell_type": "code",
   "execution_count": 14,
   "metadata": {
    "gather": {
     "logged": 1724220856413
    },
    "jupyter": {
     "outputs_hidden": false,
     "source_hidden": false
    },
    "nteract": {
     "transient": {
      "deleting": false
     }
    }
   },
   "outputs": [],
   "source": [
    "prompt_few=f\"\"\"Extract most important keywords from the corresponding texts below.\\n\\n \n",
    "### Text 1: \n",
    "Stripe provides APIs that web developers can use to integrate \n",
    "payment processing into their websites and mobile applications. \\n\n",
    "Keywords 1: Stripe, payment processing, APIs, web developers, websites \n",
    "### \n",
    "\n",
    "###Text 2: \n",
    "OpenAI has trained cutting-edge language models that are very good at understanding \n",
    "and generating text. Our API provides access to these models and can be used to solve virtually \n",
    "any task that involves processing language. \\n\n",
    "Keywords 2: OpenAI, language models, text processing, API.\n",
    "### \n",
    "\n",
    "###Text 3: \n",
    "We’re happy to announce that OpenAI and Microsoft are extending our partnership.\n",
    "This multi-year, multi-billion dollar investment from Microsoft follows their previous investments \n",
    "in 2019 and 2021, and will allow us to continue our independent research and develop AI that is \n",
    "increasingly safe, useful, and powerful. \\n\n",
    "Keywords 3:\"\"\""
   ]
  },
  {
   "cell_type": "code",
   "execution_count": 15,
   "metadata": {
    "gather": {
     "logged": 1724220858308
    },
    "jupyter": {
     "outputs_hidden": false,
     "source_hidden": false
    },
    "nteract": {
     "transient": {
      "deleting": false
     }
    }
   },
   "outputs": [
    {
     "name": "stdout",
     "output_type": "stream",
     "text": [
      "OpenAI, Microsoft, partnership, investment, independent research, AI development.\n"
     ]
    }
   ],
   "source": [
    "# Instead of appending, writing messages in the SDK\n",
    "response = client.chat.completions.create(\n",
    "    model=\"gpt-4-0125-Preview\", # model = \"deployment_name\".\n",
    "    messages=[\n",
    "        {\"role\": \"system\", \"content\": system_message},\n",
    "        {\"role\": \"user\", \"content\": prompt_few}\n",
    "    ]\n",
    ")\n",
    "\n",
    "print(response.choices[0].message.content)"
   ]
  },
  {
   "cell_type": "markdown",
   "metadata": {
    "nteract": {
     "transient": {
      "deleting": false
     }
    }
   },
   "source": [
    "## 6.Instead of just saying what not to do, say what to do instead"
   ]
  },
  {
   "cell_type": "code",
   "execution_count": 16,
   "metadata": {
    "gather": {
     "logged": 1724220863425
    },
    "jupyter": {
     "outputs_hidden": false,
     "source_hidden": false
    },
    "nteract": {
     "transient": {
      "deleting": false
     }
    }
   },
   "outputs": [],
   "source": [
    "system_message= f\"\"\"You are an agent trying to diagnose the problem and suggest a solution, whilst refraining from asking any questions related to PII. \n",
    "Instead of asking for PII, such as username or password, refer the user to the help article www.samplewebsite.com/help/faq \\n\\n\"\"\"\n",
    "\n",
    "# This is the first user message that will be sent to the model. Feel free to update this.\n",
    "user_message = \"I can’t log in to my account.\"\n",
    "\n",
    "# Create the list of messages. role can be either \"user\" or \"assistant\" \n",
    "messages=[\n",
    "    {\"role\": \"system\", \"content\": system_message},\n",
    "    {\"role\": \"user\", \"name\":\"example_user\", \"content\": user_message}\n",
    "]"
   ]
  },
  {
   "cell_type": "code",
   "execution_count": 17,
   "metadata": {
    "gather": {
     "logged": 1724220873329
    },
    "jupyter": {
     "outputs_hidden": false,
     "source_hidden": false
    },
    "nteract": {
     "transient": {
      "deleting": false
     }
    }
   },
   "outputs": [
    {
     "name": "stdout",
     "output_type": "stream",
     "text": [
      "I understand you're having trouble logging into your account. Let's try to resolve this issue step by step.\n",
      "\n",
      "1. **Check Your Credentials**: Ensure you're entering the correct username and password. Pay attention to case sensitivity and any potential typographical errors.\n",
      "\n",
      "2. **Caps Lock and Num Lock**: Double-check that Caps Lock and Num Lock are turned off, as this could affect password entry.\n",
      "\n",
      "3. **Browser Issues**: Try clearing your browser's cache and cookies or try logging in using a different browser or an incognito/private browsing window.\n",
      "\n",
      "4. **Update Browser**: Ensure your browser is up-to-date, as outdated versions can sometimes lead to login issues.\n",
      "\n",
      "5. **Password Reset**: If you suspect the issue might be with your password, consider resetting it. Look for a “Forgot Password” or similar link on the login page, which should guide you through the reset process.\n",
      "\n",
      "6. **Account Status**: There might be issues with your account such as it being locked or disabled for various reasons, including security concerns.\n",
      "\n",
      "For detailed steps on how to reset your password or for further troubleshooting specific to your account, please visit [www.samplewebsite.com/help/faq](http://www.samplewebsite.com/help/faq). This resource can provide you with step-by-step instructions and also guide you on how to contact customer support directly if the problem persists.\n",
      "\n",
      "If none of these steps help, there might be a more specific problem with your account. While I cannot directly access your account details, I recommend visiting the aforementioned help and FAQ section for guidance on how to reach out to customer support for one-on-one assistance. \n"
     ]
    }
   ],
   "source": [
    "response = client.chat.completions.create(\n",
    "    model=\"gpt-4-0125-Preview\", # model = \"deployment_name\".\n",
    "    messages=[\n",
    "        {\"role\": \"system\", \"content\": system_message},\n",
    "        {\"role\": \"user\", \"content\": user_message}\n",
    "    ]\n",
    ")\n",
    "\n",
    "print(response.choices[0].message.content)"
   ]
  },
  {
   "cell_type": "markdown",
   "metadata": {
    "nteract": {
     "transient": {
      "deleting": false
     }
    }
   },
   "source": [
    "## 7. Divide complex tasks into sub-tasks"
   ]
  },
  {
   "cell_type": "code",
   "execution_count": 33,
   "metadata": {
    "gather": {
     "logged": 1720098687167
    },
    "jupyter": {
     "outputs_hidden": false,
     "source_hidden": false
    },
    "nteract": {
     "transient": {
      "deleting": false
     }
    }
   },
   "outputs": [],
   "source": [
    "system_message = \"You are a helpful assistant.\""
   ]
  },
  {
   "cell_type": "code",
   "execution_count": 20,
   "metadata": {
    "gather": {
     "logged": 1724221069428
    },
    "jupyter": {
     "outputs_hidden": false,
     "source_hidden": false
    },
    "nteract": {
     "transient": {
      "deleting": false
     }
    }
   },
   "outputs": [],
   "source": [
    "text = f\"\"\"\n",
    "As an FSI company, we want our pension schemes to have a positive impact on our customers. Whether you're just starting to save into a pension or ready to take money out of it, we have the best interests of our members and customers at heart. It's about long-term financial wellbeing and sharing responsibility for building a better future. Save today to enjoy tomorrow.\"\"\"\n",
    "# example 1\n",
    "user_message = f\"\"\"\n",
    "Perform the actions below by separating your answers with line breaks. \n",
    "1 - Summarize the following text below with 1 sentence in English.\n",
    "2 - Translate the summary into Turkish.\n",
    "3 - List each company name in the Turkish summary.\n",
    "4 - Output a json object that contains the following:\n",
    "keys: turkish_summary, turkish_company_names.\n",
    "\n",
    "###\n",
    "Text:\n",
    "{text} \n",
    "###\n",
    "\"\"\""
   ]
  },
  {
   "cell_type": "code",
   "execution_count": 21,
   "metadata": {
    "gather": {
     "logged": 1724221072306
    },
    "jupyter": {
     "outputs_hidden": false,
     "source_hidden": false
    },
    "nteract": {
     "transient": {
      "deleting": false
     }
    }
   },
   "outputs": [
    {
     "name": "stdout",
     "output_type": "stream",
     "text": [
      "1 - A financial services company offers pension schemes to help customers secure their financial future.\n",
      "2 - Bir finansal hizmetler şirketi, müşterilerinin finansal geleceğini sağlamak için emeklilik planları sunar.\n",
      "3 - None\n",
      "4 - {\"turkish_summary\": \"Bir finansal hizmetler şirketi, müşterilerinin finansal geleceğini sağlamak için emeklilik planları sunar.\", \"turkish_company_names\": \"\"}\n"
     ]
    }
   ],
   "source": [
    "response = client.chat.completions.create(\n",
    "    model=\"gpt-35-turbo\", # model = \"deployment_name\".\n",
    "    messages=[\n",
    "        {\"role\": \"system\", \"content\": system_message},\n",
    "        {\"role\": \"user\", \"content\": user_message}\n",
    "    ]\n",
    ")\n",
    "\n",
    "print(response.choices[0].message.content)"
   ]
  },
  {
   "cell_type": "markdown",
   "metadata": {
    "nteract": {
     "transient": {
      "deleting": false
     }
    }
   },
   "source": [
    "## 8. Chain of Thought"
   ]
  },
  {
   "cell_type": "markdown",
   "metadata": {
    "nteract": {
     "transient": {
      "deleting": false
     }
    }
   },
   "source": [
    "The language model is prompted to generate a few intermediate reasoning steps to arrive at the final answer. \n",
    "\n",
    "Uses \"greedy decoding\" which means selecting the most likely token (word or character) at each step of the sequence generation process. At each time step, the model predicts the next token based on the previously generated tokens, and the token with the highest predicted probability is chosen as the output for that step. This process is repeated until the desired sequence length is reached or until a special end-of-sequence token is generated.\n",
    "\n",
    "**Temp=0** is used because it uses greedy decoding. It first creates the greedy coding and then the answer."
   ]
  },
  {
   "cell_type": "code",
   "execution_count": 22,
   "metadata": {
    "gather": {
     "logged": 1724221351442
    },
    "jupyter": {
     "outputs_hidden": false,
     "source_hidden": false
    },
    "nteract": {
     "transient": {
      "deleting": false
     }
    }
   },
   "outputs": [],
   "source": [
    "# This prompt gets wrong answer\n",
    "\n",
    "PROMPT_ZERO_SHOT = \"\"\"Q: Roger has 5 tennis balls. He buys 2 more cans of tennis\n",
    "balls. Each can has 3 tennis balls. He gives 4 of them to his friend. How many tennis balls does\n",
    "he have now?\n",
    "A: The answer (arabic numerals) is\n",
    "\"\"\""
   ]
  },
  {
   "cell_type": "code",
   "execution_count": 23,
   "metadata": {
    "gather": {
     "logged": 1724221352453
    },
    "jupyter": {
     "outputs_hidden": false,
     "source_hidden": false
    },
    "nteract": {
     "transient": {
      "deleting": false
     }
    }
   },
   "outputs": [
    {
     "name": "stdout",
     "output_type": "stream",
     "text": [
      "11\n",
      "\n"
     ]
    }
   ],
   "source": [
    "response = client.completions.create(\n",
    "    model=\"gpt-35-turbo\", \n",
    "    prompt=PROMPT_ZERO_SHOT, \n",
    "    temperature=0,\n",
    "    max_tokens=60,\n",
    "    stop=[\"\\nQ:\"]\n",
    "    )\n",
    "\n",
    "print(response.choices[0].text)"
   ]
  },
  {
   "cell_type": "code",
   "execution_count": 24,
   "metadata": {
    "gather": {
     "logged": 1724221354423
    },
    "jupyter": {
     "outputs_hidden": false,
     "source_hidden": false
    },
    "nteract": {
     "transient": {
      "deleting": false
     }
    }
   },
   "outputs": [],
   "source": [
    "PROMPT_ZERO_SHOT_CoT = \"\"\"Q:Roger has 5 tennis balls. He buys 2 more cans of tennis\n",
    "balls. Each can has 3 tennis balls. He gives 4 of them to his friend. How many tennis balls does\n",
    "he have now?\n",
    "A: Let’s think step by step.\n",
    "\"\"\""
   ]
  },
  {
   "cell_type": "code",
   "execution_count": 25,
   "metadata": {
    "gather": {
     "logged": 1724221356305
    },
    "jupyter": {
     "outputs_hidden": false,
     "source_hidden": false
    },
    "nteract": {
     "transient": {
      "deleting": false
     }
    }
   },
   "outputs": [
    {
     "name": "stdout",
     "output_type": "stream",
     "text": [
      "1. Roger has 5 tennis balls.\n",
      "2. He buys 2 more cans of tennis balls. Each can has 3 tennis balls. So he has 2 x 3 = 6 tennis balls.\n",
      "3. He has 5 + 6 = 11 tennis balls.\n",
      "4. He gives 4 of them to his friend. So he has 11 – 4 = 7 tennis balls.\n",
      "Answer: Roger has 7 tennis balls now.\n",
      "\n"
     ]
    }
   ],
   "source": [
    "response = client.completions.create(\n",
    "    model=\"gpt-35-turbo\", \n",
    "    prompt=PROMPT_ZERO_SHOT_CoT, \n",
    "    temperature=0,\n",
    "    max_tokens=100,\n",
    "    stop=[\"\\nQ:\"]\n",
    "    )\n",
    "\n",
    "print(response.choices[0].text)"
   ]
  },
  {
   "cell_type": "code",
   "execution_count": 39,
   "metadata": {
    "gather": {
     "logged": 1724221989399
    },
    "jupyter": {
     "outputs_hidden": false,
     "source_hidden": false
    },
    "nteract": {
     "transient": {
      "deleting": false
     }
    }
   },
   "outputs": [],
   "source": [
    "prompt_fsi_zeroshot_cot= \"\"\"Q: Let’s analyze the financial health of Company X. The company has a revenue of $10 million, expenses of $7 million, and a debt of $2 million. Calculate the net profit and the debt-to-equity ratio.\n",
    "A: The answer is\"\"\""
   ]
  },
  {
   "cell_type": "code",
   "execution_count": 40,
   "metadata": {
    "gather": {
     "logged": 1724221991308
    },
    "jupyter": {
     "outputs_hidden": false,
     "source_hidden": false
    },
    "nteract": {
     "transient": {
      "deleting": false
     }
    }
   },
   "outputs": [
    {
     "name": "stdout",
     "output_type": "stream",
     "text": [
      ":\n",
      "\n",
      "Net profit = Revenue – Expenses = $10 million – $7 million = $3 million\n",
      "\n",
      "Debt-to-equity ratio = Debt / Equity = $2 million / ($10 million – $2 million) = 0.25\n",
      "\n"
     ]
    }
   ],
   "source": [
    "response = client.completions.create(\n",
    "    model=\"gpt-35-turbo\", \n",
    "    prompt=prompt_fsi_zeroshot_cot, \n",
    "    temperature=0,\n",
    "    max_tokens=100,\n",
    "    stop=[\"\\nQ:\"]\n",
    "    )\n",
    "\n",
    "print(response.choices[0].text)"
   ]
  },
  {
   "cell_type": "code",
   "execution_count": 79,
   "metadata": {
    "gather": {
     "logged": 1724376683955
    },
    "jupyter": {
     "outputs_hidden": false,
     "source_hidden": false
    },
    "nteract": {
     "transient": {
      "deleting": false
     }
    }
   },
   "outputs": [],
   "source": [
    "prompt_fsi_zeroshot_cot= \"\"\"Q: Let’s analyze the financial health of Company X. The company has a revenue of $10 million, expenses of $7 million, and a debt of $2 million. Calculate the net profit and the debt-to-equity ratio.\n",
    "A: Let's think step by step.\"\"\""
   ]
  },
  {
   "cell_type": "code",
   "execution_count": 80,
   "metadata": {
    "gather": {
     "logged": 1724376688127
    },
    "jupyter": {
     "outputs_hidden": false,
     "source_hidden": false
    },
    "nteract": {
     "transient": {
      "deleting": false
     }
    }
   },
   "outputs": [
    {
     "name": "stdout",
     "output_type": "stream",
     "text": [
      " First, we need to calculate the net profit. To do that, we need to subtract the expenses from the revenue: $10 million - $7 million = $3 million. Therefore, the net profit is $3 million. Now, let's calculate the debt-to-equity ratio. To do that, we need to divide the debt by the equity. However, we don't have the equity information. Therefore, we need to calculate it. The equity is the difference between the assets and the liabilities. We don't have the assets information, but we have the debt information, which is a liability. Therefore, we can calculate the equity as follows: Equity = Assets - Liabilities = ? - $2 million. We don't know the assets, but we know that the equity is equal to the net profit plus the debt. Therefore, we can write the following equation: Equity = Net Profit + Debt = $3 million + $2 million = $5 million. Now, we can calculate the debt-to-equity ratio as follows: Debt-to-Equity Ratio = Debt / Equity = $2 million / $5 million = 0.4. Therefore, the debt-to-equity ratio is 0.4.\n",
      "\n"
     ]
    }
   ],
   "source": [
    "response = client.completions.create(\n",
    "    model=\"gpt-35-turbo\", \n",
    "    prompt=prompt_fsi_zeroshot_cot, \n",
    "    temperature=0,\n",
    "    max_tokens=1000,\n",
    "    stop=[\"\\nQ:\"]\n",
    "    )\n",
    "\n",
    "print(response.choices[0].text)"
   ]
  },
  {
   "cell_type": "code",
   "execution_count": 45,
   "metadata": {
    "gather": {
     "logged": 1724222038404
    },
    "jupyter": {
     "outputs_hidden": false,
     "source_hidden": false
    },
    "nteract": {
     "transient": {
      "deleting": false
     }
    }
   },
   "outputs": [],
   "source": [
    "PROMPT_FEW_SHOT_CoT = \"\"\"\n",
    "Q: Elif went to market with £10 and consumed £2. How much does she have now?\n",
    "A: Elif had £10 at the beginning. When she consumed £2, 10-2=8 , £8 remains.\n",
    "Q:Roger has 5 tennis balls. He buys 2 more cans of tennis\n",
    "balls. Each can has 3 tennis balls. He gives 4 of them to his friend. How many tennis balls does\n",
    "he have now?\n",
    "A:\n",
    "\"\"\""
   ]
  },
  {
   "cell_type": "code",
   "execution_count": 46,
   "metadata": {
    "gather": {
     "logged": 1724222040301
    },
    "jupyter": {
     "outputs_hidden": false,
     "source_hidden": false
    },
    "nteract": {
     "transient": {
      "deleting": false
     }
    }
   },
   "outputs": [
    {
     "name": "stdout",
     "output_type": "stream",
     "text": [
      "Roger has 5 tennis balls. He buys 2 cans of tennis balls, each can has 3 tennis balls. So he has 5+2x3=11 tennis balls. He gives 4 of them to his friend, so he has 11-4=7 tennis balls now.\n",
      "\n"
     ]
    }
   ],
   "source": [
    "response = client.completions.create(\n",
    "    model=\"gpt-35-turbo\", \n",
    "    prompt=PROMPT_FEW_SHOT_CoT, \n",
    "    temperature=0,\n",
    "    max_tokens=100,\n",
    "    stop=[\"\\nQ:\"]\n",
    "    )\n",
    "\n",
    "print(response.choices[0].text)"
   ]
  },
  {
   "cell_type": "markdown",
   "metadata": {
    "nteract": {
     "transient": {
      "deleting": false
     }
    }
   },
   "source": [
    "** Auto-COT ** uses zero-shot-cot results just like few-shot learning for reasoning. Instead of using few-shot-cot, auto-cot can be useful and easy because you don't need to create manual examples (labels/reasonings)"
   ]
  },
  {
   "cell_type": "code",
   "execution_count": 47,
   "metadata": {
    "gather": {
     "logged": 1724222044453
    },
    "jupyter": {
     "outputs_hidden": false,
     "source_hidden": false
    },
    "nteract": {
     "transient": {
      "deleting": false
     }
    }
   },
   "outputs": [],
   "source": [
    "prompt_auto_cot = \"\"\"\n",
    "Q:Roger has 5 tennis balls. He buys 2 more cans of tennis\n",
    "balls. Each can has 3 tennis balls. He gives 4 of them to his friend. How many tennis balls does\n",
    "he have now?\n",
    "A: Lets think step by step.Roger had 5 tennis balls at the beginning. He bought 2 cans of tennis balls, each with 3 balls, so he now has 5+2x3=11 tennis balls. After giving 4 to his friend, he has 11-4=7 tennis balls remaining.\n",
    "Q: Elif went to market with £10 and consumed £2. How much does she have now?\n",
    "A:\n",
    "\"\"\""
   ]
  },
  {
   "cell_type": "code",
   "execution_count": 48,
   "metadata": {
    "gather": {
     "logged": 1724222046311
    },
    "jupyter": {
     "outputs_hidden": false,
     "source_hidden": false
    },
    "nteract": {
     "transient": {
      "deleting": false
     }
    }
   },
   "outputs": [
    {
     "name": "stdout",
     "output_type": "stream",
     "text": [
      "Elif had £10 at the beginning. She consumed £2, so she now has £10-£2=£8 remaining.<|im_end|>\n"
     ]
    }
   ],
   "source": [
    "response = client.completions.create(\n",
    "    model=\"gpt-35-turbo\", \n",
    "    prompt=prompt_auto_cot, \n",
    "    temperature=0.5,\n",
    "    max_tokens=100\n",
    "    )\n",
    "\n",
    "print(response.choices[0].text)"
   ]
  },
  {
   "cell_type": "markdown",
   "metadata": {
    "nteract": {
     "transient": {
      "deleting": false
     }
    }
   },
   "source": [
    "## 9. Self Consistency\n",
    "\n",
    "Self-consistency aims \"to replace the naive greedy decoding used in chain-of-thought prompting\". The idea is to sample multiple, diverse reasoning paths through few-shot CoT, and use the generations to ** select the most consistent answer.**\n",
    "\n",
    "In the chat scenarios, **Asking the model to self-verify** its own responses. Like a student double-checking their answers, the AI model cross-references its responses to maintain consistency. "
   ]
  },
  {
   "cell_type": "code",
   "execution_count": 49,
   "metadata": {
    "gather": {
     "logged": 1724222059438
    },
    "jupyter": {
     "outputs_hidden": false,
     "source_hidden": false
    },
    "nteract": {
     "transient": {
      "deleting": false
     }
    }
   },
   "outputs": [],
   "source": [
    "prompt= f\"\"\"When I was 6, my sister was half my age. Now\n",
    "I am 70 how old is my sister?\"\"\""
   ]
  },
  {
   "cell_type": "code",
   "execution_count": 50,
   "metadata": {
    "gather": {
     "logged": 1724222064351
    },
    "jupyter": {
     "outputs_hidden": false,
     "source_hidden": false
    },
    "nteract": {
     "transient": {
      "deleting": false
     }
    }
   },
   "outputs": [
    {
     "name": "stdout",
     "output_type": "stream",
     "text": [
      "\n",
      "\n",
      "The sister is 67 years old. \n",
      "\n",
      "At age 6, the sister was half of\n"
     ]
    }
   ],
   "source": [
    "response = client.completions.create(\n",
    "    model=\"gpt-35-turbo\", \n",
    "    prompt=prompt, \n",
    "    temperature=0.5,\n",
    "    max_tokens=20,\n",
    "    stop=[\"\\nA:\"]\n",
    "    )\n",
    "\n",
    "print(response.choices[0].text)"
   ]
  },
  {
   "cell_type": "code",
   "execution_count": 51,
   "metadata": {
    "gather": {
     "logged": 1724222088434
    },
    "jupyter": {
     "outputs_hidden": false,
     "source_hidden": false
    },
    "nteract": {
     "transient": {
      "deleting": false
     }
    }
   },
   "outputs": [],
   "source": [
    "prompt2= f\"\"\"When I was 6, my sister was half my age. Now\n",
    "I am 70 how old is my sister? Let's think step by step\"\"\""
   ]
  },
  {
   "cell_type": "code",
   "execution_count": 52,
   "metadata": {
    "gather": {
     "logged": 1724222090296
    },
    "jupyter": {
     "outputs_hidden": false,
     "source_hidden": false
    },
    "nteract": {
     "transient": {
      "deleting": false
     }
    }
   },
   "outputs": [
    {
     "name": "stdout",
     "output_type": "stream",
     "text": [
      ".\n",
      "\n",
      "When I was 6, my sister was half my age. So, my sister was 6/2=<<6/2=3>>3 years old.\n",
      "Now I am 70. So, my sister is 70-6+3=<<70-6+3=67>>67 years old. Answer: \\boxed{67}.<|im_end|>\n"
     ]
    }
   ],
   "source": [
    "response = client.completions.create(\n",
    "    model=\"gpt-35-turbo\", \n",
    "    prompt=prompt2, \n",
    "    temperature=0,\n",
    "    max_tokens=100\n",
    "    )\n",
    "\n",
    "print(response.choices[0].text)"
   ]
  },
  {
   "cell_type": "code",
   "execution_count": 53,
   "metadata": {
    "gather": {
     "logged": 1724222112505
    },
    "jupyter": {
     "outputs_hidden": false,
     "source_hidden": false
    },
    "nteract": {
     "transient": {
      "deleting": false
     }
    }
   },
   "outputs": [],
   "source": [
    "prompt3=f\"\"\"\n",
    "Q: There are 15 trees in the grove. Grove workers will plant trees in the grove today. After they are done,\n",
    "there will be 21 trees. How many trees did the grove workers plant today?\n",
    "A: We start with 15 trees. Later we have 21 trees. The difference must be the number of trees they planted.\n",
    "So, they must have planted 21 - 15 = 6 trees. The answer is 6.\n",
    "Q: If there are 3 cars in the parking lot and 2 more cars arrive, how many cars are in the parking lot?\n",
    "A: There are 3 cars in the parking lot already. 2 more arrive. Now there are 3 + 2 = 5 cars. The answer is 5.\n",
    "Q: Leah had 32 chocolates and her sister had 42. If they ate 35, how many pieces do they have left in total?\n",
    "A: Leah had 32 chocolates and Leah’s sister had 42. That means there were originally 32 + 42 = 74\n",
    "chocolates. 35 have been eaten. So in total they still have 74 - 35 = 39 chocolates. The answer is 39.\n",
    "Q: Jason had 20 lollipops. He gave Denny some lollipops. Now Jason has 12 lollipops. How many lollipops\n",
    "did Jason give to Denny?\n",
    "A: Jason had 20 lollipops. Since he only has 12 now, he must have given the rest to Denny. The number of\n",
    "lollipops he has given to Denny must have been 20 - 12 = 8 lollipops. The answer is 8.\n",
    "Q: Shawn has five toys. For Christmas, he got two toys each from his mom and dad. How many toys does\n",
    "he have now?\n",
    "A: He has 5 toys. He got 2 from mom, so after that he has 5 + 2 = 7 toys. Then he got 2 more from dad, so\n",
    "in total he has 7 + 2 = 9 toys. The answer is 9.\n",
    "Q: There were nine computers in the server room. Five more computers were installed each day, from\n",
    "monday to thursday. How many computers are now in the server room?\n",
    "A: There are 4 days from monday to thursday. 5 computers were added each day. That means in total 4 * 5 =\n",
    "20 computers were added. There were 9 computers in the beginning, so now there are 9 + 20 = 29 computers.\n",
    "The answer is 29.\n",
    "Q: Michael had 58 golf balls. On tuesday, he lost 23 golf balls. On wednesday, he lost 2 more. How many\n",
    "golf balls did he have at the end of wednesday?\n",
    "A: Michael initially had 58 balls. He lost 23 on Tuesday, so after that he has 58 - 23 = 35 balls. On\n",
    "Wednesday he lost 2 more so now he has 35 - 2 = 33 balls. The answer is 33.\n",
    "Q: Olivia has $23. She bought five bagels for $3 each. How much money does she have left?\n",
    "A: She bought 5 bagels for $3 each. This means she spent 5\n",
    "Q: When I was 6 my sister was half my age. Now I’m 70 how old is my sister?\n",
    "A:\"\"\""
   ]
  },
  {
   "cell_type": "code",
   "execution_count": 62,
   "metadata": {
    "gather": {
     "logged": 1724222502411
    },
    "jupyter": {
     "outputs_hidden": false,
     "source_hidden": false
    },
    "nteract": {
     "transient": {
      "deleting": false
     }
    }
   },
   "outputs": [],
   "source": [
    "def call_openai(num_times, start_phrase, temperature):\n",
    "    for i in range(num_times):\n",
    "        \n",
    "        deployment_name='gpt-35-turbo' \n",
    "\n",
    "        # Send a completion call to generate an answer\n",
    "        response = client.completions.create(\n",
    "            model=deployment_name, \n",
    "            prompt=start_phrase, \n",
    "            temperature=temperature,\n",
    "            max_tokens=100)\n",
    "        print(response.choices[0].text)\n",
    "        print(\"*****************************\")"
   ]
  },
  {
   "cell_type": "code",
   "execution_count": 63,
   "metadata": {
    "gather": {
     "logged": 1724222512293
    },
    "jupyter": {
     "outputs_hidden": false,
     "source_hidden": false
    },
    "nteract": {
     "transient": {
      "deleting": false
     }
    }
   },
   "outputs": [
    {
     "name": "stdout",
     "output_type": "stream",
     "text": [
      " If you’re 70 years old now, then 64 years have passed since you were six. Your sister was half your age\n",
      "at that time, so she would have been 64 / 2 = 32 years old. The answer is 32.\n",
      "Q: If 5 jars of peaches weighs 5 pounds, how many jars weigh 3 pounds?\n",
      "A: First, find the weight of a single jar by dividing the total weight of 5 jars by 5 jars,\n",
      "*****************************\n",
      " When I was 6 my sister was half my age, so she was 6/2=3 years old. This is a difference of 6-3=3. Now that I am 70, my sister must be 70-3=67 years old. The answer is 67.\n",
      "Q: A bee flew at 15kmph. If it flew for 70 minutes at a constant speed, how many kilometers did it fly?\n",
      "A: The bee flew for 70\n",
      "*****************************\n",
      " If you were 6 and your sister was half of your age (6 ÷ 2 = 3), then your sister was 3 years old at that time. M\n",
      "when you are 70, your sister is that age plus the difference in your ages, which is 70 - 6 = 64. So, your sister m\n",
      "ust be 64 years old. The answer is 64.\n",
      "\n",
      "Q: John ran a race of 5 km in 28 min and\n",
      "*****************************\n",
      " You were 6 when your sister was half your age, so she must have been 3 years younger than you. You are\n",
      "now 70, so she must be 70 - 3 = 67 years old. The answer is 67.\n",
      "Q: If there are 10 students in a class and 3 more arrive, how many students are in the class?\n",
      "A: There are 10 students in the class initially. 3 more arrive. So in total there are \n",
      "*****************************\n",
      " When you were 6, your sister was half your age, that would be 6 / 2 = 3 years old. So, your sister is\n",
      "older than you by 3 years. Your age is now 70 years. That means your sister’s age is 70 - 3 = 67. The\n",
      "answer is 67.\n",
      "dollars per bagel for a total of 5 * 3 = 15 dollars on bagels. Substracting 15 from\n",
      "*****************************\n",
      " My sister is half my age, which is 6/2 = 3. She is 3 years younger than me. That means she is 70 - 3 = 67\n",
      "years old now. The answer is 67.\n",
      "Q: There are three dogs in a park. One is a poodle, one is a spaniel and the third one is a bulldog. The two\n",
      "boys are playing with the poodle. How many dogs are left for the girl to play\n",
      "*****************************\n",
      " If I was 6 and my sister was half my age, that means my sister was 6 / 2 = 3 years old. Now I am 70 and my\n",
      "sister is 70 - 6 + 3 = 67 years old. The answer is 67.\n",
      "* remember that you have to take the amount spent away from the initial amount\n",
      "$3 x 5 = $15. So we subtract $15 from $23. Thus Olivia has $8 left\n",
      "*****************************\n",
      " If her age was half of yours when you were 6, then the difference in your age will remain constant, which\n",
      "means your sister’s age will always be 70 - 6 = 64 less than your age. So your sister’s age is 70 - 64 = 6.\n",
      "The answer is 6.\n",
      "Q: There are 49 toffees in the bowl. You take 16 and leave 33. How many toffees were in the bowl before?\n",
      "\n",
      "*****************************\n",
      " When you were 6, your sister must have been 6/2 = 3 years old. That means there is an age difference of\n",
      "sixty seven years (70 - 3). Therefore, your sister is 67 years old now. The answer is 67.\n",
      "Q: Dan has a rectangular vegetable patch. The length is 20 meters and the width is 10 meters. What is the\n",
      "total perimeter of the vegetable patch?\n",
      "A: To find out the perimeter of the\n",
      "*****************************\n",
      " When you were 6 and your sister was half your age, she must have been 3.\n",
      "You know she has aged 64 years (70–6), but every year that you have aged she has only aged one year.\n",
      "So, she must still be half your age: 70 divided by 2 = 35. The answer is 35.\n",
      "x $3 = 15 dollars. Her initial total was $23, so she has $23 - $15 = $8 left\n",
      "*****************************\n"
     ]
    }
   ],
   "source": [
    "call_openai(10, prompt3, temperature = 1)"
   ]
  },
  {
   "cell_type": "markdown",
   "metadata": {
    "nteract": {
     "transient": {
      "deleting": false
     }
    }
   },
   "source": [
    "# 9. Step-Back Prompting Technique"
   ]
  },
  {
   "cell_type": "markdown",
   "metadata": {
    "nteract": {
     "transient": {
      "deleting": false
     }
    }
   },
   "source": [
    "You start by providing the model with a prompt or question.\n",
    "The model generates a response based on the initial prompt.\n",
    "Instead of immediately accepting the response, you prompt the model to review or analyse its own response. This could involve asking the model to check for errors, verify facts, or consider alternative approaches.\n",
    "Based on the reassessment, the model generates a refined or corrected response."
   ]
  },
  {
   "cell_type": "code",
   "execution_count": 2,
   "metadata": {
    "gather": {
     "logged": 1724377472419
    },
    "jupyter": {
     "outputs_hidden": false,
     "source_hidden": false
    },
    "nteract": {
     "transient": {
      "deleting": false
     }
    }
   },
   "outputs": [],
   "source": [
    "# function to generate a response based on a prompt  \n",
    "def generate_response(prompt):  \n",
    "    messages = [  \n",
    "        {\"role\": \"system\", \"content\": \"You are a helpful assistant.\"},  \n",
    "        {\"role\": \"user\", \"content\": prompt}  \n",
    "    ]  \n",
    "    response = client.chat.completions.create(  \n",
    "        model=\"gpt-4o\",  \n",
    "        messages=messages  \n",
    "    )  \n",
    "    return response.choices[0].message.content.strip()  \n",
    "\n",
    "# function to rephrase the input text  \n",
    "def rephrase_input(input_text):  \n",
    "    rephrase_prompt = (  \n",
    "        \"You are a helpful assistant. Please rephrase the following request to make it clearer and a more general question: \"  \n",
    "        f\"'{input_text}'\"  \n",
    "    )  \n",
    "    messages = [  \n",
    "        {\"role\": \"system\", \"content\": \"You are a helpful assistant.\"},  \n",
    "        {\"role\": \"user\", \"content\": rephrase_prompt}  \n",
    "    ]  \n",
    "    response = client.chat.completions.create(  \n",
    "        model=\"gpt-4o\",  \n",
    "        messages=messages  \n",
    "    )  \n",
    "    return response.choices[0].message.content.strip()  \n",
    "  \n",
    "  \n",
    "# function to reword and check the answer  \n",
    "def reword_and_check_answer(original_answer):  \n",
    "    rewording_prompt = f\"Reword and verify the following statement: '{original_answer}'\"  \n",
    "    messages = [  \n",
    "        {\"role\": \"system\", \"content\": \"You are a helpful assistant.\"},  \n",
    "        {\"role\": \"user\", \"content\": rewording_prompt}  \n",
    "    ]  \n",
    "    response = client.chat.completions.create(  \n",
    "        model=\"gpt-4o\",  \n",
    "        messages=messages  \n",
    "    )  \n",
    "    return response.choices[0].message.content.strip()"
   ]
  },
  {
   "cell_type": "code",
   "execution_count": 4,
   "metadata": {
    "gather": {
     "logged": 1724377593955
    },
    "jupyter": {
     "outputs_hidden": false,
     "source_hidden": false
    },
    "nteract": {
     "transient": {
      "deleting": false
     }
    }
   },
   "outputs": [
    {
     "name": "stdout",
     "output_type": "stream",
     "text": [
      "*** Initial Response:\n",
      " Actually, Nationwide is not the largest bank in the UK. While Nationwide is one of the largest building societies in the UK, the largest bank in terms of assets, revenue, and customer base is HSBC Holdings plc. Other major banks in the UK include Lloyds Banking Group, Barclays, and The Royal Bank of Scotland (RBS), which is now part of NatWest Group. Nationwide is known for its range of financial services, including savings accounts, mortgages, and personal loans, primarily catering to individual consumers.\n",
      "*** Reworded and Checked Answer:\n",
      " Actually, Nationwide is not the largest bank in the UK. While Nationwide stands as one of the largest building societies in the country, the largest bank in terms of assets, revenue, and customer base is HSBC Holdings plc. Other significant banks in the UK include Lloyds Banking Group, Barclays, and The Royal Bank of Scotland (RBS), which is now part of NatWest Group. Nationwide is well-regarded for its variety of financial services, including savings accounts, mortgages, and personal loans, predominantly serving individual consumers.\n",
      "\n",
      "Verification:\n",
      "- Nationwide is indeed one of the largest building societies in the UK.\n",
      "- HSBC Holdings plc is recognized as the largest bank in the UK based on assets, revenue, and customer base.\n",
      "- Lloyds Banking Group, Barclays, and The Royal Bank of Scotland (part of NatWest Group) are notable major banks in the UK.\n",
      "- Nationwide provides a broad range of financial services to individual consumers.\n",
      "*** Final Response:\n",
      " Actually, Nationwide is not the largest bank in the UK. While Nationwide stands as one of the largest building societies in the country, the largest bank in terms of assets, revenue, and customer base is HSBC Holdings plc. Other significant banks in the UK include Lloyds Banking Group, Barclays, and The Royal Bank of Scotland (RBS), which is now part of NatWest Group. Nationwide is well-regarded for its variety of financial services, including savings accounts, mortgages, and personal loans, predominantly serving individual consumers.\n",
      "\n",
      "Verification:\n",
      "- Nationwide is indeed one of the largest building societies in the UK.\n",
      "- HSBC Holdings plc is recognized as the largest bank in the UK based on assets, revenue, and customer base.\n",
      "- Lloyds Banking Group, Barclays, and The Royal Bank of Scotland (part of NatWest Group) are notable major banks in the UK.\n",
      "- Nationwide provides a broad range of financial services to individual consumers.\n"
     ]
    }
   ],
   "source": [
    "initial_prompt = \"Nationwide is the largest bank in the UK.\"#\"I am a customer of Nationwide and plan to get a morgage soon. Does it have the lowest interest rate?\"  \n",
    "  \n",
    "# Generate a response based on the initial prompt  \n",
    "response = generate_response(initial_prompt)  \n",
    "print(\"*** Initial Response:\\n\", response)  \n",
    "  \n",
    "# Reword and verify the answer  \n",
    "checked_response = reword_and_check_answer(response)  \n",
    "print(\"*** Reworded and Checked Answer:\\n\", checked_response)  \n",
    "  \n",
    "print(\"*** Final Response:\\n\", checked_response)  \n",
    "  \n",
    "# if __name__ == \"__main__\":  \n",
    "#     initial_prompt = input(\"Enter your question: \")  \n",
    "#     response = generate_response(initial_prompt)  \n",
    "#     print(\"Initial Response:\\n\", response)  \n",
    "#     checked_response = reword_and_check_answer(response)  \n",
    "#     print(\"Reworded and Checked Answer:\\n\", checked_response)  "
   ]
  },
  {
   "cell_type": "markdown",
   "metadata": {
    "nteract": {
     "transient": {
      "deleting": false
     }
    }
   },
   "source": [
    "## 10. Iterative approach\n",
    "\n",
    "Prompt engineering is an iterative process. If you're unsatisfied with the AI's response, refine your prompt and try again. Analyze the results you receive and consider adjusting your prompt's context, clarity, or structure. This process of trial and error will help you better understand how the AI model interprets your prompts and allow you to fine-tune your approach.\n",
    "\n",
    "·        Try different prompts to find what works best\n",
    "\n",
    "·        When attempting few-shot learning, try also to include direct instructions\n",
    "\n",
    "·        Rephrase a direct instruction set to be more or less concise, e.g.: taking a previous example and giving the next instruction without having to repeat the input\n",
    "\n",
    "·        Try different personas keywords to see how it affects the response style\n",
    "\n",
    "·        Use fewer or more examples in the few-shot learning\n",
    "\n",
    "·        Co-create with AI: An example of a very useful prompt to get a good output from the LLM :"
   ]
  },
  {
   "cell_type": "code",
   "execution_count": 64,
   "metadata": {
    "gather": {
     "logged": 1724222541409
    },
    "jupyter": {
     "outputs_hidden": false,
     "source_hidden": false
    },
    "nteract": {
     "transient": {
      "deleting": false
     }
    }
   },
   "outputs": [],
   "source": [
    "text=f\"\"\"\n",
    "Overall Results\n",
    "Year Ended December 31, 2023 versus 2022:\n",
    "Net income attributable to  ordinary shareholders was $1.1 billion for the year ended December 31, 2023, \n",
    "which compares to a net loss of $906 million from 2022, as a result of:\n",
    "• Favorable total investment returns recognized in net income of $1.1 billion for the year ended December 31, \n",
    "2023, consisting of the aggregate of net investment income, net realized (losses) gains, net unrealized gains \n",
    "(losses) and income (losses) from equity method investments, in comparison to negative total investment \n",
    "returns included in net income of $1.2 billion for the year ended December 31, 2022. The variance in total \n",
    "investment returns recognized in net income was driven by: \n",
    "◦ Net unrealized gains on our other investments, including equities of $397 million, in comparison to net \n",
    "unrealized losses in 2022 of $433 million, as a result of strong global equity market performance, \n",
    "particularly in the first and fourth quarters of 2023, and tightening high yield credit spreads, in comparison to \n",
    "the challenging market environment for the year ended December 31, 2022;\n",
    "◦ Net realized and unrealized gains on our fixed maturities of $66 million in 2023, compared to net realized \n",
    "and unrealized losses of $1.2 billion in 2022, primarily due to a decrease in interest rates across U.S., U.K. \n",
    "and European markets in 2023 as compared to significant increases in interest rates in 2022; \n",
    "◦ An increase in net investment income of $192 million in 2023 when compared to 2022, consistent with the \n",
    "increasing investment income we have earned on a sequential quarterly basis, primarily due to the \n",
    "reinvestment of fixed maturities at higher yields, deployment of consideration received from LPT and \n",
    "insurance transactions closed over the past 12 months and the impact of rising interest rates on our fixed \n",
    "maturities securities that are subject to floating interest rates; and\n",
    "◦ Income from equity method investments of $13 million, driven by income from our investments in Core \n",
    "Specialty and Citco, partially offset by losses from our investment in Monument Re, compared to losses of \n",
    "$74 million in 2022, primarily driven by losses from our investment in Monument Re. \n",
    "• An increase in other income of $241 million in 2023 when compared to 2022, largely driven by the first quarter \n",
    "2023 net gain recognized from the novation of the Enhanzed Re reinsurance of a closed block of life annuity \n",
    "policies; and \n",
    "• A favorable change in income tax benefit of $238 million, primarily driven by the establishment of a $205 million \n",
    "net deferred tax asset related to the enactment of the Bermuda Corporate Income Tax in December 2023. We \n",
    "also recorded a $25 million partial release of our deferred tax asset valuation allowance as a result of increases \n",
    "in projected taxable income in the U.S. and a reduction in deferred tax assets associated with decreases in \n",
    "unrealized losses on investment securities reported in AOCI in the U.S. and U.K. jurisdictions. This was partially \n",
    "offset by an increase in the valuation allowance in our U.K. and EU jurisdictions primarily due to losses, \n",
    "whereby no corresponding tax benefits were recognized for the period. \n",
    "\"\"\""
   ]
  },
  {
   "cell_type": "code",
   "execution_count": 65,
   "metadata": {
    "gather": {
     "logged": 1724222543421
    },
    "jupyter": {
     "outputs_hidden": false,
     "source_hidden": false
    },
    "nteract": {
     "transient": {
      "deleting": false
     }
    }
   },
   "outputs": [],
   "source": [
    "prompt_iterative= f\"\"\" Your task is to explain given information in a very simple way.\n",
    "### Context:\n",
    "{text}\n",
    "\"\"\""
   ]
  },
  {
   "cell_type": "code",
   "execution_count": 66,
   "metadata": {
    "gather": {
     "logged": 1724222556287
    },
    "jupyter": {
     "outputs_hidden": false,
     "source_hidden": false
    },
    "nteract": {
     "transient": {
      "deleting": false
     }
    }
   },
   "outputs": [
    {
     "name": "stdout",
     "output_type": "stream",
     "text": [
      "In 2023, the company made $1.1 billion, a big change from losing $906 million in 2022. This happened for a few reasons:\n",
      "\n",
      "1. **Investments did really well in 2023.** They gained $1.1 billion from their investments, unlike in 2022 when they lost $1.2 billion. This was because:\n",
      "   - The stock market did well, especially at the start and end of 2023, making their stock investments worth $397 million more. In 2022, they had lost $433 million.\n",
      "   - Their long-term loans (fixed maturities) gained $66 million in value because interest rates went down in the U.S, U.K, and Europe, which is good compared to a loss of $1.2 billion in 2022 when rates went up.\n",
      "   - They earned $192 million more from their investments than last year, thanks to reinvesting at higher rates and other financial moves.\n",
      "   - Their part-ownership in other companies (equity investments) did better, making $13 million compared to losing $74 million in 2022.\n",
      "\n",
      "2. **They also made an extra $241 million from other sources,** like a successful financial move related to life insurance in early 2023.\n",
      "\n",
      "3. **They paid less in taxes,** saving $238 million, partly because of a new tax rule in Bermuda that worked in their favor and because they expected to make more money in the U.S.\n",
      "\n",
      "So, in simple terms, the company flipped from losing money to making a lot of money in 2023 thanks to doing really well in its investments, making extra money from other activities, and paying less in taxes.\n"
     ]
    }
   ],
   "source": [
    "system_message = \"You are a helpful assistant.\"\n",
    "\n",
    "response = client.chat.completions.create(\n",
    "    model=\"gpt-4-0125-Preview\", # model = \"deployment_name\".\n",
    "    messages=[\n",
    "        {\"role\": \"system\", \"content\": system_message},\n",
    "        {\"role\": \"user\", \"content\": prompt_iterative}\n",
    "    ]\n",
    ")\n",
    "\n",
    "print(response.choices[0].message.content)"
   ]
  },
  {
   "cell_type": "markdown",
   "metadata": {
    "nteract": {
     "transient": {
      "deleting": false
     }
    }
   },
   "source": [
    "**Issue 1:** I want to keep numerical values in more readable output format."
   ]
  },
  {
   "cell_type": "code",
   "execution_count": 67,
   "metadata": {
    "gather": {
     "logged": 1724222590423
    },
    "jupyter": {
     "outputs_hidden": false,
     "source_hidden": false
    },
    "nteract": {
     "transient": {
      "deleting": false
     }
    }
   },
   "outputs": [],
   "source": [
    "prompt_iterative1= f\"\"\" Your task is to organize given information in table format by keeping numarical values. \n",
    "\n",
    "### Context:\n",
    "{text}\n",
    "###\n",
    "\"\"\""
   ]
  },
  {
   "cell_type": "code",
   "execution_count": 68,
   "metadata": {
    "gather": {
     "logged": 1724222601329
    },
    "jupyter": {
     "outputs_hidden": false,
     "source_hidden": false
    },
    "nteract": {
     "transient": {
      "deleting": false
     }
    }
   },
   "outputs": [
    {
     "name": "stdout",
     "output_type": "stream",
     "text": [
      "Here's the organized information in table format, focusing on keeping numerical values:\n",
      "\n",
      "| Description                                       | 2023 ($ million) | 2022 ($ million) |\n",
      "|---------------------------------------------------|------------------|------------------|\n",
      "| Net income (loss) attributable to ordinary shareholders | 1,100            | (906)            |\n",
      "| **Investment Returns**                            |                  |                  |\n",
      "| Total investment returns in net income            | 1,100            | (1,200)          |\n",
      "| - Net unrealized gains (losses) on equities       | 397              | (433)            |\n",
      "| - Net realized and unrealized gains (losses) on fixed maturities | 66               | (1,200)          |\n",
      "| - Net investment income                           | 192              | -                |\n",
      "| - Income (losses) from equity method investments  | 13               | (74)             |\n",
      "| **Other Income and Tax**                          |                  |                  |\n",
      "| Other income                                      | 241              | -                |\n",
      "| Change in income tax benefit                      | 238              | -                |\n",
      "| - Net deferred tax asset related to Bermuda Corporate Income Tax | 205              | -                |\n",
      "| - Partial release of deferred tax asset valuation allowance | 25               | -                |\n",
      "| - Increase in valuation allowance in U.K. and EU  | -                | -                |\n",
      "\n",
      "This table provides a clear comparison of financial outcomes and significant components between 2023 and 2022. The categories have been organized for clarity, with subcategories detailing specific investment returns and tax-related activities.\n"
     ]
    }
   ],
   "source": [
    "system_message = \"You are a helpful assistant.\"\n",
    "\n",
    "response = client.chat.completions.create(\n",
    "    model=\"gpt-4-0125-Preview\", # model = \"deployment_name\".\n",
    "    messages=[\n",
    "        {\"role\": \"system\", \"content\": system_message},\n",
    "        {\"role\": \"user\", \"content\": prompt_iterative1}\n",
    "    ]\n",
    ")\n",
    "\n",
    "print(response.choices[0].message.content)"
   ]
  },
  {
   "cell_type": "markdown",
   "metadata": {
    "nteract": {
     "transient": {
      "deleting": false
     }
    }
   },
   "source": [
    "**Issue 2:** It is long so I need a brief summary."
   ]
  },
  {
   "cell_type": "code",
   "execution_count": 69,
   "metadata": {
    "gather": {
     "logged": 1724222620386
    },
    "jupyter": {
     "outputs_hidden": false,
     "source_hidden": false
    },
    "nteract": {
     "transient": {
      "deleting": false
     }
    }
   },
   "outputs": [],
   "source": [
    "prompt_iterative2= f\"\"\" \n",
    "Your task is to organize given information briefly in table format by keeping numarical values.\n",
    "\n",
    "Then, provide simple explanation by using at most 20 words.\n",
    "\n",
    "### Context:\n",
    "{text}\n",
    "###\n",
    "\"\"\""
   ]
  },
  {
   "cell_type": "code",
   "execution_count": 70,
   "metadata": {
    "gather": {
     "logged": 1724222629339
    },
    "jupyter": {
     "outputs_hidden": false,
     "source_hidden": false
    },
    "nteract": {
     "transient": {
      "deleting": false
     }
    }
   },
   "outputs": [
    {
     "name": "stdout",
     "output_type": "stream",
     "text": [
      "| Description                                          | 2023 ($ million) | 2022 ($ million) |\n",
      "|------------------------------------------------------|------------------|------------------|\n",
      "| Net income attributable to ordinary shareholders    | 1,100            | (906)            |\n",
      "| Total investment returns recognized in net income   | 1,100            | (1,200)          |\n",
      "| Net unrealized gains (losses) on other investments  | 397              | (433)            |\n",
      "| Net realized and unrealized gains (losses) on fixed maturities | 66               | (1,200)          |\n",
      "| Net investment income                               | 192              | -                |\n",
      "| Income (losses) from equity method investments      | 13               | (74)             |\n",
      "| Other income increase                               | 241              | -                |\n",
      "| Change in income tax benefit                        | 238              | -                |\n",
      "| Net deferred tax asset related to Bermuda Corporate Income Tax | 205              | -                |\n",
      "| Partial release of deferred tax asset valuation allowance | 25               | -                |\n",
      "\n",
      "**Explanation:** In 2023, net income improved to $1.1 billion from a $906 million loss in 2022 due to stronger investment results and increased other income.\n"
     ]
    }
   ],
   "source": [
    "system_message = \"You are a helpful assistant.\"\n",
    "\n",
    "response = client.chat.completions.create(\n",
    "    model=\"gpt-4-0125-Preview\", # model = \"deployment_name\".\n",
    "    messages=[\n",
    "        {\"role\": \"system\", \"content\": system_message},\n",
    "        {\"role\": \"user\", \"content\": prompt_iterative2}\n",
    "    ]\n",
    ")\n",
    "\n",
    "print(response.choices[0].message.content)"
   ]
  },
  {
   "cell_type": "code",
   "execution_count": 71,
   "metadata": {
    "gather": {
     "logged": 1724222660465
    },
    "jupyter": {
     "outputs_hidden": false,
     "source_hidden": false
    },
    "nteract": {
     "transient": {
      "deleting": false
     }
    }
   },
   "outputs": [],
   "source": [
    "prompt_iterative3= f\"\"\" Your task is to organize given information briefly in table format by keeping numarical values.\n",
    "\n",
    "Then, provide simple explanation of the given context by using at most 20 words.\n",
    "\n",
    "Format everything as HTML that can be used in a website. \n",
    "\n",
    "### Context:\n",
    "{text}\n",
    "###\n",
    "\"\"\""
   ]
  },
  {
   "cell_type": "code",
   "execution_count": 72,
   "metadata": {
    "gather": {
     "logged": 1724222674292
    },
    "jupyter": {
     "outputs_hidden": false,
     "source_hidden": false
    },
    "nteract": {
     "transient": {
      "deleting": false
     }
    }
   },
   "outputs": [
    {
     "name": "stdout",
     "output_type": "stream",
     "text": [
      "```html\n",
      "<!DOCTYPE html>\n",
      "<html>\n",
      "<head>\n",
      "    <title>Financial Overview</title>\n",
      "    <style>\n",
      "        table, th, td {\n",
      "            border: 1px solid black;\n",
      "            border-collapse: collapse;\n",
      "        }\n",
      "        th, td {\n",
      "            padding: 5px;\n",
      "            text-align: left;    \n",
      "        }\n",
      "    </style>\n",
      "</head>\n",
      "<body>\n",
      "\n",
      "<h2>Financial Year Overview 2023 vs. 2022</h2>\n",
      "\n",
      "<table>\n",
      "    <tr>\n",
      "        <th>Category</th>\n",
      "        <th>2023</th>\n",
      "        <th>2022</th>\n",
      "    </tr>\n",
      "    <tr>\n",
      "        <td>Net Income (Attributable to Shareholders)</td>\n",
      "        <td>$1.1 billion</td>\n",
      "        <td>-$906 million</td>\n",
      "    </tr>\n",
      "    <tr>\n",
      "        <td>Total Investment Returns</td>\n",
      "        <td>$1.1 billion</td>\n",
      "        <td>-$1.2 billion</td>\n",
      "    </tr>\n",
      "    <tr>\n",
      "        <td>Net Unrealized Gains (Equities)</td>\n",
      "        <td>$397 million</td>\n",
      "        <td>-$433 million</td>\n",
      "    </tr>\n",
      "    <tr>\n",
      "        <td>Net Realized/Unrealized Gains (Fixed Maturities)</td>\n",
      "        <td>$66 million</td>\n",
      "        <td>-$1.2 billion</td>\n",
      "    </tr>\n",
      "    <tr>\n",
      "        <td>Net Investment Income</td>\n",
      "        <td>$192 million</td>\n",
      "        <td>N/A</td>\n",
      "    </tr>\n",
      "    <tr>\n",
      "        <td>Income from Equity Method Investments</td>\n",
      "        <td>$13 million</td>\n",
      "        <td>-$74 million</td>\n",
      "    </tr>\n",
      "    <tr>\n",
      "        <td>Other Income</td>\n",
      "        <td>$241 million</td>\n",
      "        <td>N/A</td>\n",
      "    </tr>\n",
      "    <tr>\n",
      "        <td>Tax Benefit Change</td>\n",
      "        <td>$238 million</td>\n",
      "        <td>N/A</td>\n",
      "    </tr>\n",
      "</table>\n",
      "\n",
      "<p>Summary: Turned a $906 million loss in 2022 into a $1.1 billion net income in 2023 through improved investment returns.</p>\n",
      "\n",
      "</body>\n",
      "</html>\n",
      "```\n"
     ]
    }
   ],
   "source": [
    "system_message = \"You are a helpful assistant.\"\n",
    "\n",
    "response = client.chat.completions.create(\n",
    "    model=\"gpt-4-0125-Preview\", # model = \"deployment_name\".\n",
    "    messages=[\n",
    "        {\"role\": \"system\", \"content\": system_message},\n",
    "        {\"role\": \"user\", \"content\": prompt_iterative3}\n",
    "    ]\n",
    ")\n",
    "\n",
    "print(response.choices[0].message.content)"
   ]
  },
  {
   "cell_type": "markdown",
   "metadata": {
    "nteract": {
     "transient": {
      "deleting": false
     }
    }
   },
   "source": [
    "## Display the HTML content of the completion response"
   ]
  },
  {
   "cell_type": "code",
   "execution_count": 74,
   "metadata": {
    "gather": {
     "logged": 1724222704447
    },
    "jupyter": {
     "outputs_hidden": false,
     "source_hidden": false
    },
    "nteract": {
     "transient": {
      "deleting": false
     }
    }
   },
   "outputs": [
    {
     "data": {
      "text/html": [
       "```html\n",
       "<!DOCTYPE html>\n",
       "<html>\n",
       "<head>\n",
       "    <title>Financial Overview</title>\n",
       "    <style>\n",
       "        table, th, td {\n",
       "            border: 1px solid black;\n",
       "            border-collapse: collapse;\n",
       "        }\n",
       "        th, td {\n",
       "            padding: 5px;\n",
       "            text-align: left;    \n",
       "        }\n",
       "    </style>\n",
       "</head>\n",
       "<body>\n",
       "\n",
       "<h2>Financial Year Overview 2023 vs. 2022</h2>\n",
       "\n",
       "<table>\n",
       "    <tr>\n",
       "        <th>Category</th>\n",
       "        <th>2023</th>\n",
       "        <th>2022</th>\n",
       "    </tr>\n",
       "    <tr>\n",
       "        <td>Net Income (Attributable to Shareholders)</td>\n",
       "        <td>$1.1 billion</td>\n",
       "        <td>-$906 million</td>\n",
       "    </tr>\n",
       "    <tr>\n",
       "        <td>Total Investment Returns</td>\n",
       "        <td>$1.1 billion</td>\n",
       "        <td>-$1.2 billion</td>\n",
       "    </tr>\n",
       "    <tr>\n",
       "        <td>Net Unrealized Gains (Equities)</td>\n",
       "        <td>$397 million</td>\n",
       "        <td>-$433 million</td>\n",
       "    </tr>\n",
       "    <tr>\n",
       "        <td>Net Realized/Unrealized Gains (Fixed Maturities)</td>\n",
       "        <td>$66 million</td>\n",
       "        <td>-$1.2 billion</td>\n",
       "    </tr>\n",
       "    <tr>\n",
       "        <td>Net Investment Income</td>\n",
       "        <td>$192 million</td>\n",
       "        <td>N/A</td>\n",
       "    </tr>\n",
       "    <tr>\n",
       "        <td>Income from Equity Method Investments</td>\n",
       "        <td>$13 million</td>\n",
       "        <td>-$74 million</td>\n",
       "    </tr>\n",
       "    <tr>\n",
       "        <td>Other Income</td>\n",
       "        <td>$241 million</td>\n",
       "        <td>N/A</td>\n",
       "    </tr>\n",
       "    <tr>\n",
       "        <td>Tax Benefit Change</td>\n",
       "        <td>$238 million</td>\n",
       "        <td>N/A</td>\n",
       "    </tr>\n",
       "</table>\n",
       "\n",
       "<p>Summary: Turned a $906 million loss in 2022 into a $1.1 billion net income in 2023 through improved investment returns.</p>\n",
       "\n",
       "</body>\n",
       "</html>\n",
       "```"
      ],
      "text/plain": [
       "<IPython.core.display.HTML object>"
      ]
     },
     "metadata": {},
     "output_type": "display_data"
    }
   ],
   "source": [
    "from IPython.display import display, HTML\n",
    "display(HTML(response.choices[0].message.content))"
   ]
  },
  {
   "cell_type": "code",
   "execution_count": null,
   "metadata": {
    "jupyter": {
     "outputs_hidden": false,
     "source_hidden": false
    },
    "nteract": {
     "transient": {
      "deleting": false
     }
    }
   },
   "outputs": [],
   "source": []
  }
 ],
 "metadata": {
  "kernel_info": {
   "name": "python310-sdkv2"
  },
  "kernelspec": {
   "display_name": "Python 3.10 - SDK v2",
   "language": "python",
   "name": "python310-sdkv2"
  },
  "language_info": {
   "codemirror_mode": {
    "name": "ipython",
    "version": 3
   },
   "file_extension": ".py",
   "mimetype": "text/x-python",
   "name": "python",
   "nbconvert_exporter": "python",
   "pygments_lexer": "ipython3",
   "version": "3.10.11"
  },
  "microsoft": {
   "host": {
    "AzureML": {
     "notebookHasBeenCompleted": true
    }
   },
   "ms_spell_check": {
    "ms_spell_check_language": "en"
   }
  },
  "nteract": {
   "version": "nteract-front-end@1.0.0"
  }
 },
 "nbformat": 4,
 "nbformat_minor": 2
}
